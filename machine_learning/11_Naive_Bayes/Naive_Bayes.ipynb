{
 "cells": [
  {
   "cell_type": "markdown",
   "id": "extra-motel",
   "metadata": {},
   "source": [
    "# Naive Bayes"
   ]
  },
  {
   "cell_type": "markdown",
   "id": "ready-arrow",
   "metadata": {},
   "source": [
    "**Naive Bayes**, Bayes Teorem'i üzerine kurulu bir tahminleme yöntemidir."
   ]
  },
  {
   "cell_type": "markdown",
   "id": "honey-collaboration",
   "metadata": {},
   "source": [
    "En basit Gözetimli Öğrenme metodlarından biridir. \n",
    "\n",
    "Basitliğine rağmen, hem çok hızlı hem de bazı problem türleri üzerinde yüksek doğruluk oranına sahiptir."
   ]
  },
  {
   "cell_type": "markdown",
   "id": "english-match",
   "metadata": {},
   "source": [
    "Naive Bayes, girdi içindeki değişkenlerin (features) **bağımsız** olduğunu varsayar.\n",
    "\n",
    "'Naive' (saf) kelimesi de buradan gelir."
   ]
  },
  {
   "cell_type": "markdown",
   "id": "civic-sharp",
   "metadata": {},
   "source": [
    "**Bayes Teoremi:**\n",
    "\n",
    "$$ P(A | B) = \\frac{P(B | A) * P(A)}{P(B)} $$"
   ]
  },
  {
   "cell_type": "markdown",
   "id": "assured-conflict",
   "metadata": {},
   "source": [
    "**Örnek:**\n",
    "\n",
    "52 karttan oluşan bir iskambil destesi düşünelim.\n",
    "\n",
    "Diyelim ki elimizde bir kart var ve bu kartın `şekilli bir kart olduğunu biliyoruz`.\n",
    "\n",
    "(Şekilli kartlar: vale, kız, papaz)\n",
    "\n",
    "Şimdi, bu kartın `papaz olma olasılığını` hesaplayalım:"
   ]
  },
  {
   "cell_type": "markdown",
   "id": "labeled-airfare",
   "metadata": {},
   "source": [
    "$$ P(papaz | sekil) = \\frac{P(sekil | papaz) * P(sekil)}{P(papaz)} $$"
   ]
  },
  {
   "cell_type": "markdown",
   "id": "sonic-lying",
   "metadata": {},
   "source": [
    "**Olasılıklar ve Koşullu Olasılıklar:**\n",
    "\n",
    "* P(papaz) = 4 / 52\n",
    "    * iskambil destesinde 4 papaz vardır.\n",
    "    \n",
    "    \n",
    "* P(sekil | papaz) = 1\n",
    "    * eğer bir kart papaz ise kesinlikle şekillidir.\n",
    "    \n",
    "    \n",
    "* P(sekil) = 12 / 52\n",
    "    * vale, kız, papaz'ın her birinden 4 adet olduğu için -> 4 * 3 = 12"
   ]
  },
  {
   "cell_type": "markdown",
   "id": "compound-vegetation",
   "metadata": {},
   "source": [
    "$$ P(papaz | sekil) = \\frac{1 * \\frac{12}{52}}{\\frac{4}{52}} = \\frac{1}{3} $$"
   ]
  },
  {
   "cell_type": "markdown",
   "id": "understood-wealth",
   "metadata": {},
   "source": [
    "### Naive Bayes Nasıl Çalışır?"
   ]
  },
  {
   "cell_type": "markdown",
   "id": "global-department",
   "metadata": {},
   "source": [
    "Hava durumuna göre spor yapıp yapmama örneği yapalım."
   ]
  },
  {
   "cell_type": "markdown",
   "id": "entertaining-logan",
   "metadata": {},
   "source": [
    "Havanın durumuna göre, bir sporcunun oynayıp oynamayacağını tahmin etmeye çalışacağız."
   ]
  },
  {
   "cell_type": "markdown",
   "id": "conditional-paraguay",
   "metadata": {},
   "source": [
    "| Hava | Oynama |\n",
    "| --- | --- |\n",
    "| Güneşli | Hayır |\n",
    "| Güneşli | Hayır |\n",
    "| Bulutlu | Evet |\n",
    "| Yağışlı | Evet |\n",
    "| Yağışlı | Evet |\n",
    "| Yağışlı | Hayır |\n",
    "| Bulutlu | Evet |\n",
    "| Güneşli | Hayır |\n",
    "| Güneşli | Evet |\n",
    "| Yağışlı | Evet |\n",
    "| Güneşli | Evet |\n",
    "| Bulutlu | Evet |\n",
    "| Bulutlu | Evet |\n",
    "| Yağışlı | Hayır |"
   ]
  },
  {
   "cell_type": "markdown",
   "id": "cleared-proof",
   "metadata": {},
   "source": [
    "**Frekans Tablosu:**\n",
    "\n",
    "| Hava | Evet | Hayır |\n",
    "| --- | --- | --- |\n",
    "| Bulutlu | 4 | - |\n",
    "| Güneşli | 2 | 3 |\n",
    "| Yağışlı | 3 | 2 |\n",
    "| Toplam | 9 | 5 |"
   ]
  },
  {
   "cell_type": "markdown",
   "id": "about-bible",
   "metadata": {},
   "source": [
    "**Olasılık Tabloları:**\n",
    "\n",
    "**Olasılık Tablosu 1:**\n",
    "\n",
    "| Hava | Evet | Hayır |  |\n",
    "| --- | --- | --- | --- | \n",
    "| Bulutlu | 4 | - | 4/14 = 0.29 |\n",
    "| Güneşli | 2 | 3 | 5/14 = 0.36 |\n",
    "| Yağışlı | 3 | 2 | 5/14 = 0.36 |\n",
    "| Toplam | 9 | 5 |\n",
    "|  | 9/14 | 5/14 |\n",
    "|  | 0.64 | 0.36 |\n",
    "\n",
    "\n",
    "**Olasılık Tablosu 2:**\n",
    "\n",
    "| Hava | Evet | Hayır | Evet'in Oranı | Hayır'ın Oranı |\n",
    "| --- | --- | --- | --- | --- |\n",
    "| Bulutlu | 4 | - | 4/9 = 0.44 | 0/5 = 0 |\n",
    "| Güneşli | 2 | 3 | 2/9 = 0.22 | 3/5 = 0.60 |\n",
    "| Yağışlı | 3 | 2 | 3/9 = 0.33 | 2/5 = 0.40 |\n",
    "| Toplam | 9 | 5 |"
   ]
  },
  {
   "cell_type": "markdown",
   "id": "challenging-culture",
   "metadata": {},
   "source": [
    "Şimdi diyelim ki hava Bulutlu iken oyanama (Evet) olasılığını bulmak istiyoruz:"
   ]
  },
  {
   "cell_type": "markdown",
   "id": "precise-resistance",
   "metadata": {},
   "source": [
    "$$ P(Evet | Bulutlu) = \\frac{P(Bulutlu | Evet) * P(Evet)}{P(Bulutlu)} $$"
   ]
  },
  {
   "cell_type": "markdown",
   "id": "electrical-purchase",
   "metadata": {},
   "source": [
    "$$ P(Evet | Bulutlu) = \\frac{0.44 * 0.64}{0.29} = 0.97 $$"
   ]
  },
  {
   "cell_type": "markdown",
   "id": "blond-slope",
   "metadata": {},
   "source": [
    "**Sonuç:** `%97` ihtimal ile hava bulutlu iken oyanayacak."
   ]
  },
  {
   "cell_type": "markdown",
   "id": "imported-shopper",
   "metadata": {},
   "source": [
    "Şimdi diyelim ki hava Bulutlu iken oyanamama (Hayır) olasılığını bulmak istiyoruz:"
   ]
  },
  {
   "cell_type": "markdown",
   "id": "normal-traveler",
   "metadata": {},
   "source": [
    "$$ P(Hayır | Bulutlu) = \\frac{P(Bulutlu | Hayır) * P(Hayır)}{P(Bulutlu)} $$"
   ]
  },
  {
   "cell_type": "markdown",
   "id": "sweet-escape",
   "metadata": {},
   "source": [
    "$$ P(Hayır | Bulutlu) = \\frac{0 * 0.36}{0.29} = 0 $$"
   ]
  },
  {
   "cell_type": "markdown",
   "id": "addressed-kennedy",
   "metadata": {},
   "source": [
    "**Sonuç:** Bulutlu iken oynamama (Hayır) olasılığı `%0`."
   ]
  },
  {
   "cell_type": "markdown",
   "id": "usual-biology",
   "metadata": {},
   "source": [
    "### Naive Bayes Formulasyonu"
   ]
  },
  {
   "cell_type": "markdown",
   "id": "attempted-concert",
   "metadata": {},
   "source": [
    "$$ P(y | x_1, x_2,...,x_p) = \\frac{P(x_1, x_2,...,x_p | y) * P(y)}{P(x_1, x_2,...,x_p)} $$"
   ]
  },
  {
   "cell_type": "markdown",
   "id": "spiritual-adelaide",
   "metadata": {},
   "source": [
    "Bulmaya çalıştığımız olasılık aslında $x_1, x_2,...,x_p$'ler verilmiş iken $y$'nin olasılığı."
   ]
  },
  {
   "cell_type": "markdown",
   "id": "colonial-interstate",
   "metadata": {},
   "source": [
    "Bunun için tersten gidiyoruz: elimizde $y$ varken, tek tek $x_p$'lerin olaslıklarını kullanıyoruz."
   ]
  },
  {
   "cell_type": "markdown",
   "id": "skilled-precipitation",
   "metadata": {},
   "source": [
    "$x_p$'ler bağımsız olduğuna göre ve bağımsız olasılıklar çarpıldığına göre:"
   ]
  },
  {
   "cell_type": "markdown",
   "id": "compatible-necessity",
   "metadata": {},
   "source": [
    "$$P(y \\mid x_1, \\dots, x_n) = \\frac{P(y) \\prod_{i=1}^{n} P(x_i \\mid y)}\n",
    "                                 {P(x_1, \\dots, x_n)}$$"
   ]
  },
  {
   "cell_type": "markdown",
   "id": "sonic-outreach",
   "metadata": {},
   "source": [
    "$P(x_1, \\dots, x_n)$ değerleri veri içinde olduğu ve sabit olduğu için:"
   ]
  },
  {
   "cell_type": "markdown",
   "id": "sharp-smart",
   "metadata": {},
   "source": [
    "$$\\begin{align}\\begin{aligned}P(y \\mid x_1, \\dots, x_n) \\propto P(y) \\prod_{i=1}^{n} P(x_i \\mid y)\\\\\\Downarrow\\\\\\hat{y} = \\arg\\max_y P(y) \\prod_{i=1}^{n} P(x_i \\mid y),\\end{aligned}\\end{align}$$"
   ]
  },
  {
   "cell_type": "markdown",
   "id": "massive-joint",
   "metadata": {},
   "source": [
    "Bu eşitlikte en büyük tahmin değerini, $\\hat y$, veren sınıf olasığına **Maximum A Posteriori (MAP)** denir."
   ]
  },
  {
   "cell_type": "markdown",
   "id": "irish-financing",
   "metadata": {},
   "source": [
    "**Sonuç:**\n",
    "\n",
    "Naive Bayes bilinmeyen bir verinin hangi sınıfa ait olduğunu tahmin etmeye çalışır: $\\hat y$\n",
    "\n",
    "Bunu yaparken, tüm sınıflar üzerinde eldeki verinin koşullu olasılığını hesaplar. \n",
    "\n",
    "Ve en büyük olasılık değerine ait sınıfı tahmin sınıfı olarak seçer."
   ]
  },
  {
   "cell_type": "markdown",
   "id": "stretch-composer",
   "metadata": {},
   "source": [
    "https://scikit-learn.org/stable/modules/naive_bayes.html"
   ]
  },
  {
   "cell_type": "markdown",
   "id": "prerequisite-style",
   "metadata": {},
   "source": [
    "**Naive Bayes Türleri:**\n",
    "\n",
    "* Gaussian Naive Bayes\n",
    "* Bernoulli Naive Bayes\n",
    "* Multinomial Naive Bayes"
   ]
  },
  {
   "cell_type": "markdown",
   "id": "constitutional-worcester",
   "metadata": {},
   "source": [
    "**Naive Bayes Uygulamaları:**\n",
    "* Spam Filtreleme\n",
    "* Text Classification (Metin Sınıflandırma)\n",
    "* Sentiment Analizi (Duygu Sınıflandırma)"
   ]
  },
  {
   "cell_type": "markdown",
   "id": "entertaining-dayton",
   "metadata": {},
   "source": [
    "**Laplace Smoothing**\n",
    "\n",
    "Naive Bayes için koşullu olaslıklar hesaplanırken ortaya bir sorun çıkar.\n",
    "\n",
    "O sorun da şudur: \n",
    "\n",
    "Hiç olmayan sınıfların olasılığı 0 (sıfır) olacaktır.\n",
    "\n",
    "Ve biliyoruz ki, Naive Bayes'te Maximum A Posteriori (MAP) hesaplarken olasılıklar çarpılır.\n",
    "\n",
    "Bu durumda bir tane bile koşullu olasılık sıfır (0) olacağı için bütün çarpım değeri sıfır olacaktır.\n",
    "\n",
    "Bu sorunu aşmak için:\n",
    "\n",
    "Koşullu olasılık hesaplanırken pay ve paydaya belirli bir değer eklenir.\n",
    "\n",
    "Buna **smoothing** denir.\n",
    "\n",
    "$$\\hat{\\theta}_{yi} = \\frac{ N_{yi} + \\alpha}{N_y + \\alpha n}$$\n",
    "\n",
    "Burada paya $\\alpha$ paydaya ise $\\alpha * n $ eklemiştir.\n",
    "\n",
    "Böyleyece artık hiçbir olasılık değeri sıfır olmaz.\n",
    "\n",
    "$\\alpha \\ge 0$ olarak seçilir.\n",
    "\n",
    "$\\alpha = 1$ olan özel duruma ise **Laplace Smoothing** denir."
   ]
  },
  {
   "cell_type": "markdown",
   "id": "bright-wilson",
   "metadata": {},
   "source": [
    "**Smoothing** işlemi Scikit-Learn tarafından bir parametre ile yapılır:\n",
    "\n",
    "https://scikit-learn.org/stable/modules/generated/sklearn.naive_bayes.MultinomialNB.html"
   ]
  },
  {
   "cell_type": "code",
   "execution_count": null,
   "id": "italic-transport",
   "metadata": {},
   "outputs": [],
   "source": []
  }
 ],
 "metadata": {
  "kernelspec": {
   "display_name": "Python 3",
   "language": "python",
   "name": "python3"
  },
  "language_info": {
   "codemirror_mode": {
    "name": "ipython",
    "version": 3
   },
   "file_extension": ".py",
   "mimetype": "text/x-python",
   "name": "python",
   "nbconvert_exporter": "python",
   "pygments_lexer": "ipython3",
   "version": "3.8.5"
  }
 },
 "nbformat": 4,
 "nbformat_minor": 5
}

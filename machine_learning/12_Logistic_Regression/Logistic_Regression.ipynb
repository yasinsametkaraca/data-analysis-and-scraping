{
 "cells": [
  {
   "cell_type": "markdown",
   "metadata": {},
   "source": [
    "# Logistic Regression"
   ]
  },
  {
   "cell_type": "markdown",
   "metadata": {},
   "source": [
    "Her ne kadar adında `Regresyon` kelimesi geçse de, **Logistic Regresyon** bir regresyon uygulaması değildir."
   ]
  },
  {
   "cell_type": "markdown",
   "metadata": {},
   "source": [
    "Logistic Regression aslında bir Classification uygulamasıdır."
   ]
  },
  {
   "cell_type": "markdown",
   "metadata": {},
   "source": [
    "**Hatırlatma:** ML Algoritmaları temelde ikiye ayrılır:\n",
    "* Regression (regresyon)\n",
    "* Classification (sınıflandırma)"
   ]
  },
  {
   "cell_type": "markdown",
   "metadata": {},
   "source": [
    "Logistic Regresyon, sınıflandırma problemlerine genelde ilk uygulanan classification algoritmasıdır."
   ]
  },
  {
   "cell_type": "markdown",
   "metadata": {},
   "source": [
    "Amacı, farklı sınıflar (kategoriler) içinden tahmin yapmaktır."
   ]
  },
  {
   "cell_type": "markdown",
   "metadata": {},
   "source": [
    "## Logistic Regression Temelleri"
   ]
  },
  {
   "cell_type": "markdown",
   "metadata": {},
   "source": [
    "Diyelim ki elimizde girdiler var ve kategorik bir çıktı tahminlemek istiyoruz.\n",
    "\n",
    "Bu kategorik çıktı (label) iki sınıflı da olabilir, çok sınıflı da."
   ]
  },
  {
   "cell_type": "markdown",
   "metadata": {},
   "source": [
    "Örneğin, ders çalışma saatimiz (x) olsun ve sonuçta dersi geçme olasılığımızı (z) tahmin etmeye çalışalım:"
   ]
  },
  {
   "cell_type": "markdown",
   "metadata": {},
   "source": [
    "İşe regresyonda olduğu gibi bir lineer ilişki kurarak başlayalım."
   ]
  },
  {
   "cell_type": "markdown",
   "metadata": {},
   "source": [
    "$$ z = \\beta_0 + \\beta_1x$$"
   ]
  },
  {
   "cell_type": "markdown",
   "metadata": {},
   "source": [
    "Eğer birden çok girdi değişkeni olsaydı elimizde (ders çalışma saatimiz, sınavın zorluk derecesi, o hafta başka sınav var mı ...vs...):"
   ]
  },
  {
   "cell_type": "markdown",
   "metadata": {},
   "source": [
    "$$ z = \\beta_0 + \\beta_1x_1 + \\beta_2x_2 + ... + \\beta_nx_n$$"
   ]
  },
  {
   "cell_type": "markdown",
   "metadata": {},
   "source": [
    "### Sigmoid Fonksiyonu"
   ]
  },
  {
   "cell_type": "markdown",
   "metadata": {},
   "source": [
    "Yukarıdaki lineer (doğrusal) eşitlik sonucu bulduğumuz z değeri (tahmin değeri) şu anda normal bir sayısal büyüklüktür."
   ]
  },
  {
   "cell_type": "markdown",
   "metadata": {},
   "source": [
    "Ama bizim amacımız bir olasılık hesaplamak, o zaman z'yi 0 ile 1 arasında bir olasığa çevirmemiz lazım:"
   ]
  },
  {
   "cell_type": "markdown",
   "metadata": {},
   "source": [
    "İşte bu çevirme işini yapan fonksiyon olarak `sigmoid fonksiyonunu` kullanacağız."
   ]
  },
  {
   "cell_type": "markdown",
   "metadata": {},
   "source": [
    "**Sigmoid Fonksiyonu ($\\phi$)**, bir reel sayıyı bir olasılığa dönüştüren özel bir fonksiyondur."
   ]
  },
  {
   "cell_type": "markdown",
   "metadata": {},
   "source": [
    "$$ \\phi(z) = \\frac{1}{1+e^{-z}}$$"
   ]
  },
  {
   "cell_type": "markdown",
   "metadata": {},
   "source": [
    "<img src='images/sigmoid.jpg' />"
   ]
  },
  {
   "cell_type": "markdown",
   "metadata": {},
   "source": [
    "Gördüğünüz gibi, Sigmoid fonksiyonu bir reel sayı olan z'yi alır ve onu 0 - 1 arasında bir olasılığa götürür."
   ]
  },
  {
   "cell_type": "markdown",
   "metadata": {},
   "source": [
    "### Logistic Regression, Sınıflandırma'ya nasıl döner?"
   ]
  },
  {
   "cell_type": "markdown",
   "metadata": {},
   "source": [
    "Logistic Regression 0 ile 1 arasında bir sonuç getireceği için tam ortada bir yani **0.5**'ten bir çizgi çizersek:\n",
    "* çizginin altına 0 (yani class 0)\n",
    "* çizginin üstüne 1 (yani class 1)\n",
    "diyebiliriz."
   ]
  },
  {
   "cell_type": "markdown",
   "metadata": {},
   "source": [
    "Böylece logistic regression bir sınıflandırma algoritmasına dönüşür."
   ]
  },
  {
   "cell_type": "markdown",
   "metadata": {},
   "source": [
    "Buradaki 0.5'e `decision boundary` denir. Ve değeri ille de 0.5 olmak zorunda değildir. \n",
    "\n",
    "Örneğin 0.8 veya 0.4'de seçebilirdiniz.\n",
    "\n",
    "Ama genelde 0.5 çok tercih edilir."
   ]
  },
  {
   "cell_type": "markdown",
   "metadata": {},
   "source": [
    "<img src='images/decision.jpg' />"
   ]
  },
  {
   "cell_type": "markdown",
   "metadata": {},
   "source": [
    "### Logistic Regression'un Varsayımları (Assumptions)"
   ]
  },
  {
   "cell_type": "markdown",
   "metadata": {},
   "source": [
    "1- Sonuç değişkeni (label, class) kategoriktir"
   ]
  },
  {
   "cell_type": "markdown",
   "metadata": {},
   "source": [
    "2- Gözlemler (veriler) birbirinden bağımsızdır"
   ]
  },
  {
   "cell_type": "markdown",
   "metadata": {},
   "source": [
    "3- Girdiler (değişkenler) arasında korelasyon bulunmaz"
   ]
  },
  {
   "cell_type": "markdown",
   "metadata": {},
   "source": [
    "4- Lineer bir ilişki ile z değeri hesaplandığı için x ile z arasında lineer bir ilişki varsayar"
   ]
  },
  {
   "cell_type": "markdown",
   "metadata": {},
   "source": [
    "5- Logistic Regresyon'un başarılı olması için yüksek miktarda veri lazımdır. Yani çok fazla veriye ihtiyaç duyar. Lineer ilişki olduğu için az veri ile çok büyük oranda yanılma riski var."
   ]
  },
  {
   "cell_type": "markdown",
   "metadata": {},
   "source": [
    "### Logistic Regression Türleri"
   ]
  },
  {
   "cell_type": "markdown",
   "metadata": {},
   "source": [
    "1- Binary Logistic Regression (İki sınıflı logistic regresyon)\n",
    "* 0 ve 1\n",
    "* A ve B\n",
    "* Evet ve Hayır\n",
    "* Kabul ve Ret"
   ]
  },
  {
   "cell_type": "markdown",
   "metadata": {},
   "source": [
    "2- Multinomial Logistic Regression (Üç veya daha fazla sınıflı logistic regresyon)"
   ]
  },
  {
   "cell_type": "markdown",
   "metadata": {},
   "source": [
    "https://scikit-learn.org/stable/modules/generated/sklearn.linear_model.LogisticRegression.html"
   ]
  },
  {
   "cell_type": "code",
   "execution_count": null,
   "metadata": {},
   "outputs": [],
   "source": []
  }
 ],
 "metadata": {
  "kernelspec": {
   "display_name": "Python 3",
   "language": "python",
   "name": "python3"
  },
  "language_info": {
   "codemirror_mode": {
    "name": "ipython",
    "version": 3
   },
   "file_extension": ".py",
   "mimetype": "text/x-python",
   "name": "python",
   "nbconvert_exporter": "python",
   "pygments_lexer": "ipython3",
   "version": "3.8.5"
  }
 },
 "nbformat": 4,
 "nbformat_minor": 4
}

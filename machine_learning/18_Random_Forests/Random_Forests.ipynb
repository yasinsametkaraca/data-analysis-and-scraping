{
 "cells": [
  {
   "cell_type": "markdown",
   "id": "negative-blackberry",
   "metadata": {},
   "source": [
    "# Random Forests"
   ]
  },
  {
   "cell_type": "markdown",
   "id": "several-feelings",
   "metadata": {},
   "source": [
    "Random Forests (RF), yaygın olarak kullanılan bir Supervised ML algoritmasıdır."
   ]
  },
  {
   "cell_type": "markdown",
   "id": "sealed-smart",
   "metadata": {},
   "source": [
    "Hem Classificaton hem de Regression kullanılan türevleri mevcuttur."
   ]
  },
  {
   "cell_type": "markdown",
   "id": "dramatic-cassette",
   "metadata": {},
   "source": [
    "Çok kolay ve son derece esnektir ama bir o kadar da iyi sonuç verir."
   ]
  },
  {
   "cell_type": "markdown",
   "id": "peripheral-hundred",
   "metadata": {},
   "source": [
    "Temel olarak,\n",
    "\n",
    "Verilen data üzerinde rasgele Decision Tree'ler oluşuturarak çalışır.\n",
    "\n",
    "Bu DT'lerden her biri üzerinden bir tahmin yapar ve oylama yöntemi ile en iyi sonuca ulaşır."
   ]
  },
  {
   "cell_type": "markdown",
   "id": "stunning-homeless",
   "metadata": {},
   "source": [
    "Ek olarak, hangi değişkenlerin önemli olduğuna (Feature Importance) karar vermede de çok sık olarak kullanılır."
   ]
  },
  {
   "cell_type": "markdown",
   "id": "academic-survivor",
   "metadata": {},
   "source": [
    "Random Forests Algoritması, birden çok DT'yi birleştirir ve böylece ortaya bir orman (forest) çıkar. Random Forest ismi de buradan gelir."
   ]
  },
  {
   "cell_type": "markdown",
   "id": "stock-gamma",
   "metadata": {},
   "source": [
    "RF'de ağaç sayısı arttıkça Accuracy değeri de artar. (Önemli: Overfitting'e dikkat!)"
   ]
  },
  {
   "cell_type": "markdown",
   "id": "rational-commerce",
   "metadata": {},
   "source": [
    "### Random Forest'i Anlamak"
   ]
  },
  {
   "cell_type": "markdown",
   "id": "complicated-italian",
   "metadata": {},
   "source": [
    "RF Algoritması iki aşamada gerçekleşir:"
   ]
  },
  {
   "cell_type": "markdown",
   "id": "found-malta",
   "metadata": {},
   "source": [
    "İlk aşamada, **p** adet toplam değişken (feature) içinden **k** adedi rasgele olarak seçilir (**k < p**).\n",
    "\n",
    "Ve bu k adet ile bir DT oluşturulur."
   ]
  },
  {
   "cell_type": "markdown",
   "id": "arbitrary-accommodation",
   "metadata": {},
   "source": [
    "Sayılar:\n",
    "\n",
    "**n**: toplam data sayısı (satır sayısı)\n",
    "\n",
    "**p**: toplam değişken (feature) sayısı (sütun sayısı)\n",
    "\n",
    "**k**: rasgele seçilen feature sayısı\n",
    "\n",
    "**l**: bir DT içindeki maximum toplam node sayısı\n",
    "\n",
    "**m**: RF içindeki toplam DT sayısı (orman içindeki ağaç sayısı)"
   ]
  },
  {
   "cell_type": "markdown",
   "id": "harmful-convert",
   "metadata": {},
   "source": [
    "İlk aşamada adımlar şu şekildedir:\n",
    "\n",
    "1. Toplam **p** adet feature içinden rasgele olarak **k** adedi seçilir.\n",
    "2. Bu **k** feauture içinden en iyi split'i sağlayacak root node seçilir.\n",
    "3. Bu root node, alt node'lara, onlar da alt node'lara split edilerek devam eder.\n",
    "4. Toplam **l** adet node elde edilene kadar 1.-3. adımlar tekrarlanır.\n",
    "5. 1.-4. adımlar **m** kere tekrarlanarak, **m** adet DT elde edilir."
   ]
  },
  {
   "cell_type": "markdown",
   "id": "ranging-visit",
   "metadata": {},
   "source": [
    "İkinci aşamada, artık train etmiş olduğumuz RF ile tahmin yaparız:\n",
    "\n",
    "1. En iyi sonucu vermiş olan RF parametrelerini Test data üzerinde çalıştırırız\n",
    "2. Sonra her bir DT'nin vermiş olduğu sonuçlar arasında oylama yaparız\n",
    "3. En yüksek sonucu veren aday bizim için nihai model olur"
   ]
  },
  {
   "cell_type": "markdown",
   "id": "attended-disco",
   "metadata": {},
   "source": [
    "<img src='images/rf.jpg' />"
   ]
  },
  {
   "cell_type": "markdown",
   "id": "excess-desperate",
   "metadata": {},
   "source": [
    "### RF'in Avantajları ve Dezavantajları"
   ]
  },
  {
   "cell_type": "markdown",
   "id": "spoken-binding",
   "metadata": {},
   "source": [
    "RF'nin Avantajları:\n",
    "1. Hem Classification hem de Regression için kullanılabilir\n",
    "2. Çok fazla sayıda DT oluşturup bunlar üzerinden tahmin yaptığı için sonuçları son derece güvenilir kabul edilir\n",
    "3. Çok fazla ve bağımsız DT ile sonuç ürettikleri ve her seferinde farklı bir değişken seti kullandıkları için hem `düşük bias` hem de düşük `overfitting`sağlarlar\n",
    "4. Feature Selection için kullanılabilirler"
   ]
  },
  {
   "cell_type": "markdown",
   "id": "sophisticated-fight",
   "metadata": {},
   "source": [
    "RF'nin Dezavantajları:\n",
    "1. Computational Complexity. Çok fazla decision tree demek yüksek oranda performans gerekmesi demek. Dolayısı ile RF'ler maliyetli algoritmalardır\n",
    "2. Tek bir DT değil, çok sayıda ve rasgele seçilmiş parametreler ile tahmin yaptıkları için sonuçlarını yorumlamak çok zordur"
   ]
  },
  {
   "cell_type": "code",
   "execution_count": null,
   "id": "varying-tissue",
   "metadata": {},
   "outputs": [],
   "source": []
  }
 ],
 "metadata": {
  "kernelspec": {
   "display_name": "Python 3",
   "language": "python",
   "name": "python3"
  },
  "language_info": {
   "codemirror_mode": {
    "name": "ipython",
    "version": 3
   },
   "file_extension": ".py",
   "mimetype": "text/x-python",
   "name": "python",
   "nbconvert_exporter": "python",
   "pygments_lexer": "ipython3",
   "version": "3.8.5"
  }
 },
 "nbformat": 4,
 "nbformat_minor": 5
}

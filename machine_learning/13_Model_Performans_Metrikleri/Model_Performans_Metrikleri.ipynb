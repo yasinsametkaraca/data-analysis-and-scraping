{
 "cells": [
  {
   "cell_type": "markdown",
   "metadata": {},
   "source": [
    "# Model Performans Metrikleri"
   ]
  },
  {
   "cell_type": "markdown",
   "metadata": {},
   "source": [
    "https://scikit-learn.org/stable/modules/classes.html#module-sklearn.metrics"
   ]
  },
  {
   "cell_type": "markdown",
   "metadata": {},
   "source": [
    "Modelinizin ne kadar başarılı olduğunu ölçmek için kullandığınız performans metrikleri (kriterleri) hayati öneme sahiptir."
   ]
  },
  {
   "cell_type": "markdown",
   "metadata": {},
   "source": [
    "Doğru metrikle bakmazsanız, başarılı modeli başarısız, başarısız modeli de başaralı zannedebilirsiniz."
   ]
  },
  {
   "cell_type": "markdown",
   "metadata": {},
   "source": [
    "Machine Learning modelleri türlerine göre aşağıdaki metriklerle ölçülür:"
   ]
  },
  {
   "cell_type": "markdown",
   "metadata": {},
   "source": [
    "* Classification\n",
    "    * Accuracy\n",
    "    * Precision\n",
    "    * Recall\n",
    "    * F1 Score\n",
    "    * ROC-AUC Curve\n",
    "    * Log-Loss (Logarithmic Loss)\n",
    "     \n",
    "    \n",
    "* Regression\n",
    "    * MSE (Mean Squared Error)\n",
    "    * MAE (Mean Absolute Error)\n",
    "    * R^2 ve Adjusted R^2"
   ]
  },
  {
   "cell_type": "markdown",
   "metadata": {},
   "source": [
    "Not: Daha önceki derslerimizde Regresyon ile ilgili metrikleri görmüştük. \n",
    "\n",
    "Dolayısı ile burada sadece Sınıflandırma metriklerini göreceğiz."
   ]
  },
  {
   "cell_type": "markdown",
   "metadata": {},
   "source": [
    "## Classification"
   ]
  },
  {
   "cell_type": "markdown",
   "metadata": {},
   "source": [
    "### Confusion Matrix"
   ]
  },
  {
   "cell_type": "markdown",
   "metadata": {},
   "source": [
    "**Confcusion Matrix** sınıflandırma modelinin performansını ölçmek için kullanılan özel bir tablodur."
   ]
  },
  {
   "cell_type": "markdown",
   "metadata": {},
   "source": [
    "<img src='images/confusion_matrix.jpg' />"
   ]
  },
  {
   "cell_type": "markdown",
   "metadata": {},
   "source": [
    "<img src='images/confusion_matrix_2.png' />"
   ]
  },
  {
   "cell_type": "markdown",
   "metadata": {},
   "source": [
    "Confusion Matrix şöyle okunur:\n",
    "\n",
    "**Sonuç** - **Ne Söylemişim**\n",
    "\n",
    "* TP : True Positive  (ben positive demişim ve sonuç doğru)\n",
    "* FP : False Positive (ben positive demişim ama sonuç yanlış)"
   ]
  },
  {
   "cell_type": "markdown",
   "metadata": {},
   "source": [
    "### Accuracy"
   ]
  },
  {
   "cell_type": "markdown",
   "metadata": {},
   "source": [
    "**Null Accuracy:** Hiçbir model yürütmeden direk olarak en fazla bulunan sınıfı seçmeye denir.\n",
    "\n",
    "Bunu şunun için kullanırız, hiçbir model yürütmesek elde edeceğimiz en iyi accuracy en yüksek sınıflı olanı seçme oranıdır.\n",
    "\n",
    "Ör: Toplam 100 adet veri olsun.\n",
    "\n",
    "* 0 -> 60 adet\n",
    "* 1 -> 40 adet\n",
    "\n",
    "Böyle bir durumda **Null Accuracy** `%60 olasılıkla 0 classını seçmek` olacaktır."
   ]
  },
  {
   "cell_type": "markdown",
   "metadata": {},
   "source": [
    "**Önemli Not:** Eğer veri setiniz homojen (balanced) ise, yani sınıf başına toplam adetler birbirine yakınsa, o zaman Accuray iyi bir metrik olabilir.\n",
    "\n",
    "Eğer sınıf dağılımları homojen değilse, Accuracy kullanmamaya çalışın."
   ]
  },
  {
   "cell_type": "markdown",
   "metadata": {},
   "source": [
    "**Accuracy:** Doğru tahminler toplam verinin ne kadarı?"
   ]
  },
  {
   "cell_type": "markdown",
   "metadata": {},
   "source": [
    "<img src='images/accuracy.jpg' />"
   ]
  },
  {
   "cell_type": "markdown",
   "metadata": {},
   "source": [
    "$$ Accuracy = \\frac{TN + TP}{TN + FP + FN + TP} $$"
   ]
  },
  {
   "cell_type": "markdown",
   "metadata": {},
   "source": [
    "### Precision"
   ]
  },
  {
   "cell_type": "markdown",
   "metadata": {},
   "source": [
    "**Precision:** Toplam pozitif tahminler içinde Doğru olan Pozitiflerin oranı ne?"
   ]
  },
  {
   "cell_type": "markdown",
   "metadata": {},
   "source": [
    "<img src='images/precision.jpg' />"
   ]
  },
  {
   "cell_type": "markdown",
   "metadata": {},
   "source": [
    "$$ Precision = \\frac{TP}{FP + TP} $$"
   ]
  },
  {
   "cell_type": "markdown",
   "metadata": {},
   "source": [
    "### Recall"
   ]
  },
  {
   "cell_type": "markdown",
   "metadata": {},
   "source": [
    "**Recall:** Sonuç gerçekten Pozitif iken, doğru tahmin etmiş olma oranı nedir?"
   ]
  },
  {
   "cell_type": "markdown",
   "metadata": {},
   "source": [
    "<img src='images/recall.jpg' />"
   ]
  },
  {
   "cell_type": "markdown",
   "metadata": {},
   "source": [
    "$$ Recall = \\frac{TP}{FN + TP} $$"
   ]
  },
  {
   "cell_type": "markdown",
   "metadata": {},
   "source": [
    "### F1 Score"
   ]
  },
  {
   "cell_type": "markdown",
   "metadata": {},
   "source": [
    "**F1 Score:** \n",
    "\n",
    "Precision ve Recall'un ağırlıklı ortamalasıdır.\n",
    "\n",
    "Dolayısı ile hem FP (False Positive) hem FN (False Negative) değerlerini göz önünde bulundurur.\n",
    "\n",
    "F1 Score'u gözümüzde canladırmak zor olsa da Accuracy'den daha geçerli kabul edilir."
   ]
  },
  {
   "cell_type": "markdown",
   "metadata": {},
   "source": [
    "$$ F_1 = 2 * \\frac{Precision * Recall}{Precision + Recall} $$"
   ]
  },
  {
   "cell_type": "markdown",
   "metadata": {},
   "source": [
    "### ROC-AUC Curve"
   ]
  },
  {
   "cell_type": "markdown",
   "metadata": {},
   "source": [
    "**ROC: Receiver Operating Characteristic Curve**: Olasılık Eğrisi\n",
    "\n",
    "**AUC: Area Under the Curve**: Olasılık Eğrisi Altındaki Alan"
   ]
  },
  {
   "cell_type": "markdown",
   "metadata": {},
   "source": [
    "`Area Under the Receiver Operating Characteristic Curve (ROC-AUC)`"
   ]
  },
  {
   "cell_type": "markdown",
   "metadata": {},
   "source": [
    "**ROC-AUC** sınıflandırma problemleri için kullanılan önemli bir performans metriğidir. (Genel olarak Binary Classification için geçerlidir.)\n",
    "\n",
    "Modelin sınıfları birbirinden ayırmada ne kadar başarılı olduğunu gösterir."
   ]
  },
  {
   "cell_type": "markdown",
   "metadata": {},
   "source": [
    "Yüksek AUC (Area Under Curve) değeri şu demektir:\n",
    "\n",
    "Modeliniz \n",
    "* 0'ları 0 olarak\n",
    "* 1'leri 1 olarak\n",
    "\n",
    "sınıflandırmakta başarılıdır."
   ]
  },
  {
   "cell_type": "markdown",
   "metadata": {},
   "source": [
    "**TPR (True Positive Rate):** Pozitifler içinde True Pozitif olanların oranı\n",
    "\n",
    "**FPR (False Positive Rate):** Negatifler içinde False Pozitif olanların oranı"
   ]
  },
  {
   "cell_type": "markdown",
   "metadata": {},
   "source": [
    "<img src='images/roc_auc.png' />"
   ]
  },
  {
   "cell_type": "markdown",
   "metadata": {},
   "source": [
    "<img src='images/roc_auc_2.jpg' />"
   ]
  },
  {
   "cell_type": "markdown",
   "metadata": {},
   "source": [
    "ROC-AUC Skoru aslında modeliniz **hassaslığını** verir."
   ]
  },
  {
   "cell_type": "markdown",
   "metadata": {},
   "source": [
    "### Log-Loss (Logistic Loss)"
   ]
  },
  {
   "cell_type": "markdown",
   "metadata": {},
   "source": [
    "**Log-Loss (Logistic Loss):** Bir diğer adıyla `Cross-Entropy Loss`.\n",
    "\n",
    "Negative Log Likelihood yani Logaritmik Olasılıkların Negatif Toplamını verir."
   ]
  },
  {
   "cell_type": "markdown",
   "metadata": {},
   "source": [
    "$$ L_{\\log}(y, p) = -(y \\log (p) + (1 - y) \\log (1 - p)) $$"
   ]
  },
  {
   "cell_type": "markdown",
   "metadata": {},
   "source": [
    "Log-Loss'un Açıklaması:\n",
    "\n",
    "* `y` classının olma olasılığı `p` olsun.\n",
    "* `y`'nin olmaması `1-y`'nin olmasıdır\n",
    "* `1-y`'nin olma olasılığı `1-p` dir.\n",
    "* `y`nin olma olasılığı ile çarpımı + `1-y`nin olma olasılığı ile çarpımı\n",
    "* bize iki sınıfın da olaslık çarpımlarının toplamını verir\n",
    "* bu sonucun negatif değeri LogLoss değeridir"
   ]
  },
  {
   "cell_type": "markdown",
   "metadata": {},
   "source": [
    "LogLoss aslında yanlış tahminleri cezalandırır."
   ]
  },
  {
   "cell_type": "markdown",
   "metadata": {},
   "source": [
    "LogLoss değerinin olabildiğince küçük yani, 0'a yakın olması istenir."
   ]
  },
  {
   "cell_type": "markdown",
   "metadata": {},
   "source": [
    "Dolayısı ile 0'a yakın bir LogLoss modelinizin sınıfları doğru tahmin ettiğini gösterir."
   ]
  },
  {
   "cell_type": "markdown",
   "metadata": {},
   "source": [
    "Diğer bir deyişle 0 LogLoss demek şu demek: \n",
    "\n",
    "* Gerçek y değeri Pozitif iken siz de Pozitif demişsiniz\n",
    "* Gerçek y değeri Negatif iken siz de Negatif demişsiniz"
   ]
  },
  {
   "cell_type": "code",
   "execution_count": null,
   "metadata": {},
   "outputs": [],
   "source": []
  }
 ],
 "metadata": {
  "kernelspec": {
   "display_name": "Python 3",
   "language": "python",
   "name": "python3"
  },
  "language_info": {
   "codemirror_mode": {
    "name": "ipython",
    "version": 3
   },
   "file_extension": ".py",
   "mimetype": "text/x-python",
   "name": "python",
   "nbconvert_exporter": "python",
   "pygments_lexer": "ipython3",
   "version": "3.8.5"
  }
 },
 "nbformat": 4,
 "nbformat_minor": 4
}

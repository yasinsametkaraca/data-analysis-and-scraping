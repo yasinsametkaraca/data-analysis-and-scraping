{
 "cells": [
  {
   "cell_type": "markdown",
   "metadata": {},
   "source": [
    "# Regularization"
   ]
  },
  {
   "cell_type": "markdown",
   "metadata": {},
   "source": [
    "### Regularizayon Nedir?"
   ]
  },
  {
   "cell_type": "markdown",
   "metadata": {},
   "source": [
    "Lineer Modeller (Lineer Regresyon, SVM, vb.) en çok kullanılan Machine Learning Algoritmalarının başında gelir."
   ]
  },
  {
   "cell_type": "markdown",
   "metadata": {},
   "source": [
    "Fakat çok ciddi bir eksiği vardır: Overfitting yapmaya çok yatkındırlar."
   ]
  },
  {
   "cell_type": "markdown",
   "metadata": {},
   "source": [
    "En basit hali ile 2 boyutlu düzlemde göreceğiniz gibi, veri noktalarına en iyi uyan doğru (ya da eğri) parçasını bulmaya çalışır."
   ]
  },
  {
   "cell_type": "markdown",
   "metadata": {},
   "source": [
    "<img src='images/ols.jpg' />"
   ]
  },
  {
   "cell_type": "markdown",
   "metadata": {},
   "source": [
    "$$ y = w_0 + w_1x_1$$"
   ]
  },
  {
   "cell_type": "markdown",
   "metadata": {},
   "source": [
    "Formulü son derece basittir."
   ]
  },
  {
   "cell_type": "markdown",
   "metadata": {},
   "source": [
    "$$ y = w_0 + w_1x_1 + w_2x_2 + w_3x_3 + ... + w_nx_n$$"
   ]
  },
  {
   "cell_type": "markdown",
   "metadata": {},
   "source": [
    "Ama değişken sayısı arttıkça, katsayılar yani $w$'lar büyümeye (artı ve eksi yönde) başlar. \n",
    "\n",
    "Yeterince büyük $w$'lar ile hemen hemen her şeyi tahmin edebilirsiniz.\n",
    "\n",
    "İşte bu da tam olarak Overfit'in başladığı yerdir."
   ]
  },
  {
   "cell_type": "markdown",
   "metadata": {},
   "source": [
    "<img src='images/overfit.png' />"
   ]
  },
  {
   "cell_type": "markdown",
   "metadata": {},
   "source": [
    "Bu problem **Regularization** ile çözülebilir."
   ]
  },
  {
   "cell_type": "markdown",
   "metadata": {},
   "source": [
    "Model OLS yaparken katsayıları - ve + olarak büyütüp en az hata yakalamaya çalışır. Dolayısı ile katsayılar - ve + yönde büyüyecektir."
   ]
  },
  {
   "cell_type": "markdown",
   "metadata": {},
   "source": [
    "Fakat `Regularization` modelin kaysayıları büyütmesini cezalandırır.\n",
    "\n",
    "Böylece model artık istese bile katsayıları büyütümez."
   ]
  },
  {
   "cell_type": "markdown",
   "metadata": {},
   "source": [
    "Regularization ile beraber yeni Loss Fonksiyonumuz:"
   ]
  },
  {
   "cell_type": "markdown",
   "metadata": {},
   "source": [
    "$$ L_R = \\sum(y_{true} - y_{pred})^2 + \\alpha * \\sum w_i^2 $$"
   ]
  },
  {
   "cell_type": "markdown",
   "metadata": {},
   "source": [
    "Buradaki:\n",
    "$$\\alpha * \\sum w_i^2$$\n",
    "\n",
    "Regularization terimidir."
   ]
  },
  {
   "cell_type": "markdown",
   "metadata": {},
   "source": [
    "Ve:\n",
    "\n",
    "$\\alpha$'ya regularization katsayısı (Regularization Coefficient) denir. (Pozitif bir değerdir.)"
   ]
  },
  {
   "cell_type": "markdown",
   "metadata": {},
   "source": [
    "**Sonuç:**\n",
    "    \n",
    "$\\sum w_i^2$ ifadesi her zaman pozitif olacağı için modelimiz artık $w$'ları küçük tutmak zorunda olacaktır.\n",
    "\n",
    "Dolayısı ile Regularization, `Variance`'ı azaltmış olur ama aynı anda `Bias` da eklemiş olur."
   ]
  },
  {
   "cell_type": "markdown",
   "metadata": {},
   "source": [
    "### Regularizasyon Nasıl Uygulanır?"
   ]
  },
  {
   "cell_type": "markdown",
   "metadata": {},
   "source": [
    "Yukarıda gördüğünüz $w$ değerleri aslında modelin içinde set edilen **parametre**'lerdir."
   ]
  },
  {
   "cell_type": "markdown",
   "metadata": {},
   "source": [
    "Ama $\\alpha$ ifadesi bir **hyperparameter**'dir, ve onu set ederek Regularizasyon şiddetini biz kontrol ederiz."
   ]
  },
  {
   "cell_type": "markdown",
   "metadata": {},
   "source": [
    "### Regularizasyon Türleri"
   ]
  },
  {
   "cell_type": "markdown",
   "metadata": {},
   "source": [
    "### 1- Lasso"
   ]
  },
  {
   "cell_type": "markdown",
   "metadata": {},
   "source": [
    "**Lasso** Regularization'a aynı zamanda **L1 Regularization** da denir."
   ]
  },
  {
   "cell_type": "markdown",
   "metadata": {},
   "source": [
    "Lasso, katsayıları daha çok sıfır (0) olmaya zorlar."
   ]
  },
  {
   "cell_type": "markdown",
   "metadata": {},
   "source": [
    "Aşağıdaki maliyet fonksiyonunu çalıştırır (loss function):"
   ]
  },
  {
   "cell_type": "markdown",
   "metadata": {},
   "source": [
    "$$ L(w) = \\sum_{i=1}^n(y_i - \\hat y_i)^2 + \\alpha \\sum_{j=1}^p |w_j| $$"
   ]
  },
  {
   "cell_type": "markdown",
   "metadata": {},
   "source": [
    "Burada:\n",
    "\n",
    "* $\\alpha$ = ceza terimi (0 ile 1 arasında)\n",
    "* $|w|$ = katsayıların mutlak değeri\n",
    "* $y_i$ = gerçek sonuç\n",
    "* $\\hat y_i$ = tahmin"
   ]
  },
  {
   "cell_type": "markdown",
   "metadata": {},
   "source": [
    "**Not:**\n",
    "\n",
    "Lasso'ya L1 regularization denmesenin nedeni katsayıların birinci kuvvetini (1) almasıdır."
   ]
  },
  {
   "cell_type": "markdown",
   "metadata": {},
   "source": [
    "https://scikit-learn.org/stable/modules/generated/sklearn.linear_model.Lasso.html"
   ]
  },
  {
   "cell_type": "markdown",
   "metadata": {},
   "source": [
    "---"
   ]
  },
  {
   "cell_type": "markdown",
   "metadata": {},
   "source": [
    "### 2- Ridge Regression"
   ]
  },
  {
   "cell_type": "markdown",
   "metadata": {},
   "source": [
    "**Ridge** Regularization'a aynı zamanda **L2 Regularization** da denir."
   ]
  },
  {
   "cell_type": "markdown",
   "metadata": {},
   "source": [
    "Aşağıdaki maliyet fonksiyonunu çalıştırır (loss function):"
   ]
  },
  {
   "cell_type": "markdown",
   "metadata": {},
   "source": [
    "$$ L(w) = \\sum_{i=1}^n(y_i - \\hat y_i)^2 + \\alpha \\sum_{j=1}^p w_j^2 $$"
   ]
  },
  {
   "cell_type": "markdown",
   "metadata": {},
   "source": [
    "Burada:\n",
    "\n",
    "* $\\alpha$ = ceza terimi (0 ile 1 arasında)\n",
    "* $w^2$ = katsayıların karesi\n",
    "* $y_i$ = gerçek sonuç\n",
    "* $\\hat y_i$ = tahmin"
   ]
  },
  {
   "cell_type": "markdown",
   "metadata": {},
   "source": [
    "**Not:**\n",
    "\n",
    "Ridge Regression'a L2 regularization denmesenin nedeni katsayıların karesini (2) almasıdır."
   ]
  },
  {
   "cell_type": "markdown",
   "metadata": {},
   "source": [
    "https://scikit-learn.org/stable/modules/generated/sklearn.linear_model.Ridge.html"
   ]
  },
  {
   "cell_type": "markdown",
   "metadata": {},
   "source": [
    "---"
   ]
  },
  {
   "cell_type": "markdown",
   "metadata": {},
   "source": [
    "### 3- Elastic Net Regression"
   ]
  },
  {
   "cell_type": "markdown",
   "metadata": {},
   "source": [
    "**Elastic Net** Regularization, **L1 ve L2 Regularization**'ın bileşimidir."
   ]
  },
  {
   "cell_type": "markdown",
   "metadata": {},
   "source": [
    "Aşağıdaki maliyet fonksiyonunu çalıştırır (loss function):"
   ]
  },
  {
   "cell_type": "markdown",
   "metadata": {},
   "source": [
    "$$ L(w) = \\sum_{i=1}^n(y_i - \\hat y_i)^2 + \\alpha_1 \\sum_{j=1}^p |w_j| + \\alpha_2 \\sum_{j=1}^p w_j^2 $$"
   ]
  },
  {
   "cell_type": "markdown",
   "metadata": {},
   "source": [
    "Burada:\n",
    "\n",
    "* $\\alpha_1$ ve $\\alpha_2$ = ceza terimleri (0 ile 1 arasında)\n",
    "* $|w|$ = katsayıların mutlak değeri\n",
    "* $w^2$ = katsayıların karesi\n",
    "* $y_i$ = gerçek sonuç\n",
    "* $\\hat y_i$ = tahmin"
   ]
  },
  {
   "cell_type": "markdown",
   "metadata": {},
   "source": [
    "https://scikit-learn.org/stable/modules/generated/sklearn.linear_model.ElasticNet.html"
   ]
  },
  {
   "cell_type": "code",
   "execution_count": null,
   "metadata": {},
   "outputs": [],
   "source": []
  }
 ],
 "metadata": {
  "kernelspec": {
   "display_name": "Python 3",
   "language": "python",
   "name": "python3"
  },
  "language_info": {
   "codemirror_mode": {
    "name": "ipython",
    "version": 3
   },
   "file_extension": ".py",
   "mimetype": "text/x-python",
   "name": "python",
   "nbconvert_exporter": "python",
   "pygments_lexer": "ipython3",
   "version": "3.8.5"
  }
 },
 "nbformat": 4,
 "nbformat_minor": 4
}

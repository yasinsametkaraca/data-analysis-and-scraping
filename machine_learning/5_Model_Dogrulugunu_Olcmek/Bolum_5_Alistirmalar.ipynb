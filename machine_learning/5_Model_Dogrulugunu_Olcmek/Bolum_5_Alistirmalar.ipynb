{
 "cells": [
  {
   "cell_type": "markdown",
   "metadata": {},
   "source": [
    "## Alıştırmalar"
   ]
  },
  {
   "cell_type": "markdown",
   "metadata": {},
   "source": [
    "**Soru 1:**\n",
    "\n",
    "Aşağıdaki her bir senaryonun Classification mı yoksa Regression mı olduğuna karar veriniz.\n",
    "\n",
    "Ek olarak, X (feature) ve y (label) değişkenlerine karar verin.\n",
    "\n",
    "Son olarak, n (veri sayısı) ve p (değişken sayısı) değerlerini bulun."
   ]
  },
  {
   "cell_type": "markdown",
   "metadata": {},
   "source": [
    "**(a)**\n",
    "\n",
    "İstanbul Beşiktaş ilçesindeki 1000 evin bilgileri var elimizde.\n",
    "\n",
    "Her ev için, oda sayısı, denize uzaklığı, bina yaşı ve satış fiyatı var.\n",
    "\n",
    "Beşiktaş'taki rasgele bir evin satış fiyatını bulmak istiyoruz."
   ]
  },
  {
   "cell_type": "code",
   "execution_count": null,
   "metadata": {},
   "outputs": [],
   "source": []
  },
  {
   "cell_type": "markdown",
   "metadata": {},
   "source": [
    "**(b)**\n",
    "\n",
    "Elimizde, bir e-ticaret sitesinin 80000 müşterisine ait veriler var.\n",
    "\n",
    "Her bir müşteri sitede ne kadar kalmış, kaç ürün gezmiş, sepetinde kaç ürün var, geçmiş harcması ne kadar bunları biliyoruz.\n",
    "\n",
    "Bu müşterinin her hangi bir zamanda sitede iken, sepetindeki ürünü alıp almayacağını tahminlemek istiyoruz."
   ]
  },
  {
   "cell_type": "code",
   "execution_count": null,
   "metadata": {},
   "outputs": [],
   "source": []
  },
  {
   "cell_type": "markdown",
   "metadata": {},
   "source": [
    "---"
   ]
  },
  {
   "cell_type": "markdown",
   "metadata": {},
   "source": [
    "**Soru 2:**\n",
    "\n",
    "Train Error MSE ve Test Error MSE için genel bir grafik çizin.\n",
    "\n",
    "X ekseni artan miktarda Esneklik (Flexibility) gösterecek.\n",
    "\n",
    "Y ekseni ise bu eğrilerin değerini.\n",
    "\n",
    "Şu 5 eğriyi çizin:\n",
    "* Bias, \n",
    "* Variance, \n",
    "* Training MSE\n",
    "* Test Error \n",
    "* Kaçınılmaz Hata\n",
    "\n",
    "Her bir eğriyi neden o şekilde çizdiğinizi de anlatın."
   ]
  },
  {
   "cell_type": "code",
   "execution_count": null,
   "metadata": {},
   "outputs": [],
   "source": []
  },
  {
   "cell_type": "code",
   "execution_count": null,
   "metadata": {},
   "outputs": [],
   "source": []
  },
  {
   "cell_type": "markdown",
   "metadata": {},
   "source": [
    "---"
   ]
  },
  {
   "cell_type": "markdown",
   "metadata": {},
   "source": [
    "**Soru 3:**\n",
    "\n",
    "Parametrik ve Non-Parametrik Modeller arasındaki farkı açıklayın.\n",
    "\n",
    "Parametrik Yaklaşımın nasıl bir fayda sağladığını açıklayın."
   ]
  },
  {
   "cell_type": "code",
   "execution_count": null,
   "metadata": {},
   "outputs": [],
   "source": []
  },
  {
   "cell_type": "markdown",
   "metadata": {},
   "source": [
    " ---"
   ]
  },
  {
   "cell_type": "markdown",
   "metadata": {},
   "source": [
    "**Soru 4:**\n",
    "\n",
    "Mean Square Error (MSE) nedir ve nasıl hesaplanır?\n",
    "\n",
    "Sınıflandırma'da mı kullanılır, Regresyon'da mı?\n",
    "\n",
    "Çizerek gösterin.\n",
    "\n",
    "Matematik formülünü de yazın."
   ]
  },
  {
   "cell_type": "code",
   "execution_count": null,
   "metadata": {},
   "outputs": [],
   "source": []
  },
  {
   "cell_type": "markdown",
   "metadata": {},
   "source": [
    "---"
   ]
  },
  {
   "cell_type": "markdown",
   "metadata": {},
   "source": [
    "**Soru 5:**\n",
    "\n",
    "Hata Oranı (Error Rate) nedir ve nasıl hesaplanır?\n",
    "\n",
    "Classification'da mı kullanılır, Regression'da mı?\n",
    "\n",
    "Çizerek gösterin.\n",
    "\n",
    "Matematik formülünü de yazın."
   ]
  },
  {
   "cell_type": "code",
   "execution_count": null,
   "metadata": {},
   "outputs": [],
   "source": []
  },
  {
   "cell_type": "markdown",
   "metadata": {},
   "source": [
    "---"
   ]
  },
  {
   "cell_type": "markdown",
   "metadata": {},
   "source": [
    "**Soru 6:**\n",
    "\n",
    "Train-Test Split nedir?\n",
    "\n",
    "Amacı nedir?"
   ]
  },
  {
   "cell_type": "code",
   "execution_count": null,
   "metadata": {},
   "outputs": [],
   "source": []
  }
 ],
 "metadata": {
  "kernelspec": {
   "display_name": "Python 3",
   "language": "python",
   "name": "python3"
  },
  "language_info": {
   "codemirror_mode": {
    "name": "ipython",
    "version": 3
   },
   "file_extension": ".py",
   "mimetype": "text/x-python",
   "name": "python",
   "nbconvert_exporter": "python",
   "pygments_lexer": "ipython3",
   "version": "3.8.5"
  }
 },
 "nbformat": 4,
 "nbformat_minor": 4
}

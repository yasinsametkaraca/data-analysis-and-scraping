{
 "cells": [
  {
   "cell_type": "markdown",
   "metadata": {},
   "source": [
    "## Tahmin Kalitesini Ölçmek"
   ]
  },
  {
   "cell_type": "markdown",
   "metadata": {},
   "source": [
    "Kursumuz boyunca birçok Makine Öğrenmesi yöntemi göreceğiz. "
   ]
  },
  {
   "cell_type": "markdown",
   "metadata": {},
   "source": [
    "Basit Lineer Regresyon'un çok ötesinde, birbirinden farklı algoritmalar göreceğiz."
   ]
  },
  {
   "cell_type": "markdown",
   "metadata": {},
   "source": [
    "Neden tek bir en iyi yöntemi gösterip herşeyi çözmüyoruz?\n",
    "\n",
    "Neden bu kadar farklı algoritma görüyoruz?"
   ]
  },
  {
   "cell_type": "markdown",
   "metadata": {},
   "source": [
    "Cevap: No free lunch :)"
   ]
  },
  {
   "cell_type": "markdown",
   "metadata": {},
   "source": [
    "Her data setine uyan tek bir yöntem yok.\n",
    "\n",
    "Her verinin, her alanın kendine has yöntemleri var."
   ]
  },
  {
   "cell_type": "markdown",
   "metadata": {},
   "source": [
    "Bizim kursumuzun temel amaçlarından biri de hangi durumda hangi algoritmanın kullanılacağını karar verebilecek seviyede bir donanım elde etmenizi sağlamak."
   ]
  },
  {
   "cell_type": "markdown",
   "metadata": {},
   "source": [
    "Adım adım algoritmaları görerek, aralarında farkları, zayıf ve güçlü yanlarını öğreneceksiniz."
   ]
  },
  {
   "cell_type": "markdown",
   "metadata": {},
   "source": [
    "### Tahmin Kalitesi Nasıl Ölçülür?"
   ]
  },
  {
   "cell_type": "markdown",
   "metadata": {},
   "source": [
    "Modelimizin kalitesini ölçmek için bir ölçme metoduna ihtiyacımız var."
   ]
  },
  {
   "cell_type": "markdown",
   "metadata": {},
   "source": [
    "Bu ölçme, tahmin edilen değerin, gerçek değere ne kadar yakınsadığını söylemeli bize."
   ]
  },
  {
   "cell_type": "markdown",
   "metadata": {},
   "source": [
    "Regresyonda en sık kullanılan yöntem:\n",
    "\n",
    "**Mean Square Error (MSE)**"
   ]
  },
  {
   "cell_type": "markdown",
   "metadata": {},
   "source": [
    "Ortalama Kare Hata -> Hataların Karelerinin Ortalaması"
   ]
  },
  {
   "cell_type": "markdown",
   "metadata": {},
   "source": [
    "Hata: Gerçek ile Tahmin arasındaki fark."
   ]
  },
  {
   "cell_type": "markdown",
   "metadata": {},
   "source": [
    "Gerçek: $y_i$"
   ]
  },
  {
   "cell_type": "markdown",
   "metadata": {},
   "source": [
    "Tahmin: $\\hat{y_i}$"
   ]
  },
  {
   "cell_type": "markdown",
   "metadata": {},
   "source": [
    "Hata: $y_i - \\hat{y_i}$"
   ]
  },
  {
   "cell_type": "markdown",
   "metadata": {},
   "source": [
    "$$ MSE = Ortalama[y_i - \\hat{y_i}]^2 $$"
   ]
  },
  {
   "cell_type": "markdown",
   "metadata": {},
   "source": [
    "$$ MSE = \\frac{1}{n} \\sum_{i=1}^{n}(y_i - \\hat{y_i})^2 $$"
   ]
  },
  {
   "cell_type": "markdown",
   "metadata": {},
   "source": [
    "Tahmin değeleri ($\\hat{y_i}$) gerçek değerlere ($y_i$) ne kadar yakınsa, MSE o kadar küçük olacaktır."
   ]
  },
  {
   "cell_type": "markdown",
   "metadata": {},
   "source": [
    "**Hatırtlatma:** Machine Learning'de verimizi önce Train-Test şeklinde ayırırız.\n",
    "\n",
    "`Train-Test Split`\n",
    "\n",
    "Bütün öğrenme işlemlerini Training Data üzerinde yaparız.\n",
    "\n",
    "Test dataya hiç ama hiç bakmayız öğrenirken."
   ]
  },
  {
   "cell_type": "markdown",
   "metadata": {},
   "source": [
    "<img src='images/train_test_split.jpg' />"
   ]
  },
  {
   "cell_type": "markdown",
   "metadata": {},
   "source": [
    "Hesapladığımız MSE aslında Training Data üzerinde hesaplandı.\n",
    "\n",
    "Dolayısı ile Training MSE demek daha doğru."
   ]
  },
  {
   "cell_type": "markdown",
   "metadata": {},
   "source": [
    "Fakat asıl amacımız Training MSE'yi minimize etmek değildir.\n",
    "\n",
    "Asıl amaç Test datası üzerinde MSE'yi minimize etmektir."
   ]
  },
  {
   "cell_type": "markdown",
   "metadata": {},
   "source": [
    "Çünkü asıl tahmin işlemi Test datası üzerinde yapılan tahmindir. Bulmak istediğimiz şey odur."
   ]
  },
  {
   "cell_type": "markdown",
   "metadata": {},
   "source": [
    "İşte burada ML'in ana sorunlarından biri çıkıyor karşımıza:"
   ]
  },
  {
   "cell_type": "markdown",
   "metadata": {},
   "source": [
    "Öğrenme işini Training Data üzerinden yaparız.\n",
    "\n",
    "Yani MSE'yi training data üzerinden minimize edecek katsayılar buluruz.\n",
    "\n",
    "Fakat Training Data ile Test Data'nın benzer olduğuna dair bir kanıt yoktur elimizde.\n",
    "\n",
    "Yani Train Data üzerinde minimum olan ve iyi sonuç veren MSE parametreleri ($\\beta$) Test Data üzerinde de iyi sonuç verecek diye bir garanti yoktur."
   ]
  },
  {
   "cell_type": "markdown",
   "metadata": {},
   "source": [
    "$$ MSE_{Tr} = Ortalama_{Tr}[y_i - \\hat{y_i}]^2 $$"
   ]
  },
  {
   "cell_type": "markdown",
   "metadata": {},
   "source": [
    "$$ MSE_{Te} = Ortalama_{Te}[y_i - \\hat{y_i}]^2 $$"
   ]
  },
  {
   "cell_type": "code",
   "execution_count": null,
   "metadata": {},
   "outputs": [],
   "source": []
  }
 ],
 "metadata": {
  "kernelspec": {
   "display_name": "Python 3",
   "language": "python",
   "name": "python3"
  },
  "language_info": {
   "codemirror_mode": {
    "name": "ipython",
    "version": 3
   },
   "file_extension": ".py",
   "mimetype": "text/x-python",
   "name": "python",
   "nbconvert_exporter": "python",
   "pygments_lexer": "ipython3",
   "version": "3.8.5"
  }
 },
 "nbformat": 4,
 "nbformat_minor": 4
}

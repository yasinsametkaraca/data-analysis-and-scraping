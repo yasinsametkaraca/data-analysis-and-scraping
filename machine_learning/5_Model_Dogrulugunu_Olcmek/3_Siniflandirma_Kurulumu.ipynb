{
 "cells": [
  {
   "cell_type": "markdown",
   "metadata": {},
   "source": [
    "## Sınıflandırma Kurulumu"
   ]
  },
  {
   "cell_type": "markdown",
   "metadata": {},
   "source": [
    "Şimdiye kadar, model doğruluğunu konuşurken hep regresyon üzerinde durduk.\n",
    "\n",
    "Yani sayısal bir değeri bulmaya çalışan modelleri konuştuk."
   ]
  },
  {
   "cell_type": "markdown",
   "metadata": {},
   "source": [
    "Sınıflandırma Problemlerinde artık $y$ değişkenimiz sayısal bir ifade değildir."
   ]
  },
  {
   "cell_type": "markdown",
   "metadata": {},
   "source": [
    "Onun yerine, kategorik bir değişkendir.\n",
    "\n",
    "Belirli sınıflardan (kategoriler) birine ait bir değişkendir."
   ]
  },
  {
   "cell_type": "markdown",
   "metadata": {},
   "source": [
    "**Örnek:**\n",
    "\n",
    "Bir emailin **{spam, normal}** olması.\n",
    "\n",
    "Bir resmin **{kedi, köpek, tavşan, kuş}** tan biri olması.\n",
    "\n",
    "Bir el yazısı rakamanın **{1, 2, 3, ..., 9, 0}** dan biri olması gibi."
   ]
  },
  {
   "cell_type": "markdown",
   "metadata": {},
   "source": [
    "**Classification** da amaç;\n",
    "\n",
    "* bilmediğimiz $y$ nin hangi sınıfa ait olduğunu tahmin etmek,\n",
    "* sınıfların olaslıklarını hesaplamak\n",
    "* girdilerin etkisini hesaplamak\n",
    "\n",
    "şeklinde olabilir."
   ]
  },
  {
   "cell_type": "markdown",
   "metadata": {},
   "source": [
    "Classification (Sınıflandırm) Problemleri yapı olarak Regresyon'dan farklı olsalar da, ana kavramlar aynı mantıkla işler.\n",
    "\n",
    "Örneğin: Bias-Variance Trade-Off"
   ]
  },
  {
   "cell_type": "markdown",
   "metadata": {},
   "source": [
    "Classification'da tahmin etmeye çalıştığımız fonksiyon artık f değil,\n",
    "\n",
    "**C(X)** tir.\n",
    "\n",
    "C(X) gelecekteki bir X gözlemini (verisi) bir sınıfla ilişkilendirir."
   ]
  },
  {
   "cell_type": "markdown",
   "metadata": {},
   "source": [
    "X    ->    C(X)     -> Sınıf Adı ('Kedi')"
   ]
  },
  {
   "cell_type": "markdown",
   "metadata": {},
   "source": [
    "Classification'da Tahmin Doğruluğu için: **hata oranı (error rate)** kullanılır."
   ]
  },
  {
   "cell_type": "markdown",
   "metadata": {},
   "source": [
    "Örnekler:\n",
    "\n",
    "C = {spam, normal}\n",
    "\n",
    "C = {kedi, köpek, tavşan, kuş}\n",
    "\n",
    "C = {0, 1, 2, ..., K}"
   ]
  },
  {
   "cell_type": "markdown",
   "metadata": {},
   "source": [
    "toplam sınıf sayısı: **K**"
   ]
  },
  {
   "cell_type": "markdown",
   "metadata": {},
   "source": [
    "**Hata Oranı:**\n",
    "\n",
    "Tüm tahminler içinde, hatalı olanların oranıdır."
   ]
  },
  {
   "cell_type": "markdown",
   "metadata": {},
   "source": [
    "**Hata Oranı = Hatalı Tahminler / Tüm Tahminler**"
   ]
  },
  {
   "cell_type": "markdown",
   "metadata": {},
   "source": [
    "$$ Hata Oranı = \\frac{1}{n} \\sum_{i=1}^n I(y_i \\ne \\hat{y}_i) $$"
   ]
  },
  {
   "cell_type": "markdown",
   "metadata": {},
   "source": [
    "Eğer tahmin hatalı ise -> $y_i \\ne \\hat{y}_i$ demektir.\n",
    "* O zaman -> $I(y_i \\ne \\hat{y}_i) = 1$"
   ]
  },
  {
   "cell_type": "markdown",
   "metadata": {},
   "source": [
    "Eğer tahmin doğru ise -> $y_i = \\hat{y}_i$ demektir.\n",
    "* O zaman -> $I(y_i \\ne \\hat{y}_i) = 0$"
   ]
  },
  {
   "cell_type": "markdown",
   "metadata": {},
   "source": [
    "Yani $I(y_i \\ne \\hat{y}_i)$ hatalı tahminleri toplar."
   ]
  },
  {
   "cell_type": "markdown",
   "metadata": {},
   "source": [
    "**Not:** Yukarıdaki hata oranını ilk olarak Train Data üzerinde hesapladığımız için Train Error Rate denir."
   ]
  },
  {
   "cell_type": "markdown",
   "metadata": {},
   "source": [
    "Öğrenme bittikten sonra, asıl hesaplamak istediğimiz Test Error Rate'dir."
   ]
  },
  {
   "cell_type": "markdown",
   "metadata": {},
   "source": [
    "**Classifier:** Sınıflandırma Modellerine verilen genel isim."
   ]
  },
  {
   "cell_type": "markdown",
   "metadata": {},
   "source": [
    "İyi bir classifier, Test Hata Oranını minimum yapan classifier'dır."
   ]
  },
  {
   "cell_type": "markdown",
   "metadata": {},
   "source": [
    "#### Bayes Classifier"
   ]
  },
  {
   "cell_type": "markdown",
   "metadata": {},
   "source": [
    "Koşullu olasılık üzerinden, en olurlu (en yüksek sınıfa) atama işlemi yapan classifier'dır."
   ]
  },
  {
   "cell_type": "markdown",
   "metadata": {},
   "source": [
    "Bir öğrenme olmadan doğal olarak en mantıklı sınıflandırma yapma yöntemi."
   ]
  },
  {
   "cell_type": "markdown",
   "metadata": {},
   "source": [
    "$$ Pr(y = j | X = x_0) $$"
   ]
  },
  {
   "cell_type": "markdown",
   "metadata": {},
   "source": [
    "Burada, X'in değerinin x_0 olduğu bilindiğine göre y'nin j olması olasılığı hesaplanır. En yüksek oranı veren j değeri alınır."
   ]
  },
  {
   "cell_type": "markdown",
   "metadata": {},
   "source": [
    "Bayes Classifier, en düşük hata oranını (error rate) verir. (Öğrenme olmadan)\n",
    "\n",
    "Buna `Bayes Error Rate` denir."
   ]
  },
  {
   "cell_type": "markdown",
   "metadata": {},
   "source": [
    "Elimizde K adet class (sınıf) var.\n",
    "\n",
    "k = 1, 2, 3, ..., K olsun"
   ]
  },
  {
   "cell_type": "markdown",
   "metadata": {},
   "source": [
    "Elimizde her bir sınıfın bulunma olasılığı (gerçek olasılık) olsun."
   ]
  },
  {
   "cell_type": "markdown",
   "metadata": {},
   "source": [
    "$p_k(x) = Pr(Y = k | X = x)$ , $k = 1, 2, 3, ..., K$"
   ]
  },
  {
   "cell_type": "markdown",
   "metadata": {},
   "source": [
    "Bayes Classifier:\n",
    "\n",
    "$C(x) = j$\n",
    "\n",
    "eğer\n",
    "\n",
    "$p_j(x) = max{p_q(x), p_2(x), ..., p_K(x)}$"
   ]
  },
  {
   "cell_type": "markdown",
   "metadata": {},
   "source": [
    "Tek cümle ile Bayes Classifier, en yüksek oranlı olan sınıfı alır."
   ]
  },
  {
   "cell_type": "markdown",
   "metadata": {},
   "source": [
    "3 sınıf ve olasılık burada çizerek gösterelim."
   ]
  },
  {
   "cell_type": "markdown",
   "metadata": {},
   "source": [
    "Bayes Classifier, ortalamada elde edebileceğimiz en küçük hata oranıdır. (Gerçek olasılıklar \n",
    "üzerinden olduğu için.)"
   ]
  },
  {
   "cell_type": "markdown",
   "metadata": {},
   "source": [
    "2 sınıflı bir örnekle tahtaya çizerek görelim:"
   ]
  },
  {
   "cell_type": "markdown",
   "metadata": {},
   "source": [
    "Bayes Classifier'da elimizde olasılıklar olduğunu kabul ediyoruz.\n",
    "\n",
    "Ya olasılık yoksa, ne yapacağız?"
   ]
  },
  {
   "cell_type": "markdown",
   "metadata": {},
   "source": [
    "Cevap: Nearest Neighbor Averaging"
   ]
  }
 ],
 "metadata": {
  "kernelspec": {
   "display_name": "Python 3",
   "language": "python",
   "name": "python3"
  },
  "language_info": {
   "codemirror_mode": {
    "name": "ipython",
    "version": 3
   },
   "file_extension": ".py",
   "mimetype": "text/x-python",
   "name": "python",
   "nbconvert_exporter": "python",
   "pygments_lexer": "ipython3",
   "version": "3.8.5"
  }
 },
 "nbformat": 4,
 "nbformat_minor": 4
}

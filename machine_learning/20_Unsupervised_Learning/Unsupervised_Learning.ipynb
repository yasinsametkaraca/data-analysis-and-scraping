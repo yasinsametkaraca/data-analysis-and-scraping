{
 "cells": [
  {
   "cell_type": "markdown",
   "id": "different-hierarchy",
   "metadata": {},
   "source": [
    "# Unsupervised Learning (Gözetimsiz Öğrenme)"
   ]
  },
  {
   "cell_type": "markdown",
   "id": "mental-paraguay",
   "metadata": {},
   "source": [
    "Supervised Learning (Classification ve Regression) algoritmalarından farklı olarak **Unsupervised Learning**'de (Gözetimsiz Öğrenme) input data **unlabeled**'dır."
   ]
  },
  {
   "cell_type": "markdown",
   "id": "cardiac-cedar",
   "metadata": {},
   "source": [
    "Yani input data içinde sonuç değişkeni ve sonuç değeri (label) yoktur."
   ]
  },
  {
   "cell_type": "markdown",
   "id": "egyptian-match",
   "metadata": {},
   "source": [
    "Bir diğer deyişle siz elinizdeki datanın gerçek hayatta hangi değere karşılık geldiğini bilemezsiniz."
   ]
  },
  {
   "cell_type": "markdown",
   "id": "about-juice",
   "metadata": {},
   "source": [
    "Bunu bilemediğiniz için de Classification ya da Regression'da yaptığımız gibi bir tahmin (predict) yapmak mümkün değildir."
   ]
  },
  {
   "cell_type": "markdown",
   "id": "advanced-artist",
   "metadata": {},
   "source": [
    "Unsupervised Learning'de algoritmalar **veri içindeki ilişkileri** bularak ilerlerler."
   ]
  },
  {
   "cell_type": "markdown",
   "id": "tired-margin",
   "metadata": {},
   "source": [
    "Unsupervised Learning'in bir büyük avantajı bir de büyük dezavantajı vardır:\n",
    "\n",
    "**Avantajı:** Verinin elle labellanması gerekmediği için, çok çok büyük veri setlerinde de çalışmamızı sağlar.\n",
    "\n",
    "**Dezavantajı:** Verinin gerçek değerini bilmediğimiz için, tahmin kalitesini ölçmek mümkün olmaz."
   ]
  },
  {
   "cell_type": "markdown",
   "id": "under-pottery",
   "metadata": {},
   "source": [
    "Unsupervised Learning'in iki ana kullanım amacı vardır:\n",
    "1. Principal Component Analysis (PCA)\n",
    "2. Clustering"
   ]
  },
  {
   "cell_type": "markdown",
   "id": "furnished-daniel",
   "metadata": {},
   "source": [
    "Bu iki yöntemi ayrı notebooklarda işleyeceğiz."
   ]
  }
 ],
 "metadata": {
  "kernelspec": {
   "display_name": "Python 3",
   "language": "python",
   "name": "python3"
  },
  "language_info": {
   "codemirror_mode": {
    "name": "ipython",
    "version": 3
   },
   "file_extension": ".py",
   "mimetype": "text/x-python",
   "name": "python",
   "nbconvert_exporter": "python",
   "pygments_lexer": "ipython3",
   "version": "3.8.5"
  }
 },
 "nbformat": 4,
 "nbformat_minor": 5
}

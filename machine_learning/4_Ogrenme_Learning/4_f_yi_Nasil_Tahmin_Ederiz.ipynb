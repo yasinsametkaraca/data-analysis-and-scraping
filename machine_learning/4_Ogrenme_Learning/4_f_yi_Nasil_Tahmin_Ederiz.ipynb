{
 "cells": [
  {
   "cell_type": "markdown",
   "metadata": {},
   "source": [
    "## f'yi Nasıl Tahmin Ederiz?"
   ]
  },
  {
   "cell_type": "markdown",
   "metadata": {},
   "source": [
    "Dersimiz boyunca, f'yi bulmak için birçok yöntem deneyeceğiz.\n",
    "\n",
    "Lineer Yöntemler, Non-Lineer Yöntemler deneyeceğiz."
   ]
  },
  {
   "cell_type": "markdown",
   "metadata": {},
   "source": [
    "Bu yöntemler farklı olsalar da, hepsinde aşağıdaki ortak varsayımlarımız olacak:\n",
    "\n",
    "* Her zaman n'in toplam gözlem sayısı (bağımsız veri sayısı) olduğunu kabul edeceğiz.\n",
    "* Bu gözlemlere 'training data' yani 'eğitme verisi' diyeceğiz.\n",
    "* Bu training data'yı kullanarak veri içindeki ilişkileri öğreneceğiz.\n",
    "* xij -> i. satır, j. sütun yani i numaralı gözlemin j numaralı değişkeni\n",
    "   * i = 1,2,3,...,n    \n",
    "   * j = 1,2,3...,p\n",
    "* yi -> i. data setinin sonucu yani output'u (label'i)\n",
    "* Amacımız training data üzerinde algoritmalar çalıştırıp bilmediğimiz f'yi tahminlemek\n",
    "* Bu arama işlemi iki temel yapıya ayrılır:\n",
    "    * Parametrik Metodlar\n",
    "    * Non-Parametrik Metodlar"
   ]
  },
  {
   "cell_type": "markdown",
   "metadata": {},
   "source": [
    "**Parametrik Metodlar:**\n",
    "\n",
    "İki adımlı yaklaşımdır:\n",
    "\n",
    "**1- Önce f'nin şekli üzerine bir varsayımda bulunuruz:**\n",
    "\n",
    "   Örneğin deriz ki; Lineer olsun.\n",
    "   \n",
    "   $$f(X) = \\beta_o + \\beta_1X_1 + \\beta_2X_2 + ... + \\beta_pX_p $$\n",
    "   \n",
    "   Bu bir `Lineer Model`dir.\n",
    "   \n",
    "   Bu şekilde bir varsayımla artık f'yi tahminlemek için sadece $\\beta$ ları bulmak yeterlidir.\n",
    "   \n",
    "   Yani $p + 1$ adet $\\beta_0, \\beta_1, ... \\beta_p$ değişkenini.\n",
    "   \n",
    "   Dikkat ediniz, burada değişkenimiz X değildir, $\\beta$ lardır.\n",
    "   \n",
    "   Çünkü X'ler zaten her gözlem (satır) içinde verilmiştir.\n",
    "   \n",
    "   Y de bilmekteyiz yani sonucu.\n",
    "   \n",
    "   Bilmediğimiz tek şey $\\beta$ lardır.\n",
    "   \n",
    "  \n",
    "**2- Modeli seçtikten sonra training data üzerinden $\\beta$ ları bulacak bir prosedüre (algoritma) ihtiyaç duyarız.**\n",
    "\n",
    "Buna train dataya oturacak (fit edecek) bir model bulmak diyoruz.\n",
    "\n",
    "Modelimizin elimizdeki train datasına uyması için $\\beta$ katsayılarımız ne olacak? \n",
    "\n",
    "İşte bunu verecek bir prosedür gerekiyor bize.\n",
    "\n",
    "Bunun için kursumuz boyunca çeşitli yöntemler göreceğiz."
   ]
  },
  {
   "cell_type": "markdown",
   "metadata": {},
   "source": [
    "**Underfitting & Overfitting**:\n",
    "\n",
    "Gördüğünüz gibi Parametrik Metodlar f'yi bulma meselesini aslında bir parametre tahmini meselesine indirgemiş olur.\n",
    "\n",
    "Dolayısı ile işimiz görece kolaylaşır.\n",
    "\n",
    "Ama bu durumda ortaya başka bir sorun çıkar. O da seçtiğimiz model'in geçekte var olan ama bizim bilmediğimiz modele ne kadar yakınsadığıdır. \n",
    "\n",
    "Eğer çok alakasız bir model seçimi yaptıysak o zaman bulduğumuz sonuçlar gerçekten uzak olacaktır.\n",
    "\n",
    "\n",
    "**Underfitting:** Başka bir deyişle seçtiğimiz model, gerçek hayattaki kompleksiteyi karşılayamamış demektir. Modelimiz çok basit kalmıştır.\n",
    "\n",
    "Bu soruna Makine Öğrenmesinde `Underfitting` denir.\n",
    "\n",
    "Lineer Modeller genelde basit oldukları için Underfitting'e düşme olasılığı yüksektir.\n",
    "\n",
    "**Overfitting:** Bir başka sorun da seçtiğimiz modelin çok fazla karmaşık olmasında çıkar. Eğer modelimiz gerçek hayattaki gizli fonksiyondan daha karmaşıksa o zaman da `Overfitting` var demektir.\n",
    "\n",
    "Yani modelimiz, veriyi çok fazla yakından izlemiş, yani ezberlemiştir. Eldeki veriyi çok iyi temsil etse de genelleşemez.\n",
    "\n"
   ]
  },
  {
   "cell_type": "markdown",
   "metadata": {},
   "source": [
    "<img src='images/overfitting_underfitting.png' />"
   ]
  },
  {
   "cell_type": "markdown",
   "metadata": {},
   "source": [
    "**Non-Parametrik Metodlar**\n",
    "\n",
    "Parametrik Metodların aksine, Non-Parametrik Metodlar f'in şekli yani model üzerinde bir tahmin yapmazlar.\n",
    "\n",
    "Bunun yerine, direk veri üzerinden girdi-çıktı (input-output) arasındaki ilişkiyi anlamaya ve f'yi bu şekilde tahminlemeye çalışırlar.\n",
    "\n",
    "Dolayısı ile yanlış bir başlangıç yapma riskleri ortadan kalkar.\n",
    "\n",
    "Fakat Non-Parametrik Metodların da başka bir sorunu vardır. Çok ama çok veriye ihtiyaç duyarlar.\n",
    "\n",
    "Parametrik metodlar gibi aradaki ilişkinin şeklini sabitlemedikleri için tüm olasılıklar masadadır ve bu olasılıkları elemek için büyük miktarda veriye ihtiyaç duyarlar. Ki bu da maliyet demektir."
   ]
  },
  {
   "cell_type": "markdown",
   "metadata": {},
   "source": [
    "**Parametrik vs. Non-Parametrik**\n",
    "\n",
    "Gördüğünüz gibi iki metodun da kendisine göre artıları ve eksileri var.\n",
    "\n",
    "Hangisini hangi durumda kullanacağımızı göreceğiz.\n",
    "\n",
    "Kursumuz içerisinde her iki metod ailesini da oldukça fazla kullanacağız."
   ]
  }
 ],
 "metadata": {
  "kernelspec": {
   "display_name": "Python 3",
   "language": "python",
   "name": "python3"
  },
  "language_info": {
   "codemirror_mode": {
    "name": "ipython",
    "version": 3
   },
   "file_extension": ".py",
   "mimetype": "text/x-python",
   "name": "python",
   "nbconvert_exporter": "python",
   "pygments_lexer": "ipython3",
   "version": "3.8.5"
  }
 },
 "nbformat": 4,
 "nbformat_minor": 4
}

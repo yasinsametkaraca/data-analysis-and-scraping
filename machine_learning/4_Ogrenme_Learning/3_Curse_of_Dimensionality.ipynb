{
 "cells": [
  {
   "cell_type": "markdown",
   "metadata": {},
   "source": [
    "## Curse of Dimensionality (Boyutun Laneti)"
   ]
  },
  {
   "cell_type": "markdown",
   "metadata": {},
   "source": [
    "Önce bir örnek ile başlayalım:"
   ]
  },
  {
   "cell_type": "markdown",
   "metadata": {},
   "source": [
    "Şimdi f'yi nasıl tahmin edebiliriz bakalım:\n",
    "\n",
    "\n",
    "**Soru:** \n",
    "\n",
    "Diyelim ki x = 30 noktasında elimizde bir veri yok.\n",
    "\n",
    "O zaman ne yapacağız?"
   ]
  },
  {
   "cell_type": "markdown",
   "metadata": {},
   "source": [
    "**Cevap:**\n",
    "\n",
    "En yakın komuşalarına bakarız.\n",
    "\n",
    "Nearest Negihbors"
   ]
  },
  {
   "cell_type": "markdown",
   "metadata": {},
   "source": [
    "En yakın tek bir noktaya bakmak sağlıklı olmaz.\n",
    "\n",
    "Neden, çünkü veri çok değişir o durumda, aşırı bir varyans olur.\n",
    "\n",
    "Tek nokta yerine, tek komşu yerine, birkaç noktaya bakmalıyız ki örnkelem aldığımız veri, gerçek verimizi daha iyi temsil etsin.\n",
    "\n",
    "Diyelim ki %10'luk bir nokta ailesi alıcaz olmayan nokta için:\n",
    "\n",
    "O zaman olmayan nokta etrafında verinin %10'nuna tekabül eden bir aralığı alıcaz."
   ]
  },
  {
   "cell_type": "markdown",
   "metadata": {},
   "source": [
    "İşte buna Curse of Dimensionality yani Boyutun Laneti deniyor."
   ]
  },
  {
   "cell_type": "markdown",
   "metadata": {},
   "source": [
    "<img src='images/cod_2.png' />"
   ]
  },
  {
   "cell_type": "markdown",
   "metadata": {},
   "source": [
    "Boyut sayısı arttıkça, komşuluk denen kavram ortadan kalkar.\n",
    "\n",
    "Her nokta artık birbirinden çok uzaktır.\n",
    "\n",
    "Aynı büyük şehirlerde komşluğun artık kalmaması gibi :)"
   ]
  },
  {
   "cell_type": "markdown",
   "metadata": {},
   "source": [
    "<img src='images/cod_3.gif' />"
   ]
  }
 ],
 "metadata": {
  "kernelspec": {
   "display_name": "Python 3",
   "language": "python",
   "name": "python3"
  },
  "language_info": {
   "codemirror_mode": {
    "name": "ipython",
    "version": 3
   },
   "file_extension": ".py",
   "mimetype": "text/x-python",
   "name": "python",
   "nbconvert_exporter": "python",
   "pygments_lexer": "ipython3",
   "version": "3.8.5"
  }
 },
 "nbformat": 4,
 "nbformat_minor": 4
}

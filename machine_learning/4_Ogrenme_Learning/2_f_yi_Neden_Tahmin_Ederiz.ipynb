{
 "cells": [
  {
   "cell_type": "markdown",
   "metadata": {},
   "source": [
    "## f'yi Neden Tahmin Ederiz?"
   ]
  },
  {
   "cell_type": "markdown",
   "metadata": {},
   "source": [
    "Y ile X arasında şu şekilde bir ilişki olduğunu kabul etmiştik:\n",
    "\n",
    "$$Y = f(X) + \\epsilon$$"
   ]
  },
  {
   "cell_type": "markdown",
   "metadata": {},
   "source": [
    "İşte buradaki ilişki yani, **f**'yi bulmak için iki ana nedenimiz var:\n",
    "* Tahmin Yapmak\n",
    "* Çıkarım Yapmak"
   ]
  },
  {
   "cell_type": "markdown",
   "metadata": {},
   "source": [
    "### Tahmin"
   ]
  },
  {
   "cell_type": "markdown",
   "metadata": {},
   "source": [
    "Çoğu zaman elimizde girdi değişkeni yani X olur ama y olmaz.\n",
    "\n",
    "Dolayısı ile y'yi tahmin etmemiz lazımdır.\n",
    "\n",
    "Tahmin ederken kaçınılmaz olarak bir hata payı olacaktır. Buna `kaçınılmaz hata` deriz."
   ]
  },
  {
   "cell_type": "markdown",
   "metadata": {},
   "source": [
    "$$Toplam Hata = Kaçınılabilir Hata + Kaçınılmaz Hata$$"
   ]
  },
  {
   "cell_type": "markdown",
   "metadata": {},
   "source": [
    "İşte iyi bir tahmin Kaçınılabilir Hatayı minimize eden tahmindir."
   ]
  },
  {
   "cell_type": "markdown",
   "metadata": {},
   "source": [
    "Tahmin edilen **f**:\n",
    "**$$\\hat{f}$$**"
   ]
  },
  {
   "cell_type": "markdown",
   "metadata": {},
   "source": [
    "### Çıkarım"
   ]
  },
  {
   "cell_type": "markdown",
   "metadata": {},
   "source": [
    "Bazı durumlarda y'nin değerini tahmin etmeye çalışmak yerine, olası durumlar için çıkarım yapmamız gerekir.\n",
    "\n"
   ]
  },
  {
   "cell_type": "markdown",
   "metadata": {},
   "source": [
    "Örneğin, Hisse Senedi veri kümesinde gördüğümüz üzere, bir hissenin yarınki değerinin ne olacağını tahmin etmek yerine, acaba artacak mı yoksa azalacak mı, bu çıkarımı yapmaya çalıştık."
   ]
  },
  {
   "cell_type": "markdown",
   "metadata": {},
   "source": [
    "Çıkarım yapmak, tahmin yapmak kadar önemlidir ve karar verecinin iyi kararlar vermesini sağlar."
   ]
  },
  {
   "cell_type": "markdown",
   "metadata": {},
   "source": [
    "Başka bir örnek olarak, TV-Radio-Newspaper reklamlarının hangisinin Satış miktarını daha çok artırdığını öğrenmek istesek bu da bir çıkarım olurdu.\n",
    "\n",
    "Burada Satış'ın tam olarak ne olacağını tahmin etmeye çalışmak yerine, 3 girdinin hangisinin daha önemli olduğunu saptamaya çalışırsak bu bir Çıkarım olur."
   ]
  }
 ],
 "metadata": {
  "kernelspec": {
   "display_name": "Python 3",
   "language": "python",
   "name": "python3"
  },
  "language_info": {
   "codemirror_mode": {
    "name": "ipython",
    "version": 3
   },
   "file_extension": ".py",
   "mimetype": "text/x-python",
   "name": "python",
   "nbconvert_exporter": "python",
   "pygments_lexer": "ipython3",
   "version": "3.8.5"
  }
 },
 "nbformat": 4,
 "nbformat_minor": 4
}

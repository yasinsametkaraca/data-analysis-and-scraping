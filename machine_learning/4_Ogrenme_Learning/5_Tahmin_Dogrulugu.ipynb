{
 "cells": [
  {
   "cell_type": "markdown",
   "metadata": {},
   "source": [
    "## Tahmin Doğruluğu mu Model Sadeliği mi?"
   ]
  },
  {
   "cell_type": "markdown",
   "metadata": {},
   "source": [
    "Kursumuz boyunca, bir çok Machine Learning Algoritması göreceğiz.\n",
    "\n",
    "Bazıları daha esnek, bazıları ise daha sınırlayıcı yani kısıtlayıcı olacak."
   ]
  },
  {
   "cell_type": "markdown",
   "metadata": {},
   "source": [
    "Örneğin, Lineer modeller görece daha az esnektir. Çünkü bir şekilde lineer bir ilişki yaratmaya çalıştıkları için veriyi kısıtlarlar."
   ]
  },
  {
   "cell_type": "markdown",
   "metadata": {},
   "source": [
    "Ama ileride göreceğimiz Support Vector Machines (SVM) gibi algoritmalar ise inanılmaz esnektirler."
   ]
  },
  {
   "cell_type": "markdown",
   "metadata": {},
   "source": [
    "**Soru:**\n",
    "\n",
    "O zaman ortaya şöyle mantıklı bir soru çıkıyor:\n",
    "\n",
    "Neden esnek bir model varken kısıtlayıcı olanı seçelim ki?"
   ]
  },
  {
   "cell_type": "markdown",
   "metadata": {},
   "source": [
    "**Genel Kural:** \n",
    "\n",
    "**Kısıtlayıcı** olan modeller daha sade yani daha **anlaşılırdırlar.**\n",
    "\n",
    "**Esnek** modeller daha kompleks dolayısı ile daha **az anlaşılır** olurlar.\n"
   ]
  },
  {
   "cell_type": "markdown",
   "metadata": {},
   "source": [
    "**Cevap:**\n",
    "\n",
    "Daha kısıtlayıcı bir modeli tercih etmenin çeşitli sebepleri olabilir:\n",
    "\n",
    "* Eğer ana amacımız tahmin değil de çıkarım yapmaksa, o zaman daha anlaşılır bir model terchih ederiz\n",
    "    * Örneğin Maaş Data Setinde gördüğümüz gibi, amacımız şöyle bir soruya cevap vermekse;\n",
    "      Acaba eğitim düzeyinin kişinin maaşı üzerinde bir etkisi var mı?\n",
    "      Bu soru için lineer modeller bize yeterince çıkarım sağlarlar.\n",
    "      \n",
    "* Kompleks modeller hem maliyetli hem de zor okunurlar\n",
    "\n",
    "* Kompleks modeller Overfit olmaya daha yatkındırlar.\n",
    "\n",
    "* Sade modeller de Underfit olmaya yatkındırlar."
   ]
  },
  {
   "cell_type": "markdown",
   "metadata": {},
   "source": [
    "<img src='images/interpretability.png' />"
   ]
  }
 ],
 "metadata": {
  "kernelspec": {
   "display_name": "Python 3",
   "language": "python",
   "name": "python3"
  },
  "language_info": {
   "codemirror_mode": {
    "name": "ipython",
    "version": 3
   },
   "file_extension": ".py",
   "mimetype": "text/x-python",
   "name": "python",
   "nbconvert_exporter": "python",
   "pygments_lexer": "ipython3",
   "version": "3.8.5"
  }
 },
 "nbformat": 4,
 "nbformat_minor": 4
}

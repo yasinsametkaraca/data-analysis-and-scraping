{
 "cells": [
  {
   "cell_type": "markdown",
   "id": "regular-stephen",
   "metadata": {},
   "source": [
    "# KNN (K-Nearest Neighbors)"
   ]
  },
  {
   "cell_type": "markdown",
   "id": "stunning-platform",
   "metadata": {},
   "source": [
    "**KNN:**\n",
    "\n",
    "Sınıflandırma problemlerini çözmek için kullanılan basit ama etkili bir yöntemdir."
   ]
  },
  {
   "cell_type": "markdown",
   "id": "mature-coordination",
   "metadata": {},
   "source": [
    "**İçerik:**\n",
    "\n",
    "* KNN Algoritması\n",
    "* Uzaklık Kavramı\n",
    "* Karar Verme Kuralları\n",
    "* KNN ile Model Oluşturma\n",
    "* PROJE: Scikit-Learn ile KNN Uygulaması"
   ]
  },
  {
   "cell_type": "markdown",
   "id": "passing-canada",
   "metadata": {},
   "source": [
    "#### Nearest Neighbor (En Yakın Komşu) Algoritması"
   ]
  },
  {
   "cell_type": "markdown",
   "id": "indirect-pocket",
   "metadata": {},
   "source": [
    "K-NN'e geçmeden önce aslında, NN yani Nearest Neighbor (En Yakın Komşu) Algoritmasını anlamamız lazım"
   ]
  },
  {
   "cell_type": "markdown",
   "id": "iraqi-fairy",
   "metadata": {},
   "source": [
    "NN'de amaç bilinmeyen bir veri için, kendisine en yakın komşuyu bulmaktır.\n",
    "\n",
    "Bu en yakın verinin sonucu ne ise bilinmeyen için de o sonucu tahmin eder."
   ]
  },
  {
   "cell_type": "markdown",
   "id": "significant-china",
   "metadata": {},
   "source": [
    "<img src='images/nn.jpeg' />"
   ]
  },
  {
   "cell_type": "markdown",
   "id": "unavailable-binary",
   "metadata": {},
   "source": [
    "Bu resimde gördüğünüz gibi bilinmeyen noktaya en yakın nokta Kırmızı renkli olduğu için biz de bilinmeyen noktanın rengini Kırmızı olarak kabul ederiz."
   ]
  },
  {
   "cell_type": "markdown",
   "id": "isolated-stage",
   "metadata": {},
   "source": [
    "#### K-Nearest Neighbor (En Yakın K Komşu) Algoritması"
   ]
  },
  {
   "cell_type": "markdown",
   "id": "modified-ministry",
   "metadata": {},
   "source": [
    "K-Nearest Neighbor (KNN) Algoritması aslında Nearest Neighbor'un (NN) genelleştirilmiş halidir.\n",
    "\n",
    "Burada artık tek (en yakın olan) komşuya değil de K adet komşuya bakıp karar veririz."
   ]
  },
  {
   "cell_type": "markdown",
   "id": "spoken-pressure",
   "metadata": {},
   "source": [
    "<img src='images/KNN_1.png' />"
   ]
  },
  {
   "cell_type": "markdown",
   "id": "annual-concord",
   "metadata": {},
   "source": [
    "Bu K adet komşu içinde var olan sınıfların oranlarını alırız ve en yüksek orana sahip olan sınıfı seçeriz.\n",
    "\n",
    "Örneğin yukarıda:\n",
    "* K = 3 için seçilecek sınıf Mor  -> 2/3\n",
    "* K = 6 için seçilecek sınıf Sarı -> 4/6 "
   ]
  },
  {
   "cell_type": "markdown",
   "id": "oriental-knight",
   "metadata": {},
   "source": [
    "## KNN'in Uygulanışı"
   ]
  },
  {
   "cell_type": "markdown",
   "id": "hourly-reviewer",
   "metadata": {},
   "source": [
    "Süreç:\n",
    "\n",
    "1. Verinin Hazırlanması\n",
    "2. Mesafelerin Hesaplanması\n",
    "3. Komşuların Bulunması\n",
    "4. Sınıflandırma Yapılması"
   ]
  },
  {
   "cell_type": "markdown",
   "id": "apart-association",
   "metadata": {},
   "source": [
    "### Verinin Hazırlanması"
   ]
  },
  {
   "cell_type": "code",
   "execution_count": 17,
   "id": "known-harvey",
   "metadata": {},
   "outputs": [],
   "source": [
    "import pandas as pd\n",
    "import numpy as np\n",
    "import matplotlib.pyplot as plt"
   ]
  },
  {
   "cell_type": "markdown",
   "id": "leading-commons",
   "metadata": {},
   "source": [
    "Önce kendimize bir veri seti oluşturalım.\n",
    "\n",
    "Verimiz iki değişkenli (features: x, y) olacak ve iki sınıflı olacak (labels: A, B).\n",
    "\n",
    "Bu şekilde iki sınıflı classification problemlerine **binary classification** denir."
   ]
  },
  {
   "cell_type": "code",
   "execution_count": 3,
   "id": "skilled-helena",
   "metadata": {},
   "outputs": [],
   "source": [
    "def veri_olustur():\n",
    "    \"\"\"\n",
    "    Veriyi oluşturan fonksiyon.\n",
    "    features: değişkenler, x ve y\n",
    "    labels: sınıflar (A, B)\n",
    "    \"\"\"\n",
    "    \n",
    "    features = np.array(\n",
    "        [[2.88, 3.05], [3.1, 2.45], [3.05, 2.8], [2.9, 2.7], [2.75, 3.4],\n",
    "         [3.23, 2.9], [3.2, 3.75], [3.5, 2.9], [3.65, 3.6],[3.35, 3.3]])\n",
    "    \n",
    "    labels = ['A', 'A', 'A', 'A', 'A', 'B', 'B', 'B', 'B', 'B']\n",
    "    \n",
    "    return features, labels\n",
    "    "
   ]
  },
  {
   "cell_type": "code",
   "execution_count": 4,
   "id": "purple-palestine",
   "metadata": {},
   "outputs": [],
   "source": [
    "# fonksiyonu çağırıp veriyi oluşturalım\n",
    "\n",
    "features, labels = veri_olustur()"
   ]
  },
  {
   "cell_type": "code",
   "execution_count": 7,
   "id": "clear-disposal",
   "metadata": {},
   "outputs": [
    {
     "name": "stdout",
     "output_type": "stream",
     "text": [
      "features\n",
      " [[2.88 3.05]\n",
      " [3.1  2.45]\n",
      " [3.05 2.8 ]\n",
      " [2.9  2.7 ]\n",
      " [2.75 3.4 ]\n",
      " [3.23 2.9 ]\n",
      " [3.2  3.75]\n",
      " [3.5  2.9 ]\n",
      " [3.65 3.6 ]\n",
      " [3.35 3.3 ]]\n"
     ]
    }
   ],
   "source": [
    "print('features\\n', features)"
   ]
  },
  {
   "cell_type": "code",
   "execution_count": 8,
   "id": "horizontal-partition",
   "metadata": {},
   "outputs": [
    {
     "name": "stdout",
     "output_type": "stream",
     "text": [
      "labels\n",
      " ['A', 'A', 'A', 'A', 'A', 'B', 'B', 'B', 'B', 'B']\n"
     ]
    }
   ],
   "source": [
    "print('labels\\n', labels)"
   ]
  },
  {
   "cell_type": "code",
   "execution_count": 9,
   "id": "formed-outdoors",
   "metadata": {},
   "outputs": [
    {
     "data": {
      "text/plain": [
       "array([2.88, 3.05])"
      ]
     },
     "execution_count": 9,
     "metadata": {},
     "output_type": "execute_result"
    }
   ],
   "source": [
    "features[0]"
   ]
  },
  {
   "cell_type": "code",
   "execution_count": 12,
   "id": "marked-metro",
   "metadata": {},
   "outputs": [],
   "source": [
    "x_df = pd.DataFrame(features)"
   ]
  },
  {
   "cell_type": "code",
   "execution_count": 13,
   "id": "sharp-garden",
   "metadata": {},
   "outputs": [
    {
     "data": {
      "text/html": [
       "<div>\n",
       "<style scoped>\n",
       "    .dataframe tbody tr th:only-of-type {\n",
       "        vertical-align: middle;\n",
       "    }\n",
       "\n",
       "    .dataframe tbody tr th {\n",
       "        vertical-align: top;\n",
       "    }\n",
       "\n",
       "    .dataframe thead th {\n",
       "        text-align: right;\n",
       "    }\n",
       "</style>\n",
       "<table border=\"1\" class=\"dataframe\">\n",
       "  <thead>\n",
       "    <tr style=\"text-align: right;\">\n",
       "      <th></th>\n",
       "      <th>0</th>\n",
       "      <th>1</th>\n",
       "    </tr>\n",
       "  </thead>\n",
       "  <tbody>\n",
       "    <tr>\n",
       "      <th>0</th>\n",
       "      <td>2.88</td>\n",
       "      <td>3.05</td>\n",
       "    </tr>\n",
       "    <tr>\n",
       "      <th>1</th>\n",
       "      <td>3.10</td>\n",
       "      <td>2.45</td>\n",
       "    </tr>\n",
       "    <tr>\n",
       "      <th>2</th>\n",
       "      <td>3.05</td>\n",
       "      <td>2.80</td>\n",
       "    </tr>\n",
       "    <tr>\n",
       "      <th>3</th>\n",
       "      <td>2.90</td>\n",
       "      <td>2.70</td>\n",
       "    </tr>\n",
       "    <tr>\n",
       "      <th>4</th>\n",
       "      <td>2.75</td>\n",
       "      <td>3.40</td>\n",
       "    </tr>\n",
       "    <tr>\n",
       "      <th>5</th>\n",
       "      <td>3.23</td>\n",
       "      <td>2.90</td>\n",
       "    </tr>\n",
       "    <tr>\n",
       "      <th>6</th>\n",
       "      <td>3.20</td>\n",
       "      <td>3.75</td>\n",
       "    </tr>\n",
       "    <tr>\n",
       "      <th>7</th>\n",
       "      <td>3.50</td>\n",
       "      <td>2.90</td>\n",
       "    </tr>\n",
       "    <tr>\n",
       "      <th>8</th>\n",
       "      <td>3.65</td>\n",
       "      <td>3.60</td>\n",
       "    </tr>\n",
       "    <tr>\n",
       "      <th>9</th>\n",
       "      <td>3.35</td>\n",
       "      <td>3.30</td>\n",
       "    </tr>\n",
       "  </tbody>\n",
       "</table>\n",
       "</div>"
      ],
      "text/plain": [
       "      0     1\n",
       "0  2.88  3.05\n",
       "1  3.10  2.45\n",
       "2  3.05  2.80\n",
       "3  2.90  2.70\n",
       "4  2.75  3.40\n",
       "5  3.23  2.90\n",
       "6  3.20  3.75\n",
       "7  3.50  2.90\n",
       "8  3.65  3.60\n",
       "9  3.35  3.30"
      ]
     },
     "execution_count": 13,
     "metadata": {},
     "output_type": "execute_result"
    }
   ],
   "source": [
    "x_df"
   ]
  },
  {
   "cell_type": "code",
   "execution_count": 16,
   "id": "headed-mention",
   "metadata": {},
   "outputs": [
    {
     "name": "stdout",
     "output_type": "stream",
     "text": [
      "2.88\n",
      "3.1\n",
      "3.05\n",
      "2.9\n",
      "2.75\n",
      "3.23\n",
      "3.2\n",
      "3.5\n",
      "3.65\n",
      "3.35\n"
     ]
    }
   ],
   "source": [
    "for point in x_df[0]:\n",
    "    print(point)"
   ]
  },
  {
   "cell_type": "code",
   "execution_count": 45,
   "id": "assisted-civilization",
   "metadata": {},
   "outputs": [
    {
     "data": {
      "image/png": "[encoded data removed]",
      "text/plain": [
       "<Figure size 360x360 with 1 Axes>"
      ]
     },
     "metadata": {
      "needs_background": "light"
     },
     "output_type": "display_data"
    }
   ],
   "source": [
    "# Class'ları renkli olarak grafikte görelim\n",
    "\n",
    "plt.figure(figsize=(5, 5))\n",
    "plt.xlim((2.4, 3.8))\n",
    "plt.ylim((2.4, 3.8))\n",
    "\n",
    "# mecvut data\n",
    "# A -> mavi (blue)\n",
    "# B -> yeşil (green)\n",
    "plt.scatter(x_df.iloc[:5,0], x_df.iloc[:5,1], c=\"b\")\n",
    "plt.scatter(x_df.iloc[5:,0], x_df.iloc[5:,1], c=\"g\")\n",
    "\n",
    "# tahmin etmek istediğimiz nokta: [3.18，3.15]\n",
    "plt.scatter([3.18],[3.15],c=\"r\",marker=\"x\")\n",
    "\n",
    "plt.show()"
   ]
  },
  {
   "cell_type": "markdown",
   "id": "assisted-characteristic",
   "metadata": {},
   "source": [
    "### Mesafelerin Hesaplanması"
   ]
  },
  {
   "cell_type": "markdown",
   "id": "silent-framework",
   "metadata": {},
   "source": [
    "Matematikte iki nesne arasındaki benzerlik hesaplanırken mesafelerden faydalanılır. \n",
    "\n",
    "Eğer mesafe az ise bu iki nesne benzer kabul edilir.\n",
    "\n",
    "Eğer mesafe fazla ise benzerliğinin düşük olduğu kabul edilir."
   ]
  },
  {
   "cell_type": "markdown",
   "id": "forbidden-turner",
   "metadata": {},
   "source": [
    "**Soru:**\n",
    "\n",
    "Peki **mesafe** nasıl hesaplanır?"
   ]
  },
  {
   "cell_type": "markdown",
   "id": "limiting-performer",
   "metadata": {},
   "source": [
    "**Cevap:**\n",
    "\n",
    "Mesafe (Distance) hesaplamak için kullanılan çok farklı yöntemler vardır.\n",
    "\n",
    "Biz, ML için en yaygın kullanılan iki tanesini inceleyeceğiz:\n",
    "* Manhattan Distance\n",
    "* Euclidean Distance"
   ]
  },
  {
   "cell_type": "markdown",
   "id": "higher-amino",
   "metadata": {},
   "source": [
    "<img src='images/distance.jpeg' />"
   ]
  },
  {
   "cell_type": "markdown",
   "id": "proof-sight",
   "metadata": {},
   "source": [
    "**Manhattan Distance:**\n",
    "\n",
    "İki nokta arasındaki dik mesafeleri (90 derecelik dönüş) hesaplar."
   ]
  },
  {
   "cell_type": "markdown",
   "id": "certified-european",
   "metadata": {},
   "source": [
    "$$d_{man}=\\sum_{i=1}^{N}\\left | X_{i}-Y_{i} \\right |$$"
   ]
  },
  {
   "cell_type": "code",
   "execution_count": 29,
   "id": "level-identification",
   "metadata": {},
   "outputs": [],
   "source": [
    "def manhattan(x, y):\n",
    "    \"\"\" Manhattan Distance \"\"\"\n",
    "    d = np.sum(np.abs(x - y))\n",
    "    return d\n"
   ]
  },
  {
   "cell_type": "code",
   "execution_count": 37,
   "id": "mighty-madrid",
   "metadata": {},
   "outputs": [
    {
     "name": "stdout",
     "output_type": "stream",
     "text": [
      "x: [3 5]\n",
      "y: [6 9]\n",
      "7\n"
     ]
    }
   ],
   "source": [
    "x = np.array([3, 5])\n",
    "print(\"x:\", x)\n",
    "\n",
    "y = np.array([6, 9])\n",
    "print(\"y:\", y)\n",
    "\n",
    "d_man = manhattan(x, y)\n",
    "print(d_man)"
   ]
  },
  {
   "cell_type": "markdown",
   "id": "compliant-arrival",
   "metadata": {},
   "source": [
    "**Euclidean Distance:**\n",
    "\n",
    "İki nokta arasındaki en kısa mesafeyi (Öklid uzaklığı) hesaplar."
   ]
  },
  {
   "cell_type": "markdown",
   "id": "roman-desperate",
   "metadata": {},
   "source": [
    "$$d_{euc}= \\sqrt{\\sum_{i=1}^{N}(X_{i}-Y_{i})^{2}}$$"
   ]
  },
  {
   "cell_type": "code",
   "execution_count": 33,
   "id": "moderate-tuning",
   "metadata": {},
   "outputs": [],
   "source": [
    "def euclidean(x, y):\n",
    "    \"\"\" Euclidean distanc \"\"\"\n",
    "    d = np.sqrt(np.sum(np.square(x - y)))\n",
    "    return d\n"
   ]
  },
  {
   "cell_type": "code",
   "execution_count": 38,
   "id": "blessed-parliament",
   "metadata": {},
   "outputs": [
    {
     "name": "stdout",
     "output_type": "stream",
     "text": [
      "x: [3 5]\n",
      "y: [6 9]\n",
      "5.0\n"
     ]
    }
   ],
   "source": [
    "x = np.array([3, 5])\n",
    "print(\"x:\", x)\n",
    "\n",
    "y = np.array([6, 9])\n",
    "print(\"y:\", y)\n",
    "\n",
    "d_euc = euclidean(x, y)\n",
    "print(d_euc)"
   ]
  },
  {
   "cell_type": "markdown",
   "id": "million-richmond",
   "metadata": {},
   "source": [
    "### Karar Verme Kuralları"
   ]
  },
  {
   "cell_type": "markdown",
   "id": "specific-volleyball",
   "metadata": {},
   "source": [
    "KNN'de mesafleri hesapladıktan sonra nasıl bir yöntem ile karar verileceğini belirlememiz lazım:\n",
    "\n",
    "Diyelim ki, tahmin noktamız için K adet en yakın komşuyu bulduk. \n",
    "\n",
    "Şimdi bu tahmin noktasının hangi sınıfa ait olduğuna nasıl karar vereceğiz?\n",
    "\n",
    "* Çoğunluk Yöntemi (sayıca en fazla olan sınıf kazanır) - GENELDE KULLANILAN\n",
    "* Ağırlıklandırma Yöntemi (sınıflara ağırlık verilerek oranlar hesaplanır)"
   ]
  },
  {
   "cell_type": "code",
   "execution_count": 39,
   "id": "wanted-secretary",
   "metadata": {},
   "outputs": [],
   "source": [
    "# Adetlere göre çoğunluk sıralaması yapan bir fonksiyon yazalım\n",
    "\n",
    "import operator\n",
    "# https://docs.python.org/3/library/operator.html\n",
    "\n",
    "def cogunluk_yontemi(class_count):\n",
    "    sorted_class_count = sorted(class_count.items(), \n",
    "                                key=operator.itemgetter(1), \n",
    "                                reverse=True)\n",
    "    return sorted_class_count\n"
   ]
  },
  {
   "cell_type": "code",
   "execution_count": 43,
   "id": "micro-causing",
   "metadata": {},
   "outputs": [
    {
     "data": {
      "text/plain": [
       "[('C', 6), ('D', 5), ('A', 3), ('B', 2)]"
      ]
     },
     "execution_count": 43,
     "metadata": {},
     "output_type": "execute_result"
    }
   ],
   "source": [
    "# Bir dictionary tanımlayalım\n",
    "arr = {'A': 3, 'B': 2, \"C\": 6, \"D\": 5}\n",
    "\n",
    "# sınıfların sayısını büyükten küçüğe yazalım\n",
    "cogunluk_yontemi(arr)"
   ]
  },
  {
   "cell_type": "markdown",
   "id": "confident-greene",
   "metadata": {},
   "source": [
    "### KNN'in Uygulanışı"
   ]
  },
  {
   "cell_type": "markdown",
   "id": "shared-floor",
   "metadata": {},
   "source": [
    "KNN için gerekli adımları öğrendiğimize göre, artık bunları uygulayabiliriz:\n",
    "\n",
    "Burada kararlarımız:\n",
    "* Mesafe: Euclidean Distance\n",
    "* Karar Verme Kuralı: Çoğunluk Yöntemi"
   ]
  },
  {
   "cell_type": "code",
   "execution_count": 49,
   "id": "boring-threshold",
   "metadata": {},
   "outputs": [],
   "source": [
    "def knn(test_data, train_data, labels, k):\n",
    "    \"\"\"KNN Uygulama Fonksiyonu\"\"\"\n",
    "    \n",
    "    # Mesafeler için boş bir list oluşturalım\n",
    "    distances = np.array([]) \n",
    "    \n",
    "    # Euclidean Distance ile mesafeleri hesapla\n",
    "    for each_data in train_data:  \n",
    "        d = euclidean(test_data, each_data)\n",
    "        distances = np.append(distances, d)\n",
    "        \n",
    "    # Mesafeleri sırala ve sıralı indexleri al\n",
    "    sorted_distance_index = distances.argsort()  \n",
    "    sorted_distance = np.sort(distances)\n",
    "    \n",
    "    # Yarıçapı hesapla (k-1 indexli eleman son elemandır)\n",
    "    r = (sorted_distance[k]+sorted_distance[k-1])/2 \n",
    "    \n",
    "    class_count = {}\n",
    "    \n",
    "    # Çoğunluk Yöntemi\n",
    "    for i in range(k):  \n",
    "        vote_label = labels[sorted_distance_index[i]]\n",
    "        class_count[vote_label] = class_count.get(vote_label, 0) + 1\n",
    "        \n",
    "    # sınıf değeri yani seçilen class (label)\n",
    "    final_label = cogunluk_yontemi(class_count)\n",
    "    \n",
    "    return final_label, r"
   ]
  },
  {
   "cell_type": "markdown",
   "id": "metric-alabama",
   "metadata": {},
   "source": [
    "### Sınıfandırma Tahmini"
   ]
  },
  {
   "cell_type": "markdown",
   "id": "consolidated-moment",
   "metadata": {},
   "source": [
    "KNN için uygulama fonksiyonumuzu yazdığımıza göre, şimdi tahmin etmeye çalıştığımız `[3.18，3.15]` noktasındaki sınıfı tahminleyebiliriz. "
   ]
  },
  {
   "cell_type": "code",
   "execution_count": 50,
   "id": "literary-progress",
   "metadata": {},
   "outputs": [],
   "source": [
    "# tahmin noktamız bizim test datamız olacak\n",
    "test_data=np.array([3.18,3.15])\n",
    "\n",
    "# knn() fonksiyonunu çağıralım k = 5 için\n",
    "final_label, r = knn(test_data, features, labels, 5)"
   ]
  },
  {
   "cell_type": "code",
   "execution_count": 51,
   "id": "dressed-moldova",
   "metadata": {},
   "outputs": [
    {
     "name": "stdout",
     "output_type": "stream",
     "text": [
      "[('B', 3), ('A', 2)]\n"
     ]
    }
   ],
   "source": [
    "print(final_label)"
   ]
  },
  {
   "cell_type": "code",
   "execution_count": 52,
   "id": "confident-fundamental",
   "metadata": {},
   "outputs": [
    {
     "name": "stdout",
     "output_type": "stream",
     "text": [
      "0.4517360073513873\n"
     ]
    }
   ],
   "source": [
    "print(r)"
   ]
  },
  {
   "cell_type": "markdown",
   "id": "configured-heating",
   "metadata": {},
   "source": [
    "### Sonuç Görselleştirme"
   ]
  },
  {
   "cell_type": "code",
   "execution_count": 59,
   "id": "second-skating",
   "metadata": {},
   "outputs": [],
   "source": [
    "# K = 5 için elde ettiğimi yarıçap (r) için bir çember çizelim\n",
    "\n",
    "# Polar coordinates：x=r*cosθ，y=r*sinθ.\n",
    "def cember(r, a, b):  \n",
    "    theta = np.arange(0, 2*np.pi, 0.01)\n",
    "    x = a+r * np.cos(theta)\n",
    "    y = b+r * np.sin(theta)\n",
    "    return x, y\n"
   ]
  },
  {
   "cell_type": "code",
   "execution_count": 60,
   "id": "useful-grade",
   "metadata": {},
   "outputs": [],
   "source": [
    "# cember() fonksiyonunu çağırıp, \n",
    "# çemberin her bir noktası için x ve y değerlerini alalım\n",
    "\n",
    "k_circle_x, k_circle_y = cember(r, 3.18, 3.15)"
   ]
  },
  {
   "cell_type": "code",
   "execution_count": 61,
   "id": "respected-revelation",
   "metadata": {
    "collapsed": true,
    "jupyter": {
     "outputs_hidden": true
    }
   },
   "outputs": [
    {
     "data": {
      "text/plain": [
       "array([3.63173601, 3.63171342, 3.63164566, 3.63153274, 3.63137467,\n",
       "       3.63117145, 3.63092313, 3.63062971, 3.63029122, 3.62990771,\n",
       "       3.62947921, 3.62900576, 3.62848741, 3.62792421, 3.62731622,\n",
       "       3.6266635 , 3.62596611, 3.62522413, 3.62443762, 3.62360667,\n",
       "       3.62273136, 3.62181178, 3.62084802, 3.61984017, 3.61878834,\n",
       "       3.61769263, 3.61655315, 3.61537002, 3.61414335, 3.61287326,\n",
       "       3.61155989, 3.61020336, 3.60880382, 3.60736139, 3.60587623,\n",
       "       3.60434848, 3.60277829, 3.60116583, 3.59951125, 3.59781473,\n",
       "       3.59607642, 3.5942965 , 3.59247515, 3.59061256, 3.5887089 ,\n",
       "       3.58676438, 3.58477918, 3.5827535 , 3.58068754, 3.57858152,\n",
       "       3.57643564, 3.57425012, 3.57202517, 3.56976102, 3.5674579 ,\n",
       "       3.56511602, 3.56273564, 3.56031699, 3.5578603 , 3.55536582,\n",
       "       3.55283382, 3.55026452, 3.5476582 , 3.54501512, 3.54233554,\n",
       "       3.53961972, 3.53686794, 3.53408047, 3.5312576 , 3.5283996 ,\n",
       "       3.52550676, 3.52257937, 3.51961772, 3.51662211, 3.51359284,\n",
       "       3.51053021, 3.50743453, 3.5043061 , 3.50114524, 3.49795227,\n",
       "       3.49472751, 3.49147127, 3.48818388, 3.48486568, 3.48151699,\n",
       "       3.47813815, 3.4747295 , 3.47129137, 3.46782411, 3.46432808,\n",
       "       3.46080361, 3.45725105, 3.45367078, 3.45006314, 3.44642849,\n",
       "       3.4427672 , 3.43907963, 3.43536615, 3.43162714, 3.42786297,\n",
       "       3.42407401, 3.42026064, 3.41642325, 3.41256221, 3.40867792,\n",
       "       3.40477076, 3.40084112, 3.3968894 , 3.39291599, 3.38892129,\n",
       "       3.3849057 , 3.38086962, 3.37681345, 3.3727376 , 3.36864247,\n",
       "       3.36452849, 3.36039604, 3.35624556, 3.35207746, 3.34789215,\n",
       "       3.34369005, 3.33947157, 3.33523716, 3.33098722, 3.32672218,\n",
       "       3.32244247, 3.31814851, 3.31384074, 3.30951958, 3.30518548,\n",
       "       3.30083885, 3.29648014, 3.29210979, 3.28772822, 3.28333588,\n",
       "       3.27893321, 3.27452064, 3.27009862, 3.26566759, 3.261228  ,\n",
       "       3.25678028, 3.25232488, 3.24786225, 3.24339284, 3.23891709,\n",
       "       3.23443544, 3.22994835, 3.22545627, 3.22095964, 3.21645891,\n",
       "       3.21195454, 3.20744697, 3.20293666, 3.19842406, 3.19390961,\n",
       "       3.18939377, 3.18487699, 3.18035973, 3.17584243, 3.17132554,\n",
       "       3.16680952, 3.16229483, 3.1577819 , 3.15327119, 3.14876316,\n",
       "       3.14425825, 3.13975691, 3.1352596 , 3.13076676, 3.12627885,\n",
       "       3.1217963 , 3.11731958, 3.11284913, 3.10838539, 3.10392881,\n",
       "       3.09947984, 3.09503892, 3.0906065 , 3.08618301, 3.08176891,\n",
       "       3.07736463, 3.07297062, 3.06858731, 3.06421513, 3.05985454,\n",
       "       3.05550596, 3.05116983, 3.04684659, 3.04253666, 3.03824047,\n",
       "       3.03395846, 3.02969106, 3.02543868, 3.02120176, 3.01698073,\n",
       "       3.01277599, 3.00858797, 3.0044171 , 3.00026379, 2.99612844,\n",
       "       2.99201149, 2.98791333, 2.98383439, 2.97977505, 2.97573575,\n",
       "       2.97171686, 2.96771881, 2.96374198, 2.95978678, 2.9558536 ,\n",
       "       2.95194284, 2.94805488, 2.94419011, 2.94034893, 2.93653171,\n",
       "       2.93273883, 2.92897069, 2.92522764, 2.92151007, 2.91781836,\n",
       "       2.91415285, 2.91051394, 2.90690197, 2.90331731, 2.89976032,\n",
       "       2.89623136, 2.89273077, 2.8892589 , 2.88581611, 2.88240274,\n",
       "       2.87901913, 2.87566562, 2.87234254, 2.86905022, 2.865789  ,\n",
       "       2.8625592 , 2.85936114, 2.85619515, 2.85306154, 2.84996062,\n",
       "       2.84689271, 2.8438581 , 2.84085711, 2.83789004, 2.83495717,\n",
       "       2.83205881, 2.82919524, 2.82636675, 2.82357363, 2.82081615,\n",
       "       2.81809458, 2.81540921, 2.81276029, 2.8101481 , 2.80757289,\n",
       "       2.80503493, 2.80253446, 2.80007174, 2.79764701, 2.79526052,\n",
       "       2.7929125 , 2.79060318, 2.78833281, 2.7861016 , 2.78390979,\n",
       "       2.78175758, 2.77964519, 2.77757284, 2.77554074, 2.77354908,\n",
       "       2.77159806, 2.76968788, 2.76781874, 2.76599081, 2.76420428,\n",
       "       2.76245933, 2.76075614, 2.75909487, 2.75747569, 2.75589876,\n",
       "       2.75436424, 2.75287229, 2.75142304, 2.75001666, 2.74865327,\n",
       "       2.74733302, 2.74605603, 2.74482244, 2.74363236, 2.74248592,\n",
       "       2.74138324, 2.74032441, 2.73930955, 2.73833876, 2.73741213,\n",
       "       2.73652977, 2.73569175, 2.73489816, 2.73414908, 2.73344458,\n",
       "       2.73278474, 2.73216962, 2.73159929, 2.73107379, 2.73059319,\n",
       "       2.73015752, 2.72976684, 2.72942119, 2.72912059, 2.72886508,\n",
       "       2.72865468, 2.72848941, 2.7283693 , 2.72829435, 2.72826457,\n",
       "       2.72827996, 2.72834052, 2.72844625, 2.72859714, 2.72879316,\n",
       "       2.7290343 , 2.72932054, 2.72965185, 2.7300282 , 2.73044954,\n",
       "       2.73091583, 2.73142703, 2.73198309, 2.73258395, 2.73322955,\n",
       "       2.73391983, 2.73465472, 2.73543414, 2.73625801, 2.73712626,\n",
       "       2.7380388 , 2.73899553, 2.73999637, 2.7410412 , 2.74212993,\n",
       "       2.74326244, 2.74443863, 2.74565838, 2.74692156, 2.74822804,\n",
       "       2.7495777 , 2.75097041, 2.75240602, 2.75388438, 2.75540536,\n",
       "       2.7569688 , 2.75857453, 2.76022242, 2.76191227, 2.76364394,\n",
       "       2.76541724, 2.767232  , 2.76908804, 2.77098517, 2.7729232 ,\n",
       "       2.77490193, 2.77692118, 2.77898073, 2.78108039, 2.78321993,\n",
       "       2.78539916, 2.78761784, 2.78987576, 2.7921727 , 2.79450841,\n",
       "       2.79688268, 2.79929525, 2.8017459 , 2.80423437, 2.80676042,\n",
       "       2.80932379, 2.81192423, 2.81456148, 2.81723527, 2.81994533,\n",
       "       2.8226914 , 2.82547321, 2.82829046, 2.83114288, 2.83403019,\n",
       "       2.8369521 , 2.83990831, 2.84289853, 2.84592246, 2.8489798 ,\n",
       "       2.85207024, 2.85519347, 2.85834918, 2.86153706, 2.86475678,\n",
       "       2.86800803, 2.87129048, 2.87460379, 2.87794765, 2.88132171,\n",
       "       2.88472564, 2.8881591 , 2.89162174, 2.89511321, 2.89863318,\n",
       "       2.90218128, 2.90575717, 2.90936047, 2.91299085, 2.91664792,\n",
       "       2.92033133, 2.9240407 , 2.92777567, 2.93153586, 2.9353209 ,\n",
       "       2.93913041, 2.942964  , 2.94682129, 2.95070191, 2.95460545,\n",
       "       2.95853153, 2.96247976, 2.96644974, 2.97044108, 2.97445337,\n",
       "       2.97848622, 2.98253922, 2.98661196, 2.99070404, 2.99481505,\n",
       "       2.99894458, 3.00309222, 3.00725754, 3.01144014, 3.0156396 ,\n",
       "       3.01985549, 3.0240874 , 3.02833489, 3.03259756, 3.03687496,\n",
       "       3.04116668, 3.04547228, 3.04979133, 3.0541234 , 3.05846806,\n",
       "       3.06282487, 3.0671934 , 3.07157322, 3.07596387, 3.08036493,\n",
       "       3.08477595, 3.08919649, 3.09362611, 3.09806437, 3.10251083,\n",
       "       3.10696503, 3.11142654, 3.1158949 , 3.12036968, 3.12485041,\n",
       "       3.12933667, 3.13382798, 3.13832392, 3.14282402, 3.14732784,\n",
       "       3.15183493, 3.15634484, 3.16085711, 3.16537129, 3.16988694,\n",
       "       3.17440359, 3.17892081, 3.18343814, 3.18795512, 3.19247131,\n",
       "       3.19698625, 3.20149949, 3.20601058, 3.21051907, 3.21502451,\n",
       "       3.21952644, 3.22402442, 3.228518  , 3.23300673, 3.23749016,\n",
       "       3.24196784, 3.24643932, 3.25090416, 3.25536191, 3.25981212,\n",
       "       3.26425435, 3.26868816, 3.2731131 , 3.27752872, 3.28193459,\n",
       "       3.28633027, 3.29071532, 3.29508929, 3.29945176, 3.30380228,\n",
       "       3.30814042, 3.31246575, 3.31677783, 3.32107623, 3.32536053,\n",
       "       3.32963029, 3.33388509, 3.33812449, 3.34234809, 3.34655545,\n",
       "       3.35074616, 3.35491979, 3.35907593, 3.36321416, 3.36733407,\n",
       "       3.37143525, 3.37551728, 3.37957976, 3.38362229, 3.38764445,\n",
       "       3.39164585, 3.39562608, 3.39958476, 3.40352147, 3.40743583,\n",
       "       3.41132745, 3.41519593, 3.4190409 , 3.42286196, 3.42665874,\n",
       "       3.43043085, 3.43417792, 3.43789957, 3.44159543, 3.44526513,\n",
       "       3.4489083 , 3.45252459, 3.45611362, 3.45967504, 3.46320849,\n",
       "       3.46671363, 3.47019009, 3.47363753, 3.47705561, 3.48044398,\n",
       "       3.48380231, 3.48713026, 3.4904275 , 3.4936937 , 3.49692852,\n",
       "       3.50013165, 3.50330277, 3.50644156, 3.50954771, 3.5126209 ,\n",
       "       3.51566083, 3.5186672 , 3.52163969, 3.52457803, 3.5274819 ,\n",
       "       3.53035103, 3.53318513, 3.5359839 , 3.53874708, 3.54147438,\n",
       "       3.54416554, 3.54682028, 3.54943834, 3.55201945, 3.55456336,\n",
       "       3.55706982, 3.55953857, 3.56196937, 3.56436197, 3.56671613,\n",
       "       3.56903162, 3.57130821, 3.57354567, 3.57574378, 3.57790231,\n",
       "       3.58002105, 3.58209979, 3.58413832, 3.58613644, 3.58809394,\n",
       "       3.59001063, 3.59188633, 3.59372083, 3.59551397, 3.59726555,\n",
       "       3.5989754 , 3.60064336, 3.60226926, 3.60385292, 3.60539421,\n",
       "       3.60689295, 3.60834901, 3.60976223, 3.61113247, 3.61245961,\n",
       "       3.61374349, 3.614984  , 3.61618102, 3.61733442, 3.61844408,\n",
       "       3.6195099 , 3.62053177, 3.62150958, 3.62244325, 3.62333267,\n",
       "       3.62417776, 3.62497843, 3.6257346 , 3.6264462 , 3.62711316,\n",
       "       3.62773541, 3.62831288, 3.62884552, 3.62933328, 3.6297761 ,\n",
       "       3.63017395, 3.63052678, 3.63083456, 3.63109725, 3.63131484,\n",
       "       3.63148729, 3.6316146 , 3.63169674, 3.63173372])"
      ]
     },
     "execution_count": 61,
     "metadata": {},
     "output_type": "execute_result"
    }
   ],
   "source": [
    "k_circle_x"
   ]
  },
  {
   "cell_type": "code",
   "execution_count": 62,
   "id": "automatic-completion",
   "metadata": {},
   "outputs": [
    {
     "data": {
      "image/png": "[encoded data removed]",
      "text/plain": [
       "<Figure size 360x360 with 1 Axes>"
      ]
     },
     "metadata": {
      "needs_background": "light"
     },
     "output_type": "display_data"
    }
   ],
   "source": [
    "# Class'ları renkli olarak grafikte görelim\n",
    "plt.figure(figsize=(5, 5))\n",
    "plt.xlim((2.4, 3.8))\n",
    "plt.ylim((2.4, 3.8))\n",
    "\n",
    "# mecvut data\n",
    "plt.scatter(x_df.iloc[:5,0], x_df.iloc[:5,1], c=\"b\")\n",
    "plt.scatter(x_df.iloc[5:,0], x_df.iloc[5:,1], c=\"g\")\n",
    "\n",
    "# tahmin etmek istediğimiz nokta: [3.18，3.15]\n",
    "plt.scatter([3.18],[3.15],c=\"r\",marker=\"x\")\n",
    "\n",
    "# çemberi çizelim\n",
    "plt.plot(k_circle_x, k_circle_y)\n",
    "\n",
    "plt.show()"
   ]
  },
  {
   "cell_type": "markdown",
   "id": "outstanding-sherman",
   "metadata": {},
   "source": [
    "Gördüğünüz gibi K = 5 için en yakın 5 nokta çemberin içinde:\n",
    "* 3 tanesi yeşil (B sınıfı)\n",
    "* 2 tanesi mavi (A sınıfı)"
   ]
  },
  {
   "cell_type": "markdown",
   "id": "united-louisiana",
   "metadata": {},
   "source": [
    "Dolayısı ile Çoğunluk Yöntemine göre `x` noktası `Yeşil` olarak tahmin edelir."
   ]
  },
  {
   "cell_type": "markdown",
   "id": "bibliographic-county",
   "metadata": {},
   "source": [
    "**Son Söz:**\n",
    "\n",
    "Gördüğünüz gibi seçmiş olduğunuz K değerinin çok tahmin sonucunda çok büyük bir etkisi var."
   ]
  },
  {
   "cell_type": "code",
   "execution_count": null,
   "id": "worthy-uzbekistan",
   "metadata": {},
   "outputs": [],
   "source": []
  }
 ],
 "metadata": {
  "kernelspec": {
   "display_name": "Python 3",
   "language": "python",
   "name": "python3"
  },
  "language_info": {
   "codemirror_mode": {
    "name": "ipython",
    "version": 3
   },
   "file_extension": ".py",
   "mimetype": "text/x-python",
   "name": "python",
   "nbconvert_exporter": "python",
   "pygments_lexer": "ipython3",
   "version": "3.8.5"
  }
 },
 "nbformat": 4,
 "nbformat_minor": 5
}

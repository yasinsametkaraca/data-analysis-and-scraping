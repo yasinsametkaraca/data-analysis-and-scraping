{
 "cells": [
  {
   "cell_type": "markdown",
   "metadata": {},
   "source": [
    "# Support Vector Machines (SVM)"
   ]
  },
  {
   "cell_type": "markdown",
   "metadata": {},
   "source": [
    "SVM, en önemli ve en güçlü Supervised Machine Learning (Gözetimli Öğrenme) tekniklerinden biridir ve çok yaygın kullanılır."
   ]
  },
  {
   "cell_type": "markdown",
   "metadata": {},
   "source": [
    "SVM, hem Classification hem de Regression için kullanılabilir. (daha çok Classification için kullanılır)"
   ]
  },
  {
   "cell_type": "markdown",
   "metadata": {},
   "source": [
    "SVM ilk defa 1963'te Vladimir N Vapnik ve Alexey Ya. Chervonenkis tarafından geliştirildi."
   ]
  },
  {
   "cell_type": "markdown",
   "metadata": {},
   "source": [
    "İlk zamanlar sadece lineer sınıflandırma için kullanıldı. (sadece doğrusal hyperplane'ler ile çalışıyordu)"
   ]
  },
  {
   "cell_type": "markdown",
   "metadata": {},
   "source": [
    "1993'te Corinna Cortes ve Vapnik tarafından Kernel Trick ile beraber artık hem linerr hem de non-lineer sınıflandırma yapabilir hale geldi ve bir anda çok popüler oldu."
   ]
  },
  {
   "cell_type": "markdown",
   "metadata": {},
   "source": [
    "## SVM'i Anlamak"
   ]
  },
  {
   "cell_type": "markdown",
   "metadata": {},
   "source": [
    "<img src='images/svm.png' />"
   ]
  },
  {
   "cell_type": "markdown",
   "metadata": {},
   "source": [
    "**Hyperplane:**\n",
    "\n",
    "Veri seti içindeki farklı sınıfları birbirinden ayıran, ayırma çizgisine (karar çizgisi - decision boundary) verilen isimdir.\n",
    "\n",
    "SVM Algoritması, noktaların bu Hyperplane'e olan uzaklıklarına göre onları sınıflandırır.\n",
    "\n",
    "Bu Hyperplane'e `Maximum Margin Hyperplane` de denir.\n",
    "\n",
    "Ve bu şekilde bir Hyperplane kullanan algoritmalara da `Maximum Margin Classifier` adı verilir.\n",
    "\n",
    "SVM de bir Maximum Margin Classifier'dır."
   ]
  },
  {
   "cell_type": "markdown",
   "metadata": {},
   "source": [
    "**Support Vectors:**\n",
    "\n",
    "Hyperplane en yakın olan veri noktalarına `Suppor Vectors` adı verilir.\n",
    "\n",
    "Bu noktalar (Support Vectorler) ile uzaklık hesaplanır ve noktanının Class'ına karar verilir."
   ]
  },
  {
   "cell_type": "markdown",
   "metadata": {},
   "source": [
    "**Margin:**\n",
    "\n",
    "Hyperplane'in iki yanındaki sınıflara arasındaki mesafeye margin denir.\n",
    "\n",
    "Başka bir deyişle margin, iki sınıf arasındaki uzaklıktır.\n",
    "\n",
    "Sınıfların çizgileri Support Vector'ler üzerinden geçer.\n",
    "\n",
    "SVM'in amacı bu `margini maximize etmektir`."
   ]
  },
  {
   "cell_type": "markdown",
   "metadata": {},
   "source": [
    "### SVM Nasıl Çalışır?"
   ]
  },
  {
   "cell_type": "markdown",
   "metadata": {},
   "source": [
    "SVM'in amacı veri seti içindeki en yüksek margin'e sahip hyperplane'i bulmaktır.\n",
    "\n",
    "Bu hyperplane öyle olmalıdır ki farklı sınıflara ait Support Vectorler arasındaki mesafe maximum olsun.\n",
    "\n",
    "Yani sınıfları en iyi ayıracak düzlem ya da eğrilemi (eğrisel düzlem) arar aslında."
   ]
  },
  {
   "cell_type": "markdown",
   "metadata": {},
   "source": [
    "Bu arama işini şu iki adımda yapar:\n",
    "1. Sınıfları ayıran olası tüm hyperplane'leri hesaplar. Sınıfları ayıran birden çok hyperplane olabilir. Bunlar içinden margini en büyük olanı alır.\n",
    "\n",
    "2. Dolayısı ile seçtiği hyperplane, kendisi ile Support Vectorler arasındaki mesafenin en büyük olduğu hyperplane'dir. (Eğer böyle bir hyperplane varsa tabi.)"
   ]
  },
  {
   "cell_type": "markdown",
   "metadata": {},
   "source": [
    "**Maximum Margin Hyperplane:**"
   ]
  },
  {
   "cell_type": "markdown",
   "metadata": {},
   "source": [
    "<img src='images/hyper.jpg' />"
   ]
  },
  {
   "cell_type": "markdown",
   "metadata": {},
   "source": [
    "### Dağınık Veri Problemi"
   ]
  },
  {
   "cell_type": "markdown",
   "metadata": {},
   "source": [
    "SVM'in aslında bir lineer ayırıcı olduğunu, yani sınıfların arasına bir doğru ya da düzlem koyarak ayırmaya çalıştığını artık biliyoruz."
   ]
  },
  {
   "cell_type": "markdown",
   "metadata": {},
   "source": [
    "Fakat gerçek hayatta veriler çoğru zaman lineer olarak ayrılamayacak kadar dağınık (dağıtık) olurlar."
   ]
  },
  {
   "cell_type": "markdown",
   "metadata": {},
   "source": [
    "SVM bu durumlar için `kernel trick` adını verdiğimiz bir yöntem kullanır."
   ]
  },
  {
   "cell_type": "markdown",
   "metadata": {},
   "source": [
    "Kernel Trick sayesinde veri az boyuttan (diyelim ki 2 boyuttan) çok boyuta (n boyuta) taşınır ve o yüksek boyutta birbirinden lineer olarak ayrılabilir hale getirilir."
   ]
  },
  {
   "cell_type": "markdown",
   "metadata": {},
   "source": [
    "**Kernel Trick - Girdi uzayının boyutunu büyüterek ayırma işlemi**"
   ]
  },
  {
   "cell_type": "markdown",
   "metadata": {},
   "source": [
    "<img src='images/kernel.png' />"
   ]
  },
  {
   "cell_type": "markdown",
   "metadata": {},
   "source": [
    "2 boyutlu düzlemde doğrusal olarak ayırlamayan sınıflar:"
   ]
  },
  {
   "cell_type": "markdown",
   "metadata": {},
   "source": [
    "<img src='images/1c.png' />"
   ]
  },
  {
   "cell_type": "markdown",
   "metadata": {},
   "source": [
    "3 boyutlu düzlemde kolayca aryılabilir:"
   ]
  },
  {
   "cell_type": "markdown",
   "metadata": {},
   "source": [
    "<img src='images/1d.png' />"
   ]
  },
  {
   "cell_type": "markdown",
   "metadata": {},
   "source": [
    "**2 Boyuttan Çok Boyuta Taşıma Örnekleri:**"
   ]
  },
  {
   "cell_type": "markdown",
   "metadata": {},
   "source": [
    "<img src='images/kernel_1.gif' />"
   ]
  },
  {
   "cell_type": "markdown",
   "metadata": {},
   "source": [
    "<img src='images/kernel_2.gif' />"
   ]
  },
  {
   "cell_type": "markdown",
   "metadata": {},
   "source": [
    "<img src='images/kernel_3.gif' />"
   ]
  },
  {
   "cell_type": "markdown",
   "metadata": {},
   "source": [
    "## Kerneller"
   ]
  },
  {
   "cell_type": "markdown",
   "metadata": {},
   "source": [
    "Gerçek hayatta SVM algoritması Kernel'ler ile uygulanır."
   ]
  },
  {
   "cell_type": "markdown",
   "metadata": {},
   "source": [
    "**Kernel:** Veriyi az boyuttan alıp çok boyutlu uzaya taşıyan bir fonksiyondur."
   ]
  },
  {
   "cell_type": "markdown",
   "metadata": {},
   "source": [
    "Kerneller sayesinde, az boyutta birbirinden lineer olarak ayrılamayan veriler, yüksek boyutlarda kolaylıkla ayırabilir duruma gelirler."
   ]
  },
  {
   "cell_type": "markdown",
   "metadata": {},
   "source": [
    "Bu sayede, normalde lineer bir classifier olan SVM artık non-lineer olarak da çalışabilir duruma gelir."
   ]
  },
  {
   "cell_type": "markdown",
   "metadata": {},
   "source": [
    "SVM'de yoğun olarak kullanılan 4 adet Kernel Fonksiyonu vardır:\n",
    "1. Lineer Kernel\n",
    "2. Polynomial Kernel\n",
    "3. **Radial Basis Function Kernel (RBF)**  -- en çok kullanılan\n",
    "4. Sigmoid Kernel"
   ]
  },
  {
   "cell_type": "markdown",
   "metadata": {},
   "source": [
    "**Kernel Fonksiyonu:**"
   ]
  },
  {
   "cell_type": "markdown",
   "metadata": {},
   "source": [
    "<img src='images/kernel-rule.png' />"
   ]
  },
  {
   "cell_type": "markdown",
   "metadata": {},
   "source": [
    "Bu örnek Kernel fonksiyonu, -1 ve 1 arasında 1 değeri alan, diğer tüm yerlerde 0 değeri alan bir map'leme yapar."
   ]
  },
  {
   "cell_type": "markdown",
   "metadata": {},
   "source": [
    "<img src='images/kernel-rule-graph-1.png' />"
   ]
  },
  {
   "cell_type": "markdown",
   "metadata": {},
   "source": [
    "**1. Lineer Kernel**\n",
    "\n",
    "Lineer Kernel'de, Kernel Fonksiyonu ($K$), Lineer bir data setini yine Lineer bir data setine dönüştürür."
   ]
  },
  {
   "cell_type": "markdown",
   "metadata": {},
   "source": [
    "Lineer Kernel basittir ve çoğu yerde iyi sonuç verdiği için yaygın kullanılır."
   ]
  },
  {
   "cell_type": "markdown",
   "metadata": {},
   "source": [
    "$$K(x_i , x_j) = x_i^T x_j$$"
   ]
  },
  {
   "cell_type": "markdown",
   "metadata": {},
   "source": [
    "<img src='images/lineer_kernel.png' />"
   ]
  },
  {
   "cell_type": "markdown",
   "metadata": {},
   "source": [
    "**2. Polynomial Kernel**"
   ]
  },
  {
   "cell_type": "markdown",
   "metadata": {},
   "source": [
    "Polynomial Kernel girdi setini polinom dönüşüme ile bir polinom haline getirir. Dolayısı ile lineer olan girdi seti artık non-lineer (eğri) haline gelmiş olur."
   ]
  },
  {
   "cell_type": "markdown",
   "metadata": {},
   "source": [
    "Polynomial Kernel sadece girdilerin kendilerine değil, aynı zamanda karşılıklı ilişkilerine de bakmış olur."
   ]
  },
  {
   "cell_type": "markdown",
   "metadata": {},
   "source": [
    "$$K(x_i, x_j) = (\\gamma x_i^T x_j + r)^d , \\gamma > 0$$"
   ]
  },
  {
   "cell_type": "markdown",
   "metadata": {},
   "source": [
    "Polynomial Kernel özellikle Natural Language Processing (NLP) uygulamalarında çok kullanılır."
   ]
  },
  {
   "cell_type": "markdown",
   "metadata": {},
   "source": [
    "<img src='images/poly_kernel.png' />"
   ]
  },
  {
   "cell_type": "markdown",
   "metadata": {},
   "source": [
    "**3. Radial Basis Function Kernel (RBF)**"
   ]
  },
  {
   "cell_type": "markdown",
   "metadata": {},
   "source": [
    "Genel amaçlı bir kernel fonksiyonudur ve en çok kullanılandır. Veri setinde hiçbir ön bilgi olmasına gerek olmadan çalışır.\n",
    "\n",
    "(Kernel dönüşümleri genelde verinin şekline bakarak yapılır.)"
   ]
  },
  {
   "cell_type": "markdown",
   "metadata": {},
   "source": [
    "$$ K(x_i, x_j) = \\exp(-\\gamma \\|x_i-x_j\\|^2)$$"
   ]
  },
  {
   "cell_type": "markdown",
   "metadata": {},
   "source": [
    "RBF'e `Gausssian Radial Basis Function Kernel` de denir ve veri noktaları arasındaki mesafeye bakarak karar verir. Mesafe az ise aynı sınıf olma olasılığı daha fazladır. "
   ]
  },
  {
   "cell_type": "markdown",
   "metadata": {},
   "source": [
    "<img src='images/rbf_kernel.png' />"
   ]
  },
  {
   "cell_type": "markdown",
   "metadata": {},
   "source": [
    "**4. Sigmoid Kernel**"
   ]
  },
  {
   "cell_type": "markdown",
   "metadata": {},
   "source": [
    "Sigmoid (tanh) fonksiyonu ile dönüşüm yapan kerneldir."
   ]
  },
  {
   "cell_type": "markdown",
   "metadata": {},
   "source": [
    "$$ K(x_i, x_j) = \\tanh(\\gamma x_i^Tx_j + r)$$"
   ]
  },
  {
   "cell_type": "markdown",
   "metadata": {},
   "source": [
    "<img src='images/sigmoid_kernel.jpg' />"
   ]
  },
  {
   "cell_type": "markdown",
   "metadata": {},
   "source": [
    "### SVM Cost Function"
   ]
  },
  {
   "cell_type": "markdown",
   "metadata": {},
   "source": [
    "<img src='images/svm_cost_function.png' />"
   ]
  },
  {
   "cell_type": "markdown",
   "metadata": {},
   "source": [
    "SVM'in Maliyet Fonksiyonu (Cost Function) temel olarak yanlış sınıflandırılmış noktaları cezalandırma ile ilgilidir."
   ]
  },
  {
   "cell_type": "markdown",
   "metadata": {},
   "source": [
    "Ek olarak bir de sonuna Regularizasyon Terimi (Ridge) eklenmiştir."
   ]
  },
  {
   "cell_type": "markdown",
   "metadata": {},
   "source": [
    "**C (Regularizasyon Parametresi):**\n",
    "\n",
    "SVM'deki `C` katsayısı bir **regularizasyon katsayısı** gibi çalışır. \n",
    "\n",
    "Daha önce regularizasyon şiddedi için $\\alpha$'yı görmüştük.\n",
    "\n",
    "SCM'in C'si $1 / \\alpha$ gibi düşünülebilir.\n",
    "\n",
    "C'nin durumu:\n",
    "* C büyükse -> \n",
    "    * yanlış sınıflandırmada maliyet çok büyük olur\n",
    "    * hyperplane'in margini çok dar olacaktır\n",
    "    * outlier varsa devre dışı bırakır\n",
    "    \n",
    "    \n",
    "* C küçükse ->\n",
    "    * yanlış sınıflandırmada maliyet çok az olur\n",
    "    * hyperplane'in margini çok geniş olacaktır\n",
    "    * outlier'ları da içerir"
   ]
  },
  {
   "cell_type": "markdown",
   "metadata": {},
   "source": [
    "**Gamma ($\\gamma$) Parametresi:**\n",
    "\n",
    "Kernellerde kullanılan (RBF vs) $\\gamma$ parametresi `uzaklık parametresi` olarak düşünülebilir.\n",
    "\n",
    "Bir veri noktasının etkisinin ne kadar uzağa gidebiceğini kontrol eder.\n",
    "\n",
    "* $\\gamma$ değeri küçükse, bir noktanın etkisi uzaklara kadar gidebilir\n",
    "* $\\gamma$ değeri büyükse, bir noktanın etkisi yakın noktalar ile sınırlıdır\n",
    "\n",
    "$\\gamma$ değerini belirleyerek veri noktalarının komşluğuna karar vermiş olursunuz aslında."
   ]
  },
  {
   "cell_type": "markdown",
   "metadata": {},
   "source": [
    "https://scikit-learn.org/stable/modules/svm.html"
   ]
  },
  {
   "cell_type": "markdown",
   "metadata": {},
   "source": [
    "---"
   ]
  },
  {
   "cell_type": "markdown",
   "metadata": {},
   "source": [
    "**Önemli Not:**\n",
    "\n",
    "SVM modelleri performans isteyen modellerdir.\n",
    "\n",
    "Local makinanızda işlemler çok uzun sürebilir.\n",
    "\n",
    "Google'ın ücretsiz olarak verdiği Google Colab hizmeti var.\n",
    "\n",
    "Google Colab'da ML ve DL modellerini çalıştırabilirsiniz.\n",
    "\n",
    "https://colab.research.google.com/"
   ]
  },
  {
   "cell_type": "markdown",
   "metadata": {},
   "source": [
    "---"
   ]
  }
 ],
 "metadata": {
  "kernelspec": {
   "display_name": "Python 3",
   "language": "python",
   "name": "python3"
  },
  "language_info": {
   "codemirror_mode": {
    "name": "ipython",
    "version": 3
   },
   "file_extension": ".py",
   "mimetype": "text/x-python",
   "name": "python",
   "nbconvert_exporter": "python",
   "pygments_lexer": "ipython3",
   "version": "3.8.5"
  }
 },
 "nbformat": 4,
 "nbformat_minor": 4
}

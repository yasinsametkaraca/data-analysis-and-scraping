{
 "cells": [
  {
   "cell_type": "markdown",
   "metadata": {},
   "source": [
    "# Decision Trees"
   ]
  },
  {
   "cell_type": "markdown",
   "metadata": {},
   "source": [
    "Decision Tree'ler (Karar Ağaçları) en önemli ve yaygın ML uygulamaları içinde yer alır."
   ]
  },
  {
   "cell_type": "markdown",
   "metadata": {},
   "source": [
    "Ağaca benzer bir yapı ile değişkenlerin olası kombinasyonu ile optimizasyon yaptığı için adı Karar Ağaçları (Decision Trees) olarak geçer."
   ]
  },
  {
   "cell_type": "markdown",
   "metadata": {},
   "source": [
    "Hem Classification hem de Regression için kullanılır."
   ]
  },
  {
   "cell_type": "markdown",
   "metadata": {},
   "source": [
    "Karar Ağacı, içinde **Root** node, **dallar (branch)** ve **yaprak (leaf)** node'lar bulundurur. "
   ]
  },
  {
   "cell_type": "markdown",
   "metadata": {},
   "source": [
    "Aradaki node'lara **internal node** adı verilir ve her bir ara node, olası bir durumu kontrol eder."
   ]
  },
  {
   "cell_type": "markdown",
   "metadata": {},
   "source": [
    "Son node'lara yani artık bir alt node'u olmayan node'lara **yaprak (leaf)** adı verilir."
   ]
  },
  {
   "cell_type": "markdown",
   "metadata": {},
   "source": [
    "<img src='images/dt.png' />"
   ]
  },
  {
   "cell_type": "markdown",
   "metadata": {},
   "source": [
    "**Decision Tree'ler için Varsayımlar:**\n",
    "\n",
    "1. Başlangıçta bütün train dataset `root` olarak düşünülür\n",
    "2. Değişken değerleri kategoriktir (en azından kategorik olarak ifade edilir)"
   ]
  },
  {
   "cell_type": "markdown",
   "metadata": {},
   "source": [
    "**Classification and Regression Trees (CART):** Decision Tree'lere genelde CART adı verilir."
   ]
  },
  {
   "cell_type": "markdown",
   "metadata": {},
   "source": [
    "### Terminoloji"
   ]
  },
  {
   "cell_type": "markdown",
   "metadata": {},
   "source": [
    "**Root Node:** Bütün data setine verilen isimdir."
   ]
  },
  {
   "cell_type": "markdown",
   "metadata": {},
   "source": [
    "**Splitting:** Bir node'u iki ya da daha fazla node'a ayrımak."
   ]
  },
  {
   "cell_type": "markdown",
   "metadata": {},
   "source": [
    "**Decision Node (Internal Node):** Bir sub node'un ayrıldığı alt node'lar. Decision Node'lar da alt node'lara ayrılırlar."
   ]
  },
  {
   "cell_type": "markdown",
   "metadata": {},
   "source": [
    "**Leaf (Terminal Node):** Daha fazla ayrılamayan, nihai node'lara denir."
   ]
  },
  {
   "cell_type": "markdown",
   "metadata": {},
   "source": [
    "**Pruning (Budama):** Bir sub node'u ya da biden fazla sub node'u silme işlemidir. Splitting'i tersidir."
   ]
  },
  {
   "cell_type": "markdown",
   "metadata": {},
   "source": [
    "**Branch (Sub Tree):** Alt ağaçlara verilen isimdir. Bir veya birden fazla node içerebilir."
   ]
  },
  {
   "cell_type": "markdown",
   "metadata": {},
   "source": [
    "**Parent ve Child Node:** Alt node'lara ayrılan node'a **Parent**, oluşan alt node'lara da **Child** node denir."
   ]
  },
  {
   "cell_type": "markdown",
   "metadata": {},
   "source": [
    "<img src='images/dt_2.png' />"
   ]
  },
  {
   "cell_type": "markdown",
   "metadata": {},
   "source": [
    "### 1- Decision Tree (DT) Nasıl Çalışır?"
   ]
  },
  {
   "cell_type": "markdown",
   "metadata": {},
   "source": [
    "DT'nin çalışma prensibi şu şekildedir:\n",
    "1. Dataset içindeki her bir attribute (değişken) için bir node oluşturulur. En önemli değişken root node'a yerleştirilir.\n",
    "2. Root node'dan başlanarak ayırma işlemi yapılır. Her ayırmada seçim kriterine bakılır.\n",
    "3. Süreç bu şekilde devam eder. Ta ki bir Leaf node'a gelip artık ayırma yapılamadığı ana kadar."
   ]
  },
  {
   "cell_type": "markdown",
   "metadata": {},
   "source": [
    "**Örnek:**\n",
    "\n",
    "Havanın durumuna göre yürümeye (walk) ya da otobüse binmeye (bus) karar vermek için DT.\n",
    "\n",
    "**Değişkenler:**\n",
    "* Hava Durumu\n",
    "    * Sun, Cloud, Rain\n",
    "* Açlık Durumu\n",
    "    * Evet, Hayır\n",
    "* Süre (Time)\n",
    "    * 30dk'dan az, 30dk'dan fazla"
   ]
  },
  {
   "cell_type": "markdown",
   "metadata": {},
   "source": [
    "<img src='images/dt_3.png' />"
   ]
  },
  {
   "cell_type": "markdown",
   "metadata": {},
   "source": [
    "### 2- DT'nin Değerlendirme Kriterleri"
   ]
  },
  {
   "cell_type": "markdown",
   "metadata": {},
   "source": [
    "DT'nin en önemli kararlarından biri ayrıma işlemi sırasında hangi kritere göre seçim yapılacağıdır.\n",
    "\n",
    "Genel olarak kullanılan seçim kritlerleri:\n",
    "* Information Gain (kategorik değişkenler için)\n",
    "* Gini Index (sayısal değişkenler için)"
   ]
  },
  {
   "cell_type": "markdown",
   "metadata": {},
   "source": [
    "### 3- Information Gain"
   ]
  },
  {
   "cell_type": "markdown",
   "metadata": {},
   "source": [
    "Information Gain kriterini kullanarak, her bir değişkenin içerdiği Information (bilgi) miktarını tahmin etmeye çalışırız.\n",
    "\n",
    "Information Gain kavramını anlamak için **Entropy** kavramını analamamız lazım."
   ]
  },
  {
   "cell_type": "markdown",
   "metadata": {},
   "source": [
    "#### Entropy (Düzensizlik)"
   ]
  },
  {
   "cell_type": "markdown",
   "metadata": {},
   "source": [
    "Entropy, dataset içindeki heterojenliği (sınıf farklılığını) ölçer. Sınıflar arasındaki oran fazla ise entropy yüksektir."
   ]
  },
  {
   "cell_type": "markdown",
   "metadata": {},
   "source": [
    "Fizikteki ve Matematikteki Entropy bir değişkenin (X) bilinmezlik veya rassallık (randomness) seviyesini ölçer."
   ]
  },
  {
   "cell_type": "markdown",
   "metadata": {},
   "source": [
    "DT'deki Entropy ise, data set içindeki `impurity` yani heterojenliği ölçer."
   ]
  },
  {
   "cell_type": "markdown",
   "metadata": {},
   "source": [
    "<img src='images/entropy.png' />"
   ]
  },
  {
   "cell_type": "markdown",
   "metadata": {},
   "source": [
    "Burada;\n",
    "* **c** toplam sınıf sayısı\n",
    "* $p_i$ is i'inci sınıfın olma olasılığıdır"
   ]
  },
  {
   "cell_type": "markdown",
   "metadata": {},
   "source": [
    "Informatin Gain, dataset içindeki iki entropy arasındaki farktır.\n",
    "* Dataseti parçalamadan önceki entropy değeri\n",
    "* Dataseti parçaladıktan sonraki entropy değeri"
   ]
  },
  {
   "cell_type": "markdown",
   "metadata": {},
   "source": [
    "İşte bu iki entropy arasındaki fark **Informatin Gain**'dir."
   ]
  },
  {
   "cell_type": "markdown",
   "metadata": {},
   "source": [
    "* A entropy değeri dataseti parçalamadan önceki entropy olsun\n",
    "* B entropy değeri dataseti parçaladıktan sonraki entropy olsun\n",
    "\n",
    "Bu işlem sonucundaki Information Gain (IG):"
   ]
  },
  {
   "cell_type": "markdown",
   "metadata": {},
   "source": [
    "$$ IG(A,B) = E(A) - E(B) $$"
   ]
  },
  {
   "cell_type": "markdown",
   "metadata": {},
   "source": [
    "`Information Gain ne kadar yüksekse entropy'yi o kadar fazla azaltmışsınız demektir.`\n",
    "\n",
    "Yani sınıf düzensizliği azalmıştır.\n",
    "\n",
    "Yani tek sınıfın oranı artmıştır. (Ki bu da istediğimiz şeydir.)"
   ]
  },
  {
   "cell_type": "markdown",
   "metadata": {},
   "source": [
    "**Homojen dataset:** içinde tek bir sınıf bulunduran dataset. (yani bütün veri noktalarının sonucu aynı sınıf)"
   ]
  },
  {
   "cell_type": "markdown",
   "metadata": {},
   "source": [
    "**Genel Kural:**\n",
    "\n",
    "* Homojenlik arttıkça entropy (düzensizlik) azalır.\n",
    "* Entropy arttıkça homojenlik azalır."
   ]
  },
  {
   "cell_type": "markdown",
   "metadata": {},
   "source": [
    "Bizim istediğimiz en düşük seviyede entropy (düzensizlik) yani homojenliktir."
   ]
  },
  {
   "cell_type": "markdown",
   "metadata": {},
   "source": [
    "`Çünkü datasetiniz ne kadar HOMOJEN ise sonucu o kadar kolay tahmin edersiniz.`"
   ]
  },
  {
   "cell_type": "markdown",
   "metadata": {},
   "source": [
    "<img src='images/entropy_vs_homojenlik.png' />"
   ]
  },
  {
   "cell_type": "markdown",
   "metadata": {},
   "source": [
    "Görüldüğü gibi, Homojenliğin en yüksek olduğu iki noktada (tamamen + ve tamamen -) entropy değeri en düşüktür."
   ]
  },
  {
   "cell_type": "markdown",
   "metadata": {},
   "source": [
    "### 4- Gini Index (Gini Katsayısı)"
   ]
  },
  {
   "cell_type": "markdown",
   "metadata": {},
   "source": [
    "**Gini Index** (Gini Impurity), rasgele seçilen bir veri noktasının yanlış tahmin edilmiş olması olasılığını hesaplamaya çalışır.\n",
    "\n",
    "0 - 1 arasında bir değer alır."
   ]
  },
  {
   "cell_type": "markdown",
   "metadata": {},
   "source": [
    "Scikit-Learn'ün DecisionTreeClassifier criterion olarak default değer 'gini'dir."
   ]
  },
  {
   "cell_type": "markdown",
   "metadata": {},
   "source": [
    "Gini index şu formülle hesaplanır:"
   ]
  },
  {
   "cell_type": "markdown",
   "metadata": {},
   "source": [
    "https://scikit-learn.org/stable/modules/generated/sklearn.tree.DecisionTreeClassifier.html"
   ]
  },
  {
   "cell_type": "markdown",
   "metadata": {},
   "source": [
    "<img src='images/gini.png' />"
   ]
  },
  {
   "cell_type": "markdown",
   "metadata": {},
   "source": [
    "Burada:\n",
    "* **c** toplam class sayısı\n",
    "* $p_i$ her sınıfın olma olasılığı"
   ]
  },
  {
   "cell_type": "markdown",
   "metadata": {},
   "source": [
    "Gini index şunu söyler: \n",
    "\n",
    "Eğer populasyondan rasgele iki eleman seçsek, aynı sınıfta iseler Gini Katsayısı 0 olacaktır. Gini Katsayısı 0'a ne kadar yakınsa, populasyonun saflığı (homojenliği) o kadar fazladır."
   ]
  },
  {
   "cell_type": "markdown",
   "metadata": {},
   "source": [
    "Herhangi bir node'un split edilmesi anında, Gini Index'e bakılır. \n",
    "\n",
    "`En düşük Gini Index'i veren değişken seçilir.`\n",
    "\n",
    "En düşük Gini Index en homojen split demek yani sınıfları doğru ayırmışsınız demektir."
   ]
  },
  {
   "cell_type": "markdown",
   "metadata": {},
   "source": [
    "### 5- DT Algoritmalarında Overfitting Problemi"
   ]
  },
  {
   "cell_type": "markdown",
   "metadata": {},
   "source": [
    "Decision Tree algoritmaları çok kolay Overfit edebilir. \n",
    "\n",
    "Tüm olası durumlara baktıkları için Train Data içindeki en iyi durumu çok kolay bulabilirler."
   ]
  },
  {
   "cell_type": "markdown",
   "metadata": {},
   "source": [
    "Ki bu da aslında Test data için Overfit riskini artırır."
   ]
  },
  {
   "cell_type": "markdown",
   "metadata": {},
   "source": [
    "DT için Overfit problemini yenmemin yolu **Pruning** yapmaktır."
   ]
  },
  {
   "cell_type": "markdown",
   "metadata": {},
   "source": [
    "İki tür Pruning (Budama) yöntemi vardır:\n",
    "1. Pre-Pruning: Belirli bir eşik değere gelince, DT'nin splitini durdurur\n",
    "1. Post-Pruning: Tüm ağaçta aşağı inilir ve bütün DT oluşturulur. Eğer Overfit tespit edilirse ağaç sondan başa doğru budanır. Budamanın etkinliği için de Cross Validation kullanılır."
   ]
  },
  {
   "cell_type": "code",
   "execution_count": null,
   "metadata": {},
   "outputs": [],
   "source": []
  }
 ],
 "metadata": {
  "kernelspec": {
   "display_name": "Python 3",
   "language": "python",
   "name": "python3"
  },
  "language_info": {
   "codemirror_mode": {
    "name": "ipython",
    "version": 3
   },
   "file_extension": ".py",
   "mimetype": "text/x-python",
   "name": "python",
   "nbconvert_exporter": "python",
   "pygments_lexer": "ipython3",
   "version": "3.8.5"
  }
 },
 "nbformat": 4,
 "nbformat_minor": 4
}

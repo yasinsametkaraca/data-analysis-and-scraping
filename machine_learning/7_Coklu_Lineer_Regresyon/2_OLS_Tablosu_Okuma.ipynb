{
 "cells": [
  {
   "cell_type": "markdown",
   "id": "contained-sarah",
   "metadata": {},
   "source": [
    "## OLS Tablosu Okuma"
   ]
  },
  {
   "cell_type": "markdown",
   "id": "yellow-medicare",
   "metadata": {},
   "source": [
    "https://www.statsmodels.org/stable/index.html"
   ]
  },
  {
   "cell_type": "markdown",
   "id": "magnetic-california",
   "metadata": {},
   "source": [
    "#### Datayı import edelim"
   ]
  },
  {
   "cell_type": "code",
   "execution_count": 2,
   "id": "frank-vatican",
   "metadata": {},
   "outputs": [],
   "source": [
    "# paket import\n",
    "\n",
    "import pandas as pd\n",
    "import matplotlib.pyplot as plt\n",
    "import seaborn as sns"
   ]
  },
  {
   "cell_type": "code",
   "execution_count": 4,
   "id": "angry-encoding",
   "metadata": {},
   "outputs": [],
   "source": [
    "# dataframe'i oluştur\n",
    "\n",
    "df = pd.read_csv('data/Advertising.csv', index_col=0)"
   ]
  },
  {
   "cell_type": "code",
   "execution_count": 5,
   "id": "written-launch",
   "metadata": {},
   "outputs": [],
   "source": [
    "# input - output\n",
    "\n",
    "data = df[['TV', 'sales']]\n",
    "\n",
    "# input -> feature (X)\n",
    "X = data['TV']\n",
    "\n",
    "# output\n",
    "y = data['sales']\n"
   ]
  },
  {
   "cell_type": "markdown",
   "id": "catholic-progress",
   "metadata": {},
   "source": [
    "#### Hazırlık"
   ]
  },
  {
   "cell_type": "markdown",
   "id": "hungry-expansion",
   "metadata": {},
   "source": [
    "Boyut kontrolü yapmamız lazım."
   ]
  },
  {
   "cell_type": "markdown",
   "id": "textile-journal",
   "metadata": {},
   "source": [
    "shape -> `(n_samples, n_features)`\n",
    "\n",
    "shape -> `(n, p)`"
   ]
  },
  {
   "cell_type": "code",
   "execution_count": 6,
   "id": "perceived-sitting",
   "metadata": {},
   "outputs": [],
   "source": [
    "# yeniden boyutlandırmamız lazım\n",
    "# (200, 1) şeklinde\n",
    "\n",
    "X = X.values.reshape(-1, 1)\n",
    "y = y.values.reshape(-1, 1)"
   ]
  },
  {
   "cell_type": "markdown",
   "id": "conservative-donor",
   "metadata": {},
   "source": [
    "#### Train-Test Split"
   ]
  },
  {
   "cell_type": "markdown",
   "id": "attached-stamp",
   "metadata": {},
   "source": [
    "Toplam 200 verimizi Train-Test olarak ikiye ayıracağız.\n",
    "\n",
    "Train: %70\n",
    "\n",
    "Test: %30\n",
    "\n",
    "Train Data: X_train, y_train\n",
    "\n",
    "Test Data: X_test, y_test"
   ]
  },
  {
   "cell_type": "markdown",
   "id": "nuclear-produce",
   "metadata": {},
   "source": [
    "https://scikit-learn.org/stable/modules/generated/sklearn.model_selection.train_test_split.html"
   ]
  },
  {
   "cell_type": "code",
   "execution_count": 7,
   "id": "first-defendant",
   "metadata": {},
   "outputs": [],
   "source": [
    "# scikit-learn'den import\n",
    "\n",
    "from sklearn.model_selection import train_test_split"
   ]
  },
  {
   "cell_type": "code",
   "execution_count": 8,
   "id": "cubic-steal",
   "metadata": {},
   "outputs": [],
   "source": [
    "# train data\n",
    "# X_train, y_train\n",
    "\n",
    "# test_data\n",
    "# X_test, y_test\n",
    "\n",
    "X_train, X_test, y_train, y_test = train_test_split(X, y, test_size=0.30, random_state=100)"
   ]
  },
  {
   "cell_type": "markdown",
   "id": "raised-creativity",
   "metadata": {},
   "source": [
    "### Statsmodels OLS"
   ]
  },
  {
   "cell_type": "code",
   "execution_count": 9,
   "id": "complex-generator",
   "metadata": {},
   "outputs": [],
   "source": [
    "import statsmodels.api as sm"
   ]
  },
  {
   "cell_type": "markdown",
   "id": "bright-banana",
   "metadata": {},
   "source": [
    "https://www.statsmodels.org/stable/examples/notebooks/generated/ols.html"
   ]
  },
  {
   "cell_type": "code",
   "execution_count": 12,
   "id": "paperback-recycling",
   "metadata": {},
   "outputs": [],
   "source": [
    "# statsmodels ile OLS (Ordinary Least Squares) çalıştır\n",
    "# statsmodels ols fonksiyonu beta_0 için otomatik değer atamaz\n",
    "# o yüzden beta_0 için 1 katsayısını bizim eklememiz lazım\n",
    "\n",
    "X_train_ols = sm.add_constant(X_train)"
   ]
  },
  {
   "cell_type": "code",
   "execution_count": 13,
   "id": "excited-expression",
   "metadata": {
    "collapsed": true,
    "jupyter": {
     "outputs_hidden": true
    }
   },
   "outputs": [
    {
     "data": {
      "text/plain": [
       "array([[213.4],\n",
       "       [151.5],\n",
       "       [205. ],\n",
       "       [142.9],\n",
       "       [134.3],\n",
       "       [ 80.2],\n",
       "       [239.8],\n",
       "       [ 88.3],\n",
       "       [ 19.4],\n",
       "       [225.8],\n",
       "       [136.2],\n",
       "       [ 25.1],\n",
       "       [ 38. ],\n",
       "       [172.5],\n",
       "       [109.8],\n",
       "       [240.1],\n",
       "       [232.1],\n",
       "       [ 66.1],\n",
       "       [218.4],\n",
       "       [234.5],\n",
       "       [ 23.8],\n",
       "       [ 67.8],\n",
       "       [296.4],\n",
       "       [141.3],\n",
       "       [175.1],\n",
       "       [220.5],\n",
       "       [ 76.4],\n",
       "       [253.8],\n",
       "       [191.1],\n",
       "       [287.6],\n",
       "       [100.4],\n",
       "       [228. ],\n",
       "       [125.7],\n",
       "       [ 74.7],\n",
       "       [ 57.5],\n",
       "       [262.7],\n",
       "       [262.9],\n",
       "       [237.4],\n",
       "       [227.2],\n",
       "       [199.8],\n",
       "       [228.3],\n",
       "       [290.7],\n",
       "       [276.9],\n",
       "       [199.8],\n",
       "       [239.3],\n",
       "       [ 73.4],\n",
       "       [284.3],\n",
       "       [147.3],\n",
       "       [224. ],\n",
       "       [198.9],\n",
       "       [276.7],\n",
       "       [ 13.2],\n",
       "       [ 11.7],\n",
       "       [280.2],\n",
       "       [ 39.5],\n",
       "       [265.6],\n",
       "       [ 27.5],\n",
       "       [280.7],\n",
       "       [ 78.2],\n",
       "       [163.3],\n",
       "       [213.5],\n",
       "       [293.6],\n",
       "       [ 18.7],\n",
       "       [ 75.5],\n",
       "       [166.8],\n",
       "       [ 44.7],\n",
       "       [109.8],\n",
       "       [  8.7],\n",
       "       [266.9],\n",
       "       [206.9],\n",
       "       [149.8],\n",
       "       [ 19.6],\n",
       "       [ 36.9],\n",
       "       [199.1],\n",
       "       [265.2],\n",
       "       [165.6],\n",
       "       [140.3],\n",
       "       [230.1],\n",
       "       [  5.4],\n",
       "       [ 17.9],\n",
       "       [237.4],\n",
       "       [286. ],\n",
       "       [ 93.9],\n",
       "       [292.9],\n",
       "       [ 25. ],\n",
       "       [ 97.5],\n",
       "       [ 26.8],\n",
       "       [281.4],\n",
       "       [ 69.2],\n",
       "       [ 43.1],\n",
       "       [255.4],\n",
       "       [239.9],\n",
       "       [209.6],\n",
       "       [  7.3],\n",
       "       [240.1],\n",
       "       [102.7],\n",
       "       [243.2],\n",
       "       [137.9],\n",
       "       [ 18.8],\n",
       "       [ 17.2],\n",
       "       [ 76.4],\n",
       "       [139.5],\n",
       "       [261.3],\n",
       "       [ 66.9],\n",
       "       [ 48.3],\n",
       "       [177. ],\n",
       "       [ 28.6],\n",
       "       [180.8],\n",
       "       [222.4],\n",
       "       [193.7],\n",
       "       [ 59.6],\n",
       "       [131.7],\n",
       "       [  8.4],\n",
       "       [ 13.1],\n",
       "       [  4.1],\n",
       "       [  0.7],\n",
       "       [ 76.3],\n",
       "       [250.9],\n",
       "       [273.7],\n",
       "       [ 96.2],\n",
       "       [210.8],\n",
       "       [ 53.5],\n",
       "       [ 90.4],\n",
       "       [104.6],\n",
       "       [283.6],\n",
       "       [ 95.7],\n",
       "       [204.1],\n",
       "       [ 31.5],\n",
       "       [182.6],\n",
       "       [289.7],\n",
       "       [156.6],\n",
       "       [107.4],\n",
       "       [ 43. ],\n",
       "       [248.4],\n",
       "       [116. ],\n",
       "       [110.7],\n",
       "       [187.9],\n",
       "       [139.3],\n",
       "       [ 62.3],\n",
       "       [  8.6]])"
      ]
     },
     "execution_count": 13,
     "metadata": {},
     "output_type": "execute_result"
    }
   ],
   "source": [
    "X_train"
   ]
  },
  {
   "cell_type": "code",
   "execution_count": 14,
   "id": "banned-polymer",
   "metadata": {
    "collapsed": true,
    "jupyter": {
     "outputs_hidden": true
    }
   },
   "outputs": [
    {
     "data": {
      "text/plain": [
       "array([[  1. , 213.4],\n",
       "       [  1. , 151.5],\n",
       "       [  1. , 205. ],\n",
       "       [  1. , 142.9],\n",
       "       [  1. , 134.3],\n",
       "       [  1. ,  80.2],\n",
       "       [  1. , 239.8],\n",
       "       [  1. ,  88.3],\n",
       "       [  1. ,  19.4],\n",
       "       [  1. , 225.8],\n",
       "       [  1. , 136.2],\n",
       "       [  1. ,  25.1],\n",
       "       [  1. ,  38. ],\n",
       "       [  1. , 172.5],\n",
       "       [  1. , 109.8],\n",
       "       [  1. , 240.1],\n",
       "       [  1. , 232.1],\n",
       "       [  1. ,  66.1],\n",
       "       [  1. , 218.4],\n",
       "       [  1. , 234.5],\n",
       "       [  1. ,  23.8],\n",
       "       [  1. ,  67.8],\n",
       "       [  1. , 296.4],\n",
       "       [  1. , 141.3],\n",
       "       [  1. , 175.1],\n",
       "       [  1. , 220.5],\n",
       "       [  1. ,  76.4],\n",
       "       [  1. , 253.8],\n",
       "       [  1. , 191.1],\n",
       "       [  1. , 287.6],\n",
       "       [  1. , 100.4],\n",
       "       [  1. , 228. ],\n",
       "       [  1. , 125.7],\n",
       "       [  1. ,  74.7],\n",
       "       [  1. ,  57.5],\n",
       "       [  1. , 262.7],\n",
       "       [  1. , 262.9],\n",
       "       [  1. , 237.4],\n",
       "       [  1. , 227.2],\n",
       "       [  1. , 199.8],\n",
       "       [  1. , 228.3],\n",
       "       [  1. , 290.7],\n",
       "       [  1. , 276.9],\n",
       "       [  1. , 199.8],\n",
       "       [  1. , 239.3],\n",
       "       [  1. ,  73.4],\n",
       "       [  1. , 284.3],\n",
       "       [  1. , 147.3],\n",
       "       [  1. , 224. ],\n",
       "       [  1. , 198.9],\n",
       "       [  1. , 276.7],\n",
       "       [  1. ,  13.2],\n",
       "       [  1. ,  11.7],\n",
       "       [  1. , 280.2],\n",
       "       [  1. ,  39.5],\n",
       "       [  1. , 265.6],\n",
       "       [  1. ,  27.5],\n",
       "       [  1. , 280.7],\n",
       "       [  1. ,  78.2],\n",
       "       [  1. , 163.3],\n",
       "       [  1. , 213.5],\n",
       "       [  1. , 293.6],\n",
       "       [  1. ,  18.7],\n",
       "       [  1. ,  75.5],\n",
       "       [  1. , 166.8],\n",
       "       [  1. ,  44.7],\n",
       "       [  1. , 109.8],\n",
       "       [  1. ,   8.7],\n",
       "       [  1. , 266.9],\n",
       "       [  1. , 206.9],\n",
       "       [  1. , 149.8],\n",
       "       [  1. ,  19.6],\n",
       "       [  1. ,  36.9],\n",
       "       [  1. , 199.1],\n",
       "       [  1. , 265.2],\n",
       "       [  1. , 165.6],\n",
       "       [  1. , 140.3],\n",
       "       [  1. , 230.1],\n",
       "       [  1. ,   5.4],\n",
       "       [  1. ,  17.9],\n",
       "       [  1. , 237.4],\n",
       "       [  1. , 286. ],\n",
       "       [  1. ,  93.9],\n",
       "       [  1. , 292.9],\n",
       "       [  1. ,  25. ],\n",
       "       [  1. ,  97.5],\n",
       "       [  1. ,  26.8],\n",
       "       [  1. , 281.4],\n",
       "       [  1. ,  69.2],\n",
       "       [  1. ,  43.1],\n",
       "       [  1. , 255.4],\n",
       "       [  1. , 239.9],\n",
       "       [  1. , 209.6],\n",
       "       [  1. ,   7.3],\n",
       "       [  1. , 240.1],\n",
       "       [  1. , 102.7],\n",
       "       [  1. , 243.2],\n",
       "       [  1. , 137.9],\n",
       "       [  1. ,  18.8],\n",
       "       [  1. ,  17.2],\n",
       "       [  1. ,  76.4],\n",
       "       [  1. , 139.5],\n",
       "       [  1. , 261.3],\n",
       "       [  1. ,  66.9],\n",
       "       [  1. ,  48.3],\n",
       "       [  1. , 177. ],\n",
       "       [  1. ,  28.6],\n",
       "       [  1. , 180.8],\n",
       "       [  1. , 222.4],\n",
       "       [  1. , 193.7],\n",
       "       [  1. ,  59.6],\n",
       "       [  1. , 131.7],\n",
       "       [  1. ,   8.4],\n",
       "       [  1. ,  13.1],\n",
       "       [  1. ,   4.1],\n",
       "       [  1. ,   0.7],\n",
       "       [  1. ,  76.3],\n",
       "       [  1. , 250.9],\n",
       "       [  1. , 273.7],\n",
       "       [  1. ,  96.2],\n",
       "       [  1. , 210.8],\n",
       "       [  1. ,  53.5],\n",
       "       [  1. ,  90.4],\n",
       "       [  1. , 104.6],\n",
       "       [  1. , 283.6],\n",
       "       [  1. ,  95.7],\n",
       "       [  1. , 204.1],\n",
       "       [  1. ,  31.5],\n",
       "       [  1. , 182.6],\n",
       "       [  1. , 289.7],\n",
       "       [  1. , 156.6],\n",
       "       [  1. , 107.4],\n",
       "       [  1. ,  43. ],\n",
       "       [  1. , 248.4],\n",
       "       [  1. , 116. ],\n",
       "       [  1. , 110.7],\n",
       "       [  1. , 187.9],\n",
       "       [  1. , 139.3],\n",
       "       [  1. ,  62.3],\n",
       "       [  1. ,   8.6]])"
      ]
     },
     "execution_count": 14,
     "metadata": {},
     "output_type": "execute_result"
    }
   ],
   "source": [
    "X_train_ols"
   ]
  },
  {
   "cell_type": "code",
   "execution_count": 15,
   "id": "unlimited-sample",
   "metadata": {},
   "outputs": [],
   "source": [
    "# statsmodels OLS modeli oluştur\n",
    "\n",
    "sm_model = sm.OLS(y_train, X_train_ols)"
   ]
  },
  {
   "cell_type": "code",
   "execution_count": 16,
   "id": "sorted-california",
   "metadata": {},
   "outputs": [],
   "source": [
    "# OLS modelinin sonuçlarını al\n",
    "\n",
    "sonuc = sm_model.fit()"
   ]
  },
  {
   "cell_type": "code",
   "execution_count": 17,
   "id": "metric-outline",
   "metadata": {},
   "outputs": [
    {
     "name": "stdout",
     "output_type": "stream",
     "text": [
      "                            OLS Regression Results                            \n",
      "==============================================================================\n",
      "Dep. Variable:                      y   R-squared:                       0.613\n",
      "Model:                            OLS   Adj. R-squared:                  0.611\n",
      "Method:                 Least Squares   F-statistic:                     219.0\n",
      "Date:                Mon, 08 Mar 2021   Prob (F-statistic):           2.84e-30\n",
      "Time:                        11:28:04   Log-Likelihood:                -370.62\n",
      "No. Observations:                 140   AIC:                             745.2\n",
      "Df Residuals:                     138   BIC:                             751.1\n",
      "Df Model:                           1                                         \n",
      "Covariance Type:            nonrobust                                         \n",
      "==============================================================================\n",
      "                 coef    std err          t      P>|t|      [0.025      0.975]\n",
      "------------------------------------------------------------------------------\n",
      "const          6.9897      0.548     12.762      0.000       5.907       8.073\n",
      "x1             0.0465      0.003     14.798      0.000       0.040       0.053\n",
      "==============================================================================\n",
      "Omnibus:                        0.995   Durbin-Watson:                   1.983\n",
      "Prob(Omnibus):                  0.608   Jarque-Bera (JB):                0.970\n",
      "Skew:                          -0.008   Prob(JB):                        0.616\n",
      "Kurtosis:                       2.593   Cond. No.                         328.\n",
      "==============================================================================\n",
      "\n",
      "Notes:\n",
      "[1] Standard Errors assume that the covariance matrix of the errors is correctly specified.\n"
     ]
    }
   ],
   "source": [
    "# OLS Özet tablosunu yazdır\n",
    "\n",
    "print(sonuc.summary())"
   ]
  },
  {
   "cell_type": "code",
   "execution_count": null,
   "id": "fatty-effects",
   "metadata": {},
   "outputs": [],
   "source": []
  }
 ],
 "metadata": {
  "kernelspec": {
   "display_name": "Python 3",
   "language": "python",
   "name": "python3"
  },
  "language_info": {
   "codemirror_mode": {
    "name": "ipython",
    "version": 3
   },
   "file_extension": ".py",
   "mimetype": "text/x-python",
   "name": "python",
   "nbconvert_exporter": "python",
   "pygments_lexer": "ipython3",
   "version": "3.8.5"
  }
 },
 "nbformat": 4,
 "nbformat_minor": 5
}

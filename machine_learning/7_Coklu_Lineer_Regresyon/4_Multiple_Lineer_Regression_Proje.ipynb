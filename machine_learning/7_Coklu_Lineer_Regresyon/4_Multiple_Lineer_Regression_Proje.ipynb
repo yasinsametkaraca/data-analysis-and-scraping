{
 "cells": [
  {
   "cell_type": "markdown",
   "id": "japanese-sellers",
   "metadata": {},
   "source": [
    "## Çoklu Lineer Regresyon Proje - Advertising"
   ]
  },
  {
   "cell_type": "markdown",
   "id": "medieval-quarter",
   "metadata": {},
   "source": [
    "Advertising.csv datasında;\n",
    "\n",
    "TV - Radio - Newspaper - Sales arasındaki ilişkiye bakacağız.\n",
    "\n",
    "Amacımız TV - Radio - Newspaper bütçesi ile Satış arasındaki ilişkiyi Lineer Regresyon ile modellemek.\n",
    "\n",
    "Bunun için bir lineer model kuracağız."
   ]
  },
  {
   "cell_type": "markdown",
   "id": "humanitarian-graduate",
   "metadata": {},
   "source": [
    "Adımlar:\n",
    "\n",
    "1- Önce Datayı ham olarak inceleyelim\n",
    "\n",
    "2- Datayı import edelim\n",
    "\n",
    "3- Datayı inceleyelim (head, describe, info)\n",
    "\n",
    "4- Datayı görselleştir\n",
    "\n",
    "5- Modeli oluştur (formuller)\n",
    "\n",
    "6- Hazırlık\n",
    "\n",
    "7- Train-Test Split\n",
    "\n",
    "8- Çoklu Lineer Regresyon Modelini Çalıştır (Fit)\n",
    "\n",
    "9- Katsayıları incele (intercept_, coef_)\n",
    "\n",
    "10- Tahmin Yap (Predict)\n",
    "\n",
    "11- Gerçek Data ve Tahmin Datasını Çiz\n",
    "\n",
    "12- Hataları Çiz ($y - \\hat y$)\n",
    "\n",
    "13- Model Doğruluğunu Kontrol Et (RMSE, ve $R^2$)\n",
    "\n",
    "14- OLS - p-değerini incele\n",
    "\n",
    "15- Korelasyon\n",
    "\n",
    "16- Sonuçlara göre tekrar Model oluştur"
   ]
  },
  {
   "cell_type": "markdown",
   "id": "complete-induction",
   "metadata": {},
   "source": [
    "#### 1- Önce Datayı ham olarak inceleyelim"
   ]
  },
  {
   "cell_type": "markdown",
   "id": "cognitive-cement",
   "metadata": {},
   "source": [
    "Datayı manuel kontrol:\n",
    "* Sütunlar hangileri\n",
    "* Feature (X) ve Label sütunu ne\n",
    "* Toplam kaç kayıt var\n",
    "* Eksik data var mı\n",
    "    * NA (Not Available)\n",
    "    * NaN: Not a Number"
   ]
  },
  {
   "cell_type": "markdown",
   "id": "deadly-texas",
   "metadata": {},
   "source": [
    "#### 2- Datayı import edelim"
   ]
  },
  {
   "cell_type": "code",
   "execution_count": 1,
   "id": "critical-eight",
   "metadata": {},
   "outputs": [],
   "source": [
    "# paket import\n",
    "\n",
    "import pandas as pd\n",
    "import matplotlib.pyplot as plt\n",
    "import seaborn as sns"
   ]
  },
  {
   "cell_type": "code",
   "execution_count": 2,
   "id": "unavailable-conducting",
   "metadata": {},
   "outputs": [],
   "source": [
    "# dataframe'i oluştur\n",
    "\n",
    "df = pd.read_csv('data/Advertising.csv', index_col=0)"
   ]
  },
  {
   "cell_type": "markdown",
   "id": "revolutionary-programmer",
   "metadata": {},
   "source": [
    "#### 3- Datayı inceleyelim (head, describe, info)"
   ]
  },
  {
   "cell_type": "code",
   "execution_count": 5,
   "id": "distinguished-chain",
   "metadata": {},
   "outputs": [
    {
     "data": {
      "text/html": [
       "<div>\n",
       "<style scoped>\n",
       "    .dataframe tbody tr th:only-of-type {\n",
       "        vertical-align: middle;\n",
       "    }\n",
       "\n",
       "    .dataframe tbody tr th {\n",
       "        vertical-align: top;\n",
       "    }\n",
       "\n",
       "    .dataframe thead th {\n",
       "        text-align: right;\n",
       "    }\n",
       "</style>\n",
       "<table border=\"1\" class=\"dataframe\">\n",
       "  <thead>\n",
       "    <tr style=\"text-align: right;\">\n",
       "      <th></th>\n",
       "      <th>TV</th>\n",
       "      <th>radio</th>\n",
       "      <th>newspaper</th>\n",
       "      <th>sales</th>\n",
       "    </tr>\n",
       "  </thead>\n",
       "  <tbody>\n",
       "    <tr>\n",
       "      <th>1</th>\n",
       "      <td>230.1</td>\n",
       "      <td>37.8</td>\n",
       "      <td>69.2</td>\n",
       "      <td>22.1</td>\n",
       "    </tr>\n",
       "    <tr>\n",
       "      <th>2</th>\n",
       "      <td>44.5</td>\n",
       "      <td>39.3</td>\n",
       "      <td>45.1</td>\n",
       "      <td>10.4</td>\n",
       "    </tr>\n",
       "    <tr>\n",
       "      <th>3</th>\n",
       "      <td>17.2</td>\n",
       "      <td>45.9</td>\n",
       "      <td>69.3</td>\n",
       "      <td>9.3</td>\n",
       "    </tr>\n",
       "    <tr>\n",
       "      <th>4</th>\n",
       "      <td>151.5</td>\n",
       "      <td>41.3</td>\n",
       "      <td>58.5</td>\n",
       "      <td>18.5</td>\n",
       "    </tr>\n",
       "    <tr>\n",
       "      <th>5</th>\n",
       "      <td>180.8</td>\n",
       "      <td>10.8</td>\n",
       "      <td>58.4</td>\n",
       "      <td>12.9</td>\n",
       "    </tr>\n",
       "  </tbody>\n",
       "</table>\n",
       "</div>"
      ],
      "text/plain": [
       "      TV  radio  newspaper  sales\n",
       "1  230.1   37.8       69.2   22.1\n",
       "2   44.5   39.3       45.1   10.4\n",
       "3   17.2   45.9       69.3    9.3\n",
       "4  151.5   41.3       58.5   18.5\n",
       "5  180.8   10.8       58.4   12.9"
      ]
     },
     "execution_count": 5,
     "metadata": {},
     "output_type": "execute_result"
    }
   ],
   "source": [
    "# ilk 5 satır\n",
    "\n",
    "df.head()"
   ]
  },
  {
   "cell_type": "code",
   "execution_count": 6,
   "id": "interior-robin",
   "metadata": {},
   "outputs": [
    {
     "data": {
      "text/html": [
       "<div>\n",
       "<style scoped>\n",
       "    .dataframe tbody tr th:only-of-type {\n",
       "        vertical-align: middle;\n",
       "    }\n",
       "\n",
       "    .dataframe tbody tr th {\n",
       "        vertical-align: top;\n",
       "    }\n",
       "\n",
       "    .dataframe thead th {\n",
       "        text-align: right;\n",
       "    }\n",
       "</style>\n",
       "<table border=\"1\" class=\"dataframe\">\n",
       "  <thead>\n",
       "    <tr style=\"text-align: right;\">\n",
       "      <th></th>\n",
       "      <th>TV</th>\n",
       "      <th>radio</th>\n",
       "      <th>newspaper</th>\n",
       "      <th>sales</th>\n",
       "    </tr>\n",
       "  </thead>\n",
       "  <tbody>\n",
       "    <tr>\n",
       "      <th>196</th>\n",
       "      <td>38.2</td>\n",
       "      <td>3.7</td>\n",
       "      <td>13.8</td>\n",
       "      <td>7.6</td>\n",
       "    </tr>\n",
       "    <tr>\n",
       "      <th>197</th>\n",
       "      <td>94.2</td>\n",
       "      <td>4.9</td>\n",
       "      <td>8.1</td>\n",
       "      <td>9.7</td>\n",
       "    </tr>\n",
       "    <tr>\n",
       "      <th>198</th>\n",
       "      <td>177.0</td>\n",
       "      <td>9.3</td>\n",
       "      <td>6.4</td>\n",
       "      <td>12.8</td>\n",
       "    </tr>\n",
       "    <tr>\n",
       "      <th>199</th>\n",
       "      <td>283.6</td>\n",
       "      <td>42.0</td>\n",
       "      <td>66.2</td>\n",
       "      <td>25.5</td>\n",
       "    </tr>\n",
       "    <tr>\n",
       "      <th>200</th>\n",
       "      <td>232.1</td>\n",
       "      <td>8.6</td>\n",
       "      <td>8.7</td>\n",
       "      <td>13.4</td>\n",
       "    </tr>\n",
       "  </tbody>\n",
       "</table>\n",
       "</div>"
      ],
      "text/plain": [
       "        TV  radio  newspaper  sales\n",
       "196   38.2    3.7       13.8    7.6\n",
       "197   94.2    4.9        8.1    9.7\n",
       "198  177.0    9.3        6.4   12.8\n",
       "199  283.6   42.0       66.2   25.5\n",
       "200  232.1    8.6        8.7   13.4"
      ]
     },
     "execution_count": 6,
     "metadata": {},
     "output_type": "execute_result"
    }
   ],
   "source": [
    "# son 5 satır\n",
    "\n",
    "df.tail()"
   ]
  },
  {
   "cell_type": "code",
   "execution_count": 7,
   "id": "authorized-equation",
   "metadata": {},
   "outputs": [
    {
     "name": "stdout",
     "output_type": "stream",
     "text": [
      "<class 'pandas.core.frame.DataFrame'>\n",
      "Int64Index: 200 entries, 1 to 200\n",
      "Data columns (total 4 columns):\n",
      " #   Column     Non-Null Count  Dtype  \n",
      "---  ------     --------------  -----  \n",
      " 0   TV         200 non-null    float64\n",
      " 1   radio      200 non-null    float64\n",
      " 2   newspaper  200 non-null    float64\n",
      " 3   sales      200 non-null    float64\n",
      "dtypes: float64(4)\n",
      "memory usage: 7.8 KB\n"
     ]
    }
   ],
   "source": [
    "# genel bilgiler\n",
    "\n",
    "df.info()"
   ]
  },
  {
   "cell_type": "code",
   "execution_count": 8,
   "id": "alternative-triumph",
   "metadata": {},
   "outputs": [
    {
     "data": {
      "text/html": [
       "<div>\n",
       "<style scoped>\n",
       "    .dataframe tbody tr th:only-of-type {\n",
       "        vertical-align: middle;\n",
       "    }\n",
       "\n",
       "    .dataframe tbody tr th {\n",
       "        vertical-align: top;\n",
       "    }\n",
       "\n",
       "    .dataframe thead th {\n",
       "        text-align: right;\n",
       "    }\n",
       "</style>\n",
       "<table border=\"1\" class=\"dataframe\">\n",
       "  <thead>\n",
       "    <tr style=\"text-align: right;\">\n",
       "      <th></th>\n",
       "      <th>TV</th>\n",
       "      <th>radio</th>\n",
       "      <th>newspaper</th>\n",
       "      <th>sales</th>\n",
       "    </tr>\n",
       "  </thead>\n",
       "  <tbody>\n",
       "    <tr>\n",
       "      <th>count</th>\n",
       "      <td>200.000000</td>\n",
       "      <td>200.000000</td>\n",
       "      <td>200.000000</td>\n",
       "      <td>200.000000</td>\n",
       "    </tr>\n",
       "    <tr>\n",
       "      <th>mean</th>\n",
       "      <td>147.042500</td>\n",
       "      <td>23.264000</td>\n",
       "      <td>30.554000</td>\n",
       "      <td>14.022500</td>\n",
       "    </tr>\n",
       "    <tr>\n",
       "      <th>std</th>\n",
       "      <td>85.854236</td>\n",
       "      <td>14.846809</td>\n",
       "      <td>21.778621</td>\n",
       "      <td>5.217457</td>\n",
       "    </tr>\n",
       "    <tr>\n",
       "      <th>min</th>\n",
       "      <td>0.700000</td>\n",
       "      <td>0.000000</td>\n",
       "      <td>0.300000</td>\n",
       "      <td>1.600000</td>\n",
       "    </tr>\n",
       "    <tr>\n",
       "      <th>25%</th>\n",
       "      <td>74.375000</td>\n",
       "      <td>9.975000</td>\n",
       "      <td>12.750000</td>\n",
       "      <td>10.375000</td>\n",
       "    </tr>\n",
       "    <tr>\n",
       "      <th>50%</th>\n",
       "      <td>149.750000</td>\n",
       "      <td>22.900000</td>\n",
       "      <td>25.750000</td>\n",
       "      <td>12.900000</td>\n",
       "    </tr>\n",
       "    <tr>\n",
       "      <th>75%</th>\n",
       "      <td>218.825000</td>\n",
       "      <td>36.525000</td>\n",
       "      <td>45.100000</td>\n",
       "      <td>17.400000</td>\n",
       "    </tr>\n",
       "    <tr>\n",
       "      <th>max</th>\n",
       "      <td>296.400000</td>\n",
       "      <td>49.600000</td>\n",
       "      <td>114.000000</td>\n",
       "      <td>27.000000</td>\n",
       "    </tr>\n",
       "  </tbody>\n",
       "</table>\n",
       "</div>"
      ],
      "text/plain": [
       "               TV       radio   newspaper       sales\n",
       "count  200.000000  200.000000  200.000000  200.000000\n",
       "mean   147.042500   23.264000   30.554000   14.022500\n",
       "std     85.854236   14.846809   21.778621    5.217457\n",
       "min      0.700000    0.000000    0.300000    1.600000\n",
       "25%     74.375000    9.975000   12.750000   10.375000\n",
       "50%    149.750000   22.900000   25.750000   12.900000\n",
       "75%    218.825000   36.525000   45.100000   17.400000\n",
       "max    296.400000   49.600000  114.000000   27.000000"
      ]
     },
     "execution_count": 8,
     "metadata": {},
     "output_type": "execute_result"
    }
   ],
   "source": [
    "# temel istatistikler\n",
    "\n",
    "df.describe()"
   ]
  },
  {
   "cell_type": "markdown",
   "id": "clinical-jerusalem",
   "metadata": {},
   "source": [
    "#### 4- Datayı görselleştir"
   ]
  },
  {
   "cell_type": "markdown",
   "id": "personal-communication",
   "metadata": {},
   "source": [
    "Exploratory Data Analysis (EDA)"
   ]
  },
  {
   "cell_type": "markdown",
   "id": "acting-copper",
   "metadata": {},
   "source": [
    "https://seaborn.pydata.org/generated/seaborn.pairplot.html"
   ]
  },
  {
   "cell_type": "code",
   "execution_count": 9,
   "id": "billion-payment",
   "metadata": {},
   "outputs": [
    {
     "data": {
      "text/plain": [
       "<seaborn.axisgrid.PairGrid at 0x23bd4edd1c0>"
      ]
     },
     "execution_count": 9,
     "metadata": {},
     "output_type": "execute_result"
    },
    {
     "data": {
      "image/png": "[encoded data removed]",
      "text/plain": [
       "<Figure size 720x720 with 20 Axes>"
      ]
     },
     "metadata": {
      "needs_background": "light"
     },
     "output_type": "display_data"
    }
   ],
   "source": [
    "# pairplot -> ikili\n",
    "\n",
    "sns.pairplot(df)"
   ]
  },
  {
   "cell_type": "code",
   "execution_count": 33,
   "id": "friendly-swiss",
   "metadata": {},
   "outputs": [
    {
     "data": {
      "text/html": [
       "<div>\n",
       "<style scoped>\n",
       "    .dataframe tbody tr th:only-of-type {\n",
       "        vertical-align: middle;\n",
       "    }\n",
       "\n",
       "    .dataframe tbody tr th {\n",
       "        vertical-align: top;\n",
       "    }\n",
       "\n",
       "    .dataframe thead th {\n",
       "        text-align: right;\n",
       "    }\n",
       "</style>\n",
       "<table border=\"1\" class=\"dataframe\">\n",
       "  <thead>\n",
       "    <tr style=\"text-align: right;\">\n",
       "      <th></th>\n",
       "      <th>TV</th>\n",
       "      <th>radio</th>\n",
       "      <th>newspaper</th>\n",
       "    </tr>\n",
       "  </thead>\n",
       "  <tbody>\n",
       "    <tr>\n",
       "      <th>1</th>\n",
       "      <td>230.1</td>\n",
       "      <td>37.8</td>\n",
       "      <td>69.2</td>\n",
       "    </tr>\n",
       "    <tr>\n",
       "      <th>2</th>\n",
       "      <td>44.5</td>\n",
       "      <td>39.3</td>\n",
       "      <td>45.1</td>\n",
       "    </tr>\n",
       "    <tr>\n",
       "      <th>3</th>\n",
       "      <td>17.2</td>\n",
       "      <td>45.9</td>\n",
       "      <td>69.3</td>\n",
       "    </tr>\n",
       "    <tr>\n",
       "      <th>4</th>\n",
       "      <td>151.5</td>\n",
       "      <td>41.3</td>\n",
       "      <td>58.5</td>\n",
       "    </tr>\n",
       "    <tr>\n",
       "      <th>5</th>\n",
       "      <td>180.8</td>\n",
       "      <td>10.8</td>\n",
       "      <td>58.4</td>\n",
       "    </tr>\n",
       "    <tr>\n",
       "      <th>...</th>\n",
       "      <td>...</td>\n",
       "      <td>...</td>\n",
       "      <td>...</td>\n",
       "    </tr>\n",
       "    <tr>\n",
       "      <th>196</th>\n",
       "      <td>38.2</td>\n",
       "      <td>3.7</td>\n",
       "      <td>13.8</td>\n",
       "    </tr>\n",
       "    <tr>\n",
       "      <th>197</th>\n",
       "      <td>94.2</td>\n",
       "      <td>4.9</td>\n",
       "      <td>8.1</td>\n",
       "    </tr>\n",
       "    <tr>\n",
       "      <th>198</th>\n",
       "      <td>177.0</td>\n",
       "      <td>9.3</td>\n",
       "      <td>6.4</td>\n",
       "    </tr>\n",
       "    <tr>\n",
       "      <th>199</th>\n",
       "      <td>283.6</td>\n",
       "      <td>42.0</td>\n",
       "      <td>66.2</td>\n",
       "    </tr>\n",
       "    <tr>\n",
       "      <th>200</th>\n",
       "      <td>232.1</td>\n",
       "      <td>8.6</td>\n",
       "      <td>8.7</td>\n",
       "    </tr>\n",
       "  </tbody>\n",
       "</table>\n",
       "<p>200 rows × 3 columns</p>\n",
       "</div>"
      ],
      "text/plain": [
       "        TV  radio  newspaper\n",
       "1    230.1   37.8       69.2\n",
       "2     44.5   39.3       45.1\n",
       "3     17.2   45.9       69.3\n",
       "4    151.5   41.3       58.5\n",
       "5    180.8   10.8       58.4\n",
       "..     ...    ...        ...\n",
       "196   38.2    3.7       13.8\n",
       "197   94.2    4.9        8.1\n",
       "198  177.0    9.3        6.4\n",
       "199  283.6   42.0       66.2\n",
       "200  232.1    8.6        8.7\n",
       "\n",
       "[200 rows x 3 columns]"
      ]
     },
     "execution_count": 33,
     "metadata": {},
     "output_type": "execute_result"
    }
   ],
   "source": [
    "# inputlar\n",
    "\n",
    "X = df[['TV', 'radio', 'newspaper']]\n",
    "X"
   ]
  },
  {
   "cell_type": "code",
   "execution_count": 36,
   "id": "impossible-attack",
   "metadata": {},
   "outputs": [
    {
     "data": {
      "text/plain": [
       "1      22.1\n",
       "2      10.4\n",
       "3       9.3\n",
       "4      18.5\n",
       "5      12.9\n",
       "       ... \n",
       "196     7.6\n",
       "197     9.7\n",
       "198    12.8\n",
       "199    25.5\n",
       "200    13.4\n",
       "Name: sales, Length: 200, dtype: float64"
      ]
     },
     "execution_count": 36,
     "metadata": {},
     "output_type": "execute_result"
    }
   ],
   "source": [
    "# output\n",
    "\n",
    "y = df['sales']\n",
    "y"
   ]
  },
  {
   "cell_type": "code",
   "execution_count": 35,
   "id": "foster-shock",
   "metadata": {},
   "outputs": [
    {
     "data": {
      "text/plain": [
       "Index(['TV', 'radio', 'newspaper', 'sales'], dtype='object')"
      ]
     },
     "execution_count": 35,
     "metadata": {},
     "output_type": "execute_result"
    }
   ],
   "source": [
    "df.columns"
   ]
  },
  {
   "cell_type": "code",
   "execution_count": 37,
   "id": "lesbian-outside",
   "metadata": {},
   "outputs": [
    {
     "data": {
      "text/plain": [
       "<seaborn.axisgrid.PairGrid at 0x23be0fea910>"
      ]
     },
     "execution_count": 37,
     "metadata": {},
     "output_type": "execute_result"
    },
    {
     "data": {
      "image/png": "[encoded data removed]",
      "text/plain": [
       "<Figure size 1080x360 with 3 Axes>"
      ]
     },
     "metadata": {
      "needs_background": "light"
     },
     "output_type": "display_data"
    }
   ],
   "source": [
    "# sadece girdiler -> çıktı ikilisi\n",
    "\n",
    "sns.pairplot(df, x_vars=df.columns[:3], y_vars=df.columns[3], height=5)"
   ]
  },
  {
   "cell_type": "markdown",
   "id": "upper-civilian",
   "metadata": {},
   "source": [
    "#### 5- Modeli oluştur"
   ]
  },
  {
   "cell_type": "markdown",
   "id": "mexican-preference",
   "metadata": {},
   "source": [
    "$$ y = \\beta_0 + \\beta_1X_1 + \\beta_2X_2 + \\beta_3X_3 $$"
   ]
  },
  {
   "cell_type": "code",
   "execution_count": 38,
   "id": "impressive-closure",
   "metadata": {},
   "outputs": [],
   "source": [
    "# sklearn LinearRegression\n",
    "\n",
    "from sklearn.linear_model import LinearRegression"
   ]
  },
  {
   "cell_type": "code",
   "execution_count": 39,
   "id": "demonstrated-flexibility",
   "metadata": {},
   "outputs": [],
   "source": [
    "# lineer regresyon nesnesini yarat\n",
    "\n",
    "lr = LinearRegression()"
   ]
  },
  {
   "cell_type": "markdown",
   "id": "central-regression",
   "metadata": {},
   "source": [
    "#### 6- Hazırlık"
   ]
  },
  {
   "cell_type": "markdown",
   "id": "prostate-treasure",
   "metadata": {},
   "source": [
    "Boyut kontrolü yapmamız lazım."
   ]
  },
  {
   "cell_type": "markdown",
   "id": "medieval-disney",
   "metadata": {},
   "source": [
    "shape -> `(n_samples, n_features)`\n",
    "\n",
    "shape -> `(n, p)`"
   ]
  },
  {
   "cell_type": "code",
   "execution_count": 40,
   "id": "hollow-sperm",
   "metadata": {},
   "outputs": [
    {
     "name": "stdout",
     "output_type": "stream",
     "text": [
      "X'in boyutu: (200, 3)\n",
      "y'in boyutu: (200,)\n"
     ]
    }
   ],
   "source": [
    "# önce input'un ve output'un boyutuna bakalım\n",
    "\n",
    "print(\"X'in boyutu:\", X.shape)\n",
    "print(\"y'in boyutu:\", y.shape)"
   ]
  },
  {
   "cell_type": "markdown",
   "id": "interstate-average",
   "metadata": {},
   "source": [
    "Gördüğünüz gibi şekli sklearn'ün LinearRegression classının istediği gibi değil."
   ]
  },
  {
   "cell_type": "code",
   "execution_count": 41,
   "id": "cosmetic-bidder",
   "metadata": {},
   "outputs": [],
   "source": [
    "# y'yi yeniden boyutlandırmamız lazım\n",
    "# (200, 1) şeklinde\n",
    "\n",
    "y = y.values.reshape(-1, 1)"
   ]
  },
  {
   "cell_type": "code",
   "execution_count": 42,
   "id": "massive-appeal",
   "metadata": {},
   "outputs": [
    {
     "name": "stdout",
     "output_type": "stream",
     "text": [
      "y'in boyutu: (200, 1)\n"
     ]
    }
   ],
   "source": [
    "# y'in yeni boyutu\n",
    "\n",
    "print(\"y'in boyutu:\", y.shape)"
   ]
  },
  {
   "cell_type": "markdown",
   "id": "expired-baltimore",
   "metadata": {},
   "source": [
    "#### 7- Train-Test Split"
   ]
  },
  {
   "cell_type": "markdown",
   "id": "stable-portugal",
   "metadata": {},
   "source": [
    "Toplam 200 verimizi Train-Test olarak ikiye ayıracağız.\n",
    "\n",
    "Train: %70\n",
    "\n",
    "Test: %30\n",
    "\n",
    "Train Data: X_train, y_train\n",
    "\n",
    "Test Data: X_test, y_test"
   ]
  },
  {
   "cell_type": "markdown",
   "id": "friendly-locking",
   "metadata": {},
   "source": [
    "https://scikit-learn.org/stable/modules/generated/sklearn.model_selection.train_test_split.html"
   ]
  },
  {
   "cell_type": "code",
   "execution_count": 43,
   "id": "collective-logic",
   "metadata": {},
   "outputs": [],
   "source": [
    "# scikit-learn'den import\n",
    "\n",
    "from sklearn.model_selection import train_test_split"
   ]
  },
  {
   "cell_type": "code",
   "execution_count": 44,
   "id": "modern-indian",
   "metadata": {},
   "outputs": [],
   "source": [
    "# train data\n",
    "# X_train, y_train\n",
    "\n",
    "# test_data\n",
    "# X_test, y_test\n",
    "\n",
    "X_train, X_test, y_train, y_test = train_test_split(X, y, test_size=0.30, random_state=100)"
   ]
  },
  {
   "cell_type": "code",
   "execution_count": 45,
   "id": "generic-strength",
   "metadata": {},
   "outputs": [
    {
     "name": "stdout",
     "output_type": "stream",
     "text": [
      "X_train'in boyutu: (140, 3)\n",
      "y_train'in boyutu: (140, 1)\n",
      "X_test'in boyutu: (60, 3)\n",
      "y_test'in boyutu: (60, 1)\n"
     ]
    }
   ],
   "source": [
    "# şekiller\n",
    "\n",
    "print(\"X_train'in boyutu:\", X_train.shape)\n",
    "print(\"y_train'in boyutu:\", y_train.shape)\n",
    "\n",
    "print(\"X_test'in boyutu:\", X_test.shape)\n",
    "print(\"y_test'in boyutu:\", y_test.shape)"
   ]
  },
  {
   "cell_type": "markdown",
   "id": "provincial-beach",
   "metadata": {},
   "source": [
    "#### 8- Lineer Regresyon Modelini Çalıştır (Fit)"
   ]
  },
  {
   "cell_type": "code",
   "execution_count": 47,
   "id": "rental-honduras",
   "metadata": {},
   "outputs": [
    {
     "data": {
      "text/plain": [
       "LinearRegression()"
      ]
     },
     "execution_count": 47,
     "metadata": {},
     "output_type": "execute_result"
    }
   ],
   "source": [
    "# regresyonu çalıştır -> fit\n",
    "# fit -> öğrenme\n",
    "# train data üzerinden\n",
    "\n",
    "lr.fit(X_train, y_train)"
   ]
  },
  {
   "cell_type": "markdown",
   "id": "incident-patch",
   "metadata": {},
   "source": [
    "#### 9- Katsayıları Hesaplama (intercept_, coef_)"
   ]
  },
  {
   "cell_type": "markdown",
   "id": "twenty-initial",
   "metadata": {},
   "source": [
    "Lineer Regresyonu fit etmenin amacı katsayıları hesaplamaktır.\n",
    "\n",
    "$\\beta_0$ -> intercept\n",
    "\n",
    "$\\beta_1 \\beta_2 \\beta_3$ -> slope (coefficient)"
   ]
  },
  {
   "cell_type": "code",
   "execution_count": 48,
   "id": "arbitrary-phase",
   "metadata": {},
   "outputs": [
    {
     "name": "stdout",
     "output_type": "stream",
     "text": [
      "intercept: [2.65278967]\n"
     ]
    }
   ],
   "source": [
    "# intercept -> beta 0\n",
    "\n",
    "print('intercept:', lr.intercept_)"
   ]
  },
  {
   "cell_type": "code",
   "execution_count": 50,
   "id": "approved-insert",
   "metadata": {},
   "outputs": [
    {
     "name": "stdout",
     "output_type": "stream",
     "text": [
      "slope (coeffificent) eğim: [[0.0454256  0.18975773 0.00460308]]\n"
     ]
    }
   ],
   "source": [
    "# slope = coefficient -> beta 1, beta 2, beta 3\n",
    "\n",
    "print('slope (coeffificent) eğim:', lr.coef_)"
   ]
  },
  {
   "cell_type": "code",
   "execution_count": 56,
   "id": "married-advocacy",
   "metadata": {},
   "outputs": [
    {
     "data": {
      "text/html": [
       "<div>\n",
       "<style scoped>\n",
       "    .dataframe tbody tr th:only-of-type {\n",
       "        vertical-align: middle;\n",
       "    }\n",
       "\n",
       "    .dataframe tbody tr th {\n",
       "        vertical-align: top;\n",
       "    }\n",
       "\n",
       "    .dataframe thead th {\n",
       "        text-align: right;\n",
       "    }\n",
       "</style>\n",
       "<table border=\"1\" class=\"dataframe\">\n",
       "  <thead>\n",
       "    <tr style=\"text-align: right;\">\n",
       "      <th></th>\n",
       "      <th>beta_1 (TV)</th>\n",
       "      <th>beta_2 (Radio)</th>\n",
       "      <th>beta_3 (Newspaper)</th>\n",
       "    </tr>\n",
       "  </thead>\n",
       "  <tbody>\n",
       "    <tr>\n",
       "      <th>0</th>\n",
       "      <td>0.045426</td>\n",
       "      <td>0.189758</td>\n",
       "      <td>0.004603</td>\n",
       "    </tr>\n",
       "  </tbody>\n",
       "</table>\n",
       "</div>"
      ],
      "text/plain": [
       "   beta_1 (TV)  beta_2 (Radio)  beta_3 (Newspaper)\n",
       "0     0.045426        0.189758            0.004603"
      ]
     },
     "execution_count": 56,
     "metadata": {},
     "output_type": "execute_result"
    }
   ],
   "source": [
    "katsayilar = pd.DataFrame(lr.coef_, columns = ['beta_1 (TV)', 'beta_2 (Radio)', 'beta_3 (Newspaper)'])\n",
    "katsayilar"
   ]
  },
  {
   "cell_type": "markdown",
   "id": "detailed-villa",
   "metadata": {},
   "source": [
    "$$ y = 2.652 + 0.0454 * TV + 0.1897 * Radio + 0.0046 * Newspaper $$"
   ]
  },
  {
   "cell_type": "markdown",
   "id": "limiting-lender",
   "metadata": {},
   "source": [
    "#### 10- Tahmin Yap (Predict)"
   ]
  },
  {
   "cell_type": "markdown",
   "id": "voluntary-intranet",
   "metadata": {},
   "source": [
    "Artık regresyon katsayılarımızı hesapladığımıza göre, test datası (X_test) üzerinden y'leri tahmin edebiliriz.\n",
    "\n",
    "`y_pred`\n",
    "\n",
    "Gerçek y'ler y_test olarak duruyor.\n",
    "\n",
    "Onları tahminimizin doğruluğunu kontrol ederken kullanacağız. "
   ]
  },
  {
   "cell_type": "code",
   "execution_count": 57,
   "id": "photographic-nicholas",
   "metadata": {},
   "outputs": [],
   "source": [
    "# tahmin yap\n",
    "\n",
    "y_pred = lr.predict(X_test)"
   ]
  },
  {
   "cell_type": "code",
   "execution_count": 59,
   "id": "comprehensive-implement",
   "metadata": {
    "collapsed": true,
    "jupyter": {
     "outputs_hidden": true
    }
   },
   "outputs": [
    {
     "data": {
      "text/plain": [
       "array([[10.62160072],\n",
       "       [20.00625302],\n",
       "       [16.91850882],\n",
       "       [19.17040746],\n",
       "       [20.94974131],\n",
       "       [13.12284284],\n",
       "       [11.80740696],\n",
       "       [12.32019766],\n",
       "       [20.57806782],\n",
       "       [20.95662688],\n",
       "       [10.79096475],\n",
       "       [19.54868702],\n",
       "       [ 6.42403866],\n",
       "       [15.23133391],\n",
       "       [ 8.97226257],\n",
       "       [ 7.89897862],\n",
       "       [16.23599497],\n",
       "       [12.02636477],\n",
       "       [17.09702178],\n",
       "       [11.26080277],\n",
       "       [16.97826292],\n",
       "       [ 9.75655721],\n",
       "       [20.82389762],\n",
       "       [17.20916742],\n",
       "       [15.13816239],\n",
       "       [21.97290698],\n",
       "       [19.20181841],\n",
       "       [10.07501899],\n",
       "       [19.39017185],\n",
       "       [14.8673761 ],\n",
       "       [14.36798893],\n",
       "       [ 7.55604543],\n",
       "       [ 9.96742165],\n",
       "       [14.76342565],\n",
       "       [ 7.20995576],\n",
       "       [13.60003295],\n",
       "       [ 7.49088656],\n",
       "       [11.70865932],\n",
       "       [13.46091883],\n",
       "       [15.2229793 ],\n",
       "       [17.18088277],\n",
       "       [13.56738329],\n",
       "       [14.30942267],\n",
       "       [13.72909849],\n",
       "       [11.88559349],\n",
       "       [ 8.77039705],\n",
       "       [12.1244102 ],\n",
       "       [19.20252289],\n",
       "       [ 9.08376601],\n",
       "       [ 5.15367352],\n",
       "       [16.22852749],\n",
       "       [18.14111213],\n",
       "       [12.94835466],\n",
       "       [16.86274503],\n",
       "       [17.86462435],\n",
       "       [12.33930625],\n",
       "       [ 4.3575739 ],\n",
       "       [11.25904494],\n",
       "       [16.11560622],\n",
       "       [13.56602169]])"
      ]
     },
     "execution_count": 59,
     "metadata": {},
     "output_type": "execute_result"
    }
   ],
   "source": [
    "# tahmini yazdır\n",
    "\n",
    "y_pred"
   ]
  },
  {
   "cell_type": "code",
   "execution_count": 61,
   "id": "white-board",
   "metadata": {},
   "outputs": [
    {
     "data": {
      "text/plain": [
       "(60, 1)"
      ]
     },
     "execution_count": 61,
     "metadata": {},
     "output_type": "execute_result"
    }
   ],
   "source": [
    "# tahmin datasının şekli\n",
    "\n",
    "y_pred.shape"
   ]
  },
  {
   "cell_type": "code",
   "execution_count": 62,
   "id": "jewish-shannon",
   "metadata": {},
   "outputs": [
    {
     "data": {
      "text/plain": [
       "(60, 1)"
      ]
     },
     "execution_count": 62,
     "metadata": {},
     "output_type": "execute_result"
    }
   ],
   "source": [
    "# test datasının (orjinal data) şekli\n",
    "# y_true\n",
    "\n",
    "y_test.shape"
   ]
  },
  {
   "cell_type": "markdown",
   "id": "played-nation",
   "metadata": {},
   "source": [
    "#### 11- Gerçek Data ve Tahmin Datasını Çiz"
   ]
  },
  {
   "cell_type": "markdown",
   "id": "virgin-dealing",
   "metadata": {},
   "source": [
    "Artık test datadan yani gerçek dünyadan bahsediyoruz.\n",
    "\n",
    "Train ile işimiz bitti. Yani öğrendik.\n",
    "\n",
    "Gerçek Label -> y_test\n",
    "\n",
    "Tahmin Label -> y_pred\n",
    "\n",
    "Input -> X_test"
   ]
  },
  {
   "cell_type": "code",
   "execution_count": 64,
   "id": "everyday-duplicate",
   "metadata": {},
   "outputs": [
    {
     "data": {
      "text/plain": [
       "array([[ 6.6],\n",
       "       [20.7],\n",
       "       [17.2],\n",
       "       [19.4],\n",
       "       [21.8],\n",
       "       [12.2],\n",
       "       [12.2],\n",
       "       [11.7],\n",
       "       [22.6],\n",
       "       [22.3]])"
      ]
     },
     "execution_count": 64,
     "metadata": {},
     "output_type": "execute_result"
    }
   ],
   "source": [
    "# ilk 10 gerçek y değerini görelim\n",
    "\n",
    "y_test[0:10]"
   ]
  },
  {
   "cell_type": "code",
   "execution_count": 65,
   "id": "recognized-tourism",
   "metadata": {},
   "outputs": [
    {
     "data": {
      "text/plain": [
       "array([[10.62160072],\n",
       "       [20.00625302],\n",
       "       [16.91850882],\n",
       "       [19.17040746],\n",
       "       [20.94974131],\n",
       "       [13.12284284],\n",
       "       [11.80740696],\n",
       "       [12.32019766],\n",
       "       [20.57806782],\n",
       "       [20.95662688]])"
      ]
     },
     "execution_count": 65,
     "metadata": {},
     "output_type": "execute_result"
    }
   ],
   "source": [
    "# ilk 10 tahmin değerini görelim\n",
    "\n",
    "y_pred[0:10]"
   ]
  },
  {
   "cell_type": "code",
   "execution_count": 66,
   "id": "distinguished-cornell",
   "metadata": {},
   "outputs": [
    {
     "data": {
      "image/png": "[encoded data removed]",
      "text/plain": [
       "<Figure size 864x576 with 1 Axes>"
      ]
     },
     "metadata": {
      "needs_background": "light"
     },
     "output_type": "display_data"
    }
   ],
   "source": [
    "# Her bir tahmin noktasındaki değişimi görelim\n",
    "indexler = range(1,61)\n",
    "\n",
    "# Gerçek Data -> Grand Truth\n",
    "fig, ax = plt.subplots(figsize=(12,8))\n",
    "ax.plot(indexler, y_test, label='Grand Truth', color='red', linewidth=2)\n",
    "\n",
    "# Tahmin -> Prediction\n",
    "ax.plot(indexler, y_pred, label='Prediction', color='green', linewidth=2)\n",
    "\n",
    "plt.title('GERÇEK - PREDICTION')\n",
    "plt.xlabel('Data Index')\n",
    "plt.ylabel('Sales')\n",
    "plt.legend(loc='upper left')\n",
    "plt.show()"
   ]
  },
  {
   "cell_type": "markdown",
   "id": "underlying-message",
   "metadata": {},
   "source": [
    "#### 12- Hataları Çiz ($y - \\hat y$)"
   ]
  },
  {
   "cell_type": "markdown",
   "id": "entire-bulgaria",
   "metadata": {},
   "source": [
    "Hata : Residual -> ($y - \\hat y$)\n",
    "\n",
    "**y_test - y_pred**"
   ]
  },
  {
   "cell_type": "code",
   "execution_count": 67,
   "id": "painful-nelson",
   "metadata": {},
   "outputs": [],
   "source": [
    "import numpy as np"
   ]
  },
  {
   "cell_type": "code",
   "execution_count": 68,
   "id": "prepared-client",
   "metadata": {},
   "outputs": [
    {
     "data": {
      "image/png": "[encoded data removed]",
      "text/plain": [
       "<Figure size 864x576 with 1 Axes>"
      ]
     },
     "metadata": {
      "needs_background": "light"
     },
     "output_type": "display_data"
    }
   ],
   "source": [
    "# Her bir tahmin noktasındaki hatayı görelim\n",
    "indexler = range(1,61)\n",
    "\n",
    "# Residuls -> Hatalar\n",
    "fig, ax = plt.subplots(figsize=(12,8))\n",
    "ax.plot(indexler, y_test - y_pred, label='Residuals', color='red', linewidth=2)\n",
    "\n",
    "# sıfır doğrusunu çiz\n",
    "ax.plot(indexler, np.zeros(60), color='black')\n",
    "\n",
    "plt.title('HATALAR (RESIDUALS)')\n",
    "plt.xlabel('Data Index')\n",
    "plt.ylabel('Sales')\n",
    "plt.legend(loc='upper left')\n",
    "plt.show()"
   ]
  },
  {
   "cell_type": "markdown",
   "id": "constitutional-saskatchewan",
   "metadata": {},
   "source": [
    "#### 13- Model Doğruluğunu Kontrol Et (RMSE, ve $R^2$)"
   ]
  },
  {
   "cell_type": "markdown",
   "id": "executive-bedroom",
   "metadata": {},
   "source": [
    "**RMSE**: Root Mean Squared Error\n",
    "\n",
    "Daha önce gördüğümüz MSE'nin karekökü aslında.\n",
    "\n",
    "$R^2$: `coefficient of determination`."
   ]
  },
  {
   "cell_type": "markdown",
   "id": "national-clerk",
   "metadata": {},
   "source": [
    "https://scikit-learn.org/stable/modules/classes.html#module-sklearn.metrics"
   ]
  },
  {
   "cell_type": "code",
   "execution_count": 69,
   "id": "dynamic-danish",
   "metadata": {},
   "outputs": [],
   "source": [
    "# sklearn import\n",
    "\n",
    "from sklearn.metrics import r2_score, mean_squared_error"
   ]
  },
  {
   "cell_type": "code",
   "execution_count": 70,
   "id": "empirical-patent",
   "metadata": {},
   "outputs": [],
   "source": [
    "# R^2 yi hesaplayalım\n",
    "\n",
    "r_2 = r2_score(y_test, y_pred)"
   ]
  },
  {
   "cell_type": "code",
   "execution_count": 71,
   "id": "annoying-simulation",
   "metadata": {},
   "outputs": [
    {
     "name": "stdout",
     "output_type": "stream",
     "text": [
      "R^2: 0.9058622107532245\n"
     ]
    }
   ],
   "source": [
    "# R^2 yazdır\n",
    "\n",
    "print('R^2:', r_2)"
   ]
  },
  {
   "cell_type": "code",
   "execution_count": 72,
   "id": "existing-wheat",
   "metadata": {},
   "outputs": [
    {
     "name": "stdout",
     "output_type": "stream",
     "text": [
      "R^2 %: 90.58622107532244\n"
     ]
    }
   ],
   "source": [
    "# R^2 % olarak yazdır\n",
    "\n",
    "print('R^2 %:', r_2 * 100)"
   ]
  },
  {
   "cell_type": "code",
   "execution_count": 73,
   "id": "intimate-produce",
   "metadata": {},
   "outputs": [],
   "source": [
    "# MSE -> RMSE\n",
    "\n",
    "mse = mean_squared_error(y_test, y_pred)"
   ]
  },
  {
   "cell_type": "code",
   "execution_count": 74,
   "id": "eastern-sterling",
   "metadata": {},
   "outputs": [
    {
     "name": "stdout",
     "output_type": "stream",
     "text": [
      "MSE: 1.8506819941636972\n"
     ]
    }
   ],
   "source": [
    "# MSE'yi yazdır\n",
    "\n",
    "print('MSE:', mse)"
   ]
  },
  {
   "cell_type": "code",
   "execution_count": 75,
   "id": "boolean-closure",
   "metadata": {},
   "outputs": [],
   "source": [
    "# RMSE\n",
    "\n",
    "import math\n",
    "rmse = math.sqrt(mse)"
   ]
  },
  {
   "cell_type": "code",
   "execution_count": 76,
   "id": "answering-color",
   "metadata": {},
   "outputs": [
    {
     "name": "stdout",
     "output_type": "stream",
     "text": [
      "RMSE: 1.3603977338130555\n"
     ]
    }
   ],
   "source": [
    "# RMSE'yi yazdır\n",
    "\n",
    "print('RMSE:', rmse)"
   ]
  },
  {
   "cell_type": "markdown",
   "id": "refined-suggestion",
   "metadata": {},
   "source": [
    "### 14- OLS"
   ]
  },
  {
   "cell_type": "code",
   "execution_count": 77,
   "id": "difficult-cambodia",
   "metadata": {},
   "outputs": [],
   "source": [
    "import statsmodels.api as sm"
   ]
  },
  {
   "cell_type": "markdown",
   "id": "incoming-surface",
   "metadata": {},
   "source": [
    "https://www.statsmodels.org/stable/examples/notebooks/generated/ols.html"
   ]
  },
  {
   "cell_type": "code",
   "execution_count": 78,
   "id": "radio-director",
   "metadata": {},
   "outputs": [],
   "source": [
    "# statsmodels ile OLS (Ordinary Least Squares) çalıştır\n",
    "# statsmodels ols fonksiyonu beta_0 için otomatik değer atamaz\n",
    "# o yüzden beta_0 için 1 katsayısını bizim eklememiz lazım\n",
    "\n",
    "X_train_ols = sm.add_constant(X_train)"
   ]
  },
  {
   "cell_type": "code",
   "execution_count": 79,
   "id": "novel-school",
   "metadata": {},
   "outputs": [
    {
     "data": {
      "text/html": [
       "<div>\n",
       "<style scoped>\n",
       "    .dataframe tbody tr th:only-of-type {\n",
       "        vertical-align: middle;\n",
       "    }\n",
       "\n",
       "    .dataframe tbody tr th {\n",
       "        vertical-align: top;\n",
       "    }\n",
       "\n",
       "    .dataframe thead th {\n",
       "        text-align: right;\n",
       "    }\n",
       "</style>\n",
       "<table border=\"1\" class=\"dataframe\">\n",
       "  <thead>\n",
       "    <tr style=\"text-align: right;\">\n",
       "      <th></th>\n",
       "      <th>TV</th>\n",
       "      <th>radio</th>\n",
       "      <th>newspaper</th>\n",
       "    </tr>\n",
       "  </thead>\n",
       "  <tbody>\n",
       "    <tr>\n",
       "      <th>75</th>\n",
       "      <td>213.4</td>\n",
       "      <td>24.6</td>\n",
       "      <td>13.1</td>\n",
       "    </tr>\n",
       "    <tr>\n",
       "      <th>4</th>\n",
       "      <td>151.5</td>\n",
       "      <td>41.3</td>\n",
       "      <td>58.5</td>\n",
       "    </tr>\n",
       "    <tr>\n",
       "      <th>186</th>\n",
       "      <td>205.0</td>\n",
       "      <td>45.1</td>\n",
       "      <td>19.6</td>\n",
       "    </tr>\n",
       "    <tr>\n",
       "      <th>27</th>\n",
       "      <td>142.9</td>\n",
       "      <td>29.3</td>\n",
       "      <td>12.6</td>\n",
       "    </tr>\n",
       "    <tr>\n",
       "      <th>91</th>\n",
       "      <td>134.3</td>\n",
       "      <td>4.9</td>\n",
       "      <td>9.3</td>\n",
       "    </tr>\n",
       "    <tr>\n",
       "      <th>...</th>\n",
       "      <td>...</td>\n",
       "      <td>...</td>\n",
       "      <td>...</td>\n",
       "    </tr>\n",
       "    <tr>\n",
       "      <th>88</th>\n",
       "      <td>110.7</td>\n",
       "      <td>40.6</td>\n",
       "      <td>63.2</td>\n",
       "    </tr>\n",
       "    <tr>\n",
       "      <th>104</th>\n",
       "      <td>187.9</td>\n",
       "      <td>17.2</td>\n",
       "      <td>17.9</td>\n",
       "    </tr>\n",
       "    <tr>\n",
       "      <th>68</th>\n",
       "      <td>139.3</td>\n",
       "      <td>14.5</td>\n",
       "      <td>10.2</td>\n",
       "    </tr>\n",
       "    <tr>\n",
       "      <th>25</th>\n",
       "      <td>62.3</td>\n",
       "      <td>12.6</td>\n",
       "      <td>18.3</td>\n",
       "    </tr>\n",
       "    <tr>\n",
       "      <th>9</th>\n",
       "      <td>8.6</td>\n",
       "      <td>2.1</td>\n",
       "      <td>1.0</td>\n",
       "    </tr>\n",
       "  </tbody>\n",
       "</table>\n",
       "<p>140 rows × 3 columns</p>\n",
       "</div>"
      ],
      "text/plain": [
       "        TV  radio  newspaper\n",
       "75   213.4   24.6       13.1\n",
       "4    151.5   41.3       58.5\n",
       "186  205.0   45.1       19.6\n",
       "27   142.9   29.3       12.6\n",
       "91   134.3    4.9        9.3\n",
       "..     ...    ...        ...\n",
       "88   110.7   40.6       63.2\n",
       "104  187.9   17.2       17.9\n",
       "68   139.3   14.5       10.2\n",
       "25    62.3   12.6       18.3\n",
       "9      8.6    2.1        1.0\n",
       "\n",
       "[140 rows x 3 columns]"
      ]
     },
     "execution_count": 79,
     "metadata": {},
     "output_type": "execute_result"
    }
   ],
   "source": [
    "X_train"
   ]
  },
  {
   "cell_type": "code",
   "execution_count": 80,
   "id": "thorough-evidence",
   "metadata": {},
   "outputs": [
    {
     "data": {
      "text/html": [
       "<div>\n",
       "<style scoped>\n",
       "    .dataframe tbody tr th:only-of-type {\n",
       "        vertical-align: middle;\n",
       "    }\n",
       "\n",
       "    .dataframe tbody tr th {\n",
       "        vertical-align: top;\n",
       "    }\n",
       "\n",
       "    .dataframe thead th {\n",
       "        text-align: right;\n",
       "    }\n",
       "</style>\n",
       "<table border=\"1\" class=\"dataframe\">\n",
       "  <thead>\n",
       "    <tr style=\"text-align: right;\">\n",
       "      <th></th>\n",
       "      <th>const</th>\n",
       "      <th>TV</th>\n",
       "      <th>radio</th>\n",
       "      <th>newspaper</th>\n",
       "    </tr>\n",
       "  </thead>\n",
       "  <tbody>\n",
       "    <tr>\n",
       "      <th>75</th>\n",
       "      <td>1.0</td>\n",
       "      <td>213.4</td>\n",
       "      <td>24.6</td>\n",
       "      <td>13.1</td>\n",
       "    </tr>\n",
       "    <tr>\n",
       "      <th>4</th>\n",
       "      <td>1.0</td>\n",
       "      <td>151.5</td>\n",
       "      <td>41.3</td>\n",
       "      <td>58.5</td>\n",
       "    </tr>\n",
       "    <tr>\n",
       "      <th>186</th>\n",
       "      <td>1.0</td>\n",
       "      <td>205.0</td>\n",
       "      <td>45.1</td>\n",
       "      <td>19.6</td>\n",
       "    </tr>\n",
       "    <tr>\n",
       "      <th>27</th>\n",
       "      <td>1.0</td>\n",
       "      <td>142.9</td>\n",
       "      <td>29.3</td>\n",
       "      <td>12.6</td>\n",
       "    </tr>\n",
       "    <tr>\n",
       "      <th>91</th>\n",
       "      <td>1.0</td>\n",
       "      <td>134.3</td>\n",
       "      <td>4.9</td>\n",
       "      <td>9.3</td>\n",
       "    </tr>\n",
       "    <tr>\n",
       "      <th>...</th>\n",
       "      <td>...</td>\n",
       "      <td>...</td>\n",
       "      <td>...</td>\n",
       "      <td>...</td>\n",
       "    </tr>\n",
       "    <tr>\n",
       "      <th>88</th>\n",
       "      <td>1.0</td>\n",
       "      <td>110.7</td>\n",
       "      <td>40.6</td>\n",
       "      <td>63.2</td>\n",
       "    </tr>\n",
       "    <tr>\n",
       "      <th>104</th>\n",
       "      <td>1.0</td>\n",
       "      <td>187.9</td>\n",
       "      <td>17.2</td>\n",
       "      <td>17.9</td>\n",
       "    </tr>\n",
       "    <tr>\n",
       "      <th>68</th>\n",
       "      <td>1.0</td>\n",
       "      <td>139.3</td>\n",
       "      <td>14.5</td>\n",
       "      <td>10.2</td>\n",
       "    </tr>\n",
       "    <tr>\n",
       "      <th>25</th>\n",
       "      <td>1.0</td>\n",
       "      <td>62.3</td>\n",
       "      <td>12.6</td>\n",
       "      <td>18.3</td>\n",
       "    </tr>\n",
       "    <tr>\n",
       "      <th>9</th>\n",
       "      <td>1.0</td>\n",
       "      <td>8.6</td>\n",
       "      <td>2.1</td>\n",
       "      <td>1.0</td>\n",
       "    </tr>\n",
       "  </tbody>\n",
       "</table>\n",
       "<p>140 rows × 4 columns</p>\n",
       "</div>"
      ],
      "text/plain": [
       "     const     TV  radio  newspaper\n",
       "75     1.0  213.4   24.6       13.1\n",
       "4      1.0  151.5   41.3       58.5\n",
       "186    1.0  205.0   45.1       19.6\n",
       "27     1.0  142.9   29.3       12.6\n",
       "91     1.0  134.3    4.9        9.3\n",
       "..     ...    ...    ...        ...\n",
       "88     1.0  110.7   40.6       63.2\n",
       "104    1.0  187.9   17.2       17.9\n",
       "68     1.0  139.3   14.5       10.2\n",
       "25     1.0   62.3   12.6       18.3\n",
       "9      1.0    8.6    2.1        1.0\n",
       "\n",
       "[140 rows x 4 columns]"
      ]
     },
     "execution_count": 80,
     "metadata": {},
     "output_type": "execute_result"
    }
   ],
   "source": [
    "X_train_ols"
   ]
  },
  {
   "cell_type": "code",
   "execution_count": 81,
   "id": "promotional-diesel",
   "metadata": {},
   "outputs": [],
   "source": [
    "# statsmodels OLS modeli oluştur\n",
    "\n",
    "sm_model = sm.OLS(y_train, X_train_ols)"
   ]
  },
  {
   "cell_type": "code",
   "execution_count": 82,
   "id": "convinced-silver",
   "metadata": {},
   "outputs": [],
   "source": [
    "# OLS modelinin sonuçlarını al\n",
    "\n",
    "sonuc = sm_model.fit()"
   ]
  },
  {
   "cell_type": "code",
   "execution_count": 83,
   "id": "according-chance",
   "metadata": {},
   "outputs": [
    {
     "name": "stdout",
     "output_type": "stream",
     "text": [
      "                            OLS Regression Results                            \n",
      "==============================================================================\n",
      "Dep. Variable:                      y   R-squared:                       0.893\n",
      "Model:                            OLS   Adj. R-squared:                  0.890\n",
      "Method:                 Least Squares   F-statistic:                     377.6\n",
      "Date:                Mon, 08 Mar 2021   Prob (F-statistic):           9.97e-66\n",
      "Time:                        17:37:55   Log-Likelihood:                -280.83\n",
      "No. Observations:                 140   AIC:                             569.7\n",
      "Df Residuals:                     136   BIC:                             581.4\n",
      "Df Model:                           3                                         \n",
      "Covariance Type:            nonrobust                                         \n",
      "==============================================================================\n",
      "                 coef    std err          t      P>|t|      [0.025      0.975]\n",
      "------------------------------------------------------------------------------\n",
      "const          2.6528      0.384      6.906      0.000       1.893       3.412\n",
      "TV             0.0454      0.002     27.093      0.000       0.042       0.049\n",
      "radio          0.1898      0.011     17.009      0.000       0.168       0.212\n",
      "newspaper      0.0046      0.008      0.613      0.541      -0.010       0.019\n",
      "==============================================================================\n",
      "Omnibus:                       40.095   Durbin-Watson:                   1.862\n",
      "Prob(Omnibus):                  0.000   Jarque-Bera (JB):               83.622\n",
      "Skew:                          -1.233   Prob(JB):                     6.94e-19\n",
      "Kurtosis:                       5.873   Cond. No.                         443.\n",
      "==============================================================================\n",
      "\n",
      "Notes:\n",
      "[1] Standard Errors assume that the covariance matrix of the errors is correctly specified.\n"
     ]
    }
   ],
   "source": [
    "# OLS Özet tablosunu yazdır\n",
    "\n",
    "print(sonuc.summary())"
   ]
  },
  {
   "cell_type": "markdown",
   "id": "dental-express",
   "metadata": {},
   "source": [
    "**OLS Sonucu:**\n",
    "\n",
    "newspaper'ın p-değeri 0.05'ten büyük olduğu için bu değişkenin sonuç üzerinde bir etkisi yok.\n",
    "\n",
    "newspaper sütununu çıkaracağız."
   ]
  },
  {
   "cell_type": "markdown",
   "id": "defensive-tension",
   "metadata": {},
   "source": [
    "#### 15- Korelasyon (Correlation)"
   ]
  },
  {
   "cell_type": "code",
   "execution_count": 84,
   "id": "amber-pastor",
   "metadata": {},
   "outputs": [
    {
     "data": {
      "text/plain": [
       "<AxesSubplot:>"
      ]
     },
     "execution_count": 84,
     "metadata": {},
     "output_type": "execute_result"
    },
    {
     "data": {
      "image/png": "[encoded data removed]",
      "text/plain": [
       "<Figure size 432x288 with 2 Axes>"
      ]
     },
     "metadata": {
      "needs_background": "light"
     },
     "output_type": "display_data"
    }
   ],
   "source": [
    "sns.heatmap(df.corr(), annot=True)"
   ]
  },
  {
   "cell_type": "markdown",
   "id": "successful-symphony",
   "metadata": {},
   "source": [
    "---"
   ]
  },
  {
   "cell_type": "markdown",
   "id": "educated-westminster",
   "metadata": {},
   "source": [
    "#### 16- Sonuçlara göre tekrar Model oluştur"
   ]
  },
  {
   "cell_type": "markdown",
   "id": "arabic-literacy",
   "metadata": {},
   "source": [
    "Newspaper kolonu önemsiz olduğuna göre, onu çıkarıp tekrar model oluşturalım:"
   ]
  },
  {
   "cell_type": "code",
   "execution_count": 86,
   "id": "expired-reward",
   "metadata": {},
   "outputs": [
    {
     "data": {
      "text/html": [
       "<div>\n",
       "<style scoped>\n",
       "    .dataframe tbody tr th:only-of-type {\n",
       "        vertical-align: middle;\n",
       "    }\n",
       "\n",
       "    .dataframe tbody tr th {\n",
       "        vertical-align: top;\n",
       "    }\n",
       "\n",
       "    .dataframe thead th {\n",
       "        text-align: right;\n",
       "    }\n",
       "</style>\n",
       "<table border=\"1\" class=\"dataframe\">\n",
       "  <thead>\n",
       "    <tr style=\"text-align: right;\">\n",
       "      <th></th>\n",
       "      <th>TV</th>\n",
       "      <th>radio</th>\n",
       "    </tr>\n",
       "  </thead>\n",
       "  <tbody>\n",
       "    <tr>\n",
       "      <th>75</th>\n",
       "      <td>213.4</td>\n",
       "      <td>24.6</td>\n",
       "    </tr>\n",
       "    <tr>\n",
       "      <th>4</th>\n",
       "      <td>151.5</td>\n",
       "      <td>41.3</td>\n",
       "    </tr>\n",
       "    <tr>\n",
       "      <th>186</th>\n",
       "      <td>205.0</td>\n",
       "      <td>45.1</td>\n",
       "    </tr>\n",
       "    <tr>\n",
       "      <th>27</th>\n",
       "      <td>142.9</td>\n",
       "      <td>29.3</td>\n",
       "    </tr>\n",
       "    <tr>\n",
       "      <th>91</th>\n",
       "      <td>134.3</td>\n",
       "      <td>4.9</td>\n",
       "    </tr>\n",
       "  </tbody>\n",
       "</table>\n",
       "</div>"
      ],
      "text/plain": [
       "        TV  radio\n",
       "75   213.4   24.6\n",
       "4    151.5   41.3\n",
       "186  205.0   45.1\n",
       "27   142.9   29.3\n",
       "91   134.3    4.9"
      ]
     },
     "execution_count": 86,
     "metadata": {},
     "output_type": "execute_result"
    }
   ],
   "source": [
    "# yeni feature matrisi\n",
    "# X_train_yeni\n",
    "# X_test_yeni\n",
    "\n",
    "X_train_yeni = X_train[['TV', 'radio']]\n",
    "X_train_yeni.head()"
   ]
  },
  {
   "cell_type": "code",
   "execution_count": 87,
   "id": "pregnant-rogers",
   "metadata": {},
   "outputs": [
    {
     "data": {
      "text/html": [
       "<div>\n",
       "<style scoped>\n",
       "    .dataframe tbody tr th:only-of-type {\n",
       "        vertical-align: middle;\n",
       "    }\n",
       "\n",
       "    .dataframe tbody tr th {\n",
       "        vertical-align: top;\n",
       "    }\n",
       "\n",
       "    .dataframe thead th {\n",
       "        text-align: right;\n",
       "    }\n",
       "</style>\n",
       "<table border=\"1\" class=\"dataframe\">\n",
       "  <thead>\n",
       "    <tr style=\"text-align: right;\">\n",
       "      <th></th>\n",
       "      <th>TV</th>\n",
       "      <th>radio</th>\n",
       "    </tr>\n",
       "  </thead>\n",
       "  <tbody>\n",
       "    <tr>\n",
       "      <th>127</th>\n",
       "      <td>7.8</td>\n",
       "      <td>38.9</td>\n",
       "    </tr>\n",
       "    <tr>\n",
       "      <th>105</th>\n",
       "      <td>238.2</td>\n",
       "      <td>34.3</td>\n",
       "    </tr>\n",
       "    <tr>\n",
       "      <th>100</th>\n",
       "      <td>135.2</td>\n",
       "      <td>41.7</td>\n",
       "    </tr>\n",
       "    <tr>\n",
       "      <th>93</th>\n",
       "      <td>217.7</td>\n",
       "      <td>33.5</td>\n",
       "    </tr>\n",
       "    <tr>\n",
       "      <th>112</th>\n",
       "      <td>241.7</td>\n",
       "      <td>38.0</td>\n",
       "    </tr>\n",
       "  </tbody>\n",
       "</table>\n",
       "</div>"
      ],
      "text/plain": [
       "        TV  radio\n",
       "127    7.8   38.9\n",
       "105  238.2   34.3\n",
       "100  135.2   41.7\n",
       "93   217.7   33.5\n",
       "112  241.7   38.0"
      ]
     },
     "execution_count": 87,
     "metadata": {},
     "output_type": "execute_result"
    }
   ],
   "source": [
    "X_test_yeni = X_test[['TV', 'radio']]\n",
    "X_test_yeni.head()"
   ]
  },
  {
   "cell_type": "code",
   "execution_count": 88,
   "id": "basic-straight",
   "metadata": {},
   "outputs": [
    {
     "data": {
      "text/plain": [
       "LinearRegression()"
      ]
     },
     "execution_count": 88,
     "metadata": {},
     "output_type": "execute_result"
    }
   ],
   "source": [
    "# modeli tekrar kurgula\n",
    "\n",
    "lr.fit(X_train_yeni, y_train)"
   ]
  },
  {
   "cell_type": "code",
   "execution_count": 89,
   "id": "continued-salem",
   "metadata": {},
   "outputs": [],
   "source": [
    "# yeni tahminleri al\n",
    "\n",
    "y_pred_yeni = lr.predict(X_test_yeni)"
   ]
  },
  {
   "cell_type": "code",
   "execution_count": 90,
   "id": "planned-liabilities",
   "metadata": {
    "collapsed": true,
    "jupyter": {
     "outputs_hidden": true
    }
   },
   "outputs": [
    {
     "data": {
      "text/plain": [
       "array([[10.56198847],\n",
       "       [20.16735504],\n",
       "       [16.90186462],\n",
       "       [19.07993718],\n",
       "       [21.03892699],\n",
       "       [13.13621118],\n",
       "       [11.80982028],\n",
       "       [12.39007729],\n",
       "       [20.59914742],\n",
       "       [21.04083466],\n",
       "       [10.88508869],\n",
       "       [19.38624121],\n",
       "       [ 6.37517955],\n",
       "       [15.33164571],\n",
       "       [ 8.96088175],\n",
       "       [ 7.95144449],\n",
       "       [16.38791571],\n",
       "       [11.97017124],\n",
       "       [17.24725749],\n",
       "       [11.20901475],\n",
       "       [17.11470022],\n",
       "       [ 9.70819803],\n",
       "       [20.79788275],\n",
       "       [17.20749366],\n",
       "       [15.18035107],\n",
       "       [22.18189008],\n",
       "       [19.17555656],\n",
       "       [10.05518823],\n",
       "       [19.5883307 ],\n",
       "       [14.98424867],\n",
       "       [14.39922454],\n",
       "       [ 7.65095995],\n",
       "       [ 9.84543862],\n",
       "       [14.78150095],\n",
       "       [ 7.22855505],\n",
       "       [13.69168479],\n",
       "       [ 7.43358375],\n",
       "       [11.75347003],\n",
       "       [13.50004784],\n",
       "       [15.057806  ],\n",
       "       [17.06957807],\n",
       "       [13.68351323],\n",
       "       [14.23222825],\n",
       "       [13.70744537],\n",
       "       [11.96487996],\n",
       "       [ 8.70898678],\n",
       "       [11.90028246],\n",
       "       [19.26409026],\n",
       "       [ 9.01348371],\n",
       "       [ 5.17060846],\n",
       "       [16.23196722],\n",
       "       [18.16063096],\n",
       "       [12.87565806],\n",
       "       [16.92691617],\n",
       "       [17.99125313],\n",
       "       [12.31004629],\n",
       "       [ 4.29140991],\n",
       "       [11.39172539],\n",
       "       [16.20134352],\n",
       "       [13.51229884]])"
      ]
     },
     "execution_count": 90,
     "metadata": {},
     "output_type": "execute_result"
    }
   ],
   "source": [
    "# yeni tahminler\n",
    "\n",
    "y_pred_yeni"
   ]
  },
  {
   "cell_type": "code",
   "execution_count": 92,
   "id": "hawaiian-consideration",
   "metadata": {},
   "outputs": [],
   "source": [
    "# yeni OLS'i gör\n",
    "\n",
    "X_train_yeni_ols = sm.add_constant(X_train_yeni)"
   ]
  },
  {
   "cell_type": "code",
   "execution_count": 93,
   "id": "driven-breakdown",
   "metadata": {},
   "outputs": [],
   "source": [
    "# statsmodels OLS modeli oluştur\n",
    "\n",
    "sm_model = sm.OLS(y_train, X_train_yeni_ols)"
   ]
  },
  {
   "cell_type": "code",
   "execution_count": 94,
   "id": "female-canada",
   "metadata": {},
   "outputs": [],
   "source": [
    "# OLS modelinin sonuçlarını al\n",
    "\n",
    "sonuc = sm_model.fit()"
   ]
  },
  {
   "cell_type": "code",
   "execution_count": 95,
   "id": "selective-mystery",
   "metadata": {},
   "outputs": [
    {
     "name": "stdout",
     "output_type": "stream",
     "text": [
      "                            OLS Regression Results                            \n",
      "==============================================================================\n",
      "Dep. Variable:                      y   R-squared:                       0.893\n",
      "Model:                            OLS   Adj. R-squared:                  0.891\n",
      "Method:                 Least Squares   F-statistic:                     568.8\n",
      "Date:                Mon, 08 Mar 2021   Prob (F-statistic):           4.46e-67\n",
      "Time:                        18:04:36   Log-Likelihood:                -281.03\n",
      "No. Observations:                 140   AIC:                             568.1\n",
      "Df Residuals:                     137   BIC:                             576.9\n",
      "Df Model:                           2                                         \n",
      "Covariance Type:            nonrobust                                         \n",
      "==============================================================================\n",
      "                 coef    std err          t      P>|t|      [0.025      0.975]\n",
      "------------------------------------------------------------------------------\n",
      "const          2.7190      0.368      7.392      0.000       1.992       3.446\n",
      "TV             0.0455      0.002     27.368      0.000       0.042       0.049\n",
      "radio          0.1925      0.010     18.860      0.000       0.172       0.213\n",
      "==============================================================================\n",
      "Omnibus:                       41.530   Durbin-Watson:                   1.862\n",
      "Prob(Omnibus):                  0.000   Jarque-Bera (JB):               90.544\n",
      "Skew:                          -1.255   Prob(JB):                     2.18e-20\n",
      "Kurtosis:                       6.037   Cond. No.                         419.\n",
      "==============================================================================\n",
      "\n",
      "Notes:\n",
      "[1] Standard Errors assume that the covariance matrix of the errors is correctly specified.\n"
     ]
    }
   ],
   "source": [
    "# OLS Özet tablosunu yazdır\n",
    "\n",
    "print(sonuc.summary())"
   ]
  },
  {
   "cell_type": "markdown",
   "id": "equal-antique",
   "metadata": {},
   "source": [
    "Şu anda iki değişkenimiz de (TV, radio) önemli (significant).\n",
    "\n",
    "Çünkü p-değerleri 0.05'ten küçük."
   ]
  },
  {
   "cell_type": "markdown",
   "id": "interpreted-shore",
   "metadata": {},
   "source": [
    "**Backward Elimination**\n",
    "\n",
    "Eğer böyle değil de, herhangi birinin p-değeri 0.05'ten büyük olsaydı, \n",
    "\n",
    "Onu da çıkarıp tekrar bir LineerRegression çalışıtıracaktık.\n",
    "\n",
    "Bu döngü bu şekilde devam eder.\n",
    "\n",
    "Ta ki, tüm değişkenler önemli olarak kalana kadar."
   ]
  },
  {
   "cell_type": "markdown",
   "id": "overhead-blink",
   "metadata": {},
   "source": [
    "---"
   ]
  },
  {
   "cell_type": "markdown",
   "id": "occupied-freedom",
   "metadata": {},
   "source": [
    "### İSPAT - Gerçekten Newspaper Önemsiz mi?"
   ]
  },
  {
   "cell_type": "code",
   "execution_count": 98,
   "id": "rolled-quantity",
   "metadata": {},
   "outputs": [
    {
     "name": "stdout",
     "output_type": "stream",
     "text": [
      "                            OLS Regression Results                            \n",
      "==============================================================================\n",
      "Dep. Variable:                      y   R-squared:                       0.096\n",
      "Model:                            OLS   Adj. R-squared:                  0.089\n",
      "Method:                 Least Squares   F-statistic:                     14.65\n",
      "Date:                Mon, 08 Mar 2021   Prob (F-statistic):           0.000195\n",
      "Time:                        18:13:14   Log-Likelihood:                -430.09\n",
      "No. Observations:                 140   AIC:                             864.2\n",
      "Df Residuals:                     138   BIC:                             870.1\n",
      "Df Model:                           1                                         \n",
      "Covariance Type:            nonrobust                                         \n",
      "==============================================================================\n",
      "                 coef    std err          t      P>|t|      [0.025      0.975]\n",
      "------------------------------------------------------------------------------\n",
      "const         11.4844      0.763     15.052      0.000       9.976      12.993\n",
      "x1             0.0755      0.020      3.828      0.000       0.036       0.114\n",
      "==============================================================================\n",
      "Omnibus:                        4.198   Durbin-Watson:                   1.910\n",
      "Prob(Omnibus):                  0.123   Jarque-Bera (JB):                3.875\n",
      "Skew:                           0.338   Prob(JB):                        0.144\n",
      "Kurtosis:                       2.546   Cond. No.                         66.4\n",
      "==============================================================================\n",
      "\n",
      "Notes:\n",
      "[1] Standard Errors assume that the covariance matrix of the errors is correctly specified.\n"
     ]
    }
   ],
   "source": [
    "# input -> feature (X)\n",
    "X = df['newspaper']\n",
    "\n",
    "# output\n",
    "y = df['sales']\n",
    "\n",
    "# yeniden boyutlandırmamız lazım\n",
    "X = X.values.reshape(-1, 1)\n",
    "y = y.values.reshape(-1, 1)\n",
    "\n",
    "# train-test split\n",
    "X_train, X_test, y_train, y_test = train_test_split(X, y, test_size=0.30, random_state=100)\n",
    "\n",
    "# statsmodels OLS\n",
    "X_train_ols = sm.add_constant(X_train)\n",
    "model = sm.OLS(y_train, X_train_ols)\n",
    "result = model.fit()\n",
    "\n",
    "# OLS Özet tablosunu yazdır\n",
    "print(result.summary())"
   ]
  },
  {
   "cell_type": "markdown",
   "id": "proved-sense",
   "metadata": {},
   "source": [
    "#### Gördüğünüz gibi $R^2 = 0.096$ (%9.6) olarak çıktı.\n",
    "\n",
    "Yani çok düşük.\n",
    "\n",
    "Dolayısı ile newspaper'in gerçekten bir tahmin değeri yok."
   ]
  },
  {
   "cell_type": "markdown",
   "id": "center-automation",
   "metadata": {},
   "source": [
    "---"
   ]
  },
  {
   "cell_type": "markdown",
   "id": "intimate-accent",
   "metadata": {},
   "source": [
    "**Adjustes R-Square**:\n",
    "\n",
    "Multiple Lineer Regresyon Yöntemlerinde, Backward Selection'ı bir örnekle gördük.\n",
    "\n",
    "Başka bir çözüm yolu ise Forward Selection'dır.\n",
    "\n",
    "Forward Selection'da, belli bir sayıda değişken ile başlanır ve her seferinde yeni bir değişken eklenerek ilerlenir.\n",
    "\n",
    "Her yeni değişken demek biraz daha iyileşmesi demek tahminin (en kötü ihtimalle aynı kalır.)\n",
    "\n",
    "İşte biraz daha iyileşme demek $R^2$ nin artması demek.\n",
    "\n",
    "Ama bu artma yanıltıcı olabilir. Sırf bir değişken eklediğimiz için $R^2$ nin artması çok doğru olmaz.\n",
    "\n",
    "Bunu egale etmek için **Adjusted** $R^2$ vardır.\n",
    "\n",
    "Dolayısı ile Multiple Lineer Regression analizlerinde, Adjusted $R^2$ daha güvenilir olarak kabul edilir."
   ]
  }
 ],
 "metadata": {
  "kernelspec": {
   "display_name": "Python 3",
   "language": "python",
   "name": "python3"
  },
  "language_info": {
   "codemirror_mode": {
    "name": "ipython",
    "version": 3
   },
   "file_extension": ".py",
   "mimetype": "text/x-python",
   "name": "python",
   "nbconvert_exporter": "python",
   "pygments_lexer": "ipython3",
   "version": "3.8.5"
  }
 },
 "nbformat": 4,
 "nbformat_minor": 5
}

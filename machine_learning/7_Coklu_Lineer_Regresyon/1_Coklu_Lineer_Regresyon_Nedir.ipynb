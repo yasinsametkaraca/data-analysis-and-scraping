{
 "cells": [
  {
   "cell_type": "markdown",
   "id": "foreign-edinburgh",
   "metadata": {},
   "source": [
    "## Çoklu Lineer Regrasyon Nedir?"
   ]
  },
  {
   "cell_type": "markdown",
   "id": "funny-peripheral",
   "metadata": {},
   "source": [
    "**Multiple Lineer Regression**"
   ]
  },
  {
   "cell_type": "markdown",
   "id": "promising-upset",
   "metadata": {},
   "source": [
    "Basit Lineer Regresyon:\n",
    "\n",
    "$$ y = \\beta_0 + \\beta_1X + \\epsilon $$"
   ]
  },
  {
   "cell_type": "markdown",
   "id": "worse-index",
   "metadata": {},
   "source": [
    "Sonuç değişkeninin (y) tek bir girdiye değil, birden çok girdiye bağlı olduğu durumlara denir.\n",
    "\n",
    "**p > 1**"
   ]
  },
  {
   "cell_type": "markdown",
   "id": "small-miller",
   "metadata": {},
   "source": [
    "$$ y = \\beta_0 + \\beta_1X_1 + \\beta_2X_2 + ... + \\beta_pX_p + \\epsilon $$"
   ]
  },
  {
   "cell_type": "markdown",
   "id": "respective-humanity",
   "metadata": {},
   "source": [
    "$$ y = \\beta_0 + \\beta_1*TV + \\beta_2*Radio + ... + \\beta_3*Newspaper $$"
   ]
  },
  {
   "cell_type": "markdown",
   "id": "continuing-transformation",
   "metadata": {},
   "source": [
    "Bu katsayı tahminleri yine RSS (OLS) denir."
   ]
  }
 ],
 "metadata": {
  "kernelspec": {
   "display_name": "Python 3",
   "language": "python",
   "name": "python3"
  },
  "language_info": {
   "codemirror_mode": {
    "name": "ipython",
    "version": 3
   },
   "file_extension": ".py",
   "mimetype": "text/x-python",
   "name": "python",
   "nbconvert_exporter": "python",
   "pygments_lexer": "ipython3",
   "version": "3.8.5"
  }
 },
 "nbformat": 4,
 "nbformat_minor": 5
}

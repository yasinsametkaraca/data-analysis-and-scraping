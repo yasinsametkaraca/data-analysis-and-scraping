{
 "cells": [
  {
   "cell_type": "markdown",
   "metadata": {},
   "source": [
    "# Gradient Descent"
   ]
  },
  {
   "cell_type": "markdown",
   "metadata": {},
   "source": [
    "Makine Öğrenmesi için çok önemli olan Gradient Descent konusunu öğreneceğiz."
   ]
  },
  {
   "cell_type": "markdown",
   "metadata": {},
   "source": [
    "Gradient Descent neredeyse bütün ML algoritmaları için kullanılır ve Gradient Descent', ML algortimalarının nasıl işlediğini anlamanız için hayati önemdedir."
   ]
  },
  {
   "cell_type": "markdown",
   "metadata": {},
   "source": [
    "### Data"
   ]
  },
  {
   "cell_type": "markdown",
   "metadata": {},
   "source": [
    "Önce kendimize biraz data oluşturalım"
   ]
  },
  {
   "cell_type": "code",
   "execution_count": 1,
   "metadata": {},
   "outputs": [],
   "source": [
    "import numpy as np\n",
    "import matplotlib.pyplot as plt"
   ]
  },
  {
   "cell_type": "code",
   "execution_count": 2,
   "metadata": {
    "collapsed": true,
    "jupyter": {
     "outputs_hidden": true
    }
   },
   "outputs": [
    {
     "data": {
      "text/plain": [
       "array([[1.64168985],\n",
       "       [1.46749882],\n",
       "       [0.90447051],\n",
       "       [0.15354988],\n",
       "       [0.67968607],\n",
       "       [1.50988772],\n",
       "       [0.6514434 ],\n",
       "       [0.92151209],\n",
       "       [1.32652601],\n",
       "       [0.4577011 ],\n",
       "       [0.63685117],\n",
       "       [1.73837481],\n",
       "       [0.20196846],\n",
       "       [1.87302923],\n",
       "       [0.1242601 ],\n",
       "       [1.58758944],\n",
       "       [1.85272133],\n",
       "       [0.03281022],\n",
       "       [1.79682987],\n",
       "       [1.77360154],\n",
       "       [1.8633746 ],\n",
       "       [0.52236198],\n",
       "       [0.02815051],\n",
       "       [0.4893485 ],\n",
       "       [0.46313899],\n",
       "       [1.16959494],\n",
       "       [0.53561467],\n",
       "       [1.01072359],\n",
       "       [1.49903182],\n",
       "       [0.20295355],\n",
       "       [1.8661215 ],\n",
       "       [1.21896765],\n",
       "       [1.60167686],\n",
       "       [0.60360278],\n",
       "       [1.7095293 ],\n",
       "       [1.00869171],\n",
       "       [1.12295391],\n",
       "       [0.06195955],\n",
       "       [0.29281808],\n",
       "       [1.52056446],\n",
       "       [0.97513244],\n",
       "       [1.64730959],\n",
       "       [0.93658467],\n",
       "       [0.8429518 ],\n",
       "       [1.92923871],\n",
       "       [1.80950714],\n",
       "       [0.34918211],\n",
       "       [1.45850307],\n",
       "       [0.87529968],\n",
       "       [1.79811918],\n",
       "       [1.44454188],\n",
       "       [1.04496415],\n",
       "       [1.35219534],\n",
       "       [0.34229949],\n",
       "       [1.44362201],\n",
       "       [0.72222396],\n",
       "       [0.32820898],\n",
       "       [0.2040294 ],\n",
       "       [0.97484556],\n",
       "       [1.62363164],\n",
       "       [0.08516126],\n",
       "       [1.16761005],\n",
       "       [0.72801259],\n",
       "       [0.77825212],\n",
       "       [1.62507017],\n",
       "       [1.15427927],\n",
       "       [0.07852775],\n",
       "       [1.26327192],\n",
       "       [1.3923102 ],\n",
       "       [1.47996645],\n",
       "       [1.71497145],\n",
       "       [0.04007752],\n",
       "       [1.50379495],\n",
       "       [0.87281545],\n",
       "       [0.49696594],\n",
       "       [1.45434637],\n",
       "       [0.19700901],\n",
       "       [0.79842028],\n",
       "       [1.80596544],\n",
       "       [0.19138462],\n",
       "       [0.22659315],\n",
       "       [0.09398003],\n",
       "       [0.5860234 ],\n",
       "       [0.92020363],\n",
       "       [1.11213942],\n",
       "       [0.04201936],\n",
       "       [1.60339678],\n",
       "       [1.58318608],\n",
       "       [1.59646716],\n",
       "       [0.8240086 ],\n",
       "       [1.79182334],\n",
       "       [1.60636676],\n",
       "       [1.67391358],\n",
       "       [1.58532194],\n",
       "       [1.08225449],\n",
       "       [0.55263041],\n",
       "       [0.33446042],\n",
       "       [0.40081742],\n",
       "       [1.35240175],\n",
       "       [0.90070212]])"
      ]
     },
     "execution_count": 2,
     "metadata": {},
     "output_type": "execute_result"
    }
   ],
   "source": [
    "X = 2 * np.random.rand(100, 1)\n",
    "X"
   ]
  },
  {
   "cell_type": "code",
   "execution_count": 3,
   "metadata": {
    "collapsed": true,
    "jupyter": {
     "outputs_hidden": true
    }
   },
   "outputs": [
    {
     "data": {
      "text/plain": [
       "array([[ 9.12094773],\n",
       "       [ 8.97842344],\n",
       "       [ 7.48779418],\n",
       "       [ 4.78861802],\n",
       "       [ 6.41328758],\n",
       "       [ 8.69834884],\n",
       "       [ 6.18434434],\n",
       "       [ 6.90623505],\n",
       "       [ 8.03894045],\n",
       "       [ 6.24818222],\n",
       "       [ 6.83423955],\n",
       "       [ 9.31170374],\n",
       "       [ 5.01826816],\n",
       "       [10.37847816],\n",
       "       [ 4.97994889],\n",
       "       [ 8.94945407],\n",
       "       [ 9.62495446],\n",
       "       [ 4.94303431],\n",
       "       [10.33251677],\n",
       "       [ 9.73081658],\n",
       "       [10.16490629],\n",
       "       [ 6.45790574],\n",
       "       [ 4.4739121 ],\n",
       "       [ 5.53584072],\n",
       "       [ 5.54653163],\n",
       "       [ 8.12848034],\n",
       "       [ 5.86957121],\n",
       "       [ 7.54017011],\n",
       "       [ 9.14527269],\n",
       "       [ 4.74770305],\n",
       "       [10.09156208],\n",
       "       [ 8.40362457],\n",
       "       [ 9.33766481],\n",
       "       [ 6.49968229],\n",
       "       [ 9.38539672],\n",
       "       [ 7.55543908],\n",
       "       [ 7.40457609],\n",
       "       [ 4.56150905],\n",
       "       [ 5.00180064],\n",
       "       [ 8.59442229],\n",
       "       [ 7.27034724],\n",
       "       [ 9.60641849],\n",
       "       [ 7.69024635],\n",
       "       [ 7.24440237],\n",
       "       [10.05632065],\n",
       "       [10.28275906],\n",
       "       [ 5.09747259],\n",
       "       [ 8.63082264],\n",
       "       [ 7.39803884],\n",
       "       [10.3293733 ],\n",
       "       [ 8.77748668],\n",
       "       [ 7.93488902],\n",
       "       [ 8.39916804],\n",
       "       [ 5.88417095],\n",
       "       [ 9.07775009],\n",
       "       [ 6.68180321],\n",
       "       [ 5.19875418],\n",
       "       [ 5.42867153],\n",
       "       [ 7.31331904],\n",
       "       [ 9.84404843],\n",
       "       [ 4.73020014],\n",
       "       [ 7.62140878],\n",
       "       [ 6.69681727],\n",
       "       [ 6.41842435],\n",
       "       [ 9.50631891],\n",
       "       [ 8.45714486],\n",
       "       [ 4.62363207],\n",
       "       [ 8.66903623],\n",
       "       [ 8.35934823],\n",
       "       [ 8.49957271],\n",
       "       [ 9.62669138],\n",
       "       [ 4.2638784 ],\n",
       "       [ 8.74196613],\n",
       "       [ 7.20262942],\n",
       "       [ 5.5063037 ],\n",
       "       [ 8.96574087],\n",
       "       [ 4.87554686],\n",
       "       [ 6.40871656],\n",
       "       [ 9.46902426],\n",
       "       [ 5.46652661],\n",
       "       [ 5.43377514],\n",
       "       [ 4.6418258 ],\n",
       "       [ 6.49784875],\n",
       "       [ 7.56988914],\n",
       "       [ 7.46365675],\n",
       "       [ 4.55127144],\n",
       "       [ 9.66411136],\n",
       "       [ 9.71849741],\n",
       "       [ 9.55617468],\n",
       "       [ 7.15928491],\n",
       "       [10.306536  ],\n",
       "       [ 9.78340573],\n",
       "       [ 9.75370449],\n",
       "       [ 9.33831488],\n",
       "       [ 7.95511402],\n",
       "       [ 5.97242611],\n",
       "       [ 5.91644889],\n",
       "       [ 6.06752479],\n",
       "       [ 8.89930053],\n",
       "       [ 6.87705739]])"
      ]
     },
     "execution_count": 3,
     "metadata": {},
     "output_type": "execute_result"
    }
   ],
   "source": [
    "y = 4 + 3 * X + np.random.rand(100, 1)\n",
    "y"
   ]
  },
  {
   "cell_type": "code",
   "execution_count": 4,
   "metadata": {},
   "outputs": [
    {
     "data": {
      "image/png": "[encoded data removed]",
      "text/plain": [
       "<Figure size 432x288 with 1 Axes>"
      ]
     },
     "metadata": {
      "needs_background": "light"
     },
     "output_type": "display_data"
    }
   ],
   "source": [
    "plt.scatter(X, y)\n",
    "plt.xlabel('X')\n",
    "plt.ylabel('y')\n",
    "plt.show()"
   ]
  },
  {
   "cell_type": "markdown",
   "metadata": {},
   "source": [
    "Görüldüğü gibi, y ile X arasında lineer bir ilişki var."
   ]
  },
  {
   "cell_type": "markdown",
   "metadata": {},
   "source": [
    "X ile y arasındaki gerçek ilişki:\n",
    "\n",
    "$$ y = w_0 + w_1X + \\epsilon $$"
   ]
  },
  {
   "cell_type": "markdown",
   "metadata": {},
   "source": [
    "Burada W (weight) vektorü: $W = [w_0 \\ w_1]$"
   ]
  },
  {
   "cell_type": "markdown",
   "metadata": {},
   "source": [
    "Yukarıda yazdığımız denklemde:\n",
    "\n",
    "$y = 4 + 3 * X + np.random.rand(100, 1)$\n",
    "\n",
    "gerçek katsayı değerleri:\n",
    "\n",
    "$w_0 = 4$\n",
    "\n",
    "$w_1 = 3$"
   ]
  },
  {
   "cell_type": "markdown",
   "metadata": {},
   "source": [
    "Vektörler ile gösterirsek:\n",
    "\n",
    "$$ y = WX + \\epsilon $$\n",
    "\n",
    "Burada $WX$ değeri W ile X'in Dot Product'ıdır (İç Çarpım)."
   ]
  },
  {
   "cell_type": "markdown",
   "metadata": {},
   "source": [
    "**Analitik Çözüm:**"
   ]
  },
  {
   "cell_type": "markdown",
   "metadata": {},
   "source": [
    "Least Squares yöntemi, RSS minimize ederek, en iyi $w_0$ ve $w_1$ değerlerini tahmin eder."
   ]
  },
  {
   "cell_type": "markdown",
   "metadata": {},
   "source": [
    "Tahmin (herhangi bir x_i değerinde):\n",
    "\n",
    "$$ \\hat y^{(i)} = \\hat w_0 + \\hat w_1 x^{(i)} $$"
   ]
  },
  {
   "cell_type": "markdown",
   "metadata": {},
   "source": [
    "$x^{(i)}$: indexi i olan data\n",
    "\n",
    "$\\hat y^{(i)}$: indexi i olan data için tahmin (toplamda n adet data var)"
   ]
  },
  {
   "cell_type": "markdown",
   "metadata": {},
   "source": [
    "Genel olarak:\n",
    "* **Değişkenler** için (sütun) alt index **($x_i$)** kullanılır.\n",
    "* **Veriler** için (satır) üst index **($x^{(i)}$)** kullanılır"
   ]
  },
  {
   "cell_type": "markdown",
   "metadata": {},
   "source": [
    "Burada X'ler yani girdiler bilindiğine göre, tahmin etmeye çalıştığımız değişkenler (katsayılar) $w_0$ ve $w_1$ dir."
   ]
  },
  {
   "cell_type": "markdown",
   "metadata": {},
   "source": [
    "**Not:** Katsayılar için aşağıdakilerin hepsi de kullanılır:\n",
    "* $w$\n",
    "* $\\theta$\n",
    "* $\\beta$"
   ]
  },
  {
   "cell_type": "markdown",
   "metadata": {},
   "source": [
    "Tahmini **Least Squares** yöntemi ile yaparız.\n",
    "\n",
    "`Ordinary Least Squares (OLS)`\n",
    "\n",
    "Yani yine toplam hata karelerini hesaplayarak."
   ]
  },
  {
   "cell_type": "markdown",
   "metadata": {},
   "source": [
    "Herhangi bir i noktasındaki hata:\n",
    "\n",
    "**e: residual error**\n",
    "\n",
    "$$ e^{(i)} = \\hat y^{(i)} - y^{(i)} $$"
   ]
  },
  {
   "cell_type": "markdown",
   "metadata": {},
   "source": [
    "**RSS: Residual Sum of Squares**\n",
    "\n",
    "$$RSS = e_1^2 + e_2^2 + ... + e_n^2$$"
   ]
  },
  {
   "cell_type": "markdown",
   "metadata": {},
   "source": [
    "Least Squares yöntemi, RSS minimize ederek, en iyi $w_0$ ve $w_1$ değerlerini tahmin eder."
   ]
  },
  {
   "cell_type": "markdown",
   "metadata": {},
   "source": [
    "$$ \\hat w_1 = \\frac{\\sum_{i=1}^n (x^{(i)} - \\overline x)(y^{(i)} - \\overline y)}{\\sum_{i=1}^n (x^{(i)} - \\overline x)^2} $$\n",
    "\n",
    "$$ \\hat w_0 = \\overline y - \\hat w_1 \\overline x $$\n",
    "\n",
    "burada:\n",
    "\n",
    "$$ \\overline y = \\frac{1}{n} \\sum_{i=1}^n y^{(i)} $$\n",
    "\n",
    "$$ \\overline x = \\frac{1}{n} \\sum_{i=1}^n x^{(i)} $$"
   ]
  },
  {
   "cell_type": "markdown",
   "metadata": {},
   "source": [
    "Analitik Yöntem ile çözüm çoğu zaman mümkün olmaz."
   ]
  },
  {
   "cell_type": "markdown",
   "metadata": {},
   "source": [
    "X, W ve y aslında birer Matristirler ve çoğu zaman X matrisinin boyutu çok ama çok büyük olur."
   ]
  },
  {
   "cell_type": "markdown",
   "metadata": {},
   "source": [
    "Analitik Yöntem ile wları bulmak için çok büyük oranda Matrix Çarpımları yapılması gerekir ki, bilgisayarların CPU/GPU'sunu ciddi oranda yoran bir işlemdir."
   ]
  },
  {
   "cell_type": "markdown",
   "metadata": {},
   "source": [
    "Daha etkili bir yol bulmamız lazım."
   ]
  },
  {
   "cell_type": "markdown",
   "metadata": {},
   "source": [
    "**Problem Tanımı:**\n",
    "\n",
    "Toplam Hatayı minimize edecek $w_0$ ve $w_1$ değerlerini bulmak.\n",
    "\n",
    "Toplam Hata, $w_0$ ve $w_1$ değişkenlerine bağlı bir Convex Fonksiyondur. (Kareleri olduğu için)"
   ]
  },
  {
   "cell_type": "markdown",
   "metadata": {},
   "source": [
    "### Terimler"
   ]
  },
  {
   "cell_type": "markdown",
   "metadata": {},
   "source": [
    "**Cost Function (Maliyet Fonksiyonu):**\n",
    "\n",
    "Minimize etmeye çalıştığımız maliyet fonksiyonu.\n",
    "\n",
    "Bu fonksiyon $w_0$ ve $w_1$ değişkenlerine bağlı Convex bir fonksiyondur."
   ]
  },
  {
   "cell_type": "markdown",
   "metadata": {},
   "source": [
    "$$ J(w) = \\frac{1}{2n} \\sum_{i=1}^n (\\hat y^{(i)} - y^{(i)})^2 $$"
   ]
  },
  {
   "cell_type": "markdown",
   "metadata": {},
   "source": [
    "Cost Function aslında MSE'nin (Mean Square Error) özel bir formudur."
   ]
  },
  {
   "cell_type": "markdown",
   "metadata": {},
   "source": [
    "**Gradient:**\n",
    "\n",
    "Cost Function'ın değişkenlere (wlar) göre değişim miktarı (türevi)."
   ]
  },
  {
   "cell_type": "markdown",
   "metadata": {},
   "source": [
    "$$ J(w) = \\frac{1}{2n} \\sum_{i=1}^n (\\hat w_0 + \\hat w_1x^{(i)} - y^{(i)})^2 $$"
   ]
  },
  {
   "cell_type": "markdown",
   "metadata": {},
   "source": [
    "$w_0$ a göre kısmı türev:\n",
    "\n",
    "$$ \\frac{\\partial J(w)}{\\partial w_0} = \\frac{1}{n} \\sum_{i=1}^n (\\hat w_0 + \\hat w_1x^{(i)} - y^{(i)}) $$\n",
    "\n",
    "$$ \\frac{\\partial J(w)}{\\partial w_0} = \\frac{1}{n} \\sum_{i=1}^n (\\hat y^{(i)} - y^{(i)}) $$"
   ]
  },
  {
   "cell_type": "markdown",
   "metadata": {},
   "source": [
    "$w_1$ a göre kısmı türev:\n",
    "\n",
    "$$ \\frac{\\partial J(w)}{\\partial w_1} = \\frac{1}{n} \\sum_{i=1}^n (\\hat w_0 + \\hat w_1x^{(i)} - y^{(i)}) x^{(i)} $$\n",
    "\n",
    "$$ \\frac{\\partial J(w)}{\\partial w_1} = \\frac{1}{n} \\sum_{i=1}^n (\\hat y^{(i)} - y^{(i)}) x^{(i)} $$"
   ]
  },
  {
   "cell_type": "markdown",
   "metadata": {},
   "source": [
    "Şimdi Cost Function (J) **w**'lara göre nasıl değiştiğini (türevini) her bir $x^{(i)}$ ve $y^{(i)}$ noktasında bildiğimize göre bunu kullanabiliriz.\n",
    "\n",
    "Bu türeve **Gradient** adı verilir."
   ]
  },
  {
   "cell_type": "markdown",
   "metadata": {},
   "source": [
    "Gradient'in genel gösterimi (W vektörü üzerinden):\n",
    "\n",
    "$$ \\frac{\\partial J(W)}{\\partial W_j} = \\frac{1}{n} \\sum_{i=1}^n (\\hat y^{(i)} - y^{(i)}) X_j^{(i)} $$"
   ]
  },
  {
   "cell_type": "markdown",
   "metadata": {},
   "source": [
    "<img src='images/cost_function.jpeg' />"
   ]
  },
  {
   "cell_type": "markdown",
   "metadata": {},
   "source": [
    "Gradient Descent Nasıl Çalışır:\n",
    "\n",
    "1. Önce bir başlangıç noktası seçilir ($w_0$ ve $w_1$)\n",
    "2. Bu noktası için Cost Function değeri **J(w)** hesaplanır\n",
    "3. Bu J(w) değeri üzerinden $w_0$ ve $w_1$ için **Gradient** hesaplanır\n",
    "4. Bu Gradient'in **negativ** değeri alınır (amacımız Cost Function'ı azaltmak çünkü)\n",
    "5. Bu negatif değer bir learning rate **$\\alpha$** ile çarpılır\n",
    "6. Bu çarpım sonucu ilgili $w$ değerinden çıkarlır\n",
    "7. Döngü tekrar 1. adımdan devam eder (Belirlenen iteration-döngü sayısında)"
   ]
  },
  {
   "cell_type": "markdown",
   "metadata": {},
   "source": [
    "**Gradient Descent Akışı**"
   ]
  },
  {
   "cell_type": "markdown",
   "metadata": {},
   "source": [
    "Iterasyonlar üzerinen: $W$ yu update edeceğiz:\n",
    "\n",
    "**j**: iterasyon numarası"
   ]
  },
  {
   "cell_type": "markdown",
   "metadata": {},
   "source": [
    "$$ W_j := W_j - \\alpha (\\frac{1}{n} \\sum_{i=1}^n (\\hat y^{(i)} - y^{(i)}) X_j^{(i)}) $$"
   ]
  },
  {
   "cell_type": "markdown",
   "metadata": {},
   "source": [
    "Burada **$\\alpha$ : learning rate**"
   ]
  },
  {
   "cell_type": "markdown",
   "metadata": {},
   "source": [
    "#### Gradient Descent - Python"
   ]
  },
  {
   "cell_type": "code",
   "execution_count": 5,
   "metadata": {},
   "outputs": [],
   "source": [
    "# Maliyet (Cost) Hesaplama Fonksiyonu\n",
    "\n",
    "def cal_cost(W, X, y):\n",
    "    \"\"\"\n",
    "    X ve y için Cost (Maliyet) hesaplar.\n",
    "    Parametreler:\n",
    "    W = Katsayı vektörü -> (p, 1)\n",
    "    X = Girdi vektörü   -> (n, p)\n",
    "    y = Gerçek y'ler    -> (n, 1)\n",
    "    Burada:\n",
    "    n: Toplam veri adedi (satır sayısı)\n",
    "    p: X içindeki değişken adedi (sütun sayısı)\n",
    "    \n",
    "    Dönüş:\n",
    "    cost = hesaplanan maliyet değeri\n",
    "    \"\"\"\n",
    "    \n",
    "    n = len(y)\n",
    "    \n",
    "    # önce tahmini hesapla -> 𝑦̂ = X W\n",
    "    # X -> (n, p)\n",
    "    # W -> (p, 1)\n",
    "    # 𝑦̂ -> (n, 1)\n",
    "    tahmin = X.dot(W)\n",
    "    \n",
    "    # cost function değerini hesapla -> J\n",
    "    cost = (1/2*n) * np.sum(np.square(tahmin-y))\n",
    "    \n",
    "    # maliyet (cost) değerini dön\n",
    "    return cost\n",
    "    "
   ]
  },
  {
   "cell_type": "code",
   "execution_count": 6,
   "metadata": {},
   "outputs": [],
   "source": [
    "# Gradient Descent Fonksiyonu\n",
    "\n",
    "def gradient_descent(X, y, W, learning_rate=0.01, iterations=100):\n",
    "    \"\"\"\n",
    "    Gradient Descent uygulama fonksiyonu.\n",
    "    Parametreler:\n",
    "    X = X Matrisi (bias unit eklenmiş hali, yani 1'lerden oluşmuş ilk sütun)\n",
    "    y = y vektörü\n",
    "    W = Katsayı vektörü (w'lardan oluşmuş)\n",
    "    learning_rate = learning rate: alpha (öğrenme katsayısı)\n",
    "    iterations = toplam döngü sayısı\n",
    "    Dönüş:\n",
    "    * W vektörünün son hali\n",
    "    * Maliyet Listesi (cost history)\n",
    "    * W vektörünün listesi (weight history)\n",
    "    \"\"\"\n",
    "    \n",
    "    n = len(y)\n",
    "    cost_history = np.zeros(iterations)\n",
    "    w_history = np.zeros((iterations, 2))\n",
    "    \n",
    "    for it in range(iterations):\n",
    "        \n",
    "        tahmin = np.dot(X, W)\n",
    "        \n",
    "        W = W - (1/n) * learning_rate * (X.T.dot((tahmin - y)))\n",
    "        \n",
    "        w_history[it,:] = W.T\n",
    "        \n",
    "        cost_history[it] = cal_cost(W, X, y)\n",
    "    \n",
    "    return W, cost_history, w_history\n",
    "    "
   ]
  },
  {
   "cell_type": "markdown",
   "metadata": {},
   "source": [
    "Şimdi **gradient_descent** fonksiyonunu kullanarak yukarıda yarattığımız veri seti için en uygun katsayıları bulalım:"
   ]
  },
  {
   "cell_type": "markdown",
   "metadata": {},
   "source": [
    "Önce bir başlangış **$W_0$** değeri belirlememiz lazım.\n",
    "\n",
    "* Gaussian (Normal) Dağılımda bir rasgele W vektörü alabiliriz\n",
    "https://numpy.org/doc/stable/reference/random/generated/numpy.random.randn.html"
   ]
  },
  {
   "cell_type": "code",
   "execution_count": 7,
   "metadata": {},
   "outputs": [
    {
     "name": "stdout",
     "output_type": "stream",
     "text": [
      "[[ 2.17039751]\n",
      " [-0.08009651]]\n"
     ]
    }
   ],
   "source": [
    "W = np.random.randn(2,1)\n",
    "print(W)"
   ]
  },
  {
   "cell_type": "markdown",
   "metadata": {},
   "source": [
    "Şimdi bir learning rate'e (alpha) karar vermemiz lazım.\n",
    "\n",
    "Başlangıç için: 0.01"
   ]
  },
  {
   "cell_type": "code",
   "execution_count": 8,
   "metadata": {},
   "outputs": [],
   "source": [
    "lr = 0.01"
   ]
  },
  {
   "cell_type": "markdown",
   "metadata": {},
   "source": [
    "Toplam iteration (döngü) adedine karar verelim: 1000"
   ]
  },
  {
   "cell_type": "code",
   "execution_count": 9,
   "metadata": {},
   "outputs": [],
   "source": [
    "n_iter = 1000"
   ]
  },
  {
   "cell_type": "markdown",
   "metadata": {},
   "source": [
    "Elimizdeki X vektörü tek sütunluk bir vektör.\n",
    "\n",
    "$w_0$ için 1'lerden oluşan bir sütun (bias column) eklememiz lazım başına."
   ]
  },
  {
   "cell_type": "code",
   "execution_count": 10,
   "metadata": {
    "collapsed": true,
    "jupyter": {
     "outputs_hidden": true
    }
   },
   "outputs": [
    {
     "data": {
      "text/plain": [
       "array([[1.64168985],\n",
       "       [1.46749882],\n",
       "       [0.90447051],\n",
       "       [0.15354988],\n",
       "       [0.67968607],\n",
       "       [1.50988772],\n",
       "       [0.6514434 ],\n",
       "       [0.92151209],\n",
       "       [1.32652601],\n",
       "       [0.4577011 ],\n",
       "       [0.63685117],\n",
       "       [1.73837481],\n",
       "       [0.20196846],\n",
       "       [1.87302923],\n",
       "       [0.1242601 ],\n",
       "       [1.58758944],\n",
       "       [1.85272133],\n",
       "       [0.03281022],\n",
       "       [1.79682987],\n",
       "       [1.77360154],\n",
       "       [1.8633746 ],\n",
       "       [0.52236198],\n",
       "       [0.02815051],\n",
       "       [0.4893485 ],\n",
       "       [0.46313899],\n",
       "       [1.16959494],\n",
       "       [0.53561467],\n",
       "       [1.01072359],\n",
       "       [1.49903182],\n",
       "       [0.20295355],\n",
       "       [1.8661215 ],\n",
       "       [1.21896765],\n",
       "       [1.60167686],\n",
       "       [0.60360278],\n",
       "       [1.7095293 ],\n",
       "       [1.00869171],\n",
       "       [1.12295391],\n",
       "       [0.06195955],\n",
       "       [0.29281808],\n",
       "       [1.52056446],\n",
       "       [0.97513244],\n",
       "       [1.64730959],\n",
       "       [0.93658467],\n",
       "       [0.8429518 ],\n",
       "       [1.92923871],\n",
       "       [1.80950714],\n",
       "       [0.34918211],\n",
       "       [1.45850307],\n",
       "       [0.87529968],\n",
       "       [1.79811918],\n",
       "       [1.44454188],\n",
       "       [1.04496415],\n",
       "       [1.35219534],\n",
       "       [0.34229949],\n",
       "       [1.44362201],\n",
       "       [0.72222396],\n",
       "       [0.32820898],\n",
       "       [0.2040294 ],\n",
       "       [0.97484556],\n",
       "       [1.62363164],\n",
       "       [0.08516126],\n",
       "       [1.16761005],\n",
       "       [0.72801259],\n",
       "       [0.77825212],\n",
       "       [1.62507017],\n",
       "       [1.15427927],\n",
       "       [0.07852775],\n",
       "       [1.26327192],\n",
       "       [1.3923102 ],\n",
       "       [1.47996645],\n",
       "       [1.71497145],\n",
       "       [0.04007752],\n",
       "       [1.50379495],\n",
       "       [0.87281545],\n",
       "       [0.49696594],\n",
       "       [1.45434637],\n",
       "       [0.19700901],\n",
       "       [0.79842028],\n",
       "       [1.80596544],\n",
       "       [0.19138462],\n",
       "       [0.22659315],\n",
       "       [0.09398003],\n",
       "       [0.5860234 ],\n",
       "       [0.92020363],\n",
       "       [1.11213942],\n",
       "       [0.04201936],\n",
       "       [1.60339678],\n",
       "       [1.58318608],\n",
       "       [1.59646716],\n",
       "       [0.8240086 ],\n",
       "       [1.79182334],\n",
       "       [1.60636676],\n",
       "       [1.67391358],\n",
       "       [1.58532194],\n",
       "       [1.08225449],\n",
       "       [0.55263041],\n",
       "       [0.33446042],\n",
       "       [0.40081742],\n",
       "       [1.35240175],\n",
       "       [0.90070212]])"
      ]
     },
     "execution_count": 10,
     "metadata": {},
     "output_type": "execute_result"
    }
   ],
   "source": [
    "X"
   ]
  },
  {
   "cell_type": "code",
   "execution_count": 11,
   "metadata": {
    "collapsed": true,
    "jupyter": {
     "outputs_hidden": true
    }
   },
   "outputs": [
    {
     "name": "stdout",
     "output_type": "stream",
     "text": [
      "[[1.         1.64168985]\n",
      " [1.         1.46749882]\n",
      " [1.         0.90447051]\n",
      " [1.         0.15354988]\n",
      " [1.         0.67968607]\n",
      " [1.         1.50988772]\n",
      " [1.         0.6514434 ]\n",
      " [1.         0.92151209]\n",
      " [1.         1.32652601]\n",
      " [1.         0.4577011 ]\n",
      " [1.         0.63685117]\n",
      " [1.         1.73837481]\n",
      " [1.         0.20196846]\n",
      " [1.         1.87302923]\n",
      " [1.         0.1242601 ]\n",
      " [1.         1.58758944]\n",
      " [1.         1.85272133]\n",
      " [1.         0.03281022]\n",
      " [1.         1.79682987]\n",
      " [1.         1.77360154]\n",
      " [1.         1.8633746 ]\n",
      " [1.         0.52236198]\n",
      " [1.         0.02815051]\n",
      " [1.         0.4893485 ]\n",
      " [1.         0.46313899]\n",
      " [1.         1.16959494]\n",
      " [1.         0.53561467]\n",
      " [1.         1.01072359]\n",
      " [1.         1.49903182]\n",
      " [1.         0.20295355]\n",
      " [1.         1.8661215 ]\n",
      " [1.         1.21896765]\n",
      " [1.         1.60167686]\n",
      " [1.         0.60360278]\n",
      " [1.         1.7095293 ]\n",
      " [1.         1.00869171]\n",
      " [1.         1.12295391]\n",
      " [1.         0.06195955]\n",
      " [1.         0.29281808]\n",
      " [1.         1.52056446]\n",
      " [1.         0.97513244]\n",
      " [1.         1.64730959]\n",
      " [1.         0.93658467]\n",
      " [1.         0.8429518 ]\n",
      " [1.         1.92923871]\n",
      " [1.         1.80950714]\n",
      " [1.         0.34918211]\n",
      " [1.         1.45850307]\n",
      " [1.         0.87529968]\n",
      " [1.         1.79811918]\n",
      " [1.         1.44454188]\n",
      " [1.         1.04496415]\n",
      " [1.         1.35219534]\n",
      " [1.         0.34229949]\n",
      " [1.         1.44362201]\n",
      " [1.         0.72222396]\n",
      " [1.         0.32820898]\n",
      " [1.         0.2040294 ]\n",
      " [1.         0.97484556]\n",
      " [1.         1.62363164]\n",
      " [1.         0.08516126]\n",
      " [1.         1.16761005]\n",
      " [1.         0.72801259]\n",
      " [1.         0.77825212]\n",
      " [1.         1.62507017]\n",
      " [1.         1.15427927]\n",
      " [1.         0.07852775]\n",
      " [1.         1.26327192]\n",
      " [1.         1.3923102 ]\n",
      " [1.         1.47996645]\n",
      " [1.         1.71497145]\n",
      " [1.         0.04007752]\n",
      " [1.         1.50379495]\n",
      " [1.         0.87281545]\n",
      " [1.         0.49696594]\n",
      " [1.         1.45434637]\n",
      " [1.         0.19700901]\n",
      " [1.         0.79842028]\n",
      " [1.         1.80596544]\n",
      " [1.         0.19138462]\n",
      " [1.         0.22659315]\n",
      " [1.         0.09398003]\n",
      " [1.         0.5860234 ]\n",
      " [1.         0.92020363]\n",
      " [1.         1.11213942]\n",
      " [1.         0.04201936]\n",
      " [1.         1.60339678]\n",
      " [1.         1.58318608]\n",
      " [1.         1.59646716]\n",
      " [1.         0.8240086 ]\n",
      " [1.         1.79182334]\n",
      " [1.         1.60636676]\n",
      " [1.         1.67391358]\n",
      " [1.         1.58532194]\n",
      " [1.         1.08225449]\n",
      " [1.         0.55263041]\n",
      " [1.         0.33446042]\n",
      " [1.         0.40081742]\n",
      " [1.         1.35240175]\n",
      " [1.         0.90070212]]\n"
     ]
    }
   ],
   "source": [
    "n = len(X)\n",
    "\n",
    "X_b = np.c_[np.ones((n,1)), X]\n",
    "                \n",
    "print(X_b)"
   ]
  },
  {
   "cell_type": "markdown",
   "metadata": {},
   "source": [
    "Şimdi gradient_descent fonksiyonunu çağırabiliriz:"
   ]
  },
  {
   "cell_type": "code",
   "execution_count": 12,
   "metadata": {},
   "outputs": [],
   "source": [
    "W_final, cost_history, w_history = gradient_descent(X_b, y, W, lr, n_iter)"
   ]
  },
  {
   "cell_type": "code",
   "execution_count": 13,
   "metadata": {},
   "outputs": [
    {
     "name": "stdout",
     "output_type": "stream",
     "text": [
      "W final: [[4.49920563]\n",
      " [3.00711712]]\n"
     ]
    }
   ],
   "source": [
    "print('W final:', W_final)"
   ]
  },
  {
   "cell_type": "code",
   "execution_count": 14,
   "metadata": {
    "collapsed": true,
    "jupyter": {
     "outputs_hidden": true
    }
   },
   "outputs": [
    {
     "name": "stdout",
     "output_type": "stream",
     "text": [
      "Cost History: [157964.83584254 151088.68678687 144512.78396192 138224.01691372\n",
      " 132209.84766584 126458.28572177 120957.86415876 115697.61676564\n",
      " 110667.05617885 105856.15297318 101255.31566563  96855.37159228\n",
      "  92647.54862026  88623.45765828  84775.07593082  81094.73098273\n",
      "  77575.08538215  74209.12209156  70990.13047745  67911.69293104\n",
      "  64967.67207306  62152.1985174   59459.65916891  56884.68603236\n",
      "  54422.14550988  52067.1281659   49814.9389389   47661.08778062\n",
      "  45601.28070399  43631.411222    41747.55216037  39945.94782771\n",
      "  38223.00652759  36575.29339761  34999.5235611   33492.5555779\n",
      "  32051.38518107  30673.13928718  29355.07026802  28094.55047253\n",
      "  26889.06698792  25736.21662956  24633.70114955  23579.32265464\n",
      "  22570.97922416  21606.66071929  20684.44477537  19802.49296912\n",
      "  18959.04715334  18152.42595157  17381.02140582  16643.29577073\n",
      "  15937.77844769  15263.06305277  14617.80461281  14000.71688383\n",
      "  13410.5697866   12846.18695414  12306.44338636  11790.26320708\n",
      "  11296.61751898  10824.52235228  10373.03670288   9941.26065629\n",
      "   9528.3335934    9133.43247461   8755.7701989    8394.59403456\n",
      "   8049.18411841   7718.85202056   7402.93937191   7100.81655144\n",
      "   6811.88143099   6535.55817468   6271.29609092   6018.5685344\n",
      "   5776.87185613   5545.72439927   5324.66553886   5113.25476337\n",
      "   4911.07079655   4717.71075738   4532.78935694   4355.93813015\n",
      "   4186.80470122   4025.05208103   3870.35799532   3722.4142421\n",
      "   3580.92607724   3445.61162675   3316.20132484   3192.43737648\n",
      "   3074.07324339   2960.87315253   2852.61162602   2749.07303158\n",
      "   2650.05115264   2555.34877719   2464.77730458   2378.1563695\n",
      "   2295.31348238   2216.0836855    2140.3092241    2067.83923183\n",
      "   1998.52943002   1932.24183997   1868.8445079    1808.21124182\n",
      "   1750.22135999   1694.75945028   1641.71514005   1590.98287616\n",
      "   1542.46171446   1496.05511856   1451.67076737   1409.22037102\n",
      "   1368.61949486   1329.78739107   1292.64683772   1257.1239848\n",
      "   1223.14820696   1190.65196274   1159.57065985   1129.84252646\n",
      "   1101.40848801   1074.21204942   1048.19918249   1023.31821815\n",
      "    999.51974346    976.7565031     954.98330513    934.15693093\n",
      "    914.23604901    895.18113261    876.9543809     859.51964361\n",
      "    842.84234895    826.88943472    811.62928234    797.03165386\n",
      "    783.06763164    769.70956073    756.9309937     744.70663794\n",
      "    733.01230521    721.82486345    711.12219063    700.88313066\n",
      "    691.08745121    681.71580336    672.74968306    664.17139421\n",
      "    655.96401337    648.11135607    640.59794448    633.40897661\n",
      "    626.53029675    619.94836729    613.65024171    607.62353878\n",
      "    601.85641786    596.33755531    591.05612192    586.00176128\n",
      "    581.16456919    576.5350739     572.10421719    567.86333635\n",
      "    563.8041469     559.91872608    556.19949704    552.63921374\n",
      "    549.23094653    545.96806829    542.84424125    539.85340437\n",
      "    536.98976122    534.24776844    531.62212468    529.10776009\n",
      "    526.6998261     524.39368589    522.18490502    520.06924269\n",
      "    518.04264323    516.10122803    514.2412878     512.45927521\n",
      "    510.75179779    509.11561114    507.54761255    506.04483471\n",
      "    504.60443988    503.22371419    501.90006224    500.63100194\n",
      "    499.41415952    498.24726487    497.12814694    496.05472948\n",
      "    495.02502685    494.03714009    493.08925313    492.17962917\n",
      "    491.3066072     490.46859873    489.66408461    488.89161196\n",
      "    488.14979133    487.43729393    486.75284893    486.09524098\n",
      "    485.46330777    484.85593769    484.27206768    483.71068104\n",
      "    483.17080543    482.65151096    482.15190832    481.67114696\n",
      "    481.2084135     480.76292999    480.33395247    479.92076941\n",
      "    479.52270031    479.13909439    478.76932923    478.41280957\n",
      "    478.06896611    477.73725439    477.41715369    477.10816599\n",
      "    476.80981501    476.52164521    476.24322095    475.97412554\n",
      "    475.7139605     475.4623447     475.21891363    474.98331866\n",
      "    474.75522637    474.53431786    474.32028814    474.1128455\n",
      "    473.91171094    473.71661762    473.52731034    473.34354497\n",
      "    473.16508807    472.99171634    472.82321619    472.65938336\n",
      "    472.50002245    472.3449466     472.19397707    472.04694288\n",
      "    471.90368051    471.76403355    471.6278524     471.49499395\n",
      "    471.36532134    471.23870362    471.11501557    470.99413739\n",
      "    470.87595451    470.76035731    470.64724093    470.5365051\n",
      "    470.42805387    470.32179546    470.21764208    470.11550974\n",
      "    470.01531811    469.91699032    469.82045285    469.72563535\n",
      "    469.63247053    469.54089401    469.4508442     469.36226217\n",
      "    469.27509153    469.18927835    469.10477102    469.02152016\n",
      "    468.93947851    468.85860087    468.77884399    468.70016645\n",
      "    468.62252867    468.54589273    468.47022236    468.39548285\n",
      "    468.32164098    468.24866496    468.17652436    468.10519006\n",
      "    468.03463419    467.96483007    467.89575216    467.82737603\n",
      "    467.75967826    467.69263646    467.62622918    467.56043589\n",
      "    467.49523694    467.43061351    467.36654757    467.30302186\n",
      "    467.24001986    467.17752575    467.11552436    467.05400119\n",
      "    466.99294232    466.93233443    466.87216477    466.81242111\n",
      "    466.75309174    466.69416543    466.63563143    466.57747944\n",
      "    466.51969958    466.46228239    466.40521877    466.34850005\n",
      "    466.29211787    466.23606424    466.18033149    466.12491226\n",
      "    466.0697995     466.01498643    465.96046658    465.9062337\n",
      "    465.85228182    465.79860519    465.74519832    465.69205592\n",
      "    465.6391729     465.58654439    465.5341657     465.48203235\n",
      "    465.43014       465.3784845     465.32706187    465.27586825\n",
      "    465.22489997    465.17415347    465.12362534    465.0733123\n",
      "    465.02321119    464.97331896    464.92363269    464.87414955\n",
      "    464.82486683    464.77578192    464.72689229    464.67819551\n",
      "    464.62968924    464.58137122    464.53323927    464.48529128\n",
      "    464.43752522    464.38993914    464.34253113    464.29529936\n",
      "    464.24824208    464.20135756    464.15464415    464.10810026\n",
      "    464.06172433    464.01551487    463.96947042    463.92358957\n",
      "    463.87787097    463.83231328    463.78691524    463.74167558\n",
      "    463.69659311    463.65166665    463.60689506    463.56227723\n",
      "    463.51781209    463.47349859    463.42933571    463.38532245\n",
      "    463.34145785    463.29774097    463.25417089    463.21074671\n",
      "    463.16746756    463.1243326     463.08134097    463.03849188\n",
      "    462.99578453    462.95321813    462.91079194    462.8685052\n",
      "    462.82635719    462.7843472     462.74247452    462.70073847\n",
      "    462.65913838    462.6176736     462.57634347    462.53514735\n",
      "    462.49408464    462.45315471    462.41235695    462.37169079\n",
      "    462.33115564    462.29075091    462.25047606    462.21033052\n",
      "    462.17031374    462.1304252     462.09066434    462.05103066\n",
      "    462.01152363    461.97214273    461.93288748    461.89375737\n",
      "    461.85475191    461.81587061    461.77711299    461.73847858\n",
      "    461.69996691    461.66157751    461.62330993    461.58516372\n",
      "    461.54713841    461.50923358    461.47144877    461.43378354\n",
      "    461.39623748    461.35881014    461.32150111    461.28430995\n",
      "    461.24723626    461.21027962    461.17343962    461.13671585\n",
      "    461.1001079     461.06361538    461.02723788    460.99097501\n",
      "    460.95482638    460.9187916     460.88287027    460.84706202\n",
      "    460.81136646    460.77578321    460.74031189    460.70495214\n",
      "    460.66970356    460.63456581    460.59953849    460.56462126\n",
      "    460.52981374    460.49511558    460.4605264     460.42604586\n",
      "    460.3916736     460.35740925    460.32325248    460.28920292\n",
      "    460.25526023    460.22142406    460.18769406    460.15406989\n",
      "    460.12055121    460.08713767    460.05382893    460.02062467\n",
      "    459.98752453    459.95452819    459.9216353     459.88884555\n",
      "    459.8561586     459.82357411    459.79109176    459.75871123\n",
      "    459.72643218    459.69425429    459.66217725    459.63020073\n",
      "    459.5983244     459.56654795    459.53487107    459.50329343\n",
      "    459.47181472    459.44043462    459.40915283    459.37796903\n",
      "    459.34688291    459.31589415    459.28500246    459.25420753\n",
      "    459.22350904    459.1929067     459.1624002     459.13198923\n",
      "    459.1016735     459.0714527     459.04132654    459.01129471\n",
      "    458.98135692    458.95151288    458.92176227    458.89210483\n",
      "    458.86254023    458.83306821    458.80368846    458.77440069\n",
      "    458.74520462    458.71609995    458.6870864     458.65816368\n",
      "    458.62933151    458.6005896     458.57193767    458.54337543\n",
      "    458.5149026     458.48651891    458.45822407    458.4300178\n",
      "    458.40189983    458.37386987    458.34592765    458.3180729\n",
      "    458.29030535    458.2626247     458.23503071    458.20752308\n",
      "    458.18010156    458.15276587    458.12551575    458.09835091\n",
      "    458.07127111    458.04427606    458.01736551    457.99053918\n",
      "    457.96379683    457.93713817    457.91056296    457.88407092\n",
      "    457.8576618     457.83133534    457.80509127    457.77892935\n",
      "    457.75284931    457.72685089    457.70093385    457.67509792\n",
      "    457.64934285    457.62366839    457.59807429    457.57256029\n",
      "    457.54712615    457.5217716     457.49649641    457.47130033\n",
      "    457.4461831     457.42114449    457.39618423    457.3713021\n",
      "    457.34649784    457.32177121    457.29712196    457.27254987\n",
      "    457.24805467    457.22363614    457.19929403    457.1750281\n",
      "    457.15083812    457.12672384    457.10268503    457.07872146\n",
      "    457.05483289    457.03101907    457.00727979    456.9836148\n",
      "    456.96002388    456.93650679    456.91306329    456.88969317\n",
      "    456.86639619    456.84317211    456.82002072    456.79694179\n",
      "    456.77393508    456.75100038    456.72813745    456.70534608\n",
      "    456.68262603    456.65997709    456.63739903    456.61489164\n",
      "    456.59245468    456.57008794    456.5477912     456.52556424\n",
      "    456.50340684    456.48131878    456.45929986    456.43734984\n",
      "    456.41546852    456.39365567    456.3719111     456.35023457\n",
      "    456.32862588    456.30708482    456.28561118    456.26420474\n",
      "    456.24286529    456.22159262    456.20038653    456.17924681\n",
      "    456.15817325    456.13716563    456.11622377    456.09534744\n",
      "    456.07453644    456.05379058    456.03310964    456.01249343\n",
      "    455.99194173    455.97145436    455.9510311     455.93067175\n",
      "    455.91037613    455.89014402    455.86997522    455.84986955\n",
      "    455.8298268     455.80984678    455.78992928    455.77007412\n",
      "    455.7502811     455.73055002    455.71088069    455.69127291\n",
      "    455.67172651    455.65224127    455.63281701    455.61345355\n",
      "    455.59415068    455.57490822    455.55572599    455.53660378\n",
      "    455.51754142    455.49853872    455.47959549    455.46071154\n",
      "    455.44188669    455.42312076    455.40441355    455.3857649\n",
      "    455.3671746     455.34864248    455.33016836    455.31175206\n",
      "    455.29339339    455.27509218    455.25684824    455.23866139\n",
      "    455.22053147    455.20245828    455.18444166    455.16648142\n",
      "    455.14857738    455.13072938    455.11293724    455.09520078\n",
      "    455.07751982    455.0598942     455.04232374    455.02480827\n",
      "    455.00734762    454.98994161    454.97259007    454.95529283\n",
      "    454.93804973    454.92086059    454.90372525    454.88664353\n",
      "    454.86961527    454.85264031    454.83571846    454.81884958\n",
      "    454.80203349    454.78527002    454.76855902    454.75190031\n",
      "    454.73529374    454.71873915    454.70223636    454.68578521\n",
      "    454.66938556    454.65303722    454.63674005    454.62049389\n",
      "    454.60429856    454.58815392    454.57205981    454.55601607\n",
      "    454.54002253    454.52407905    454.50818546    454.49234162\n",
      "    454.47654736    454.46080252    454.44510697    454.42946053\n",
      "    454.41386306    454.3983144     454.38281441    454.36736292\n",
      "    454.35195979    454.33660486    454.32129799    454.30603903\n",
      "    454.29082781    454.2756642     454.26054805    454.2454792\n",
      "    454.23045752    454.21548284    454.20055503    454.18567394\n",
      "    454.17083942    454.15605132    454.14130951    454.12661383\n",
      "    454.11196414    454.0973603     454.08280216    454.06828958\n",
      "    454.05382242    454.03940054    454.02502379    454.01069204\n",
      "    453.99640514    453.98216294    453.96796533    453.95381214\n",
      "    453.93970325    453.92563851    453.91161779    453.89764095\n",
      "    453.88370784    453.86981835    453.85597232    453.84216962\n",
      "    453.82841013    453.81469369    453.80102018    453.78738946\n",
      "    453.7738014     453.76025586    453.74675272    453.73329183\n",
      "    453.71987307    453.70649631    453.69316141    453.67986825\n",
      "    453.66661668    453.65340659    453.64023784    453.6271103\n",
      "    453.61402384    453.60097834    453.58797367    453.5750097\n",
      "    453.56208629    453.54920334    453.5363607     453.52355825\n",
      "    453.51079587    453.49807343    453.4853908     453.47274787\n",
      "    453.46014451    453.44758058    453.43505598    453.42257057\n",
      "    453.41012424    453.39771686    453.38534831    453.37301847\n",
      "    453.36072721    453.34847442    453.33625998    453.32408376\n",
      "    453.31194565    453.29984553    453.28778327    453.27575876\n",
      "    453.26377189    453.25182253    453.23991057    453.22803588\n",
      "    453.21619836    453.20439789    453.19263434    453.18090761\n",
      "    453.16921758    453.15756413    453.14594716    453.13436654\n",
      "    453.12282216    453.11131392    453.09984169    453.08840536\n",
      "    453.07700482    453.06563996    453.05431067    453.04301683\n",
      "    453.03175834    453.02053509    453.00934695    452.99819384\n",
      "    452.98707562    452.9759922     452.96494347    452.95392932\n",
      "    452.94294963    452.93200431    452.92109324    452.91021632\n",
      "    452.89937344    452.88856449    452.87778937    452.86704797\n",
      "    452.85634019    452.84566591    452.83502505    452.82441748\n",
      "    452.81384311    452.80330184    452.79279355    452.78231816\n",
      "    452.77187554    452.76146561    452.75108825    452.74074337\n",
      "    452.73043087    452.72015064    452.70990258    452.6996866\n",
      "    452.68950259    452.67935044    452.66923008    452.65914138\n",
      "    452.64908425    452.6390586     452.62906433    452.61910134\n",
      "    452.60916952    452.59926879    452.58939904    452.57956018\n",
      "    452.56975211    452.55997474    452.55022796    452.54051169\n",
      "    452.53082583    452.52117028    452.51154494    452.50194973\n",
      "    452.49238455    452.48284931    452.4733439     452.46386825\n",
      "    452.45442224    452.4450058     452.43561883    452.42626124\n",
      "    452.41693293    452.40763382    452.39836381    452.3891228\n",
      "    452.37991072    452.37072747    452.36157296    452.3524471\n",
      "    452.3433498     452.33428097    452.32524052    452.31622836\n",
      "    452.30724441    452.29828858    452.28936077    452.2804609\n",
      "    452.27158889    452.26274464    452.25392807    452.24513909\n",
      "    452.23637761    452.22764356    452.21893684    452.21025737\n",
      "    452.20160506    452.19297983    452.1843816     452.17581027\n",
      "    452.16726577    452.158748      452.1502569     452.14179237\n",
      "    452.13335433    452.12494269    452.11655738    452.10819832\n",
      "    452.09986541    452.09155858    452.08327775    452.07502283\n",
      "    452.06679375    452.05859043    452.05041277    452.04226071\n",
      "    452.03413416    452.02603304    452.01795728    452.00990679\n",
      "    452.00188149    451.99388131    451.98590617    451.97795599\n",
      "    451.97003068    451.96213018    451.95425441    451.94640328\n",
      "    451.93857672    451.93077466    451.92299701    451.91524371\n",
      "    451.90751467    451.89980982    451.89212908    451.88447238\n",
      "    451.87683964    451.86923078    451.86164574    451.85408444\n",
      "    451.84654681    451.83903276    451.83154222    451.82407513\n",
      "    451.81663141    451.80921099    451.80181378    451.79443973\n",
      "    451.78708875    451.77976078    451.77245575    451.76517357\n",
      "    451.75791419    451.75067752    451.7434635     451.73627206\n",
      "    451.72910313    451.72195663    451.71483249    451.70773065\n",
      "    451.70065104    451.69359358    451.68655821    451.67954486\n",
      "    451.67255346    451.66558394    451.65863622    451.65171026\n",
      "    451.64480596    451.63792328    451.63106213    451.62422246\n",
      "    451.61740419    451.61060726    451.6038316     451.59707715\n",
      "    451.59034384    451.58363159    451.57694036    451.57027006\n",
      "    451.56362064    451.55699203    451.55038417    451.54379698\n",
      "    451.53723041    451.53068439    451.52415886    451.51765375\n",
      "    451.511169      451.50470454    451.49826031    451.49183625\n",
      "    451.4854323     451.47904838    451.47268445    451.46634043]\n"
     ]
    }
   ],
   "source": [
    "print('Cost History:', cost_history)"
   ]
  },
  {
   "cell_type": "code",
   "execution_count": 15,
   "metadata": {},
   "outputs": [
    {
     "name": "stdout",
     "output_type": "stream",
     "text": [
      "Initial Cost: 157964.83584254028\n",
      "Final Cost: 451.46634042910836\n"
     ]
    }
   ],
   "source": [
    "print('Initial Cost:', cost_history[0])\n",
    "print('Final Cost:', cost_history[-1])"
   ]
  },
  {
   "cell_type": "code",
   "execution_count": 16,
   "metadata": {},
   "outputs": [
    {
     "name": "stdout",
     "output_type": "stream",
     "text": [
      "W_0: [2.17039751]\n",
      "W_0_final: [4.49920563]\n"
     ]
    }
   ],
   "source": [
    "W_0 = W[0]\n",
    "print('W_0:', W_0)\n",
    "\n",
    "W_0_final = W_final[0]\n",
    "print('W_0_final:', W_0_final)"
   ]
  },
  {
   "cell_type": "code",
   "execution_count": 17,
   "metadata": {},
   "outputs": [
    {
     "name": "stdout",
     "output_type": "stream",
     "text": [
      "W_1: [-0.08009651]\n",
      "W_1_final: [3.00711712]\n"
     ]
    }
   ],
   "source": [
    "W_1 = W[1]\n",
    "print('W_1:', W_1)\n",
    "\n",
    "W_1_final = W_final[1]\n",
    "print('W_1_final:', W_1_final)"
   ]
  },
  {
   "cell_type": "markdown",
   "metadata": {},
   "source": [
    "Gerçek Katsayılar:\n",
    "\n",
    "$w_0 = 4$\n",
    "\n",
    "$w_1 = 3$"
   ]
  },
  {
   "cell_type": "markdown",
   "metadata": {},
   "source": [
    "Gradient Descent ile bulduğumuz katsayılar:\n",
    "\n",
    "$\\hat w_0 = 4.46680339$\n",
    "\n",
    "$\\hat w_1 = 3.01023083$"
   ]
  },
  {
   "cell_type": "markdown",
   "metadata": {},
   "source": [
    "Gördüğünüz gibi oldukça yakın birbirlerine."
   ]
  },
  {
   "cell_type": "markdown",
   "metadata": {},
   "source": [
    "### Learning Rate"
   ]
  },
  {
   "cell_type": "markdown",
   "metadata": {},
   "source": [
    "Şimdi Maliyetin (Cost) her iterasyonda nasıl değiştiğine bakalım:"
   ]
  },
  {
   "cell_type": "code",
   "execution_count": 18,
   "metadata": {},
   "outputs": [],
   "source": [
    "# Maliyet Değişimini çizen fonksiyon\n",
    "\n",
    "def cost_vs_iterations(cost_history, n_iter):\n",
    "    \n",
    "    fig, ax = plt.subplots(figsize=(12,8))\n",
    "\n",
    "    plt.plot(range(n_iter), cost_history)\n",
    "\n",
    "    plt.xlabel('Iterations')\n",
    "    plt.ylabel('J(W)')\n",
    "    plt.title('MALİYET - ITERASYON')\n",
    "    plt.grid()\n",
    "    plt.show()"
   ]
  },
  {
   "cell_type": "code",
   "execution_count": 19,
   "metadata": {},
   "outputs": [
    {
     "data": {
      "image/png": "[encoded data removed]",
      "text/plain": [
       "<Figure size 864x576 with 1 Axes>"
      ]
     },
     "metadata": {
      "needs_background": "light"
     },
     "output_type": "display_data"
    }
   ],
   "source": [
    "cost_vs_iterations(cost_history, n_iter)"
   ]
  },
  {
   "cell_type": "markdown",
   "metadata": {},
   "source": [
    "Grafikten de görüldüğü gibi iterasyon sayısı arttıkça:\n",
    "* başta Cost değeri çok hızlı azalıyor\n",
    "* belli bir iterasyon sayısından sonra (takriben 180 civarı) artık pek azalmıyor"
   ]
  },
  {
   "cell_type": "markdown",
   "metadata": {},
   "source": [
    "Fakat dikkat edin leraning rate yani **alpha = 0.01** için aldık bu sonucu."
   ]
  },
  {
   "cell_type": "code",
   "execution_count": 20,
   "metadata": {},
   "outputs": [],
   "source": [
    "def call_gradient(learning_rate, n_iter):\n",
    "    \n",
    "    # Bu learning_rate ve n_iter için maliyet değerlerini al\n",
    "    W_final, cost_history, w_history = gradient_descent(X_b, y, W, learning_rate, n_iter)\n",
    "    \n",
    "    # bu maliyet değerlerine göre çizim yap\n",
    "    cost_vs_iterations(cost_history, n_iter)"
   ]
  },
  {
   "cell_type": "markdown",
   "metadata": {},
   "source": [
    "**Deney 1:** Learning rate aynı olsun **alpha = 0.01** ama iterasyon sayısını artıralım: 2000"
   ]
  },
  {
   "cell_type": "code",
   "execution_count": 21,
   "metadata": {},
   "outputs": [
    {
     "data": {
      "image/png": "[encoded data removed]",
      "text/plain": [
       "<Figure size 864x576 with 1 Axes>"
      ]
     },
     "metadata": {
      "needs_background": "light"
     },
     "output_type": "display_data"
    }
   ],
   "source": [
    "# learning_rate = 0.01\n",
    "# n_iter = 2000\n",
    "\n",
    "learning_rate = 0.01\n",
    "n_iter = 2000\n",
    "call_gradient(learning_rate, n_iter)\n"
   ]
  },
  {
   "cell_type": "markdown",
   "metadata": {},
   "source": [
    "**Sonuç:** Gördüğünüz gibi, hiçbir şey değişmedi. Çünkü zaten 180'inci iterasyon dolaylarında en iyi değerleri bulmuş oluyordu."
   ]
  },
  {
   "cell_type": "code",
   "execution_count": 22,
   "metadata": {},
   "outputs": [
    {
     "data": {
      "image/png": "[encoded data removed]",
      "text/plain": [
       "<Figure size 864x576 with 1 Axes>"
      ]
     },
     "metadata": {
      "needs_background": "light"
     },
     "output_type": "display_data"
    }
   ],
   "source": [
    "# learning_rate = 0.01\n",
    "# n_iter = 500\n",
    "\n",
    "learning_rate = 0.01\n",
    "n_iter = 500\n",
    "call_gradient(learning_rate, n_iter)"
   ]
  },
  {
   "cell_type": "markdown",
   "metadata": {},
   "source": [
    "**Deney 2:** Iterasyon sayısı aynı (1000) olsun ama Learning rate'i artıralım **alpha = 0.05** "
   ]
  },
  {
   "cell_type": "code",
   "execution_count": 23,
   "metadata": {},
   "outputs": [
    {
     "data": {
      "image/png": "[encoded data removed]",
      "text/plain": [
       "<Figure size 864x576 with 1 Axes>"
      ]
     },
     "metadata": {
      "needs_background": "light"
     },
     "output_type": "display_data"
    }
   ],
   "source": [
    "# learning_rate = 0.05\n",
    "# n_iter = 1000\n",
    "\n",
    "learning_rate = 0.05\n",
    "n_iter = 1000\n",
    "call_gradient(learning_rate, n_iter)"
   ]
  },
  {
   "cell_type": "markdown",
   "metadata": {},
   "source": [
    "**Sonuç:** Gördüğünüz gibi, sonuca çok daha hızlı yaklaştı. Takriben 40. iterasyon gibi."
   ]
  },
  {
   "cell_type": "markdown",
   "metadata": {},
   "source": [
    "O zaman learning rate'i adım büyüklüğü olarak düşünebiliriz.\n",
    "\n",
    "Ne kadar büyük olursa sonuca o kadar çabuk gideriz... **ACABA???**"
   ]
  },
  {
   "cell_type": "markdown",
   "metadata": {},
   "source": [
    "**Deney 3:** Iterasyon sayısı aynı (1000) olsun ama Learning rate'i artıralım **alpha = 0.1** "
   ]
  },
  {
   "cell_type": "code",
   "execution_count": 24,
   "metadata": {},
   "outputs": [
    {
     "data": {
      "image/png": "[encoded data removed]",
      "text/plain": [
       "<Figure size 864x576 with 1 Axes>"
      ]
     },
     "metadata": {
      "needs_background": "light"
     },
     "output_type": "display_data"
    }
   ],
   "source": [
    "# learning_rate = 0.1\n",
    "# n_iter = 1000\n",
    "\n",
    "learning_rate = 0.1\n",
    "n_iter = 1000\n",
    "call_gradient(learning_rate, n_iter)"
   ]
  },
  {
   "cell_type": "markdown",
   "metadata": {},
   "source": [
    "**Sonuç:** Gördüğünüz gibi, sonuca biraz daha hızlı yaklaştı. Takriben 20. iterasyon gibi."
   ]
  },
  {
   "cell_type": "markdown",
   "metadata": {},
   "source": [
    "Şimdi sıkı durun :)"
   ]
  },
  {
   "cell_type": "markdown",
   "metadata": {},
   "source": [
    "**Deney 4:** Iterasyon sayısı aynı (1000) olsun ama Learning rate'i artıralım **alpha = 1** "
   ]
  },
  {
   "cell_type": "code",
   "execution_count": 25,
   "metadata": {},
   "outputs": [
    {
     "data": {
      "image/png": "[encoded data removed]",
      "text/plain": [
       "<Figure size 864x576 with 1 Axes>"
      ]
     },
     "metadata": {
      "needs_background": "light"
     },
     "output_type": "display_data"
    }
   ],
   "source": [
    "# learning_rate = 1\n",
    "# n_iter = 1000\n",
    "\n",
    "learning_rate = 1\n",
    "n_iter = 1000\n",
    "call_gradient(learning_rate, n_iter)"
   ]
  },
  {
   "cell_type": "markdown",
   "metadata": {},
   "source": [
    "**Sonuç:** Bu sefer bırakın en iyi değeri bulmayı, maliyet belli bir yerden sonra çok hızlı arttı."
   ]
  },
  {
   "cell_type": "markdown",
   "metadata": {},
   "source": [
    "**Neden:**\n",
    "\n",
    "Overshoot yaptık.\n",
    "\n",
    "Çok büyük learning rate'te en iyi noktayı atladık.\n",
    "\n",
    "Adım büyüklüğümüz çok büyüktü çünkü."
   ]
  },
  {
   "cell_type": "markdown",
   "metadata": {},
   "source": [
    "<img src='images/overshoot.jpg' />"
   ]
  },
  {
   "cell_type": "markdown",
   "metadata": {},
   "source": [
    "**Soru:** Peki çok küçük learning rate'lerde ne olurdu?"
   ]
  },
  {
   "cell_type": "markdown",
   "metadata": {},
   "source": [
    "**Deney 4:** Iterasyon sayısı aynı (1000) olsun ama Learning rate'i küçültelim **alpha = 0.001** "
   ]
  },
  {
   "cell_type": "code",
   "execution_count": 26,
   "metadata": {},
   "outputs": [
    {
     "data": {
      "image/png": "[encoded data removed]",
      "text/plain": [
       "<Figure size 864x576 with 1 Axes>"
      ]
     },
     "metadata": {
      "needs_background": "light"
     },
     "output_type": "display_data"
    }
   ],
   "source": [
    "# learning_rate = 0.001\n",
    "# n_iter = 1000\n",
    "\n",
    "learning_rate = 0.001\n",
    "n_iter = 1000\n",
    "call_gradient(learning_rate, n_iter)"
   ]
  },
  {
   "cell_type": "markdown",
   "metadata": {},
   "source": [
    "**Sonuç:** Fena değil, 1000. iterasyonda minimum bir değere geldik."
   ]
  },
  {
   "cell_type": "markdown",
   "metadata": {},
   "source": [
    "Şimdi learning rate'i daha da küçültelim:"
   ]
  },
  {
   "cell_type": "markdown",
   "metadata": {},
   "source": [
    "**Deney 5:** Iterasyon sayısı aynı (1000) olsun ama Learning rate'i daha da küçültelim **alpha = 0.0001** "
   ]
  },
  {
   "cell_type": "code",
   "execution_count": 27,
   "metadata": {},
   "outputs": [
    {
     "data": {
      "image/png": "[encoded data removed]",
      "text/plain": [
       "<Figure size 864x576 with 1 Axes>"
      ]
     },
     "metadata": {
      "needs_background": "light"
     },
     "output_type": "display_data"
    }
   ],
   "source": [
    "# learning_rate = 0.0001\n",
    "# n_iter = 1000\n",
    "\n",
    "learning_rate = 0.0001\n",
    "n_iter = 1000\n",
    "call_gradient(learning_rate, n_iter)"
   ]
  },
  {
   "cell_type": "markdown",
   "metadata": {},
   "source": [
    "**Sonuç:** Çok kötü, çünkü **Final Cost = 404.5** değerine yaklaşamadık daha."
   ]
  },
  {
   "cell_type": "markdown",
   "metadata": {},
   "source": [
    "Şimdi mecburen iterasyon sayısını artırmamız lazım."
   ]
  },
  {
   "cell_type": "markdown",
   "metadata": {},
   "source": [
    "**Deney 6:** Iterasyon sayısı artsın (10000) ve Learning rate'i daha da küçültelim **alpha = 0.0001** "
   ]
  },
  {
   "cell_type": "code",
   "execution_count": 28,
   "metadata": {},
   "outputs": [
    {
     "data": {
      "image/png": "[encoded data removed]",
      "text/plain": [
       "<Figure size 864x576 with 1 Axes>"
      ]
     },
     "metadata": {
      "needs_background": "light"
     },
     "output_type": "display_data"
    }
   ],
   "source": [
    "# learning_rate = 0.0001\n",
    "# n_iter = 10000\n",
    "\n",
    "learning_rate = 0.0001\n",
    "n_iter = 10000\n",
    "call_gradient(learning_rate, n_iter)"
   ]
  },
  {
   "cell_type": "markdown",
   "metadata": {},
   "source": [
    "**Sonuç:** Şimdi 10000. iterasyonda gerçek maliyete yani **Final Cost = 404.5** yaklaştık."
   ]
  },
  {
   "cell_type": "markdown",
   "metadata": {},
   "source": [
    "**ÇIKARIM:**\n",
    "\n",
    "* Learning Rate çok büyük olursa, Overshoot yaparsınız ve asla minimum Cost değerine yaklaşamazsınız.\n",
    "\n",
    "* Learning Rate çok küçük olursa, o zaman da adımlarınız çok küçük olacağı için Optimum Cost değerine yaklaşmanız çok uzun sürer (fazla iterasyon)"
   ]
  },
  {
   "cell_type": "markdown",
   "metadata": {},
   "source": [
    "Otimimum learning rate'i nasıl bileceğiz.\n",
    "\n",
    "Temel olarak bilemeyiz ama learning rate'i biraz büyük başlatıp giderek küçülten algoritmalar var: **Adam Optimizer**."
   ]
  },
  {
   "cell_type": "markdown",
   "metadata": {},
   "source": [
    "https://developers.google.com/machine-learning/crash-course/reducing-loss/gradient-descent"
   ]
  },
  {
   "cell_type": "markdown",
   "metadata": {},
   "source": [
    "### Stochastic Gradient Descent (SGD)"
   ]
  },
  {
   "cell_type": "markdown",
   "metadata": {},
   "source": [
    "Gradient Descent'i uygularken veri seti üzerinde sırası ile işlem yaptık.\n",
    "\n",
    "Yani 1., 2., 3., 4... şeklinde."
   ]
  },
  {
   "cell_type": "markdown",
   "metadata": {},
   "source": [
    "Ama gerçek hayatta bu pek tercih edilmez."
   ]
  },
  {
   "cell_type": "markdown",
   "metadata": {},
   "source": [
    "Her optimizasyon adımında kullanılacak veri rasgele seçilir (stochastic).\n",
    "\n",
    "Böylece daha az hatalı bir tahmin elde etmiş oluruz."
   ]
  },
  {
   "cell_type": "code",
   "execution_count": 29,
   "metadata": {},
   "outputs": [],
   "source": [
    "# Stochastic Gradient Descent Fonksiyonu\n",
    "\n",
    "def stochastic_gradient_descent(X, y, W, learning_rate=0.01, iterations=100):\n",
    "    \"\"\"\n",
    "    Stochastic Gradient Descent uygulama fonksiyonu.\n",
    "    Parametreler:\n",
    "    X = X Matrisi (bias unit eklenmiş hali, yani 1'lerden oluşmuş ilk sütun)\n",
    "    y = y vektörü\n",
    "    W = Katsayı vektörü (w'lardan oluşmuş)\n",
    "    learning_rate = learning rate: alpha (öğrenme katsayısı)\n",
    "    iterations = toplam döngü sayısı\n",
    "    Dönüş:\n",
    "    * W vektörünün son hali\n",
    "    * Maliyet Listesi (cost history)\n",
    "    * W vektörünün listesi (weight history)\n",
    "    \"\"\"\n",
    "    \n",
    "    n = len(y)    \n",
    "    cost_history = np.zeros(iterations)\n",
    "    \n",
    "    for it in range(iterations):        \n",
    "        cost = 0        \n",
    "        # her seferinde rasgele bir X_i değeri seçip maliyet hesaplayacağız\n",
    "        for i in range(n):            \n",
    "            # rasgele bir değer al\n",
    "            rand_ind = np.random.randint(0, n)    \n",
    "            \n",
    "            X_i = X[rand_ind,:].reshape(1, X.shape[1])            \n",
    "            y_i = y[rand_ind].reshape(1,1)\n",
    "        \n",
    "            # tek X_i için tahmin\n",
    "            tahmin = np.dot(X_i, W)\n",
    "\n",
    "            # tek X_i için katsayı değişimi\n",
    "            W = W - (1/n) * learning_rate * (X_i.T.dot((tahmin - y_i)))\n",
    "            \n",
    "            # tek X_i için hesaplanan cost'u cost değişkenine ekle\n",
    "            cost += cal_cost(W, X_i, y_i)\n",
    "        \n",
    "        # bu iterasyon için cost değerini cost_history'ye ekle\n",
    "        cost_history[it] = cost\n",
    "    \n",
    "    return W, cost_history\n",
    "    "
   ]
  },
  {
   "cell_type": "markdown",
   "metadata": {},
   "source": [
    "Yukarıda uyguladığımız fonksiyon her iterasyonda, X'ler üzerinde rasgele dönüp maliyet topladı.\n",
    "\n",
    "Böylece bir nebze iyilişme sağladık.\n",
    "\n",
    "Fakat hala bir sorun var:"
   ]
  },
  {
   "cell_type": "markdown",
   "metadata": {},
   "source": [
    "X'ler üzerinde teker teker döndük. Yani her seferinde maliyet hesaplarken bir X satırı aldık (X_i).\n",
    "\n",
    "Gerçek hayatta bu pek tercih edilmez çünkü büyük verilerde çok zaman kaybı demek."
   ]
  },
  {
   "cell_type": "markdown",
   "metadata": {},
   "source": [
    "Bunun çözümü X'leri teker teker değil, parti olarak almak (batch).\n",
    "\n",
    "Buna da Mini-Batch Stochastic Gradient Descent denir."
   ]
  },
  {
   "cell_type": "markdown",
   "metadata": {},
   "source": [
    "### Mini-Batch Stochastic Gradient Descent"
   ]
  },
  {
   "cell_type": "markdown",
   "metadata": {},
   "source": [
    "X'ler üzerinden maliyet hesaplarken verileri partiler halinde alıp o şekilde maliyet hesaplayacağız."
   ]
  },
  {
   "cell_type": "code",
   "execution_count": 30,
   "metadata": {},
   "outputs": [],
   "source": [
    "# Mini-Batch Stochastic Gradient Descent Fonksiyonu\n",
    "\n",
    "def minibatch_stochastic_gradient_descent(X, y, W, learning_rate=0.01, iterations=100, batch_size=20):\n",
    "    \"\"\"\n",
    "    Stochastic Gradient Descent uygulama fonksiyonu.\n",
    "    Parametreler:\n",
    "    X = X Matrisi (bias unit eklenmiş hali, yani 1'lerden oluşmuş ilk sütun)\n",
    "    y = y vektörü\n",
    "    W = Katsayı vektörü (w'lardan oluşmuş)\n",
    "    learning_rate = learning rate: alpha (öğrenme katsayısı)\n",
    "    iterations = toplam döngü sayısı\n",
    "    Dönüş:\n",
    "    * W vektörünün son hali\n",
    "    * Maliyet Listesi (cost history)\n",
    "    * W vektörünün listesi (weight history)\n",
    "    \"\"\"\n",
    "    \n",
    "    n = len(y)\n",
    "    cost_history = np.zeros(iterations)\n",
    "    # toplam kaç adet batch olacak\n",
    "    n_batches = int(n / batch_size)\n",
    "    \n",
    "    for it in range(iterations):\n",
    "        cost = 0\n",
    "        # X ve y'leri karıştır (veri sıraları rasgele olsun)\n",
    "        indices = np.random.permutation(n)\n",
    "        X = X[indices]\n",
    "        y = y[indices]\n",
    "        \n",
    "        # her seferinde rasgele bir X_i partisi alıp maliyet hesaplayacağız\n",
    "        for i in range(0, n, batch_size):\n",
    "            # rasgele X_i ve y_i partileri\n",
    "            X_i = X[i:i+batch_size]\n",
    "            y_i = y[i:i+batch_size]\n",
    "        \n",
    "            # bias column ekle (1'ler sütunu)\n",
    "            x_i = np.c_[np.ones(len(X_i)), X_i]\n",
    "        \n",
    "            # X_i partisi için tahmin\n",
    "            tahmin = np.dot(X_i, W)\n",
    "\n",
    "            # X_i partisi için katsayı değişimi\n",
    "            W = W - (1/n) * learning_rate * (X_i.T.dot((tahmin - y_i)))\n",
    "\n",
    "            # X_i partisi için hesaplanan cost'u cost değişkenine ekle\n",
    "            cost += cal_cost(W, X_i, y_i)\n",
    "        \n",
    "        # bu iterasyon için cost değerini cost_history'ye ekle\n",
    "        cost_history[it] = cost\n",
    "    \n",
    "    return W, cost_history\n",
    "    "
   ]
  },
  {
   "cell_type": "code",
   "execution_count": null,
   "metadata": {},
   "outputs": [],
   "source": []
  }
 ],
 "metadata": {
  "kernelspec": {
   "display_name": "Python 3",
   "language": "python",
   "name": "python3"
  },
  "language_info": {
   "codemirror_mode": {
    "name": "ipython",
    "version": 3
   },
   "file_extension": ".py",
   "mimetype": "text/x-python",
   "name": "python",
   "nbconvert_exporter": "python",
   "pygments_lexer": "ipython3",
   "version": "3.8.5"
  }
 },
 "nbformat": 4,
 "nbformat_minor": 4
}

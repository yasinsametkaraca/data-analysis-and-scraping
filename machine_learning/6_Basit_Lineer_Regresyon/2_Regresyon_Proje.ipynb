{
 "cells": [
  {
   "cell_type": "markdown",
   "id": "taken-frank",
   "metadata": {},
   "source": [
    "## Lineer Regresyon Proje 1 - TV - Sales"
   ]
  },
  {
   "cell_type": "markdown",
   "id": "mexican-device",
   "metadata": {},
   "source": [
    "Advertising.csv datasında;\n",
    "\n",
    "TV - Sales arasındaki ilişkiye bakacağız.\n",
    "\n",
    "Amacımız TV bütçesi ile Satış arasındaki ilişkiyi Lineer Regresyon ile modellemek.\n",
    "\n",
    "Bunun için bir lineer model kuracağız."
   ]
  },
  {
   "cell_type": "markdown",
   "id": "located-dublin",
   "metadata": {},
   "source": [
    "Adımlar:\n",
    "\n",
    "1- Önce Datayı ham olarak inceleyelim\n",
    "\n",
    "2- Datayı import edelim\n",
    "\n",
    "3- Datayı inceleyelim (head, describe, info)\n",
    "\n",
    "4- Datayı görselleştir\n",
    "\n",
    "5- Modeli oluştur (formuller)\n",
    "\n",
    "6- Hazırlık\n",
    "\n",
    "7- Train-Test Split\n",
    "\n",
    "8- Lineer Regresyon Modelini Çalıştır (Fit)\n",
    "\n",
    "9- Katsayıları Hesaplama (intercept_, coef_)\n",
    "\n",
    "10- Tahmin Yap (Predict)\n",
    "\n",
    "11- Gerçek Data ve Tahmin Datasını Çiz\n",
    "\n",
    "12- Hataları Çiz ($y - \\hat y$)\n",
    "\n",
    "13- Model Doğruluğunu Kontrol Et (RMSE, ve $R^2$)\n",
    "\n",
    "14- Yorumlar"
   ]
  },
  {
   "cell_type": "markdown",
   "id": "governing-renewal",
   "metadata": {},
   "source": [
    "#### 1- Önce Datayı ham olarak inceleyelim"
   ]
  },
  {
   "cell_type": "markdown",
   "id": "divided-drilling",
   "metadata": {},
   "source": [
    "Datayı manuel kontrol:\n",
    "* Sütunlar hangileri\n",
    "* Feature (X) ve Label sütunu ne\n",
    "* Toplam kaç kayıt var\n",
    "* Eksik data var mı\n",
    "    * NA (Not Available)\n",
    "    * NaN: Not a Number"
   ]
  },
  {
   "cell_type": "markdown",
   "id": "surprised-devices",
   "metadata": {},
   "source": [
    "#### 2- Datayı import edelim"
   ]
  },
  {
   "cell_type": "code",
   "execution_count": 119,
   "id": "smooth-medicaid",
   "metadata": {},
   "outputs": [],
   "source": [
    "# paket import\n",
    "\n",
    "import pandas as pd\n",
    "import matplotlib.pyplot as plt\n",
    "import seaborn as sns"
   ]
  },
  {
   "cell_type": "code",
   "execution_count": 122,
   "id": "sustained-respondent",
   "metadata": {},
   "outputs": [],
   "source": [
    "# dataframe'i oluştur\n",
    "\n",
    "df = pd.read_csv('data/Advertising.csv', index_col=0)"
   ]
  },
  {
   "cell_type": "markdown",
   "id": "sufficient-witness",
   "metadata": {},
   "source": [
    "#### 3- Datayı inceleyelim (head, describe, info)"
   ]
  },
  {
   "cell_type": "code",
   "execution_count": 123,
   "id": "buried-tomato",
   "metadata": {},
   "outputs": [
    {
     "data": {
      "text/html": [
       "<div>\n",
       "<style scoped>\n",
       "    .dataframe tbody tr th:only-of-type {\n",
       "        vertical-align: middle;\n",
       "    }\n",
       "\n",
       "    .dataframe tbody tr th {\n",
       "        vertical-align: top;\n",
       "    }\n",
       "\n",
       "    .dataframe thead th {\n",
       "        text-align: right;\n",
       "    }\n",
       "</style>\n",
       "<table border=\"1\" class=\"dataframe\">\n",
       "  <thead>\n",
       "    <tr style=\"text-align: right;\">\n",
       "      <th></th>\n",
       "      <th>TV</th>\n",
       "      <th>radio</th>\n",
       "      <th>newspaper</th>\n",
       "      <th>sales</th>\n",
       "    </tr>\n",
       "  </thead>\n",
       "  <tbody>\n",
       "    <tr>\n",
       "      <th>1</th>\n",
       "      <td>230.1</td>\n",
       "      <td>37.8</td>\n",
       "      <td>69.2</td>\n",
       "      <td>22.1</td>\n",
       "    </tr>\n",
       "    <tr>\n",
       "      <th>2</th>\n",
       "      <td>44.5</td>\n",
       "      <td>39.3</td>\n",
       "      <td>45.1</td>\n",
       "      <td>10.4</td>\n",
       "    </tr>\n",
       "    <tr>\n",
       "      <th>3</th>\n",
       "      <td>17.2</td>\n",
       "      <td>45.9</td>\n",
       "      <td>69.3</td>\n",
       "      <td>9.3</td>\n",
       "    </tr>\n",
       "    <tr>\n",
       "      <th>4</th>\n",
       "      <td>151.5</td>\n",
       "      <td>41.3</td>\n",
       "      <td>58.5</td>\n",
       "      <td>18.5</td>\n",
       "    </tr>\n",
       "    <tr>\n",
       "      <th>5</th>\n",
       "      <td>180.8</td>\n",
       "      <td>10.8</td>\n",
       "      <td>58.4</td>\n",
       "      <td>12.9</td>\n",
       "    </tr>\n",
       "    <tr>\n",
       "      <th>6</th>\n",
       "      <td>8.7</td>\n",
       "      <td>48.9</td>\n",
       "      <td>75.0</td>\n",
       "      <td>7.2</td>\n",
       "    </tr>\n",
       "    <tr>\n",
       "      <th>7</th>\n",
       "      <td>57.5</td>\n",
       "      <td>32.8</td>\n",
       "      <td>23.5</td>\n",
       "      <td>11.8</td>\n",
       "    </tr>\n",
       "    <tr>\n",
       "      <th>8</th>\n",
       "      <td>120.2</td>\n",
       "      <td>19.6</td>\n",
       "      <td>11.6</td>\n",
       "      <td>13.2</td>\n",
       "    </tr>\n",
       "    <tr>\n",
       "      <th>9</th>\n",
       "      <td>8.6</td>\n",
       "      <td>2.1</td>\n",
       "      <td>1.0</td>\n",
       "      <td>4.8</td>\n",
       "    </tr>\n",
       "    <tr>\n",
       "      <th>10</th>\n",
       "      <td>199.8</td>\n",
       "      <td>2.6</td>\n",
       "      <td>21.2</td>\n",
       "      <td>10.6</td>\n",
       "    </tr>\n",
       "  </tbody>\n",
       "</table>\n",
       "</div>"
      ],
      "text/plain": [
       "       TV  radio  newspaper  sales\n",
       "1   230.1   37.8       69.2   22.1\n",
       "2    44.5   39.3       45.1   10.4\n",
       "3    17.2   45.9       69.3    9.3\n",
       "4   151.5   41.3       58.5   18.5\n",
       "5   180.8   10.8       58.4   12.9\n",
       "6     8.7   48.9       75.0    7.2\n",
       "7    57.5   32.8       23.5   11.8\n",
       "8   120.2   19.6       11.6   13.2\n",
       "9     8.6    2.1        1.0    4.8\n",
       "10  199.8    2.6       21.2   10.6"
      ]
     },
     "execution_count": 123,
     "metadata": {},
     "output_type": "execute_result"
    }
   ],
   "source": [
    "# ilk 10 satırı\n",
    "\n",
    "df.head(10)"
   ]
  },
  {
   "cell_type": "code",
   "execution_count": 124,
   "id": "deadly-phrase",
   "metadata": {},
   "outputs": [
    {
     "data": {
      "text/html": [
       "<div>\n",
       "<style scoped>\n",
       "    .dataframe tbody tr th:only-of-type {\n",
       "        vertical-align: middle;\n",
       "    }\n",
       "\n",
       "    .dataframe tbody tr th {\n",
       "        vertical-align: top;\n",
       "    }\n",
       "\n",
       "    .dataframe thead th {\n",
       "        text-align: right;\n",
       "    }\n",
       "</style>\n",
       "<table border=\"1\" class=\"dataframe\">\n",
       "  <thead>\n",
       "    <tr style=\"text-align: right;\">\n",
       "      <th></th>\n",
       "      <th>TV</th>\n",
       "      <th>radio</th>\n",
       "      <th>newspaper</th>\n",
       "      <th>sales</th>\n",
       "    </tr>\n",
       "  </thead>\n",
       "  <tbody>\n",
       "    <tr>\n",
       "      <th>196</th>\n",
       "      <td>38.2</td>\n",
       "      <td>3.7</td>\n",
       "      <td>13.8</td>\n",
       "      <td>7.6</td>\n",
       "    </tr>\n",
       "    <tr>\n",
       "      <th>197</th>\n",
       "      <td>94.2</td>\n",
       "      <td>4.9</td>\n",
       "      <td>8.1</td>\n",
       "      <td>9.7</td>\n",
       "    </tr>\n",
       "    <tr>\n",
       "      <th>198</th>\n",
       "      <td>177.0</td>\n",
       "      <td>9.3</td>\n",
       "      <td>6.4</td>\n",
       "      <td>12.8</td>\n",
       "    </tr>\n",
       "    <tr>\n",
       "      <th>199</th>\n",
       "      <td>283.6</td>\n",
       "      <td>42.0</td>\n",
       "      <td>66.2</td>\n",
       "      <td>25.5</td>\n",
       "    </tr>\n",
       "    <tr>\n",
       "      <th>200</th>\n",
       "      <td>232.1</td>\n",
       "      <td>8.6</td>\n",
       "      <td>8.7</td>\n",
       "      <td>13.4</td>\n",
       "    </tr>\n",
       "  </tbody>\n",
       "</table>\n",
       "</div>"
      ],
      "text/plain": [
       "        TV  radio  newspaper  sales\n",
       "196   38.2    3.7       13.8    7.6\n",
       "197   94.2    4.9        8.1    9.7\n",
       "198  177.0    9.3        6.4   12.8\n",
       "199  283.6   42.0       66.2   25.5\n",
       "200  232.1    8.6        8.7   13.4"
      ]
     },
     "execution_count": 124,
     "metadata": {},
     "output_type": "execute_result"
    }
   ],
   "source": [
    "# son 5 satırı\n",
    "\n",
    "df.tail()"
   ]
  },
  {
   "cell_type": "code",
   "execution_count": 126,
   "id": "serial-capability",
   "metadata": {},
   "outputs": [
    {
     "name": "stdout",
     "output_type": "stream",
     "text": [
      "<class 'pandas.core.frame.DataFrame'>\n",
      "Int64Index: 200 entries, 1 to 200\n",
      "Data columns (total 4 columns):\n",
      " #   Column     Non-Null Count  Dtype  \n",
      "---  ------     --------------  -----  \n",
      " 0   TV         200 non-null    float64\n",
      " 1   radio      200 non-null    float64\n",
      " 2   newspaper  200 non-null    float64\n",
      " 3   sales      200 non-null    float64\n",
      "dtypes: float64(4)\n",
      "memory usage: 7.8 KB\n"
     ]
    }
   ],
   "source": [
    "# genel bilgiler\n",
    "\n",
    "df.info()"
   ]
  },
  {
   "cell_type": "code",
   "execution_count": 127,
   "id": "changed-august",
   "metadata": {},
   "outputs": [
    {
     "data": {
      "text/html": [
       "<div>\n",
       "<style scoped>\n",
       "    .dataframe tbody tr th:only-of-type {\n",
       "        vertical-align: middle;\n",
       "    }\n",
       "\n",
       "    .dataframe tbody tr th {\n",
       "        vertical-align: top;\n",
       "    }\n",
       "\n",
       "    .dataframe thead th {\n",
       "        text-align: right;\n",
       "    }\n",
       "</style>\n",
       "<table border=\"1\" class=\"dataframe\">\n",
       "  <thead>\n",
       "    <tr style=\"text-align: right;\">\n",
       "      <th></th>\n",
       "      <th>TV</th>\n",
       "      <th>radio</th>\n",
       "      <th>newspaper</th>\n",
       "      <th>sales</th>\n",
       "    </tr>\n",
       "  </thead>\n",
       "  <tbody>\n",
       "    <tr>\n",
       "      <th>count</th>\n",
       "      <td>200.000000</td>\n",
       "      <td>200.000000</td>\n",
       "      <td>200.000000</td>\n",
       "      <td>200.000000</td>\n",
       "    </tr>\n",
       "    <tr>\n",
       "      <th>mean</th>\n",
       "      <td>147.042500</td>\n",
       "      <td>23.264000</td>\n",
       "      <td>30.554000</td>\n",
       "      <td>14.022500</td>\n",
       "    </tr>\n",
       "    <tr>\n",
       "      <th>std</th>\n",
       "      <td>85.854236</td>\n",
       "      <td>14.846809</td>\n",
       "      <td>21.778621</td>\n",
       "      <td>5.217457</td>\n",
       "    </tr>\n",
       "    <tr>\n",
       "      <th>min</th>\n",
       "      <td>0.700000</td>\n",
       "      <td>0.000000</td>\n",
       "      <td>0.300000</td>\n",
       "      <td>1.600000</td>\n",
       "    </tr>\n",
       "    <tr>\n",
       "      <th>25%</th>\n",
       "      <td>74.375000</td>\n",
       "      <td>9.975000</td>\n",
       "      <td>12.750000</td>\n",
       "      <td>10.375000</td>\n",
       "    </tr>\n",
       "    <tr>\n",
       "      <th>50%</th>\n",
       "      <td>149.750000</td>\n",
       "      <td>22.900000</td>\n",
       "      <td>25.750000</td>\n",
       "      <td>12.900000</td>\n",
       "    </tr>\n",
       "    <tr>\n",
       "      <th>75%</th>\n",
       "      <td>218.825000</td>\n",
       "      <td>36.525000</td>\n",
       "      <td>45.100000</td>\n",
       "      <td>17.400000</td>\n",
       "    </tr>\n",
       "    <tr>\n",
       "      <th>max</th>\n",
       "      <td>296.400000</td>\n",
       "      <td>49.600000</td>\n",
       "      <td>114.000000</td>\n",
       "      <td>27.000000</td>\n",
       "    </tr>\n",
       "  </tbody>\n",
       "</table>\n",
       "</div>"
      ],
      "text/plain": [
       "               TV       radio   newspaper       sales\n",
       "count  200.000000  200.000000  200.000000  200.000000\n",
       "mean   147.042500   23.264000   30.554000   14.022500\n",
       "std     85.854236   14.846809   21.778621    5.217457\n",
       "min      0.700000    0.000000    0.300000    1.600000\n",
       "25%     74.375000    9.975000   12.750000   10.375000\n",
       "50%    149.750000   22.900000   25.750000   12.900000\n",
       "75%    218.825000   36.525000   45.100000   17.400000\n",
       "max    296.400000   49.600000  114.000000   27.000000"
      ]
     },
     "execution_count": 127,
     "metadata": {},
     "output_type": "execute_result"
    }
   ],
   "source": [
    "# temel istatistikler\n",
    "\n",
    "df.describe()"
   ]
  },
  {
   "cell_type": "markdown",
   "id": "integral-cincinnati",
   "metadata": {},
   "source": [
    "#### 4- Datayı görselleştir"
   ]
  },
  {
   "cell_type": "code",
   "execution_count": 128,
   "id": "devoted-signal",
   "metadata": {},
   "outputs": [],
   "source": [
    "# input - output\n",
    "\n",
    "data = df[['TV', 'sales']]\n",
    "\n",
    "# input -> feature (X)\n",
    "X = data['TV']\n",
    "\n",
    "# output\n",
    "y = data['sales']\n"
   ]
  },
  {
   "cell_type": "code",
   "execution_count": 129,
   "id": "hispanic-comment",
   "metadata": {},
   "outputs": [
    {
     "data": {
      "text/plain": [
       "pandas.core.series.Series"
      ]
     },
     "execution_count": 129,
     "metadata": {},
     "output_type": "execute_result"
    }
   ],
   "source": [
    "# X'in tipi\n",
    "\n",
    "type(X)"
   ]
  },
  {
   "cell_type": "code",
   "execution_count": 130,
   "id": "optional-transfer",
   "metadata": {},
   "outputs": [
    {
     "data": {
      "text/plain": [
       "pandas.core.series.Series"
      ]
     },
     "execution_count": 130,
     "metadata": {},
     "output_type": "execute_result"
    }
   ],
   "source": [
    "# y'nin tipi\n",
    "\n",
    "type(y)"
   ]
  },
  {
   "cell_type": "code",
   "execution_count": 131,
   "id": "proved-wheel",
   "metadata": {},
   "outputs": [
    {
     "data": {
      "image/png": "[encoded data removed]",
      "text/plain": [
       "<Figure size 864x576 with 1 Axes>"
      ]
     },
     "metadata": {
      "needs_background": "light"
     },
     "output_type": "display_data"
    }
   ],
   "source": [
    "# grafik çiz\n",
    "\n",
    "plt.figure(figsize=(12, 8))\n",
    "\n",
    "sns.scatterplot(data=data, x='TV', y='sales', color='orange')\n",
    "\n",
    "plt.title('SALES - TV')\n",
    "plt.show()"
   ]
  },
  {
   "cell_type": "markdown",
   "id": "assigned-summit",
   "metadata": {},
   "source": [
    "#### 5- Modeli oluştur"
   ]
  },
  {
   "cell_type": "markdown",
   "id": "fifteen-baltimore",
   "metadata": {},
   "source": [
    "$$ y = \\beta_0 + \\beta_1X $$"
   ]
  },
  {
   "cell_type": "markdown",
   "id": "aggregate-literacy",
   "metadata": {},
   "source": [
    "Machine Learning'de dünyada en yaygın kullanılan Python paketi: **Scikit-Learn**\n",
    "\n",
    "Scikit-Learn yükleme için:\n",
    "\n",
    "`conda install -c anaconda scikit-learn`"
   ]
  },
  {
   "cell_type": "markdown",
   "id": "focal-lithuania",
   "metadata": {},
   "source": [
    "https://scikit-learn.org/stable/modules/generated/sklearn.linear_model.LinearRegression.html"
   ]
  },
  {
   "cell_type": "code",
   "execution_count": 133,
   "id": "resistant-century",
   "metadata": {},
   "outputs": [],
   "source": [
    "# sklearn LinearRegression\n",
    "\n",
    "from sklearn.linear_model import LinearRegression"
   ]
  },
  {
   "cell_type": "code",
   "execution_count": 134,
   "id": "center-rough",
   "metadata": {},
   "outputs": [],
   "source": [
    "# lineer regresyon nesnesini yarat\n",
    "\n",
    "lr = LinearRegression()"
   ]
  },
  {
   "cell_type": "markdown",
   "id": "static-monster",
   "metadata": {},
   "source": [
    "#### 6- Hazırlık"
   ]
  },
  {
   "cell_type": "markdown",
   "id": "disabled-taylor",
   "metadata": {},
   "source": [
    "Boyut kontrolü yapmamız lazım."
   ]
  },
  {
   "cell_type": "markdown",
   "id": "passing-premiere",
   "metadata": {},
   "source": [
    "shape -> `(n_samples, n_features)`\n",
    "\n",
    "shape -> `(n, p)`"
   ]
  },
  {
   "cell_type": "code",
   "execution_count": 136,
   "id": "earlier-mongolia",
   "metadata": {},
   "outputs": [
    {
     "name": "stdout",
     "output_type": "stream",
     "text": [
      "X'in boyutu: (200,)\n",
      "y'in boyutu: (200,)\n"
     ]
    }
   ],
   "source": [
    "# önce input'un ve output'un boyutuna bakalım\n",
    "\n",
    "print(\"X'in boyutu:\", X.shape)\n",
    "print(\"y'in boyutu:\", y.shape)"
   ]
  },
  {
   "cell_type": "markdown",
   "id": "aging-rolling",
   "metadata": {},
   "source": [
    "Gördüğünüz gibi şekli sklearn'ün LinearRegression classının istediği gibi değil."
   ]
  },
  {
   "cell_type": "code",
   "execution_count": 137,
   "id": "experimental-fashion",
   "metadata": {},
   "outputs": [],
   "source": [
    "# yeniden boyutlandırmamız lazım\n",
    "# (200, 1) şeklinde\n",
    "\n",
    "X = X.values.reshape(-1, 1)"
   ]
  },
  {
   "cell_type": "code",
   "execution_count": 138,
   "id": "noted-adams",
   "metadata": {},
   "outputs": [
    {
     "name": "stdout",
     "output_type": "stream",
     "text": [
      "X'in boyutu: (200, 1)\n"
     ]
    }
   ],
   "source": [
    "# X'in yeni boyutu\n",
    "\n",
    "print(\"X'in boyutu:\", X.shape)"
   ]
  },
  {
   "cell_type": "code",
   "execution_count": 139,
   "id": "promising-connection",
   "metadata": {},
   "outputs": [],
   "source": [
    "# label (output) değişkenini de yeniden boyutlandıralım\n",
    "\n",
    "y = y.values.reshape(-1, 1)"
   ]
  },
  {
   "cell_type": "code",
   "execution_count": 140,
   "id": "difficult-backup",
   "metadata": {},
   "outputs": [
    {
     "name": "stdout",
     "output_type": "stream",
     "text": [
      "y'in boyutu: (200, 1)\n"
     ]
    }
   ],
   "source": [
    "# y'in yeni boyutu\n",
    "\n",
    "print(\"y'in boyutu:\", y.shape)"
   ]
  },
  {
   "cell_type": "markdown",
   "id": "numeric-queens",
   "metadata": {},
   "source": [
    "#### 7- Train-Test Split"
   ]
  },
  {
   "cell_type": "markdown",
   "id": "meaningful-pollution",
   "metadata": {},
   "source": [
    "Toplam 200 verimizi Train-Test olarak ikiye ayıracağız.\n",
    "\n",
    "Train: %70\n",
    "\n",
    "Test: %30\n",
    "\n",
    "Train Data: X_train, y_train\n",
    "\n",
    "Test Data: X_test, y_test"
   ]
  },
  {
   "cell_type": "markdown",
   "id": "banned-testament",
   "metadata": {},
   "source": [
    "https://scikit-learn.org/stable/modules/generated/sklearn.model_selection.train_test_split.html"
   ]
  },
  {
   "cell_type": "code",
   "execution_count": 141,
   "id": "rolled-certification",
   "metadata": {},
   "outputs": [],
   "source": [
    "# scikit-learn'den import\n",
    "\n",
    "from sklearn.model_selection import train_test_split"
   ]
  },
  {
   "cell_type": "code",
   "execution_count": 142,
   "id": "outside-import",
   "metadata": {},
   "outputs": [],
   "source": [
    "# train data\n",
    "# X_train, y_train\n",
    "\n",
    "# test_data\n",
    "# X_test, y_test\n",
    "\n",
    "X_train, X_test, y_train, y_test = train_test_split(X, y, test_size=0.30, random_state=100)"
   ]
  },
  {
   "cell_type": "code",
   "execution_count": 143,
   "id": "armed-attribute",
   "metadata": {},
   "outputs": [
    {
     "name": "stdout",
     "output_type": "stream",
     "text": [
      "X_train'in boyutu: (140, 1)\n",
      "y_train'in boyutu: (140, 1)\n",
      "X_test'in boyutu: (60, 1)\n",
      "y_test'in boyutu: (60, 1)\n"
     ]
    }
   ],
   "source": [
    "# şekiller\n",
    "\n",
    "print(\"X_train'in boyutu:\", X_train.shape)\n",
    "print(\"y_train'in boyutu:\", y_train.shape)\n",
    "\n",
    "print(\"X_test'in boyutu:\", X_test.shape)\n",
    "print(\"y_test'in boyutu:\", y_test.shape)"
   ]
  },
  {
   "cell_type": "code",
   "execution_count": 144,
   "id": "prerequisite-narrative",
   "metadata": {},
   "outputs": [
    {
     "data": {
      "text/plain": [
       "numpy.ndarray"
      ]
     },
     "execution_count": 144,
     "metadata": {},
     "output_type": "execute_result"
    }
   ],
   "source": [
    "# X_train'in tipi\n",
    "\n",
    "type(X_train)"
   ]
  },
  {
   "cell_type": "markdown",
   "id": "stunning-christianity",
   "metadata": {},
   "source": [
    "#### 8- Lineer Regresyon Modelini Çalıştır (Fit)"
   ]
  },
  {
   "cell_type": "code",
   "execution_count": 145,
   "id": "known-tenant",
   "metadata": {},
   "outputs": [
    {
     "data": {
      "text/plain": [
       "LinearRegression()"
      ]
     },
     "execution_count": 145,
     "metadata": {},
     "output_type": "execute_result"
    }
   ],
   "source": [
    "# regresyonu çalıştır -> fit\n",
    "# fit -> öğrenme\n",
    "# train data üzerinden\n",
    "\n",
    "lr.fit(X_train, y_train)"
   ]
  },
  {
   "cell_type": "markdown",
   "id": "wanted-logan",
   "metadata": {},
   "source": [
    "#### 9- Katsayıları Hesaplama (intercept_, coef_)"
   ]
  },
  {
   "cell_type": "markdown",
   "id": "imperial-casting",
   "metadata": {},
   "source": [
    "Lineer Regresyonu fit etmenin amacı katsayıları hesaplamaktır.\n",
    "\n",
    "$\\beta_0$ -> intercept\n",
    "\n",
    "$\\beta_1$ -> slope (coefficient)"
   ]
  },
  {
   "cell_type": "code",
   "execution_count": 147,
   "id": "desirable-composer",
   "metadata": {},
   "outputs": [
    {
     "name": "stdout",
     "output_type": "stream",
     "text": [
      "intercept: [6.98966586]\n"
     ]
    }
   ],
   "source": [
    "# intercept -> beta 0\n",
    "\n",
    "print('intercept:', lr.intercept_)"
   ]
  },
  {
   "cell_type": "code",
   "execution_count": 148,
   "id": "compressed-poison",
   "metadata": {},
   "outputs": [
    {
     "name": "stdout",
     "output_type": "stream",
     "text": [
      "slope (coeffificent) eğim: [[0.04649736]]\n"
     ]
    }
   ],
   "source": [
    "# slope = coefficient -> beta 1\n",
    "\n",
    "print('slope (coeffificent) eğim:', lr.coef_)"
   ]
  },
  {
   "cell_type": "markdown",
   "id": "adaptive-qualification",
   "metadata": {},
   "source": [
    "$$ y = 6.989 + 0.0464 X $$"
   ]
  },
  {
   "cell_type": "markdown",
   "id": "adjustable-differential",
   "metadata": {},
   "source": [
    "#### 10- Tahmin Yap (Predict)"
   ]
  },
  {
   "cell_type": "markdown",
   "id": "plastic-italic",
   "metadata": {},
   "source": [
    "Artık regresyon katsayılarımızı hesapladığımıza göre, test datası (X_test) üzerinden y'leri tahmin edebiliriz.\n",
    "\n",
    "`y_pred`\n",
    "\n",
    "Gerçek y'ler y_test olarak duruyor.\n",
    "\n",
    "Onları tahminimizin doğruluğunu kontrol ederken kullanacağız. "
   ]
  },
  {
   "cell_type": "code",
   "execution_count": 149,
   "id": "judicial-repeat",
   "metadata": {},
   "outputs": [],
   "source": [
    "# tahmin yap\n",
    "\n",
    "y_pred = lr.predict(X_test)"
   ]
  },
  {
   "cell_type": "code",
   "execution_count": 150,
   "id": "distant-senegal",
   "metadata": {},
   "outputs": [
    {
     "data": {
      "text/plain": [
       "array([[ 7.35234526],\n",
       "       [18.06533671],\n",
       "       [13.27610876],\n",
       "       [17.11214086],\n",
       "       [18.22807747],\n",
       "       [16.60531965],\n",
       "       [13.4620982 ],\n",
       "       [16.17754395],\n",
       "       [17.05169429],\n",
       "       [17.07029323],\n",
       "       [12.4391563 ],\n",
       "       [17.66080969],\n",
       "       [ 9.60281742],\n",
       "       [15.72186983],\n",
       "       [11.04423554],\n",
       "       [11.36971705],\n",
       "       [13.95032046],\n",
       "       [14.90351632],\n",
       "       [14.59198401],\n",
       "       [12.23921766],\n",
       "       [16.97264878],\n",
       "       [13.00642408],\n",
       "       [16.07524976],\n",
       "       [15.21969836],\n",
       "       [15.58702749],\n",
       "       [17.23303399],\n",
       "       [17.20978531],\n",
       "       [10.49091697],\n",
       "       [15.58702749],\n",
       "       [12.71349072],\n",
       "       [10.1700852 ],\n",
       "       [10.19798361],\n",
       "       [12.61584627],\n",
       "       [15.74976825],\n",
       "       [ 9.31453379],\n",
       "       [12.59259759],\n",
       "       [11.50920913],\n",
       "       [14.81982107],\n",
       "       [17.33067844],\n",
       "       [15.97295557],\n",
       "       [17.00519693],\n",
       "       [15.15925179],\n",
       "       [14.63848137],\n",
       "       [17.14933874],\n",
       "       [12.57864838],\n",
       "       [11.16047894],\n",
       "       [ 7.77547122],\n",
       "       [18.55820871],\n",
       "       [10.27237939],\n",
       "       [ 8.76586496],\n",
       "       [16.405381  ],\n",
       "       [14.95466341],\n",
       "       [10.4816175 ],\n",
       "       [13.08546959],\n",
       "       [16.78665935],\n",
       "       [ 9.05879832],\n",
       "       [ 7.78942043],\n",
       "       [ 8.17999824],\n",
       "       [16.17754395],\n",
       "       [10.9744895 ]])"
      ]
     },
     "execution_count": 150,
     "metadata": {},
     "output_type": "execute_result"
    }
   ],
   "source": [
    "# tahmini yazdır\n",
    "\n",
    "y_pred"
   ]
  },
  {
   "cell_type": "code",
   "execution_count": 151,
   "id": "demographic-colorado",
   "metadata": {},
   "outputs": [
    {
     "data": {
      "text/plain": [
       "(60, 1)"
      ]
     },
     "execution_count": 151,
     "metadata": {},
     "output_type": "execute_result"
    }
   ],
   "source": [
    "# tahmin datasının şekli\n",
    "\n",
    "y_pred.shape"
   ]
  },
  {
   "cell_type": "code",
   "execution_count": 152,
   "id": "political-farming",
   "metadata": {},
   "outputs": [
    {
     "data": {
      "text/plain": [
       "(60, 1)"
      ]
     },
     "execution_count": 152,
     "metadata": {},
     "output_type": "execute_result"
    }
   ],
   "source": [
    "# test datasının (orjinal data) şekli\n",
    "# y_true\n",
    "\n",
    "y_test.shape"
   ]
  },
  {
   "cell_type": "markdown",
   "id": "plastic-archive",
   "metadata": {},
   "source": [
    "#### 11- Gerçek Data ve Tahmin Datasını Çiz"
   ]
  },
  {
   "cell_type": "markdown",
   "id": "published-supervisor",
   "metadata": {},
   "source": [
    "Artık test datadan yani gerçek dünyadan bahsediyoruz.\n",
    "\n",
    "Train ile işimiz bitti. Yani öğrendik.\n",
    "\n",
    "Gerçek Label -> y_test\n",
    "\n",
    "Tahmin Label -> y_pred\n",
    "\n",
    "Input -> X_test"
   ]
  },
  {
   "cell_type": "code",
   "execution_count": 156,
   "id": "intimate-friday",
   "metadata": {},
   "outputs": [
    {
     "data": {
      "image/png": "[encoded data removed]",
      "text/plain": [
       "<Figure size 864x576 with 1 Axes>"
      ]
     },
     "metadata": {
      "needs_background": "light"
     },
     "output_type": "display_data"
    }
   ],
   "source": [
    "# Gerçek Data -> Grand Truth\n",
    "fig, ax = plt.subplots(figsize=(12,8))\n",
    "ax.scatter(X_test, y_test, label='Grand Truth', color='red')\n",
    "\n",
    "# Tahmin -> Prediction\n",
    "ax.scatter(X_test, y_pred, label='Prediction', color='green')\n",
    "\n",
    "plt.title('SALES - TV - PREDICTION')\n",
    "plt.xlabel('TV')\n",
    "plt.ylabel('Sales')\n",
    "plt.legend(loc='upper left')\n",
    "plt.show()"
   ]
  },
  {
   "cell_type": "code",
   "execution_count": 161,
   "id": "collected-bloom",
   "metadata": {},
   "outputs": [
    {
     "data": {
      "text/plain": [
       "array([[ 6.6],\n",
       "       [20.7],\n",
       "       [17.2],\n",
       "       [19.4],\n",
       "       [21.8],\n",
       "       [12.2],\n",
       "       [12.2],\n",
       "       [11.7],\n",
       "       [22.6],\n",
       "       [22.3]])"
      ]
     },
     "execution_count": 161,
     "metadata": {},
     "output_type": "execute_result"
    }
   ],
   "source": [
    "# ilk 10 gerçek y değerini görelim\n",
    "\n",
    "y_test[0:10]"
   ]
  },
  {
   "cell_type": "code",
   "execution_count": 162,
   "id": "occasional-zimbabwe",
   "metadata": {},
   "outputs": [
    {
     "data": {
      "text/plain": [
       "array([[ 7.35234526],\n",
       "       [18.06533671],\n",
       "       [13.27610876],\n",
       "       [17.11214086],\n",
       "       [18.22807747],\n",
       "       [16.60531965],\n",
       "       [13.4620982 ],\n",
       "       [16.17754395],\n",
       "       [17.05169429],\n",
       "       [17.07029323]])"
      ]
     },
     "execution_count": 162,
     "metadata": {},
     "output_type": "execute_result"
    }
   ],
   "source": [
    "# ilk 10 tahmin değerini görelim\n",
    "\n",
    "y_pred[0:10]"
   ]
  },
  {
   "cell_type": "code",
   "execution_count": 163,
   "id": "understanding-validity",
   "metadata": {},
   "outputs": [
    {
     "data": {
      "image/png": "[encoded data removed]",
      "text/plain": [
       "<Figure size 864x576 with 1 Axes>"
      ]
     },
     "metadata": {
      "needs_background": "light"
     },
     "output_type": "display_data"
    }
   ],
   "source": [
    "# Her bir tahmin noktasındaki değişimi görelim\n",
    "indexler = range(1,61)\n",
    "\n",
    "# Gerçek Data -> Grand Truth\n",
    "fig, ax = plt.subplots(figsize=(12,8))\n",
    "ax.plot(indexler, y_test, label='Grand Truth', color='red', linewidth=2)\n",
    "\n",
    "# Tahmin -> Prediction\n",
    "ax.plot(indexler, y_pred, label='Prediction', color='green', linewidth=2)\n",
    "\n",
    "plt.title('GERÇEK - PREDICTION')\n",
    "plt.xlabel('Data Index')\n",
    "plt.ylabel('Sales')\n",
    "plt.legend(loc='upper left')\n",
    "plt.show()"
   ]
  },
  {
   "cell_type": "markdown",
   "id": "spectacular-petersburg",
   "metadata": {},
   "source": [
    "#### 12- Hataları Çiz ($y - \\hat y$)"
   ]
  },
  {
   "cell_type": "markdown",
   "id": "automated-junction",
   "metadata": {},
   "source": [
    "Hata : Residual -> ($y - \\hat y$)\n",
    "\n",
    "**y_test - y_pred**"
   ]
  },
  {
   "cell_type": "code",
   "execution_count": 164,
   "id": "opponent-cover",
   "metadata": {},
   "outputs": [],
   "source": [
    "import numpy as np"
   ]
  },
  {
   "cell_type": "code",
   "execution_count": 166,
   "id": "overhead-thomas",
   "metadata": {},
   "outputs": [
    {
     "data": {
      "image/png": "[encoded data removed]",
      "text/plain": [
       "<Figure size 864x576 with 1 Axes>"
      ]
     },
     "metadata": {
      "needs_background": "light"
     },
     "output_type": "display_data"
    }
   ],
   "source": [
    "# Her bir tahmin noktasındaki hatayı görelim\n",
    "indexler = range(1,61)\n",
    "\n",
    "# Residuls -> Hatalar\n",
    "fig, ax = plt.subplots(figsize=(12,8))\n",
    "ax.plot(indexler, y_test - y_pred, label='Residuals', color='red', linewidth=2)\n",
    "\n",
    "# sıfır doğrusunu çiz\n",
    "ax.plot(indexler, np.zeros(60), color='black')\n",
    "\n",
    "plt.title('HATALAR (RESIDUALS)')\n",
    "plt.xlabel('Data Index')\n",
    "plt.ylabel('Sales')\n",
    "plt.legend(loc='upper left')\n",
    "plt.show()"
   ]
  },
  {
   "cell_type": "markdown",
   "id": "tight-plaintiff",
   "metadata": {},
   "source": [
    "#### 13- Model Doğruluğunu Kontrol Et (RMSE, ve $R^2$)"
   ]
  },
  {
   "cell_type": "markdown",
   "id": "fuzzy-deadline",
   "metadata": {},
   "source": [
    "**RMSE**: Root Mean Squared Error\n",
    "\n",
    "Daha önce gördüğümüz MSE'nin karekökü aslında.\n",
    "\n",
    "$R^2$: `coefficient of determination`."
   ]
  },
  {
   "cell_type": "markdown",
   "id": "literary-classic",
   "metadata": {},
   "source": [
    "https://scikit-learn.org/stable/modules/classes.html#module-sklearn.metrics"
   ]
  },
  {
   "cell_type": "code",
   "execution_count": 167,
   "id": "democratic-motorcycle",
   "metadata": {},
   "outputs": [],
   "source": [
    "# sklearn import\n",
    "\n",
    "from sklearn.metrics import r2_score, mean_squared_error"
   ]
  },
  {
   "cell_type": "code",
   "execution_count": 168,
   "id": "nearby-interference",
   "metadata": {},
   "outputs": [],
   "source": [
    "# R^2 yi hesaplayalım\n",
    "\n",
    "r_2 = r2_score(y_test, y_pred)"
   ]
  },
  {
   "cell_type": "code",
   "execution_count": 169,
   "id": "indian-favor",
   "metadata": {},
   "outputs": [
    {
     "name": "stdout",
     "output_type": "stream",
     "text": [
      "R^2: 0.5942987267783302\n"
     ]
    }
   ],
   "source": [
    "# R^2 yazdır\n",
    "\n",
    "print('R^2:', r_2)"
   ]
  },
  {
   "cell_type": "code",
   "execution_count": 170,
   "id": "mexican-honey",
   "metadata": {},
   "outputs": [
    {
     "name": "stdout",
     "output_type": "stream",
     "text": [
      "R^2 %: 59.42987267783302\n"
     ]
    }
   ],
   "source": [
    "# R^2 % olarak yazdır\n",
    "\n",
    "print('R^2 %:', r_2 * 100)"
   ]
  },
  {
   "cell_type": "code",
   "execution_count": 171,
   "id": "tested-smooth",
   "metadata": {},
   "outputs": [],
   "source": [
    "# MSE -> RMSE\n",
    "\n",
    "mse = mean_squared_error(y_test, y_pred)"
   ]
  },
  {
   "cell_type": "code",
   "execution_count": 172,
   "id": "administrative-webcam",
   "metadata": {},
   "outputs": [
    {
     "name": "stdout",
     "output_type": "stream",
     "text": [
      "MSE: 7.97579853285485\n"
     ]
    }
   ],
   "source": [
    "# MSE'yi yazdır\n",
    "\n",
    "print('MSE:', mse)"
   ]
  },
  {
   "cell_type": "code",
   "execution_count": 173,
   "id": "deluxe-yesterday",
   "metadata": {},
   "outputs": [],
   "source": [
    "# RMSE\n",
    "\n",
    "import math\n",
    "rmse = math.sqrt(mse)"
   ]
  },
  {
   "cell_type": "code",
   "execution_count": 174,
   "id": "colored-living",
   "metadata": {},
   "outputs": [
    {
     "name": "stdout",
     "output_type": "stream",
     "text": [
      "RMSE: 2.8241456288327007\n"
     ]
    }
   ],
   "source": [
    "# RMSE'yi yazdır\n",
    "\n",
    "print('RMSE:', rmse)"
   ]
  },
  {
   "cell_type": "markdown",
   "id": "historic-vault",
   "metadata": {},
   "source": [
    "#### 14- Yorumlar"
   ]
  },
  {
   "cell_type": "markdown",
   "id": "premier-cosmetic",
   "metadata": {},
   "source": [
    "**$R^2$ = %59.43**\n",
    "\n",
    "çıktı\n",
    "\n",
    "Yani neredeyse, %60.\n",
    "\n",
    "Bu şu demek:\n",
    "\n",
    "Bizim modelimiz gerçek datayı %60 oranında temsil ediyor. Fena değil oran. Tabi domain'e (alan) göre değişir."
   ]
  },
  {
   "cell_type": "markdown",
   "id": "green-greensboro",
   "metadata": {},
   "source": [
    "**RMSE = 2.82**\n",
    "\n",
    "çıktı.\n",
    "\n",
    "Bu şu demek:\n",
    "\n",
    "Modelimiz ortalamada 2.82'lık bir hata yapıyor tahmin ederken.\n",
    "\n",
    "Örneğin, \n",
    "\n",
    "gerçek değer = 22.3 \n",
    "\n",
    "iken \n",
    "\n",
    "tahmin = 17.07\n",
    "\n",
    "çıkmıştı."
   ]
  }
 ],
 "metadata": {
  "kernelspec": {
   "display_name": "Python 3",
   "language": "python",
   "name": "python3"
  },
  "language_info": {
   "codemirror_mode": {
    "name": "ipython",
    "version": 3
   },
   "file_extension": ".py",
   "mimetype": "text/x-python",
   "name": "python",
   "nbconvert_exporter": "python",
   "pygments_lexer": "ipython3",
   "version": "3.8.5"
  }
 },
 "nbformat": 4,
 "nbformat_minor": 5
}

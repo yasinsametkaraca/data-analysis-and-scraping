{
 "cells": [
  {
   "cell_type": "markdown",
   "metadata": {},
   "source": [
    "# Recurrent Neural Network (RNN)"
   ]
  },
  {
   "cell_type": "markdown",
   "metadata": {},
   "source": [
    "## Content\n",
    "* [Sequence Models](#1)\n",
    "* [Recurrent Neural Network (RNN)](#2)\n",
    "* [Implementing Recurrent Neural Network with Keras](#3)\n",
    "    * [Loading and Preprocessing Data](#31)\n",
    "    * [Create RNN Model](#32)\n",
    "    * [Predictions and Visualising RNN Model](#33)\n",
    "* [Long Short Term Memory (LSTMs)](#4)\n",
    "* [Implementing Long Short Term Memory with Keras](#99)\n",
    "    * [Loading and Visualizing Data](#41)\n",
    "    * [Preprocessing Data](#42)\n",
    "    * [Create LSTM Model](#43)\n",
    "    * [Predictions and Visualising LSTM Model](#44)\n",
    "* [Conclusion](#6)"
   ]
  },
  {
   "cell_type": "markdown",
   "metadata": {},
   "source": [
    "<a id=\"1\"></a>\n",
    "## Sequence Models\n",
    "* Sequence models plays an over time. \n",
    "* Speech recognition, natural language process (NLP), music generation\n",
    "* Apples Siri and Google's voice search\n",
    "* Sentiment classification (duygu sınıflandırma) Mesela \"bu ders bu dunyadaki en guzel ders\" yada \"sacma sapan ders cekmissin hocaaa\"  "
   ]
  },
  {
   "cell_type": "markdown",
   "metadata": {},
   "source": [
    "<a id=\"2\"></a>\n",
    "## Recurrent Neural Network\n",
    "* RNN’s are able to remember important things about the input they received, which enables them to be very precise in predicting what’s coming next.\n",
    "* This is the reason why they are the preferred algorithm for sequential data like time series, speech, text, financial data, audio, video, weather and much more because they can form a much deeper understanding of a sequence and its context, compared to other algorithms.\n",
    "* Not only feeds output but also gives feed backs into itself. Because RNN has internal memory\n",
    "* temporal loop = zamansal döngü. Kendini besler.\n",
    "* ![title](temporal loop.jpg)\n",
    "* Belleğe sahipler short term memory bir önceki node da olanları hatırlarlar. Eskiyi hatırlar.\n",
    "* Mesela geçmişi hatırlamak neden önemli biz yaptıklarımızdan bir şeyler öğreniriz ve yeni öğrenilen şeyleri de eski öğrendiklerimizi üzerine kurarız. RNN'i de aynı mantıkta düşünebilirsiniz. Film örneğinde olduğu gibi.\n",
    "* ![title](new world image.jpg)\n",
    "* Örnek RNN yapılarına bakalım\n",
    "* One to Many\n",
    "    * Input bir resim output o resimde yapılan cümle yani \"Adam surf yapıyor\"\n",
    "    * ![title](one to many.jpg)\n",
    "* Many to One\n",
    "    * Input bir cümle output bir duygu mesela iyimser neşeli gibi.\n",
    "    * ![title](many to one.jpg)\n",
    "* Many to Many\n",
    "    * Mesela google translate kullanarak İngilizceden bir cümleyi Türkçe'ye translate etmek\n",
    "    * ![title](many to many.jpg)\n",
    "* RNN short term memory'e sahip ama LSTM long term memory'e de sahip olabiliyor.\n",
    "* RNN'i ANN yada CNN'den ayıran daha önce de belirttiğimiz gibi *memory*. Mesela \"DATAI\" diye bir stringimiz var ve biz 4. harfe geldik yani \"A\" harfine. ANN' e sorduğumuz zaman 4. harfi A olan bir kelimenin 5. harfi ne olabilir diye. ANN bilemez çünkü memory olmadığı için geçmiş harfleri yani \"DAT\" harflerini bilip \"A\" ile birleştirip daha sonra 5. harf \"I\" olabilir diyemez. Ama RNN tam olarak bunu söyleyebilir.\n",
    "* Exploiding Gradients: Gradient'in çok büyük olması durumu. Gereksiz yere belli weightlere önem kazandırır.\n",
    "* Vanishing Gradients: Gradient'in çok küçük olması durumu. Yavaş öğrenir.\n",
    "* Gradient neydi arkadaşlar costa göre weightlerde ki değişim."
   ]
  },
  {
   "cell_type": "markdown",
   "metadata": {},
   "source": [
    "<a id=\"3\"></a>\n",
    "## Implementing Recurrent Neural Network with Keras\n",
    "* [Loading and Preprocessing Data](#31)\n",
    "* [Create RNN Model](#32)\n",
    "* [Predictions and Visualising RNN Model](#33)"
   ]
  },
  {
   "cell_type": "markdown",
   "metadata": {},
   "source": [
    "<a id=\"31\"></a>\n",
    "### Loading and Preprocessing Data"
   ]
  },
  {
   "cell_type": "code",
   "execution_count": 1,
   "metadata": {
    "ExecuteTime": {
     "end_time": "2023-08-28T12:29:50.551833Z",
     "start_time": "2023-08-28T12:29:49.255176700Z"
    }
   },
   "outputs": [],
   "source": [
    "# Importing the libraries\n",
    "import numpy as np\n",
    "import matplotlib.pyplot as plt\n",
    "import pandas as pd\n",
    "import warnings\n",
    "warnings.filterwarnings('ignore')"
   ]
  },
  {
   "cell_type": "code",
   "execution_count": 2,
   "metadata": {
    "ExecuteTime": {
     "end_time": "2023-08-28T12:29:50.574414900Z",
     "start_time": "2023-08-28T12:29:50.553911900Z"
    }
   },
   "outputs": [],
   "source": [
    "# Importing the training set\n",
    "dataset_train = pd.read_csv('Stock_Price_Train.csv')"
   ]
  },
  {
   "cell_type": "code",
   "execution_count": 3,
   "metadata": {
    "ExecuteTime": {
     "end_time": "2023-08-28T12:29:50.613194100Z",
     "start_time": "2023-08-28T12:29:50.577560800Z"
    }
   },
   "outputs": [
    {
     "data": {
      "text/plain": "       Date    Open    High     Low   Close      Volume\n0  1/3/2012  325.25  332.83  324.97  663.59   7,380,500\n1  1/4/2012  331.27  333.87  329.08  666.45   5,749,400\n2  1/5/2012  329.83  330.75  326.89  657.21   6,590,300\n3  1/6/2012  328.34  328.77  323.68  648.24   5,405,900\n4  1/9/2012  322.04  322.29  309.46  620.76  11,688,800",
      "text/html": "<div>\n<style scoped>\n    .dataframe tbody tr th:only-of-type {\n        vertical-align: middle;\n    }\n\n    .dataframe tbody tr th {\n        vertical-align: top;\n    }\n\n    .dataframe thead th {\n        text-align: right;\n    }\n</style>\n<table border=\"1\" class=\"dataframe\">\n  <thead>\n    <tr style=\"text-align: right;\">\n      <th></th>\n      <th>Date</th>\n      <th>Open</th>\n      <th>High</th>\n      <th>Low</th>\n      <th>Close</th>\n      <th>Volume</th>\n    </tr>\n  </thead>\n  <tbody>\n    <tr>\n      <th>0</th>\n      <td>1/3/2012</td>\n      <td>325.25</td>\n      <td>332.83</td>\n      <td>324.97</td>\n      <td>663.59</td>\n      <td>7,380,500</td>\n    </tr>\n    <tr>\n      <th>1</th>\n      <td>1/4/2012</td>\n      <td>331.27</td>\n      <td>333.87</td>\n      <td>329.08</td>\n      <td>666.45</td>\n      <td>5,749,400</td>\n    </tr>\n    <tr>\n      <th>2</th>\n      <td>1/5/2012</td>\n      <td>329.83</td>\n      <td>330.75</td>\n      <td>326.89</td>\n      <td>657.21</td>\n      <td>6,590,300</td>\n    </tr>\n    <tr>\n      <th>3</th>\n      <td>1/6/2012</td>\n      <td>328.34</td>\n      <td>328.77</td>\n      <td>323.68</td>\n      <td>648.24</td>\n      <td>5,405,900</td>\n    </tr>\n    <tr>\n      <th>4</th>\n      <td>1/9/2012</td>\n      <td>322.04</td>\n      <td>322.29</td>\n      <td>309.46</td>\n      <td>620.76</td>\n      <td>11,688,800</td>\n    </tr>\n  </tbody>\n</table>\n</div>"
     },
     "execution_count": 3,
     "metadata": {},
     "output_type": "execute_result"
    }
   ],
   "source": [
    "dataset_train.head()"
   ]
  },
  {
   "cell_type": "code",
   "execution_count": 4,
   "metadata": {
    "ExecuteTime": {
     "end_time": "2023-08-28T12:29:50.617196100Z",
     "start_time": "2023-08-28T12:29:50.604827800Z"
    }
   },
   "outputs": [
    {
     "data": {
      "text/plain": "array([[325.25],\n       [331.27],\n       [329.83],\n       ...,\n       [793.7 ],\n       [783.33],\n       [782.75]])"
     },
     "execution_count": 4,
     "metadata": {},
     "output_type": "execute_result"
    }
   ],
   "source": [
    "train = dataset_train.loc[:, [\"Open\"]].values\n",
    "train"
   ]
  },
  {
   "cell_type": "code",
   "execution_count": 5,
   "metadata": {
    "ExecuteTime": {
     "end_time": "2023-08-28T12:29:53.885814400Z",
     "start_time": "2023-08-28T12:29:50.617196100Z"
    }
   },
   "outputs": [
    {
     "data": {
      "text/plain": "array([[0.08581368],\n       [0.09701243],\n       [0.09433366],\n       ...,\n       [0.95725128],\n       [0.93796041],\n       [0.93688146]])"
     },
     "execution_count": 5,
     "metadata": {},
     "output_type": "execute_result"
    }
   ],
   "source": [
    "# Feature Scaling\n",
    "from sklearn.preprocessing import MinMaxScaler\n",
    "scaler = MinMaxScaler(feature_range = (0, 1))\n",
    "train_scaled = scaler.fit_transform(train)\n",
    "train_scaled\n"
   ]
  },
  {
   "cell_type": "code",
   "execution_count": 6,
   "metadata": {
    "ExecuteTime": {
     "end_time": "2023-08-28T12:29:54.451474600Z",
     "start_time": "2023-08-28T12:29:53.885814400Z"
    }
   },
   "outputs": [
    {
     "data": {
      "text/plain": "<Figure size 640x480 with 1 Axes>",
      "image/png": "[encoded data removed]"
     },
     "metadata": {},
     "output_type": "display_data"
    }
   ],
   "source": [
    "plt.plot(train_scaled)\n",
    "plt.show()"
   ]
  },
  {
   "cell_type": "code",
   "execution_count": 7,
   "metadata": {
    "ExecuteTime": {
     "end_time": "2023-08-28T12:29:54.463106100Z",
     "start_time": "2023-08-28T12:29:54.453516700Z"
    }
   },
   "outputs": [],
   "source": [
    "# Creating a data structure with 50 timesteps and 1 output\n",
    "X_train = []\n",
    "y_train = []\n",
    "timesteps = 50\n",
    "for i in range(timesteps, 1258):\n",
    "    X_train.append(train_scaled[i-timesteps:i, 0])\n",
    "    y_train.append(train_scaled[i, 0])\n",
    "X_train, y_train = np.array(X_train), np.array(y_train)"
   ]
  },
  {
   "cell_type": "code",
   "execution_count": 8,
   "metadata": {
    "ExecuteTime": {
     "end_time": "2023-08-28T12:29:54.479632400Z",
     "start_time": "2023-08-28T12:29:54.460026500Z"
    }
   },
   "outputs": [
    {
     "data": {
      "text/plain": "array([[[0.08581368],\n        [0.09701243],\n        [0.09433366],\n        ...,\n        [0.03675869],\n        [0.04486941],\n        [0.05065481]],\n\n       [[0.09701243],\n        [0.09433366],\n        [0.09156187],\n        ...,\n        [0.04486941],\n        [0.05065481],\n        [0.05214302]],\n\n       [[0.09433366],\n        [0.09156187],\n        [0.07984225],\n        ...,\n        [0.05065481],\n        [0.05214302],\n        [0.05612397]],\n\n       ...,\n\n       [[0.9313937 ],\n        [0.94636878],\n        [0.96569685],\n        ...,\n        [0.95475854],\n        [0.95204256],\n        [0.95163331]],\n\n       [[0.94636878],\n        [0.96569685],\n        [0.97510976],\n        ...,\n        [0.95204256],\n        [0.95163331],\n        [0.95725128]],\n\n       [[0.96569685],\n        [0.97510976],\n        [0.95966962],\n        ...,\n        [0.95163331],\n        [0.95725128],\n        [0.93796041]]])"
     },
     "execution_count": 8,
     "metadata": {},
     "output_type": "execute_result"
    }
   ],
   "source": [
    "# Reshaping\n",
    "X_train = np.reshape(X_train, (X_train.shape[0], X_train.shape[1], 1))\n",
    "X_train"
   ]
  },
  {
   "cell_type": "code",
   "execution_count": 9,
   "metadata": {
    "ExecuteTime": {
     "end_time": "2023-08-28T12:29:54.480633500Z",
     "start_time": "2023-08-28T12:29:54.468380500Z"
    }
   },
   "outputs": [
    {
     "data": {
      "text/plain": "array([0.05214302, 0.05612397, 0.05818885, ..., 0.95725128, 0.93796041,\n       0.93688146])"
     },
     "execution_count": 9,
     "metadata": {},
     "output_type": "execute_result"
    }
   ],
   "source": [
    "y_train"
   ]
  },
  {
   "cell_type": "markdown",
   "metadata": {},
   "source": [
    "<a id=\"32\"></a>\n",
    "### Create RNN Model"
   ]
  },
  {
   "cell_type": "code",
   "execution_count": 10,
   "metadata": {
    "ExecuteTime": {
     "end_time": "2023-08-28T12:29:55.469760700Z",
     "start_time": "2023-08-28T12:29:54.476631500Z"
    }
   },
   "outputs": [
    {
     "ename": "ModuleNotFoundError",
     "evalue": "No module named 'tensorflow'",
     "output_type": "error",
     "traceback": [
      "\u001B[1;31m---------------------------------------------------------------------------\u001B[0m",
      "\u001B[1;31mModuleNotFoundError\u001B[0m                       Traceback (most recent call last)",
      "Cell \u001B[1;32mIn[10], line 2\u001B[0m\n\u001B[0;32m      1\u001B[0m \u001B[38;5;66;03m# Importing the Keras libraries and packages\u001B[39;00m\n\u001B[1;32m----> 2\u001B[0m \u001B[38;5;28;01mfrom\u001B[39;00m \u001B[38;5;21;01mkeras\u001B[39;00m\u001B[38;5;21;01m.\u001B[39;00m\u001B[38;5;21;01mmodels\u001B[39;00m \u001B[38;5;28;01mimport\u001B[39;00m Sequential\n\u001B[0;32m      3\u001B[0m \u001B[38;5;28;01mfrom\u001B[39;00m \u001B[38;5;21;01mkeras\u001B[39;00m\u001B[38;5;21;01m.\u001B[39;00m\u001B[38;5;21;01mlayers\u001B[39;00m \u001B[38;5;28;01mimport\u001B[39;00m Dense\n\u001B[0;32m      4\u001B[0m \u001B[38;5;28;01mfrom\u001B[39;00m \u001B[38;5;21;01mkeras\u001B[39;00m\u001B[38;5;21;01m.\u001B[39;00m\u001B[38;5;21;01mlayers\u001B[39;00m \u001B[38;5;28;01mimport\u001B[39;00m SimpleRNN\n",
      "File \u001B[1;32m~\\anaconda3\\Lib\\site-packages\\keras\\__init__.py:21\u001B[0m\n\u001B[0;32m     15\u001B[0m \u001B[38;5;124;03m\"\"\"Implementation of the Keras API, the high-level API of TensorFlow.\u001B[39;00m\n\u001B[0;32m     16\u001B[0m \n\u001B[0;32m     17\u001B[0m \u001B[38;5;124;03mDetailed documentation and user guides are available at\u001B[39;00m\n\u001B[0;32m     18\u001B[0m \u001B[38;5;124;03m[keras.io](https://keras.io).\u001B[39;00m\n\u001B[0;32m     19\u001B[0m \u001B[38;5;124;03m\"\"\"\u001B[39;00m\n\u001B[0;32m     20\u001B[0m \u001B[38;5;66;03m# pylint: disable=unused-import\u001B[39;00m\n\u001B[1;32m---> 21\u001B[0m \u001B[38;5;28;01mfrom\u001B[39;00m \u001B[38;5;21;01mtensorflow\u001B[39;00m\u001B[38;5;21;01m.\u001B[39;00m\u001B[38;5;21;01mpython\u001B[39;00m \u001B[38;5;28;01mimport\u001B[39;00m tf2\n\u001B[0;32m     22\u001B[0m \u001B[38;5;28;01mfrom\u001B[39;00m \u001B[38;5;21;01mkeras\u001B[39;00m \u001B[38;5;28;01mimport\u001B[39;00m distribute\n\u001B[0;32m     24\u001B[0m \u001B[38;5;66;03m# See b/110718070#comment18 for more details about this import.\u001B[39;00m\n",
      "\u001B[1;31mModuleNotFoundError\u001B[0m: No module named 'tensorflow'"
     ]
    }
   ],
   "source": [
    "# Importing the Keras libraries and packages\n",
    "from keras.models import Sequential\n",
    "from keras.layers import Dense\n",
    "from keras.layers import SimpleRNN\n",
    "from keras.layers import Dropout\n",
    "\n",
    "# Initialising the RNN\n",
    "regressor = Sequential()\n",
    "\n",
    "# Adding the first RNN layer and some Dropout regularisation\n",
    "regressor.add(SimpleRNN(units = 50,activation='tanh', return_sequences = True, input_shape = (X_train.shape[1], 1)))\n",
    "regressor.add(Dropout(0.2))\n",
    "\n",
    "# Adding a second RNN layer and some Dropout regularisation\n",
    "regressor.add(SimpleRNN(units = 50,activation='tanh', return_sequences = True))\n",
    "regressor.add(Dropout(0.2))\n",
    "\n",
    "# Adding a third RNN layer and some Dropout regularisation\n",
    "regressor.add(SimpleRNN(units = 50,activation='tanh', return_sequences = True))\n",
    "regressor.add(Dropout(0.2))\n",
    "\n",
    "# Adding a fourth RNN layer and some Dropout regularisation\n",
    "regressor.add(SimpleRNN(units = 50))\n",
    "regressor.add(Dropout(0.2))\n",
    "\n",
    "# Adding the output layer\n",
    "regressor.add(Dense(units = 1))\n",
    "\n",
    "# Compiling the RNN\n",
    "regressor.compile(optimizer = 'adam', loss = 'mean_squared_error')\n",
    "\n",
    "# Fitting the RNN to the Training set\n",
    "regressor.fit(X_train, y_train, epochs = 100, batch_size = 32)"
   ]
  },
  {
   "cell_type": "markdown",
   "metadata": {},
   "source": [
    "<a id=\"33\"></a>\n",
    "### Predictions and Visualising RNN Model"
   ]
  },
  {
   "cell_type": "code",
   "execution_count": null,
   "metadata": {
    "ExecuteTime": {
     "start_time": "2023-08-28T12:29:55.468761700Z"
    }
   },
   "outputs": [],
   "source": [
    "# Getting the real stock price of 2017\n",
    "dataset_test = pd.read_csv('Stock_Price_Test.csv')\n",
    "dataset_test.head()"
   ]
  },
  {
   "cell_type": "code",
   "execution_count": null,
   "metadata": {
    "ExecuteTime": {
     "end_time": "2023-08-28T12:29:55.473967700Z",
     "start_time": "2023-08-28T12:29:55.473967700Z"
    }
   },
   "outputs": [],
   "source": [
    "real_stock_price = dataset_test.loc[:, [\"Open\"]].values\n",
    "real_stock_price"
   ]
  },
  {
   "cell_type": "code",
   "execution_count": null,
   "metadata": {
    "ExecuteTime": {
     "start_time": "2023-08-28T12:29:55.475960500Z"
    }
   },
   "outputs": [],
   "source": [
    "# Getting the predicted stock price of 2017\n",
    "dataset_total = pd.concat((dataset_train['Open'], dataset_test['Open']), axis = 0)\n",
    "inputs = dataset_total[len(dataset_total) - len(dataset_test) - timesteps:].values.reshape(-1,1)\n",
    "inputs = scaler.transform(inputs)  # min max scaler\n",
    "inputs"
   ]
  },
  {
   "cell_type": "code",
   "execution_count": null,
   "metadata": {
    "ExecuteTime": {
     "start_time": "2023-08-28T12:29:55.479962400Z"
    }
   },
   "outputs": [],
   "source": [
    "X_test = []\n",
    "for i in range(timesteps, 70):\n",
    "    X_test.append(inputs[i-timesteps:i, 0])\n",
    "X_test = np.array(X_test)\n",
    "X_test = np.reshape(X_test, (X_test.shape[0], X_test.shape[1], 1))\n",
    "predicted_stock_price = regressor.predict(X_test)\n",
    "predicted_stock_price = scaler.inverse_transform(predicted_stock_price)\n",
    "\n",
    "# Visualising the results\n",
    "plt.plot(real_stock_price, color = 'red', label = 'Real Google Stock Price')\n",
    "plt.plot(predicted_stock_price, color = 'blue', label = 'Predicted Google Stock Price')\n",
    "plt.title('Google Stock Price Prediction')\n",
    "plt.xlabel('Time')\n",
    "plt.ylabel('Google Stock Price')\n",
    "plt.legend()\n",
    "plt.show()"
   ]
  },
  {
   "cell_type": "markdown",
   "metadata": {},
   "source": [
    "<a id=\"4\"></a>\n",
    "## Long Short Term Memory (LSTMs)\n",
    "* LSTM is variant of RNN.\n",
    "* LSTM de RNN'den farklı olarak long term memory var. \n",
    "* LSTM architecture:\n",
    "    * x: scaling of information\n",
    "    * +: Adding information\n",
    "    * sigmoid layer. Sigmoid memory den bir şeyi hatırlamak için yada unutmak için kullanılır. 1 yada 0'dır.\n",
    "    * tanh: activation function tanh. Tanh vanishing gradient(yavaş öğrenme - çok küçük gradient) problemini çözer. Çünkü parametreleri update ederken türev alıyorduk. Tanh'ın türevi hemen sıfır'a ulaşmaz.\n",
    "    * h(t-1): output of LSTM unit\n",
    "    * c(t-1): memory from previous LSTM unit\n",
    "    * X(t): input\n",
    "    * c(t): new updated memory\n",
    "    * h(t): output\n",
    "    * From c(t-1) to c(t) is memory pipeline. or only memory.\n",
    "    * Oklar vektör.\n",
    "    * h(t-1) ile X(t) birleşmiyor parallel iki yol olarak düşünebilirsiniz.\n",
    "* ![Time](lstm.jpg)\n",
    "* 1) Forget gate: input olarak X(t) ve h(t-1) alır. Gelen bilginin unutulup unutulmayacağına karar verir.\n",
    "* 2) Input gate: Hangi bilginin memory de depolanıp depolanmayacağına karar verir.\n",
    "* 3) Output gate: Hangi bilginin output olup olmayacağına karar verir.\n",
    "* Örneğin: \n",
    "    * ... \"Boys are watching TV\"\n",
    "    * \"On the other hand girls are playing baseball.\"\n",
    "    * Forget \"boys\". new input is \"girls\" and output is \"girls\""
   ]
  },
  {
   "cell_type": "markdown",
   "metadata": {},
   "source": [
    "<a id=\"99\"></a>\n",
    "## Implementing Long Short Term Memory with Keras\n",
    "* [Loading and Visualizing Data](#41)\n",
    "* [Preprocessing Data](#42)\n",
    "* [Create LSTM Model](#43)\n",
    "* [Predictions and Visualising LSTM Model](#44)"
   ]
  },
  {
   "cell_type": "markdown",
   "metadata": {},
   "source": [
    "<a id=\"41\"></a>\n",
    "### Loading and Visualizing Data"
   ]
  },
  {
   "cell_type": "code",
   "execution_count": null,
   "metadata": {
    "ExecuteTime": {
     "start_time": "2023-08-28T12:29:55.481961600Z"
    }
   },
   "outputs": [],
   "source": [
    "import numpy\n",
    "import pandas as pd \n",
    "import matplotlib.pyplot as plt\n",
    "import math\n",
    "from keras.models import Sequential\n",
    "from keras.layers import Dense\n",
    "from keras.layers import LSTM\n",
    "from sklearn.preprocessing import MinMaxScaler\n",
    "from sklearn.metrics import mean_squared_error"
   ]
  },
  {
   "cell_type": "code",
   "execution_count": null,
   "metadata": {
    "ExecuteTime": {
     "end_time": "2023-08-28T12:29:55.493071600Z",
     "start_time": "2023-08-28T12:29:55.485963600Z"
    }
   },
   "outputs": [],
   "source": [
    "data = pd.read_csv('international-airline-passengers.csv',skipfooter=5)\n",
    "data.head()"
   ]
  },
  {
   "cell_type": "code",
   "execution_count": null,
   "metadata": {
    "ExecuteTime": {
     "start_time": "2023-08-28T12:29:55.489069800Z"
    }
   },
   "outputs": [],
   "source": [
    "dataset = data.iloc[:,1].values\n",
    "plt.plot(dataset)\n",
    "plt.xlabel(\"time\")\n",
    "plt.ylabel(\"Number of Passenger\")\n",
    "plt.title(\"international airline passenger\")\n",
    "plt.show()"
   ]
  },
  {
   "cell_type": "markdown",
   "metadata": {},
   "source": [
    "<a id=\"42\"></a>\n",
    "### Preprocessing Data\n",
    "* reshape\n",
    "* change type\n",
    "* scaling\n",
    "* train test split\n",
    "* Create dataset"
   ]
  },
  {
   "cell_type": "code",
   "execution_count": null,
   "metadata": {
    "ExecuteTime": {
     "start_time": "2023-08-28T12:29:55.493071600Z"
    }
   },
   "outputs": [],
   "source": [
    "dataset = dataset.reshape(-1,1)\n",
    "dataset = dataset.astype(\"float32\")\n",
    "dataset.shape"
   ]
  },
  {
   "cell_type": "code",
   "execution_count": null,
   "metadata": {
    "ExecuteTime": {
     "start_time": "2023-08-28T12:29:55.496149200Z"
    }
   },
   "outputs": [],
   "source": [
    "# scaling \n",
    "scaler = MinMaxScaler(feature_range=(0, 1))\n",
    "dataset = scaler.fit_transform(dataset)"
   ]
  },
  {
   "cell_type": "code",
   "execution_count": null,
   "metadata": {
    "ExecuteTime": {
     "start_time": "2023-08-28T12:29:55.499240400Z"
    }
   },
   "outputs": [],
   "source": [
    "train_size = int(len(dataset) * 0.50)\n",
    "test_size = len(dataset) - train_size\n",
    "train = dataset[0:train_size,:]\n",
    "test = dataset[train_size:len(dataset),:]\n",
    "print(\"train size: {}, test size: {} \".format(len(train), len(test)))"
   ]
  },
  {
   "cell_type": "code",
   "execution_count": null,
   "metadata": {
    "ExecuteTime": {
     "start_time": "2023-08-28T12:29:55.500241700Z"
    }
   },
   "outputs": [],
   "source": [
    "time_stemp = 10\n",
    "dataX = []\n",
    "dataY = []\n",
    "for i in range(len(train)-time_stemp-1):\n",
    "    a = train[i:(i+time_stemp), 0]\n",
    "    dataX.append(a)\n",
    "    dataY.append(train[i + time_stemp, 0])\n",
    "trainX = numpy.array(dataX)\n",
    "trainY = numpy.array(dataY)  \n"
   ]
  },
  {
   "cell_type": "code",
   "execution_count": null,
   "metadata": {
    "ExecuteTime": {
     "start_time": "2023-08-28T12:29:55.501243100Z"
    }
   },
   "outputs": [],
   "source": [
    "dataX = []\n",
    "dataY = []\n",
    "for i in range(len(test)-time_stemp-1):\n",
    "    a = test[i:(i+time_stemp), 0]\n",
    "    dataX.append(a)\n",
    "    dataY.append(test[i + time_stemp, 0])\n",
    "testX = numpy.array(dataX)\n",
    "testY = numpy.array(dataY)  "
   ]
  },
  {
   "cell_type": "code",
   "execution_count": null,
   "metadata": {
    "ExecuteTime": {
     "end_time": "2023-08-28T12:29:55.562334700Z",
     "start_time": "2023-08-28T12:29:55.503243200Z"
    }
   },
   "outputs": [],
   "source": [
    "trainX = numpy.reshape(trainX, (trainX.shape[0], 1, trainX.shape[1]))\n",
    "testX = numpy.reshape(testX, (testX.shape[0], 1, testX.shape[1]))"
   ]
  },
  {
   "cell_type": "markdown",
   "metadata": {},
   "source": [
    "<a id=\"43\"></a>\n",
    "### Create LSTM Model"
   ]
  },
  {
   "cell_type": "code",
   "execution_count": null,
   "metadata": {
    "ExecuteTime": {
     "start_time": "2023-08-28T12:29:55.505317500Z"
    }
   },
   "outputs": [],
   "source": [
    "# model\n",
    "model = Sequential()\n",
    "model.add(LSTM(10, input_shape=(1, time_stemp))) # 10 lstm neuron(block)\n",
    "model.add(Dense(1))\n",
    "model.compile(loss='mean_squared_error', optimizer='adam')\n",
    "model.fit(trainX, trainY, epochs=50, batch_size=1)"
   ]
  },
  {
   "cell_type": "markdown",
   "metadata": {},
   "source": [
    "<a id=\"44\"></a>\n",
    "### Predictions and Visualising LSTM Model"
   ]
  },
  {
   "cell_type": "code",
   "execution_count": null,
   "metadata": {
    "ExecuteTime": {
     "start_time": "2023-08-28T12:29:55.507314600Z"
    }
   },
   "outputs": [],
   "source": [
    "trainPredict = model.predict(trainX)\n",
    "testPredict = model.predict(testX)\n",
    "# invert predictions\n",
    "trainPredict = scaler.inverse_transform(trainPredict)\n",
    "trainY = scaler.inverse_transform([trainY])\n",
    "testPredict = scaler.inverse_transform(testPredict)\n",
    "testY = scaler.inverse_transform([testY])\n",
    "# calculate root mean squared error\n",
    "trainScore = math.sqrt(mean_squared_error(trainY[0], trainPredict[:,0]))\n",
    "print('Train Score: %.2f RMSE' % (trainScore))\n",
    "testScore = math.sqrt(mean_squared_error(testY[0], testPredict[:,0]))\n",
    "print('Test Score: %.2f RMSE' % (testScore))"
   ]
  },
  {
   "cell_type": "code",
   "execution_count": null,
   "metadata": {
    "ExecuteTime": {
     "start_time": "2023-08-28T12:29:55.508328700Z"
    }
   },
   "outputs": [],
   "source": [
    "# shifting train\n",
    "trainPredictPlot = numpy.empty_like(dataset)\n",
    "trainPredictPlot[:, :] = numpy.nan\n",
    "trainPredictPlot[time_stemp:len(trainPredict)+time_stemp, :] = trainPredict\n",
    "# shifting test predictions for plotting\n",
    "testPredictPlot = numpy.empty_like(dataset)\n",
    "testPredictPlot[:, :] = numpy.nan\n",
    "testPredictPlot[len(trainPredict)+(time_stemp*2)+1:len(dataset)-1, :] = testPredict\n",
    "# plot baseline and predictions\n",
    "plt.plot(scaler.inverse_transform(dataset))\n",
    "plt.plot(trainPredictPlot)\n",
    "plt.plot(testPredictPlot)\n",
    "plt.show()"
   ]
  },
  {
   "cell_type": "markdown",
   "metadata": {},
   "source": [
    "<a id=\"6\"></a>\n",
    "## Conclusion\n",
    "* Sequence Models\n",
    "* Recurrent Neural Network (RNN)\n",
    "Implementing Recurrent Neural Network with Keras\n",
    "    * Loading and Preprocessing Data\n",
    "    * Create RNN Model\n",
    "    * Predictions and Visualising RNN Model\n",
    "* Long Short Term Memory (LSTMs)\n",
    "* Implementing Long Short Term Memory with Keras\n",
    "    * Loading and Visualizing Data\n",
    "    * Preprocessing Data\n",
    "    * Create LSTM Model\n",
    "    * Predictions and Visualising RNN Model\n",
    "    * Implementing Long Short Term Memory"
   ]
  }
 ],
 "metadata": {
  "kernelspec": {
   "display_name": "Python 3",
   "language": "python",
   "name": "python3"
  },
  "language_info": {
   "codemirror_mode": {
    "name": "ipython",
    "version": 3
   },
   "file_extension": ".py",
   "mimetype": "text/x-python",
   "name": "python",
   "nbconvert_exporter": "python",
   "pygments_lexer": "ipython3",
   "version": "3.6.5"
  }
 },
 "nbformat": 4,
 "nbformat_minor": 2
}

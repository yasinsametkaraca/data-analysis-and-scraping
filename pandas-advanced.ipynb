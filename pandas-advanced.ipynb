{
 "cells": [
  {
   "cell_type": "code",
   "execution_count": 2,
   "metadata": {
    "collapsed": true,
    "ExecuteTime": {
     "start_time": "2023-08-13T18:56:23.861350Z",
     "end_time": "2023-08-13T18:56:24.600345Z"
    }
   },
   "outputs": [],
   "source": [
    "import pandas as pd\n",
    "import numpy as np"
   ]
  },
  {
   "cell_type": "code",
   "execution_count": 3,
   "outputs": [],
   "source": [
    "df = pd.read_csv(\"pokemon.csv\")"
   ],
   "metadata": {
    "collapsed": false,
    "ExecuteTime": {
     "start_time": "2023-08-13T18:56:24.588348Z",
     "end_time": "2023-08-13T18:56:24.652344Z"
    }
   }
  },
  {
   "cell_type": "code",
   "execution_count": 4,
   "outputs": [
    {
     "data": {
      "text/plain": "   #        Name Type 1  Type 2  Total  HP  Attack  Defense  Sp. Atk  Sp. Def  \\\n0  1   Bulbasaur  Grass  Poison    318  45      49       49       65       65   \n1  2     Ivysaur  Grass  Poison    405  60      62       63       80       80   \n2  3    Venusaur  Grass  Poison    525  80      82       83      100      100   \n3  4  Charmander   Fire     NaN    309  39      52       43       60       50   \n4  5  Charmeleon   Fire     NaN    405  58      64       58       80       65   \n\n   Speed  Generation  Legendary Attacker  \n0     45           1      False     Weak  \n1     60           1      False     Weak  \n2     80           1      False   Strong  \n3     65           1      False     Weak  \n4     80           1      False     Weak  ",
      "text/html": "<div>\n<style scoped>\n    .dataframe tbody tr th:only-of-type {\n        vertical-align: middle;\n    }\n\n    .dataframe tbody tr th {\n        vertical-align: top;\n    }\n\n    .dataframe thead th {\n        text-align: right;\n    }\n</style>\n<table border=\"1\" class=\"dataframe\">\n  <thead>\n    <tr style=\"text-align: right;\">\n      <th></th>\n      <th>#</th>\n      <th>Name</th>\n      <th>Type 1</th>\n      <th>Type 2</th>\n      <th>Total</th>\n      <th>HP</th>\n      <th>Attack</th>\n      <th>Defense</th>\n      <th>Sp. Atk</th>\n      <th>Sp. Def</th>\n      <th>Speed</th>\n      <th>Generation</th>\n      <th>Legendary</th>\n      <th>Attacker</th>\n    </tr>\n  </thead>\n  <tbody>\n    <tr>\n      <th>0</th>\n      <td>1</td>\n      <td>Bulbasaur</td>\n      <td>Grass</td>\n      <td>Poison</td>\n      <td>318</td>\n      <td>45</td>\n      <td>49</td>\n      <td>49</td>\n      <td>65</td>\n      <td>65</td>\n      <td>45</td>\n      <td>1</td>\n      <td>False</td>\n      <td>Weak</td>\n    </tr>\n    <tr>\n      <th>1</th>\n      <td>2</td>\n      <td>Ivysaur</td>\n      <td>Grass</td>\n      <td>Poison</td>\n      <td>405</td>\n      <td>60</td>\n      <td>62</td>\n      <td>63</td>\n      <td>80</td>\n      <td>80</td>\n      <td>60</td>\n      <td>1</td>\n      <td>False</td>\n      <td>Weak</td>\n    </tr>\n    <tr>\n      <th>2</th>\n      <td>3</td>\n      <td>Venusaur</td>\n      <td>Grass</td>\n      <td>Poison</td>\n      <td>525</td>\n      <td>80</td>\n      <td>82</td>\n      <td>83</td>\n      <td>100</td>\n      <td>100</td>\n      <td>80</td>\n      <td>1</td>\n      <td>False</td>\n      <td>Strong</td>\n    </tr>\n    <tr>\n      <th>3</th>\n      <td>4</td>\n      <td>Charmander</td>\n      <td>Fire</td>\n      <td>NaN</td>\n      <td>309</td>\n      <td>39</td>\n      <td>52</td>\n      <td>43</td>\n      <td>60</td>\n      <td>50</td>\n      <td>65</td>\n      <td>1</td>\n      <td>False</td>\n      <td>Weak</td>\n    </tr>\n    <tr>\n      <th>4</th>\n      <td>5</td>\n      <td>Charmeleon</td>\n      <td>Fire</td>\n      <td>NaN</td>\n      <td>405</td>\n      <td>58</td>\n      <td>64</td>\n      <td>58</td>\n      <td>80</td>\n      <td>65</td>\n      <td>80</td>\n      <td>1</td>\n      <td>False</td>\n      <td>Weak</td>\n    </tr>\n  </tbody>\n</table>\n</div>"
     },
     "execution_count": 4,
     "metadata": {},
     "output_type": "execute_result"
    }
   ],
   "source": [
    "def attack_power(attack, Sp_atk):\n",
    "    if attack + Sp_atk > 180:\n",
    "        return \"Strong\"\n",
    "    else:\n",
    "        return \"Weak\"\n",
    "\n",
    "df[\"Attacker\"] = np.vectorize(attack_power)(df[\"Attack\"], df[\"Sp. Atk\"])  # Create a new column named \"Attacker\" and apply the attack_power function to each row of the dataframe.\n",
    "\n",
    "df.head()"
   ],
   "metadata": {
    "collapsed": false,
    "ExecuteTime": {
     "start_time": "2023-08-13T18:56:24.633347Z",
     "end_time": "2023-08-13T18:56:24.662346Z"
    }
   }
  },
  {
   "cell_type": "code",
   "execution_count": 5,
   "outputs": [
    {
     "data": {
      "text/plain": "   #        Name Type 1  Type 2  Total  HP  Attack  Defense  Sp. Atk  Sp. Def  \\\n0  1   Bulbasaur  Grass  Poison    318  45      49       49       65       65   \n1  2     Ivysaur  Grass  Poison    405  60      62       63       80       80   \n2  3    Venusaur  Grass  Poison    525  80      82       83      100      100   \n3  4  Charmander   Fire     NaN    309  39      52       43       60       50   \n4  5  Charmeleon   Fire     NaN    405  58      64       58       80       65   \n\n   Speed  Generation  Legendary Attacker  \n0     45           1      False     Weak  \n1     60           1      False     Weak  \n2     80           1      False   Strong  \n3     65           1      False     Weak  \n4     80           1      False     Weak  ",
      "text/html": "<div>\n<style scoped>\n    .dataframe tbody tr th:only-of-type {\n        vertical-align: middle;\n    }\n\n    .dataframe tbody tr th {\n        vertical-align: top;\n    }\n\n    .dataframe thead th {\n        text-align: right;\n    }\n</style>\n<table border=\"1\" class=\"dataframe\">\n  <thead>\n    <tr style=\"text-align: right;\">\n      <th></th>\n      <th>#</th>\n      <th>Name</th>\n      <th>Type 1</th>\n      <th>Type 2</th>\n      <th>Total</th>\n      <th>HP</th>\n      <th>Attack</th>\n      <th>Defense</th>\n      <th>Sp. Atk</th>\n      <th>Sp. Def</th>\n      <th>Speed</th>\n      <th>Generation</th>\n      <th>Legendary</th>\n      <th>Attacker</th>\n    </tr>\n  </thead>\n  <tbody>\n    <tr>\n      <th>0</th>\n      <td>1</td>\n      <td>Bulbasaur</td>\n      <td>Grass</td>\n      <td>Poison</td>\n      <td>318</td>\n      <td>45</td>\n      <td>49</td>\n      <td>49</td>\n      <td>65</td>\n      <td>65</td>\n      <td>45</td>\n      <td>1</td>\n      <td>False</td>\n      <td>Weak</td>\n    </tr>\n    <tr>\n      <th>1</th>\n      <td>2</td>\n      <td>Ivysaur</td>\n      <td>Grass</td>\n      <td>Poison</td>\n      <td>405</td>\n      <td>60</td>\n      <td>62</td>\n      <td>63</td>\n      <td>80</td>\n      <td>80</td>\n      <td>60</td>\n      <td>1</td>\n      <td>False</td>\n      <td>Weak</td>\n    </tr>\n    <tr>\n      <th>2</th>\n      <td>3</td>\n      <td>Venusaur</td>\n      <td>Grass</td>\n      <td>Poison</td>\n      <td>525</td>\n      <td>80</td>\n      <td>82</td>\n      <td>83</td>\n      <td>100</td>\n      <td>100</td>\n      <td>80</td>\n      <td>1</td>\n      <td>False</td>\n      <td>Strong</td>\n    </tr>\n    <tr>\n      <th>3</th>\n      <td>4</td>\n      <td>Charmander</td>\n      <td>Fire</td>\n      <td>NaN</td>\n      <td>309</td>\n      <td>39</td>\n      <td>52</td>\n      <td>43</td>\n      <td>60</td>\n      <td>50</td>\n      <td>65</td>\n      <td>1</td>\n      <td>False</td>\n      <td>Weak</td>\n    </tr>\n    <tr>\n      <th>4</th>\n      <td>5</td>\n      <td>Charmeleon</td>\n      <td>Fire</td>\n      <td>NaN</td>\n      <td>405</td>\n      <td>58</td>\n      <td>64</td>\n      <td>58</td>\n      <td>80</td>\n      <td>65</td>\n      <td>80</td>\n      <td>1</td>\n      <td>False</td>\n      <td>Weak</td>\n    </tr>\n  </tbody>\n</table>\n</div>"
     },
     "execution_count": 5,
     "metadata": {},
     "output_type": "execute_result"
    }
   ],
   "source": [
    "df[\"Attacker\"] = df.apply(lambda row: attack_power(row[\"Attack\"], row[\"Sp. Atk\"]), axis=1)  # Create a new column named \"Attacker\" and apply the attack_power function to each row of the dataframe.\n",
    "df.head()"
   ],
   "metadata": {
    "collapsed": false,
    "ExecuteTime": {
     "start_time": "2023-08-13T18:56:24.664350Z",
     "end_time": "2023-08-13T18:56:24.781342Z"
    }
   }
  },
  {
   "cell_type": "code",
   "execution_count": 6,
   "outputs": [
    {
     "data": {
      "text/plain": "       #          Name   Type 1  Type 2  Total   HP  Attack  Defense  Sp. Atk  \\\n503  504        Arceus   Normal     NaN    720  120     120      120      120   \n662  663  Kyurem White   Dragon     Ice    700  125     120       90      170   \n661  662  Kyurem Black   Dragon     Ice    700  125     170      100      120   \n148  149        Mewtwo  Psychic     NaN    680  106     110       90      154   \n492  493        Palkia    Water  Dragon    680   90     120      100      150   \n\n     Sp. Def  Speed  Generation  Legendary Attacker  \n503      120    120           4       True   Strong  \n662      100     95           5       True   Strong  \n661       90     95           5       True   Strong  \n148       90    130           1       True   Strong  \n492      120    100           4       True   Strong  ",
      "text/html": "<div>\n<style scoped>\n    .dataframe tbody tr th:only-of-type {\n        vertical-align: middle;\n    }\n\n    .dataframe tbody tr th {\n        vertical-align: top;\n    }\n\n    .dataframe thead th {\n        text-align: right;\n    }\n</style>\n<table border=\"1\" class=\"dataframe\">\n  <thead>\n    <tr style=\"text-align: right;\">\n      <th></th>\n      <th>#</th>\n      <th>Name</th>\n      <th>Type 1</th>\n      <th>Type 2</th>\n      <th>Total</th>\n      <th>HP</th>\n      <th>Attack</th>\n      <th>Defense</th>\n      <th>Sp. Atk</th>\n      <th>Sp. Def</th>\n      <th>Speed</th>\n      <th>Generation</th>\n      <th>Legendary</th>\n      <th>Attacker</th>\n    </tr>\n  </thead>\n  <tbody>\n    <tr>\n      <th>503</th>\n      <td>504</td>\n      <td>Arceus</td>\n      <td>Normal</td>\n      <td>NaN</td>\n      <td>720</td>\n      <td>120</td>\n      <td>120</td>\n      <td>120</td>\n      <td>120</td>\n      <td>120</td>\n      <td>120</td>\n      <td>4</td>\n      <td>True</td>\n      <td>Strong</td>\n    </tr>\n    <tr>\n      <th>662</th>\n      <td>663</td>\n      <td>Kyurem White</td>\n      <td>Dragon</td>\n      <td>Ice</td>\n      <td>700</td>\n      <td>125</td>\n      <td>120</td>\n      <td>90</td>\n      <td>170</td>\n      <td>100</td>\n      <td>95</td>\n      <td>5</td>\n      <td>True</td>\n      <td>Strong</td>\n    </tr>\n    <tr>\n      <th>661</th>\n      <td>662</td>\n      <td>Kyurem Black</td>\n      <td>Dragon</td>\n      <td>Ice</td>\n      <td>700</td>\n      <td>125</td>\n      <td>170</td>\n      <td>100</td>\n      <td>120</td>\n      <td>90</td>\n      <td>95</td>\n      <td>5</td>\n      <td>True</td>\n      <td>Strong</td>\n    </tr>\n    <tr>\n      <th>148</th>\n      <td>149</td>\n      <td>Mewtwo</td>\n      <td>Psychic</td>\n      <td>NaN</td>\n      <td>680</td>\n      <td>106</td>\n      <td>110</td>\n      <td>90</td>\n      <td>154</td>\n      <td>90</td>\n      <td>130</td>\n      <td>1</td>\n      <td>True</td>\n      <td>Strong</td>\n    </tr>\n    <tr>\n      <th>492</th>\n      <td>493</td>\n      <td>Palkia</td>\n      <td>Water</td>\n      <td>Dragon</td>\n      <td>680</td>\n      <td>90</td>\n      <td>120</td>\n      <td>100</td>\n      <td>150</td>\n      <td>120</td>\n      <td>100</td>\n      <td>4</td>\n      <td>True</td>\n      <td>Strong</td>\n    </tr>\n  </tbody>\n</table>\n</div>"
     },
     "execution_count": 6,
     "metadata": {},
     "output_type": "execute_result"
    }
   ],
   "source": [
    "df.sort_values(\"Total\", ascending=False, inplace=True)  # Sort the dataframe by the \"Total\" column in descending order.\n",
    "df.head()"
   ],
   "metadata": {
    "collapsed": false,
    "ExecuteTime": {
     "start_time": "2023-08-13T18:56:24.695350Z",
     "end_time": "2023-08-13T18:56:24.795345Z"
    }
   }
  },
  {
   "cell_type": "code",
   "execution_count": 7,
   "outputs": [
    {
     "data": {
      "text/plain": "       #          Name   Type 1  Type 2  Total   HP  Attack  Defense  Sp. Atk  \\\n503  504        Arceus   Normal     NaN    720  120     120      120      120   \n662  663  Kyurem White   Dragon     Ice    700  125     120       90      170   \n661  662  Kyurem Black   Dragon     Ice    700  125     170      100      120   \n148  149        Mewtwo  Psychic     NaN    680  106     110       90      154   \n492  493        Palkia    Water  Dragon    680   90     120      100      150   \n\n     Sp. Def  Speed  Generation  Legendary Attacker  \n503      120    120           4       True   Strong  \n662      100     95           5       True   Strong  \n661       90     95           5       True   Strong  \n148       90    130           1       True   Strong  \n492      120    100           4       True   Strong  ",
      "text/html": "<div>\n<style scoped>\n    .dataframe tbody tr th:only-of-type {\n        vertical-align: middle;\n    }\n\n    .dataframe tbody tr th {\n        vertical-align: top;\n    }\n\n    .dataframe thead th {\n        text-align: right;\n    }\n</style>\n<table border=\"1\" class=\"dataframe\">\n  <thead>\n    <tr style=\"text-align: right;\">\n      <th></th>\n      <th>#</th>\n      <th>Name</th>\n      <th>Type 1</th>\n      <th>Type 2</th>\n      <th>Total</th>\n      <th>HP</th>\n      <th>Attack</th>\n      <th>Defense</th>\n      <th>Sp. Atk</th>\n      <th>Sp. Def</th>\n      <th>Speed</th>\n      <th>Generation</th>\n      <th>Legendary</th>\n      <th>Attacker</th>\n    </tr>\n  </thead>\n  <tbody>\n    <tr>\n      <th>503</th>\n      <td>504</td>\n      <td>Arceus</td>\n      <td>Normal</td>\n      <td>NaN</td>\n      <td>720</td>\n      <td>120</td>\n      <td>120</td>\n      <td>120</td>\n      <td>120</td>\n      <td>120</td>\n      <td>120</td>\n      <td>4</td>\n      <td>True</td>\n      <td>Strong</td>\n    </tr>\n    <tr>\n      <th>662</th>\n      <td>663</td>\n      <td>Kyurem White</td>\n      <td>Dragon</td>\n      <td>Ice</td>\n      <td>700</td>\n      <td>125</td>\n      <td>120</td>\n      <td>90</td>\n      <td>170</td>\n      <td>100</td>\n      <td>95</td>\n      <td>5</td>\n      <td>True</td>\n      <td>Strong</td>\n    </tr>\n    <tr>\n      <th>661</th>\n      <td>662</td>\n      <td>Kyurem Black</td>\n      <td>Dragon</td>\n      <td>Ice</td>\n      <td>700</td>\n      <td>125</td>\n      <td>170</td>\n      <td>100</td>\n      <td>120</td>\n      <td>90</td>\n      <td>95</td>\n      <td>5</td>\n      <td>True</td>\n      <td>Strong</td>\n    </tr>\n    <tr>\n      <th>148</th>\n      <td>149</td>\n      <td>Mewtwo</td>\n      <td>Psychic</td>\n      <td>NaN</td>\n      <td>680</td>\n      <td>106</td>\n      <td>110</td>\n      <td>90</td>\n      <td>154</td>\n      <td>90</td>\n      <td>130</td>\n      <td>1</td>\n      <td>True</td>\n      <td>Strong</td>\n    </tr>\n    <tr>\n      <th>492</th>\n      <td>493</td>\n      <td>Palkia</td>\n      <td>Water</td>\n      <td>Dragon</td>\n      <td>680</td>\n      <td>90</td>\n      <td>120</td>\n      <td>100</td>\n      <td>150</td>\n      <td>120</td>\n      <td>100</td>\n      <td>4</td>\n      <td>True</td>\n      <td>Strong</td>\n    </tr>\n  </tbody>\n</table>\n</div>"
     },
     "execution_count": 7,
     "metadata": {},
     "output_type": "execute_result"
    }
   ],
   "source": [
    "df.nlargest(5, \"Total\")  # Get the 5 largest values in the \"Total\" column."
   ],
   "metadata": {
    "collapsed": false,
    "ExecuteTime": {
     "start_time": "2023-08-13T18:56:24.725344Z",
     "end_time": "2023-08-13T18:56:24.845346Z"
    }
   }
  },
  {
   "cell_type": "code",
   "execution_count": 8,
   "outputs": [
    {
     "data": {
      "text/plain": "       #       Name  Type 1 Type 2  Total  HP  Attack  Defense  Sp. Atk  \\\n189  190    Sunkern   Grass    NaN    180  30      30       30       30   \n296  297    Azurill  Normal  Fairy    190  50      20       40       20   \n402  403  Kricketot     Bug    NaN    194  37      25       41       25   \n9     10   Caterpie     Bug    NaN    195  45      30       35       20   \n263  264    Wurmple     Bug    NaN    195  45      45       35       20   \n\n     Sp. Def  Speed  Generation  Legendary Attacker  \n189       30     30           2      False     Weak  \n296       40     20           3      False     Weak  \n402       41     25           4      False     Weak  \n9         20     45           1      False     Weak  \n263       30     20           3      False     Weak  ",
      "text/html": "<div>\n<style scoped>\n    .dataframe tbody tr th:only-of-type {\n        vertical-align: middle;\n    }\n\n    .dataframe tbody tr th {\n        vertical-align: top;\n    }\n\n    .dataframe thead th {\n        text-align: right;\n    }\n</style>\n<table border=\"1\" class=\"dataframe\">\n  <thead>\n    <tr style=\"text-align: right;\">\n      <th></th>\n      <th>#</th>\n      <th>Name</th>\n      <th>Type 1</th>\n      <th>Type 2</th>\n      <th>Total</th>\n      <th>HP</th>\n      <th>Attack</th>\n      <th>Defense</th>\n      <th>Sp. Atk</th>\n      <th>Sp. Def</th>\n      <th>Speed</th>\n      <th>Generation</th>\n      <th>Legendary</th>\n      <th>Attacker</th>\n    </tr>\n  </thead>\n  <tbody>\n    <tr>\n      <th>189</th>\n      <td>190</td>\n      <td>Sunkern</td>\n      <td>Grass</td>\n      <td>NaN</td>\n      <td>180</td>\n      <td>30</td>\n      <td>30</td>\n      <td>30</td>\n      <td>30</td>\n      <td>30</td>\n      <td>30</td>\n      <td>2</td>\n      <td>False</td>\n      <td>Weak</td>\n    </tr>\n    <tr>\n      <th>296</th>\n      <td>297</td>\n      <td>Azurill</td>\n      <td>Normal</td>\n      <td>Fairy</td>\n      <td>190</td>\n      <td>50</td>\n      <td>20</td>\n      <td>40</td>\n      <td>20</td>\n      <td>40</td>\n      <td>20</td>\n      <td>3</td>\n      <td>False</td>\n      <td>Weak</td>\n    </tr>\n    <tr>\n      <th>402</th>\n      <td>403</td>\n      <td>Kricketot</td>\n      <td>Bug</td>\n      <td>NaN</td>\n      <td>194</td>\n      <td>37</td>\n      <td>25</td>\n      <td>41</td>\n      <td>25</td>\n      <td>41</td>\n      <td>25</td>\n      <td>4</td>\n      <td>False</td>\n      <td>Weak</td>\n    </tr>\n    <tr>\n      <th>9</th>\n      <td>10</td>\n      <td>Caterpie</td>\n      <td>Bug</td>\n      <td>NaN</td>\n      <td>195</td>\n      <td>45</td>\n      <td>30</td>\n      <td>35</td>\n      <td>20</td>\n      <td>20</td>\n      <td>45</td>\n      <td>1</td>\n      <td>False</td>\n      <td>Weak</td>\n    </tr>\n    <tr>\n      <th>263</th>\n      <td>264</td>\n      <td>Wurmple</td>\n      <td>Bug</td>\n      <td>NaN</td>\n      <td>195</td>\n      <td>45</td>\n      <td>45</td>\n      <td>35</td>\n      <td>20</td>\n      <td>30</td>\n      <td>20</td>\n      <td>3</td>\n      <td>False</td>\n      <td>Weak</td>\n    </tr>\n  </tbody>\n</table>\n</div>"
     },
     "execution_count": 8,
     "metadata": {},
     "output_type": "execute_result"
    }
   ],
   "source": [
    "df.nsmallest(5, \"Total\")  # Get the 5 smallest values in the \"Total\" column."
   ],
   "metadata": {
    "collapsed": false,
    "ExecuteTime": {
     "start_time": "2023-08-13T18:56:24.757348Z",
     "end_time": "2023-08-13T18:56:24.892346Z"
    }
   }
  },
  {
   "cell_type": "code",
   "execution_count": 9,
   "outputs": [
    {
     "data": {
      "text/plain": "Water       105\nNormal       94\nGrass        67\nBug          65\nPsychic      51\nFire         48\nElectric     42\nRock         41\nGround       31\nDark         28\nPoison       28\nDragon       26\nFighting     25\nGhost        24\nSteel        23\nIce          23\nFairy        17\nFlying        4\nName: Type 1, dtype: int64"
     },
     "execution_count": 9,
     "metadata": {},
     "output_type": "execute_result"
    }
   ],
   "source": [
    "df[\"Type 1\"].value_counts()  # Get the count of each unique value in the \"Type 1\" column."
   ],
   "metadata": {
    "collapsed": false,
    "ExecuteTime": {
     "start_time": "2023-08-13T18:56:24.792345Z",
     "end_time": "2023-08-13T18:56:24.893344Z"
    }
   }
  },
  {
   "cell_type": "code",
   "execution_count": 10,
   "outputs": [
    {
     "data": {
      "text/plain": "503    False\n662    False\n661    False\n148    False\n492     True\n       ...  \n263    False\n12     False\n402    False\n296     True\n189    False\nName: HP, Length: 742, dtype: bool"
     },
     "execution_count": 10,
     "metadata": {},
     "output_type": "execute_result"
    }
   ],
   "source": [
    "df[\"HP\"].between(50, 100)  # Get a boolean series indicating whether each value in the \"HP\" column is between 50 and 100."
   ],
   "metadata": {
    "collapsed": false,
    "ExecuteTime": {
     "start_time": "2023-08-13T18:56:24.801352Z",
     "end_time": "2023-08-13T18:56:24.894346Z"
    }
   }
  },
  {
   "cell_type": "code",
   "execution_count": 11,
   "outputs": [
    {
     "data": {
      "text/plain": "       #                Name   Type 1    Type 2  Total   HP  Attack  Defense  \\\n492  493              Palkia    Water    Dragon    680   90     120      100   \n656  657            Reshiram   Dragon      Fire    680  100     120      100   \n657  658              Zekrom   Dragon  Electric    680  100     150      120   \n491  492              Dialga    Steel    Dragon    680  100     120      120   \n740  741  HoopaHoopa Unbound  Psychic      Dark    680   80     160       60   \n..   ...                 ...      ...       ...    ...  ...     ...      ...   \n172  173           Igglybuff   Normal     Fairy    210   90      30       15   \n10    11             Metapod      Bug       NaN    205   50      20       55   \n266  267             Cascoon      Bug       NaN    205   50      35       55   \n264  265             Silcoon      Bug       NaN    205   50      35       55   \n296  297             Azurill   Normal     Fairy    190   50      20       40   \n\n     Sp. Atk  Sp. Def  Speed  Generation  Legendary Attacker  \n492      150      120    100           4       True   Strong  \n656      150      120     90           5       True   Strong  \n657      120      100     90           5       True   Strong  \n491      150      100     90           4       True   Strong  \n740      170      130     80           6       True   Strong  \n..       ...      ...    ...         ...        ...      ...  \n172       40       20     15           2      False     Weak  \n10        25       25     30           1      False     Weak  \n266       25       25     15           3      False     Weak  \n264       25       25     15           3      False     Weak  \n296       20       40     20           3      False     Weak  \n\n[535 rows x 14 columns]",
      "text/html": "<div>\n<style scoped>\n    .dataframe tbody tr th:only-of-type {\n        vertical-align: middle;\n    }\n\n    .dataframe tbody tr th {\n        vertical-align: top;\n    }\n\n    .dataframe thead th {\n        text-align: right;\n    }\n</style>\n<table border=\"1\" class=\"dataframe\">\n  <thead>\n    <tr style=\"text-align: right;\">\n      <th></th>\n      <th>#</th>\n      <th>Name</th>\n      <th>Type 1</th>\n      <th>Type 2</th>\n      <th>Total</th>\n      <th>HP</th>\n      <th>Attack</th>\n      <th>Defense</th>\n      <th>Sp. Atk</th>\n      <th>Sp. Def</th>\n      <th>Speed</th>\n      <th>Generation</th>\n      <th>Legendary</th>\n      <th>Attacker</th>\n    </tr>\n  </thead>\n  <tbody>\n    <tr>\n      <th>492</th>\n      <td>493</td>\n      <td>Palkia</td>\n      <td>Water</td>\n      <td>Dragon</td>\n      <td>680</td>\n      <td>90</td>\n      <td>120</td>\n      <td>100</td>\n      <td>150</td>\n      <td>120</td>\n      <td>100</td>\n      <td>4</td>\n      <td>True</td>\n      <td>Strong</td>\n    </tr>\n    <tr>\n      <th>656</th>\n      <td>657</td>\n      <td>Reshiram</td>\n      <td>Dragon</td>\n      <td>Fire</td>\n      <td>680</td>\n      <td>100</td>\n      <td>120</td>\n      <td>100</td>\n      <td>150</td>\n      <td>120</td>\n      <td>90</td>\n      <td>5</td>\n      <td>True</td>\n      <td>Strong</td>\n    </tr>\n    <tr>\n      <th>657</th>\n      <td>658</td>\n      <td>Zekrom</td>\n      <td>Dragon</td>\n      <td>Electric</td>\n      <td>680</td>\n      <td>100</td>\n      <td>150</td>\n      <td>120</td>\n      <td>120</td>\n      <td>100</td>\n      <td>90</td>\n      <td>5</td>\n      <td>True</td>\n      <td>Strong</td>\n    </tr>\n    <tr>\n      <th>491</th>\n      <td>492</td>\n      <td>Dialga</td>\n      <td>Steel</td>\n      <td>Dragon</td>\n      <td>680</td>\n      <td>100</td>\n      <td>120</td>\n      <td>120</td>\n      <td>150</td>\n      <td>100</td>\n      <td>90</td>\n      <td>4</td>\n      <td>True</td>\n      <td>Strong</td>\n    </tr>\n    <tr>\n      <th>740</th>\n      <td>741</td>\n      <td>HoopaHoopa Unbound</td>\n      <td>Psychic</td>\n      <td>Dark</td>\n      <td>680</td>\n      <td>80</td>\n      <td>160</td>\n      <td>60</td>\n      <td>170</td>\n      <td>130</td>\n      <td>80</td>\n      <td>6</td>\n      <td>True</td>\n      <td>Strong</td>\n    </tr>\n    <tr>\n      <th>...</th>\n      <td>...</td>\n      <td>...</td>\n      <td>...</td>\n      <td>...</td>\n      <td>...</td>\n      <td>...</td>\n      <td>...</td>\n      <td>...</td>\n      <td>...</td>\n      <td>...</td>\n      <td>...</td>\n      <td>...</td>\n      <td>...</td>\n      <td>...</td>\n    </tr>\n    <tr>\n      <th>172</th>\n      <td>173</td>\n      <td>Igglybuff</td>\n      <td>Normal</td>\n      <td>Fairy</td>\n      <td>210</td>\n      <td>90</td>\n      <td>30</td>\n      <td>15</td>\n      <td>40</td>\n      <td>20</td>\n      <td>15</td>\n      <td>2</td>\n      <td>False</td>\n      <td>Weak</td>\n    </tr>\n    <tr>\n      <th>10</th>\n      <td>11</td>\n      <td>Metapod</td>\n      <td>Bug</td>\n      <td>NaN</td>\n      <td>205</td>\n      <td>50</td>\n      <td>20</td>\n      <td>55</td>\n      <td>25</td>\n      <td>25</td>\n      <td>30</td>\n      <td>1</td>\n      <td>False</td>\n      <td>Weak</td>\n    </tr>\n    <tr>\n      <th>266</th>\n      <td>267</td>\n      <td>Cascoon</td>\n      <td>Bug</td>\n      <td>NaN</td>\n      <td>205</td>\n      <td>50</td>\n      <td>35</td>\n      <td>55</td>\n      <td>25</td>\n      <td>25</td>\n      <td>15</td>\n      <td>3</td>\n      <td>False</td>\n      <td>Weak</td>\n    </tr>\n    <tr>\n      <th>264</th>\n      <td>265</td>\n      <td>Silcoon</td>\n      <td>Bug</td>\n      <td>NaN</td>\n      <td>205</td>\n      <td>50</td>\n      <td>35</td>\n      <td>55</td>\n      <td>25</td>\n      <td>25</td>\n      <td>15</td>\n      <td>3</td>\n      <td>False</td>\n      <td>Weak</td>\n    </tr>\n    <tr>\n      <th>296</th>\n      <td>297</td>\n      <td>Azurill</td>\n      <td>Normal</td>\n      <td>Fairy</td>\n      <td>190</td>\n      <td>50</td>\n      <td>20</td>\n      <td>40</td>\n      <td>20</td>\n      <td>40</td>\n      <td>20</td>\n      <td>3</td>\n      <td>False</td>\n      <td>Weak</td>\n    </tr>\n  </tbody>\n</table>\n<p>535 rows × 14 columns</p>\n</div>"
     },
     "execution_count": 11,
     "metadata": {},
     "output_type": "execute_result"
    }
   ],
   "source": [
    "df[df[\"HP\"].between(50, 100)] # Get the rows where the \"HP\" column is between 50 and 100."
   ],
   "metadata": {
    "collapsed": false,
    "ExecuteTime": {
     "start_time": "2023-08-13T18:56:24.817343Z",
     "end_time": "2023-08-13T18:56:24.895347Z"
    }
   }
  },
  {
   "cell_type": "code",
   "execution_count": 12,
   "outputs": [
    {
     "data": {
      "text/plain": "Water       77\nNormal      65\nGrass       52\nBug         46\nFire        35\nPsychic     34\nElectric    32\nRock        32\nGround      22\nDark        21\nSteel       20\nPoison      20\nIce         18\nFighting    17\nDragon      16\nFairy       13\nGhost       12\nFlying       3\nName: Type 1, dtype: int64"
     },
     "execution_count": 12,
     "metadata": {},
     "output_type": "execute_result"
    }
   ],
   "source": [
    "df[df[\"HP\"].between(50, 100)][\"Type 1\"].value_counts()  # Get the count of each unique value in the \"Type 1\" column for the rows where the \"HP\" column is between 50 and 100."
   ],
   "metadata": {
    "collapsed": false,
    "ExecuteTime": {
     "start_time": "2023-08-13T18:56:24.849348Z",
     "end_time": "2023-08-13T18:56:24.968343Z"
    }
   }
  },
  {
   "cell_type": "code",
   "execution_count": 13,
   "outputs": [
    {
     "data": {
      "text/plain": "       #                Name   Type 1    Type 2  Total   HP  Attack  Defense  \\\n492  493              Palkia    Water    Dragon    680   90     120      100   \n656  657            Reshiram   Dragon      Fire    680  100     120      100   \n657  658              Zekrom   Dragon  Electric    680  100     150      120   \n491  492              Dialga    Steel    Dragon    680  100     120      120   \n740  741  HoopaHoopa Unbound  Psychic      Dark    680   80     160       60   \n..   ...                 ...      ...       ...    ...  ...     ...      ...   \n172  173           Igglybuff   Normal     Fairy    210   90      30       15   \n10    11             Metapod      Bug       NaN    205   50      20       55   \n266  267             Cascoon      Bug       NaN    205   50      35       55   \n264  265             Silcoon      Bug       NaN    205   50      35       55   \n296  297             Azurill   Normal     Fairy    190   50      20       40   \n\n     Sp. Atk  Sp. Def  Speed  Generation  Legendary Attacker  \n492      150      120    100           4       True   Strong  \n656      150      120     90           5       True   Strong  \n657      120      100     90           5       True   Strong  \n491      150      100     90           4       True   Strong  \n740      170      130     80           6       True   Strong  \n..       ...      ...    ...         ...        ...      ...  \n172       40       20     15           2      False     Weak  \n10        25       25     30           1      False     Weak  \n266       25       25     15           3      False     Weak  \n264       25       25     15           3      False     Weak  \n296       20       40     20           3      False     Weak  \n\n[535 rows x 14 columns]",
      "text/html": "<div>\n<style scoped>\n    .dataframe tbody tr th:only-of-type {\n        vertical-align: middle;\n    }\n\n    .dataframe tbody tr th {\n        vertical-align: top;\n    }\n\n    .dataframe thead th {\n        text-align: right;\n    }\n</style>\n<table border=\"1\" class=\"dataframe\">\n  <thead>\n    <tr style=\"text-align: right;\">\n      <th></th>\n      <th>#</th>\n      <th>Name</th>\n      <th>Type 1</th>\n      <th>Type 2</th>\n      <th>Total</th>\n      <th>HP</th>\n      <th>Attack</th>\n      <th>Defense</th>\n      <th>Sp. Atk</th>\n      <th>Sp. Def</th>\n      <th>Speed</th>\n      <th>Generation</th>\n      <th>Legendary</th>\n      <th>Attacker</th>\n    </tr>\n  </thead>\n  <tbody>\n    <tr>\n      <th>492</th>\n      <td>493</td>\n      <td>Palkia</td>\n      <td>Water</td>\n      <td>Dragon</td>\n      <td>680</td>\n      <td>90</td>\n      <td>120</td>\n      <td>100</td>\n      <td>150</td>\n      <td>120</td>\n      <td>100</td>\n      <td>4</td>\n      <td>True</td>\n      <td>Strong</td>\n    </tr>\n    <tr>\n      <th>656</th>\n      <td>657</td>\n      <td>Reshiram</td>\n      <td>Dragon</td>\n      <td>Fire</td>\n      <td>680</td>\n      <td>100</td>\n      <td>120</td>\n      <td>100</td>\n      <td>150</td>\n      <td>120</td>\n      <td>90</td>\n      <td>5</td>\n      <td>True</td>\n      <td>Strong</td>\n    </tr>\n    <tr>\n      <th>657</th>\n      <td>658</td>\n      <td>Zekrom</td>\n      <td>Dragon</td>\n      <td>Electric</td>\n      <td>680</td>\n      <td>100</td>\n      <td>150</td>\n      <td>120</td>\n      <td>120</td>\n      <td>100</td>\n      <td>90</td>\n      <td>5</td>\n      <td>True</td>\n      <td>Strong</td>\n    </tr>\n    <tr>\n      <th>491</th>\n      <td>492</td>\n      <td>Dialga</td>\n      <td>Steel</td>\n      <td>Dragon</td>\n      <td>680</td>\n      <td>100</td>\n      <td>120</td>\n      <td>120</td>\n      <td>150</td>\n      <td>100</td>\n      <td>90</td>\n      <td>4</td>\n      <td>True</td>\n      <td>Strong</td>\n    </tr>\n    <tr>\n      <th>740</th>\n      <td>741</td>\n      <td>HoopaHoopa Unbound</td>\n      <td>Psychic</td>\n      <td>Dark</td>\n      <td>680</td>\n      <td>80</td>\n      <td>160</td>\n      <td>60</td>\n      <td>170</td>\n      <td>130</td>\n      <td>80</td>\n      <td>6</td>\n      <td>True</td>\n      <td>Strong</td>\n    </tr>\n    <tr>\n      <th>...</th>\n      <td>...</td>\n      <td>...</td>\n      <td>...</td>\n      <td>...</td>\n      <td>...</td>\n      <td>...</td>\n      <td>...</td>\n      <td>...</td>\n      <td>...</td>\n      <td>...</td>\n      <td>...</td>\n      <td>...</td>\n      <td>...</td>\n      <td>...</td>\n    </tr>\n    <tr>\n      <th>172</th>\n      <td>173</td>\n      <td>Igglybuff</td>\n      <td>Normal</td>\n      <td>Fairy</td>\n      <td>210</td>\n      <td>90</td>\n      <td>30</td>\n      <td>15</td>\n      <td>40</td>\n      <td>20</td>\n      <td>15</td>\n      <td>2</td>\n      <td>False</td>\n      <td>Weak</td>\n    </tr>\n    <tr>\n      <th>10</th>\n      <td>11</td>\n      <td>Metapod</td>\n      <td>Bug</td>\n      <td>NaN</td>\n      <td>205</td>\n      <td>50</td>\n      <td>20</td>\n      <td>55</td>\n      <td>25</td>\n      <td>25</td>\n      <td>30</td>\n      <td>1</td>\n      <td>False</td>\n      <td>Weak</td>\n    </tr>\n    <tr>\n      <th>266</th>\n      <td>267</td>\n      <td>Cascoon</td>\n      <td>Bug</td>\n      <td>NaN</td>\n      <td>205</td>\n      <td>50</td>\n      <td>35</td>\n      <td>55</td>\n      <td>25</td>\n      <td>25</td>\n      <td>15</td>\n      <td>3</td>\n      <td>False</td>\n      <td>Weak</td>\n    </tr>\n    <tr>\n      <th>264</th>\n      <td>265</td>\n      <td>Silcoon</td>\n      <td>Bug</td>\n      <td>NaN</td>\n      <td>205</td>\n      <td>50</td>\n      <td>35</td>\n      <td>55</td>\n      <td>25</td>\n      <td>25</td>\n      <td>15</td>\n      <td>3</td>\n      <td>False</td>\n      <td>Weak</td>\n    </tr>\n    <tr>\n      <th>296</th>\n      <td>297</td>\n      <td>Azurill</td>\n      <td>Normal</td>\n      <td>Fairy</td>\n      <td>190</td>\n      <td>50</td>\n      <td>20</td>\n      <td>40</td>\n      <td>20</td>\n      <td>40</td>\n      <td>20</td>\n      <td>3</td>\n      <td>False</td>\n      <td>Weak</td>\n    </tr>\n  </tbody>\n</table>\n<p>535 rows × 14 columns</p>\n</div>"
     },
     "execution_count": 13,
     "metadata": {},
     "output_type": "execute_result"
    }
   ],
   "source": [
    "df[df[\"HP\"].between(50, 100, inclusive=\"both\")]  # Get the rows where the \"HP\" column is between 50 and 100, including 50 and 100."
   ],
   "metadata": {
    "collapsed": false,
    "ExecuteTime": {
     "start_time": "2023-08-13T18:56:24.865349Z",
     "end_time": "2023-08-13T18:56:25.060343Z"
    }
   }
  },
  {
   "cell_type": "code",
   "execution_count": 14,
   "outputs": [
    {
     "data": {
      "text/plain": "       #        Name  Type 1 Type 2  Total  HP  Attack  Defense  Sp. Atk  \\\n425  426     Shellos   Water    NaN    325  76      48       48       57   \n23    24       Arbok  Poison    NaN    438  60      85       69       65   \n388  389     Turtwig   Grass    NaN    318  55      68       64       45   \n534  535  Roggenrola    Rock    NaN    280  55      75       85       25   \n596  597    Deerling  Normal  Grass    335  60      60       50       40   \n697  698     Honedge   Steel  Ghost    325  45      80      100       35   \n\n     Sp. Def  Speed  Generation  Legendary Attacker  \n425       62     34           4      False     Weak  \n23        79     80           1      False     Weak  \n388       55     31           4      False     Weak  \n534       25     15           5      False     Weak  \n596       50     75           5      False     Weak  \n697       37     28           6      False     Weak  ",
      "text/html": "<div>\n<style scoped>\n    .dataframe tbody tr th:only-of-type {\n        vertical-align: middle;\n    }\n\n    .dataframe tbody tr th {\n        vertical-align: top;\n    }\n\n    .dataframe thead th {\n        text-align: right;\n    }\n</style>\n<table border=\"1\" class=\"dataframe\">\n  <thead>\n    <tr style=\"text-align: right;\">\n      <th></th>\n      <th>#</th>\n      <th>Name</th>\n      <th>Type 1</th>\n      <th>Type 2</th>\n      <th>Total</th>\n      <th>HP</th>\n      <th>Attack</th>\n      <th>Defense</th>\n      <th>Sp. Atk</th>\n      <th>Sp. Def</th>\n      <th>Speed</th>\n      <th>Generation</th>\n      <th>Legendary</th>\n      <th>Attacker</th>\n    </tr>\n  </thead>\n  <tbody>\n    <tr>\n      <th>425</th>\n      <td>426</td>\n      <td>Shellos</td>\n      <td>Water</td>\n      <td>NaN</td>\n      <td>325</td>\n      <td>76</td>\n      <td>48</td>\n      <td>48</td>\n      <td>57</td>\n      <td>62</td>\n      <td>34</td>\n      <td>4</td>\n      <td>False</td>\n      <td>Weak</td>\n    </tr>\n    <tr>\n      <th>23</th>\n      <td>24</td>\n      <td>Arbok</td>\n      <td>Poison</td>\n      <td>NaN</td>\n      <td>438</td>\n      <td>60</td>\n      <td>85</td>\n      <td>69</td>\n      <td>65</td>\n      <td>79</td>\n      <td>80</td>\n      <td>1</td>\n      <td>False</td>\n      <td>Weak</td>\n    </tr>\n    <tr>\n      <th>388</th>\n      <td>389</td>\n      <td>Turtwig</td>\n      <td>Grass</td>\n      <td>NaN</td>\n      <td>318</td>\n      <td>55</td>\n      <td>68</td>\n      <td>64</td>\n      <td>45</td>\n      <td>55</td>\n      <td>31</td>\n      <td>4</td>\n      <td>False</td>\n      <td>Weak</td>\n    </tr>\n    <tr>\n      <th>534</th>\n      <td>535</td>\n      <td>Roggenrola</td>\n      <td>Rock</td>\n      <td>NaN</td>\n      <td>280</td>\n      <td>55</td>\n      <td>75</td>\n      <td>85</td>\n      <td>25</td>\n      <td>25</td>\n      <td>15</td>\n      <td>5</td>\n      <td>False</td>\n      <td>Weak</td>\n    </tr>\n    <tr>\n      <th>596</th>\n      <td>597</td>\n      <td>Deerling</td>\n      <td>Normal</td>\n      <td>Grass</td>\n      <td>335</td>\n      <td>60</td>\n      <td>60</td>\n      <td>50</td>\n      <td>40</td>\n      <td>50</td>\n      <td>75</td>\n      <td>5</td>\n      <td>False</td>\n      <td>Weak</td>\n    </tr>\n    <tr>\n      <th>697</th>\n      <td>698</td>\n      <td>Honedge</td>\n      <td>Steel</td>\n      <td>Ghost</td>\n      <td>325</td>\n      <td>45</td>\n      <td>80</td>\n      <td>100</td>\n      <td>35</td>\n      <td>37</td>\n      <td>28</td>\n      <td>6</td>\n      <td>False</td>\n      <td>Weak</td>\n    </tr>\n  </tbody>\n</table>\n</div>"
     },
     "execution_count": 14,
     "metadata": {},
     "output_type": "execute_result"
    }
   ],
   "source": [
    "df.sample(6)  # Get a random sample of 6 rows from the dataframe."
   ],
   "metadata": {
    "collapsed": false,
    "ExecuteTime": {
     "start_time": "2023-08-13T18:56:24.894346Z",
     "end_time": "2023-08-13T18:56:25.108345Z"
    }
   }
  },
  {
   "cell_type": "code",
   "execution_count": 15,
   "outputs": [
    {
     "data": {
      "text/plain": "       #        Name    Type 1    Type 2  Total  HP  Attack  Defense  Sp. Atk  \\\n49    50     Diglett    Ground       NaN    265  10      55       25       35   \n607  608  Galvantula       Bug  Electric    472  70      77       60       97   \n185  186      Hoppip     Grass    Flying    250  35      35       40       35   \n284  285     Breloom     Grass  Fighting    460  60     130       80       60   \n405  406       Luxio  Electric       NaN    363  60      85       49       60   \n..   ...         ...       ...       ...    ...  ..     ...      ...      ...   \n532  533     Blitzle  Electric       NaN    295  45      60       32       50   \n358  359      Wynaut   Psychic       NaN    260  95      23       48       23   \n446  447       Gible    Dragon    Ground    300  58      70       45       40   \n144  145     Moltres      Fire    Flying    580  90     100       90      125   \n238  239       Magby      Fire       NaN    365  45      75       37       70   \n\n     Sp. Def  Speed  Generation  Legendary Attacker  \n49        45     95           1      False     Weak  \n607       60    108           5      False     Weak  \n185       55     50           2      False     Weak  \n284       60     70           3      False   Strong  \n405       49     60           4      False     Weak  \n..       ...    ...         ...        ...      ...  \n532       32     76           5      False     Weak  \n358       48     23           3      False     Weak  \n446       45     42           4      False     Weak  \n144       85     90           1       True   Strong  \n238       55     83           2      False     Weak  \n\n[74 rows x 14 columns]",
      "text/html": "<div>\n<style scoped>\n    .dataframe tbody tr th:only-of-type {\n        vertical-align: middle;\n    }\n\n    .dataframe tbody tr th {\n        vertical-align: top;\n    }\n\n    .dataframe thead th {\n        text-align: right;\n    }\n</style>\n<table border=\"1\" class=\"dataframe\">\n  <thead>\n    <tr style=\"text-align: right;\">\n      <th></th>\n      <th>#</th>\n      <th>Name</th>\n      <th>Type 1</th>\n      <th>Type 2</th>\n      <th>Total</th>\n      <th>HP</th>\n      <th>Attack</th>\n      <th>Defense</th>\n      <th>Sp. Atk</th>\n      <th>Sp. Def</th>\n      <th>Speed</th>\n      <th>Generation</th>\n      <th>Legendary</th>\n      <th>Attacker</th>\n    </tr>\n  </thead>\n  <tbody>\n    <tr>\n      <th>49</th>\n      <td>50</td>\n      <td>Diglett</td>\n      <td>Ground</td>\n      <td>NaN</td>\n      <td>265</td>\n      <td>10</td>\n      <td>55</td>\n      <td>25</td>\n      <td>35</td>\n      <td>45</td>\n      <td>95</td>\n      <td>1</td>\n      <td>False</td>\n      <td>Weak</td>\n    </tr>\n    <tr>\n      <th>607</th>\n      <td>608</td>\n      <td>Galvantula</td>\n      <td>Bug</td>\n      <td>Electric</td>\n      <td>472</td>\n      <td>70</td>\n      <td>77</td>\n      <td>60</td>\n      <td>97</td>\n      <td>60</td>\n      <td>108</td>\n      <td>5</td>\n      <td>False</td>\n      <td>Weak</td>\n    </tr>\n    <tr>\n      <th>185</th>\n      <td>186</td>\n      <td>Hoppip</td>\n      <td>Grass</td>\n      <td>Flying</td>\n      <td>250</td>\n      <td>35</td>\n      <td>35</td>\n      <td>40</td>\n      <td>35</td>\n      <td>55</td>\n      <td>50</td>\n      <td>2</td>\n      <td>False</td>\n      <td>Weak</td>\n    </tr>\n    <tr>\n      <th>284</th>\n      <td>285</td>\n      <td>Breloom</td>\n      <td>Grass</td>\n      <td>Fighting</td>\n      <td>460</td>\n      <td>60</td>\n      <td>130</td>\n      <td>80</td>\n      <td>60</td>\n      <td>60</td>\n      <td>70</td>\n      <td>3</td>\n      <td>False</td>\n      <td>Strong</td>\n    </tr>\n    <tr>\n      <th>405</th>\n      <td>406</td>\n      <td>Luxio</td>\n      <td>Electric</td>\n      <td>NaN</td>\n      <td>363</td>\n      <td>60</td>\n      <td>85</td>\n      <td>49</td>\n      <td>60</td>\n      <td>49</td>\n      <td>60</td>\n      <td>4</td>\n      <td>False</td>\n      <td>Weak</td>\n    </tr>\n    <tr>\n      <th>...</th>\n      <td>...</td>\n      <td>...</td>\n      <td>...</td>\n      <td>...</td>\n      <td>...</td>\n      <td>...</td>\n      <td>...</td>\n      <td>...</td>\n      <td>...</td>\n      <td>...</td>\n      <td>...</td>\n      <td>...</td>\n      <td>...</td>\n      <td>...</td>\n    </tr>\n    <tr>\n      <th>532</th>\n      <td>533</td>\n      <td>Blitzle</td>\n      <td>Electric</td>\n      <td>NaN</td>\n      <td>295</td>\n      <td>45</td>\n      <td>60</td>\n      <td>32</td>\n      <td>50</td>\n      <td>32</td>\n      <td>76</td>\n      <td>5</td>\n      <td>False</td>\n      <td>Weak</td>\n    </tr>\n    <tr>\n      <th>358</th>\n      <td>359</td>\n      <td>Wynaut</td>\n      <td>Psychic</td>\n      <td>NaN</td>\n      <td>260</td>\n      <td>95</td>\n      <td>23</td>\n      <td>48</td>\n      <td>23</td>\n      <td>48</td>\n      <td>23</td>\n      <td>3</td>\n      <td>False</td>\n      <td>Weak</td>\n    </tr>\n    <tr>\n      <th>446</th>\n      <td>447</td>\n      <td>Gible</td>\n      <td>Dragon</td>\n      <td>Ground</td>\n      <td>300</td>\n      <td>58</td>\n      <td>70</td>\n      <td>45</td>\n      <td>40</td>\n      <td>45</td>\n      <td>42</td>\n      <td>4</td>\n      <td>False</td>\n      <td>Weak</td>\n    </tr>\n    <tr>\n      <th>144</th>\n      <td>145</td>\n      <td>Moltres</td>\n      <td>Fire</td>\n      <td>Flying</td>\n      <td>580</td>\n      <td>90</td>\n      <td>100</td>\n      <td>90</td>\n      <td>125</td>\n      <td>85</td>\n      <td>90</td>\n      <td>1</td>\n      <td>True</td>\n      <td>Strong</td>\n    </tr>\n    <tr>\n      <th>238</th>\n      <td>239</td>\n      <td>Magby</td>\n      <td>Fire</td>\n      <td>NaN</td>\n      <td>365</td>\n      <td>45</td>\n      <td>75</td>\n      <td>37</td>\n      <td>70</td>\n      <td>55</td>\n      <td>83</td>\n      <td>2</td>\n      <td>False</td>\n      <td>Weak</td>\n    </tr>\n  </tbody>\n</table>\n<p>74 rows × 14 columns</p>\n</div>"
     },
     "execution_count": 15,
     "metadata": {},
     "output_type": "execute_result"
    }
   ],
   "source": [
    "df.sample(frac=0.1)  # Get a random sample of 10% of the rows from the dataframe."
   ],
   "metadata": {
    "collapsed": false,
    "ExecuteTime": {
     "start_time": "2023-08-13T18:56:24.911344Z",
     "end_time": "2023-08-13T18:56:25.233345Z"
    }
   }
  },
  {
   "cell_type": "code",
   "execution_count": 16,
   "outputs": [
    {
     "data": {
      "text/plain": "       #       Name    Type 1   Type 2  Total   HP  Attack  Defense  Sp. Atk  \\\n133  134    Jolteon  Electric      NaN    525   65      65       60      110   \n184  185   Politoed     Water      NaN    500   90      75       75       90   \n201  202  Girafarig    Normal  Psychic    455   70      80       65       90   \n537  538     Woobat   Psychic   Flying    313   55      45       43       55   \n160  161     Furret    Normal      NaN    415   85      76       64       45   \n..   ...        ...       ...      ...    ...  ...     ...      ...      ...   \n344  345    Cradily      Rock    Grass    495   86      81       97       81   \n472  473    Yanmega       Bug   Flying    515   86      76       86      116   \n162  163    Noctowl    Normal   Flying    442  100      50       50       76   \n241  242     Raikou  Electric      NaN    580   90      85       75      115   \n124  125     Magmar      Fire      NaN    495   65      95       57      100   \n\n     Sp. Def  Speed  Generation  Legendary Attacker  \n133       95    130           1      False     Weak  \n184      100     70           2      False     Weak  \n201       65     85           2      False     Weak  \n537       43     72           5      False     Weak  \n160       55     90           2      False     Weak  \n..       ...    ...         ...        ...      ...  \n344      107     43           3      False     Weak  \n472       56     95           4      False   Strong  \n162       96     70           2      False     Weak  \n241      100    115           2       True   Strong  \n124       85     93           1      False   Strong  \n\n[74 rows x 14 columns]",
      "text/html": "<div>\n<style scoped>\n    .dataframe tbody tr th:only-of-type {\n        vertical-align: middle;\n    }\n\n    .dataframe tbody tr th {\n        vertical-align: top;\n    }\n\n    .dataframe thead th {\n        text-align: right;\n    }\n</style>\n<table border=\"1\" class=\"dataframe\">\n  <thead>\n    <tr style=\"text-align: right;\">\n      <th></th>\n      <th>#</th>\n      <th>Name</th>\n      <th>Type 1</th>\n      <th>Type 2</th>\n      <th>Total</th>\n      <th>HP</th>\n      <th>Attack</th>\n      <th>Defense</th>\n      <th>Sp. Atk</th>\n      <th>Sp. Def</th>\n      <th>Speed</th>\n      <th>Generation</th>\n      <th>Legendary</th>\n      <th>Attacker</th>\n    </tr>\n  </thead>\n  <tbody>\n    <tr>\n      <th>133</th>\n      <td>134</td>\n      <td>Jolteon</td>\n      <td>Electric</td>\n      <td>NaN</td>\n      <td>525</td>\n      <td>65</td>\n      <td>65</td>\n      <td>60</td>\n      <td>110</td>\n      <td>95</td>\n      <td>130</td>\n      <td>1</td>\n      <td>False</td>\n      <td>Weak</td>\n    </tr>\n    <tr>\n      <th>184</th>\n      <td>185</td>\n      <td>Politoed</td>\n      <td>Water</td>\n      <td>NaN</td>\n      <td>500</td>\n      <td>90</td>\n      <td>75</td>\n      <td>75</td>\n      <td>90</td>\n      <td>100</td>\n      <td>70</td>\n      <td>2</td>\n      <td>False</td>\n      <td>Weak</td>\n    </tr>\n    <tr>\n      <th>201</th>\n      <td>202</td>\n      <td>Girafarig</td>\n      <td>Normal</td>\n      <td>Psychic</td>\n      <td>455</td>\n      <td>70</td>\n      <td>80</td>\n      <td>65</td>\n      <td>90</td>\n      <td>65</td>\n      <td>85</td>\n      <td>2</td>\n      <td>False</td>\n      <td>Weak</td>\n    </tr>\n    <tr>\n      <th>537</th>\n      <td>538</td>\n      <td>Woobat</td>\n      <td>Psychic</td>\n      <td>Flying</td>\n      <td>313</td>\n      <td>55</td>\n      <td>45</td>\n      <td>43</td>\n      <td>55</td>\n      <td>43</td>\n      <td>72</td>\n      <td>5</td>\n      <td>False</td>\n      <td>Weak</td>\n    </tr>\n    <tr>\n      <th>160</th>\n      <td>161</td>\n      <td>Furret</td>\n      <td>Normal</td>\n      <td>NaN</td>\n      <td>415</td>\n      <td>85</td>\n      <td>76</td>\n      <td>64</td>\n      <td>45</td>\n      <td>55</td>\n      <td>90</td>\n      <td>2</td>\n      <td>False</td>\n      <td>Weak</td>\n    </tr>\n    <tr>\n      <th>...</th>\n      <td>...</td>\n      <td>...</td>\n      <td>...</td>\n      <td>...</td>\n      <td>...</td>\n      <td>...</td>\n      <td>...</td>\n      <td>...</td>\n      <td>...</td>\n      <td>...</td>\n      <td>...</td>\n      <td>...</td>\n      <td>...</td>\n      <td>...</td>\n    </tr>\n    <tr>\n      <th>344</th>\n      <td>345</td>\n      <td>Cradily</td>\n      <td>Rock</td>\n      <td>Grass</td>\n      <td>495</td>\n      <td>86</td>\n      <td>81</td>\n      <td>97</td>\n      <td>81</td>\n      <td>107</td>\n      <td>43</td>\n      <td>3</td>\n      <td>False</td>\n      <td>Weak</td>\n    </tr>\n    <tr>\n      <th>472</th>\n      <td>473</td>\n      <td>Yanmega</td>\n      <td>Bug</td>\n      <td>Flying</td>\n      <td>515</td>\n      <td>86</td>\n      <td>76</td>\n      <td>86</td>\n      <td>116</td>\n      <td>56</td>\n      <td>95</td>\n      <td>4</td>\n      <td>False</td>\n      <td>Strong</td>\n    </tr>\n    <tr>\n      <th>162</th>\n      <td>163</td>\n      <td>Noctowl</td>\n      <td>Normal</td>\n      <td>Flying</td>\n      <td>442</td>\n      <td>100</td>\n      <td>50</td>\n      <td>50</td>\n      <td>76</td>\n      <td>96</td>\n      <td>70</td>\n      <td>2</td>\n      <td>False</td>\n      <td>Weak</td>\n    </tr>\n    <tr>\n      <th>241</th>\n      <td>242</td>\n      <td>Raikou</td>\n      <td>Electric</td>\n      <td>NaN</td>\n      <td>580</td>\n      <td>90</td>\n      <td>85</td>\n      <td>75</td>\n      <td>115</td>\n      <td>100</td>\n      <td>115</td>\n      <td>2</td>\n      <td>True</td>\n      <td>Strong</td>\n    </tr>\n    <tr>\n      <th>124</th>\n      <td>125</td>\n      <td>Magmar</td>\n      <td>Fire</td>\n      <td>NaN</td>\n      <td>495</td>\n      <td>65</td>\n      <td>95</td>\n      <td>57</td>\n      <td>100</td>\n      <td>85</td>\n      <td>93</td>\n      <td>1</td>\n      <td>False</td>\n      <td>Strong</td>\n    </tr>\n  </tbody>\n</table>\n<p>74 rows × 14 columns</p>\n</div>"
     },
     "execution_count": 16,
     "metadata": {},
     "output_type": "execute_result"
    }
   ],
   "source": [
    "df.sample(frac=0.1, random_state=42)  # Get a random sample of 10% of the rows from the dataframe, using a seed of 42. Random state is used to ensure that the same random sample is returned each time."
   ],
   "metadata": {
    "collapsed": false,
    "ExecuteTime": {
     "start_time": "2023-08-13T18:56:24.941344Z",
     "end_time": "2023-08-13T18:56:25.265343Z"
    }
   }
  },
  {
   "cell_type": "code",
   "execution_count": 19,
   "outputs": [
    {
     "data": {
      "text/plain": "18"
     },
     "execution_count": 19,
     "metadata": {},
     "output_type": "execute_result"
    }
   ],
   "source": [
    "df[\"Type 1\"].nunique()  # Get the count of unique values in the \"Type 1\" column."
   ],
   "metadata": {
    "collapsed": false,
    "ExecuteTime": {
     "start_time": "2023-08-13T18:59:42.141403Z",
     "end_time": "2023-08-13T18:59:42.196400Z"
    }
   }
  },
  {
   "cell_type": "code",
   "execution_count": 17,
   "outputs": [
    {
     "data": {
      "text/plain": "array(['Normal', 'Dragon', 'Psychic', 'Water', 'Ghost', 'Steel', 'Fire',\n       'Fairy', 'Dark', 'Ground', 'Rock', 'Bug', 'Grass', 'Electric',\n       'Flying', 'Ice', 'Poison', 'Fighting'], dtype=object)"
     },
     "execution_count": 17,
     "metadata": {},
     "output_type": "execute_result"
    }
   ],
   "source": [
    "df[\"Type 1\"].unique()  # Get the unique values in the \"Type 1\" column."
   ],
   "metadata": {
    "collapsed": false,
    "ExecuteTime": {
     "start_time": "2023-08-13T18:57:09.824881Z",
     "end_time": "2023-08-13T18:57:09.845880Z"
    }
   }
  },
  {
   "cell_type": "markdown",
   "source": [
    "Correlation: A measure of the extent to which two variables are related. The correlation coefficient is a value between -1 and 1 that indicates the strength of the relationship between two variables. A value of 1 indicates a perfect positive relationship, a value of -1 indicates a perfect negative relationship, and a value of 0 indicates no relationship. The closer the value is to 1 or -1, the stronger the relationship. The closer the value is to 0, the weaker the relationship. For example, the correlation between \"HP\" and \"Attack\" is 0.422386, which indicates a weak positive relationship."
   ],
   "metadata": {
    "collapsed": false
   }
  },
  {
   "cell_type": "code",
   "execution_count": 20,
   "outputs": [
    {
     "data": {
      "text/plain": "                   #     Total        HP    Attack   Defense   Sp. Atk  \\\n#           1.000000  0.189225  0.118358  0.158384  0.129530  0.158176   \nTotal       0.189225  1.000000  0.635305  0.702491  0.600130  0.734193   \nHP          0.118358  0.635305  1.000000  0.426067  0.228153  0.365526   \nAttack      0.158384  0.702491  0.426067  1.000000  0.402615  0.364597   \nDefense     0.129530  0.600130  0.228153  0.402615  1.000000  0.199667   \nSp. Atk     0.158176  0.734193  0.365526  0.364597  0.199667  1.000000   \nSp. Def     0.125077  0.701520  0.366883  0.193994  0.503064  0.484020   \nSpeed       0.051161  0.563005  0.171112  0.350891  0.003386  0.457547   \nGeneration  0.983191  0.115225  0.080343  0.109939  0.075444  0.101479   \nLegendary   0.163344  0.513909  0.270002  0.345479  0.267399  0.443850   \n\n             Sp. Def     Speed  Generation  Legendary  \n#           0.125077  0.051161    0.983191   0.163344  \nTotal       0.701520  0.563005    0.115225   0.513909  \nHP          0.366883  0.171112    0.080343   0.270002  \nAttack      0.193994  0.350891    0.109939   0.345479  \nDefense     0.503064  0.003386    0.075444   0.267399  \nSp. Atk     0.484020  0.457547    0.101479   0.443850  \nSp. Def     1.000000  0.235525    0.066235   0.359927  \nSpeed       0.235525  1.000000    0.016900   0.330845  \nGeneration  0.066235  0.016900    1.000000   0.093231  \nLegendary   0.359927  0.330845    0.093231   1.000000  ",
      "text/html": "<div>\n<style scoped>\n    .dataframe tbody tr th:only-of-type {\n        vertical-align: middle;\n    }\n\n    .dataframe tbody tr th {\n        vertical-align: top;\n    }\n\n    .dataframe thead th {\n        text-align: right;\n    }\n</style>\n<table border=\"1\" class=\"dataframe\">\n  <thead>\n    <tr style=\"text-align: right;\">\n      <th></th>\n      <th>#</th>\n      <th>Total</th>\n      <th>HP</th>\n      <th>Attack</th>\n      <th>Defense</th>\n      <th>Sp. Atk</th>\n      <th>Sp. Def</th>\n      <th>Speed</th>\n      <th>Generation</th>\n      <th>Legendary</th>\n    </tr>\n  </thead>\n  <tbody>\n    <tr>\n      <th>#</th>\n      <td>1.000000</td>\n      <td>0.189225</td>\n      <td>0.118358</td>\n      <td>0.158384</td>\n      <td>0.129530</td>\n      <td>0.158176</td>\n      <td>0.125077</td>\n      <td>0.051161</td>\n      <td>0.983191</td>\n      <td>0.163344</td>\n    </tr>\n    <tr>\n      <th>Total</th>\n      <td>0.189225</td>\n      <td>1.000000</td>\n      <td>0.635305</td>\n      <td>0.702491</td>\n      <td>0.600130</td>\n      <td>0.734193</td>\n      <td>0.701520</td>\n      <td>0.563005</td>\n      <td>0.115225</td>\n      <td>0.513909</td>\n    </tr>\n    <tr>\n      <th>HP</th>\n      <td>0.118358</td>\n      <td>0.635305</td>\n      <td>1.000000</td>\n      <td>0.426067</td>\n      <td>0.228153</td>\n      <td>0.365526</td>\n      <td>0.366883</td>\n      <td>0.171112</td>\n      <td>0.080343</td>\n      <td>0.270002</td>\n    </tr>\n    <tr>\n      <th>Attack</th>\n      <td>0.158384</td>\n      <td>0.702491</td>\n      <td>0.426067</td>\n      <td>1.000000</td>\n      <td>0.402615</td>\n      <td>0.364597</td>\n      <td>0.193994</td>\n      <td>0.350891</td>\n      <td>0.109939</td>\n      <td>0.345479</td>\n    </tr>\n    <tr>\n      <th>Defense</th>\n      <td>0.129530</td>\n      <td>0.600130</td>\n      <td>0.228153</td>\n      <td>0.402615</td>\n      <td>1.000000</td>\n      <td>0.199667</td>\n      <td>0.503064</td>\n      <td>0.003386</td>\n      <td>0.075444</td>\n      <td>0.267399</td>\n    </tr>\n    <tr>\n      <th>Sp. Atk</th>\n      <td>0.158176</td>\n      <td>0.734193</td>\n      <td>0.365526</td>\n      <td>0.364597</td>\n      <td>0.199667</td>\n      <td>1.000000</td>\n      <td>0.484020</td>\n      <td>0.457547</td>\n      <td>0.101479</td>\n      <td>0.443850</td>\n    </tr>\n    <tr>\n      <th>Sp. Def</th>\n      <td>0.125077</td>\n      <td>0.701520</td>\n      <td>0.366883</td>\n      <td>0.193994</td>\n      <td>0.503064</td>\n      <td>0.484020</td>\n      <td>1.000000</td>\n      <td>0.235525</td>\n      <td>0.066235</td>\n      <td>0.359927</td>\n    </tr>\n    <tr>\n      <th>Speed</th>\n      <td>0.051161</td>\n      <td>0.563005</td>\n      <td>0.171112</td>\n      <td>0.350891</td>\n      <td>0.003386</td>\n      <td>0.457547</td>\n      <td>0.235525</td>\n      <td>1.000000</td>\n      <td>0.016900</td>\n      <td>0.330845</td>\n    </tr>\n    <tr>\n      <th>Generation</th>\n      <td>0.983191</td>\n      <td>0.115225</td>\n      <td>0.080343</td>\n      <td>0.109939</td>\n      <td>0.075444</td>\n      <td>0.101479</td>\n      <td>0.066235</td>\n      <td>0.016900</td>\n      <td>1.000000</td>\n      <td>0.093231</td>\n    </tr>\n    <tr>\n      <th>Legendary</th>\n      <td>0.163344</td>\n      <td>0.513909</td>\n      <td>0.270002</td>\n      <td>0.345479</td>\n      <td>0.267399</td>\n      <td>0.443850</td>\n      <td>0.359927</td>\n      <td>0.330845</td>\n      <td>0.093231</td>\n      <td>1.000000</td>\n    </tr>\n  </tbody>\n</table>\n</div>"
     },
     "execution_count": 20,
     "metadata": {},
     "output_type": "execute_result"
    }
   ],
   "source": [
    "df.corr() # Get the correlation between all numeric columns in the dataframe. For each pair of columns, the correlation coefficient is calculated."
   ],
   "metadata": {
    "collapsed": false,
    "ExecuteTime": {
     "start_time": "2023-08-13T19:03:19.316976Z",
     "end_time": "2023-08-13T19:03:19.359974Z"
    }
   }
  },
  {
   "cell_type": "code",
   "execution_count": 21,
   "outputs": [
    {
     "data": {
      "text/plain": "           Attack   Sp. Atk\nAttack   1.000000  0.364597\nSp. Atk  0.364597  1.000000",
      "text/html": "<div>\n<style scoped>\n    .dataframe tbody tr th:only-of-type {\n        vertical-align: middle;\n    }\n\n    .dataframe tbody tr th {\n        vertical-align: top;\n    }\n\n    .dataframe thead th {\n        text-align: right;\n    }\n</style>\n<table border=\"1\" class=\"dataframe\">\n  <thead>\n    <tr style=\"text-align: right;\">\n      <th></th>\n      <th>Attack</th>\n      <th>Sp. Atk</th>\n    </tr>\n  </thead>\n  <tbody>\n    <tr>\n      <th>Attack</th>\n      <td>1.000000</td>\n      <td>0.364597</td>\n    </tr>\n    <tr>\n      <th>Sp. Atk</th>\n      <td>0.364597</td>\n      <td>1.000000</td>\n    </tr>\n  </tbody>\n</table>\n</div>"
     },
     "execution_count": 21,
     "metadata": {},
     "output_type": "execute_result"
    }
   ],
   "source": [
    "df[[\"Attack\", \"Sp. Atk\"]].corr()  # Get the correlation between the \"Attack\" and \"Sp. Atk\" columns."
   ],
   "metadata": {
    "collapsed": false,
    "ExecuteTime": {
     "start_time": "2023-08-13T19:04:44.117589Z",
     "end_time": "2023-08-13T19:04:44.133584Z"
    }
   }
  },
  {
   "cell_type": "code",
   "execution_count": 22,
   "outputs": [
    {
     "data": {
      "text/plain": "0.3645969147447883"
     },
     "execution_count": 22,
     "metadata": {},
     "output_type": "execute_result"
    }
   ],
   "source": [
    "df[[\"Attack\", \"Sp. Atk\"]].corr().iloc[0, 1]  # Get the correlation between the \"Attack\" and \"Sp. Atk\" columns. İloc is used to get the value at the specified row and column index."
   ],
   "metadata": {
    "collapsed": false,
    "ExecuteTime": {
     "start_time": "2023-08-13T19:05:00.734324Z",
     "end_time": "2023-08-13T19:05:00.756324Z"
    }
   }
  },
  {
   "cell_type": "markdown",
   "source": [],
   "metadata": {
    "collapsed": false
   }
  },
  {
   "cell_type": "code",
   "execution_count": 23,
   "outputs": [
    {
     "data": {
      "text/plain": "       #          Name   Type 1  Type 2  Total   HP  Attack  Defense  Sp. Atk  \\\n503  504        Arceus   Normal     NaN    720  120     120      120      120   \n662  663  Kyurem White   Dragon     Ice    700  125     120       90      170   \n661  662  Kyurem Black   Dragon     Ice    700  125     170      100      120   \n148  149        Mewtwo  Psychic     NaN    680  106     110       90      154   \n492  493        Palkia    Water  Dragon    680   90     120      100      150   \n\n     Sp. Def  Speed  Generation  Legendary Attacker  \n503      120    120           4       True   Strong  \n662      100     95           5       True   Strong  \n661       90     95           5       True   Strong  \n148       90    130           1       True   Strong  \n492      120    100           4       True   Strong  ",
      "text/html": "<div>\n<style scoped>\n    .dataframe tbody tr th:only-of-type {\n        vertical-align: middle;\n    }\n\n    .dataframe tbody tr th {\n        vertical-align: top;\n    }\n\n    .dataframe thead th {\n        text-align: right;\n    }\n</style>\n<table border=\"1\" class=\"dataframe\">\n  <thead>\n    <tr style=\"text-align: right;\">\n      <th></th>\n      <th>#</th>\n      <th>Name</th>\n      <th>Type 1</th>\n      <th>Type 2</th>\n      <th>Total</th>\n      <th>HP</th>\n      <th>Attack</th>\n      <th>Defense</th>\n      <th>Sp. Atk</th>\n      <th>Sp. Def</th>\n      <th>Speed</th>\n      <th>Generation</th>\n      <th>Legendary</th>\n      <th>Attacker</th>\n    </tr>\n  </thead>\n  <tbody>\n    <tr>\n      <th>503</th>\n      <td>504</td>\n      <td>Arceus</td>\n      <td>Normal</td>\n      <td>NaN</td>\n      <td>720</td>\n      <td>120</td>\n      <td>120</td>\n      <td>120</td>\n      <td>120</td>\n      <td>120</td>\n      <td>120</td>\n      <td>4</td>\n      <td>True</td>\n      <td>Strong</td>\n    </tr>\n    <tr>\n      <th>662</th>\n      <td>663</td>\n      <td>Kyurem White</td>\n      <td>Dragon</td>\n      <td>Ice</td>\n      <td>700</td>\n      <td>125</td>\n      <td>120</td>\n      <td>90</td>\n      <td>170</td>\n      <td>100</td>\n      <td>95</td>\n      <td>5</td>\n      <td>True</td>\n      <td>Strong</td>\n    </tr>\n    <tr>\n      <th>661</th>\n      <td>662</td>\n      <td>Kyurem Black</td>\n      <td>Dragon</td>\n      <td>Ice</td>\n      <td>700</td>\n      <td>125</td>\n      <td>170</td>\n      <td>100</td>\n      <td>120</td>\n      <td>90</td>\n      <td>95</td>\n      <td>5</td>\n      <td>True</td>\n      <td>Strong</td>\n    </tr>\n    <tr>\n      <th>148</th>\n      <td>149</td>\n      <td>Mewtwo</td>\n      <td>Psychic</td>\n      <td>NaN</td>\n      <td>680</td>\n      <td>106</td>\n      <td>110</td>\n      <td>90</td>\n      <td>154</td>\n      <td>90</td>\n      <td>130</td>\n      <td>1</td>\n      <td>True</td>\n      <td>Strong</td>\n    </tr>\n    <tr>\n      <th>492</th>\n      <td>493</td>\n      <td>Palkia</td>\n      <td>Water</td>\n      <td>Dragon</td>\n      <td>680</td>\n      <td>90</td>\n      <td>120</td>\n      <td>100</td>\n      <td>150</td>\n      <td>120</td>\n      <td>100</td>\n      <td>4</td>\n      <td>True</td>\n      <td>Strong</td>\n    </tr>\n  </tbody>\n</table>\n</div>"
     },
     "execution_count": 23,
     "metadata": {},
     "output_type": "execute_result"
    }
   ],
   "source": [
    "df.head()"
   ],
   "metadata": {
    "collapsed": false,
    "ExecuteTime": {
     "start_time": "2023-08-13T19:06:47.287049Z",
     "end_time": "2023-08-13T19:06:47.299043Z"
    }
   }
  },
  {
   "cell_type": "code",
   "execution_count": 27,
   "outputs": [
    {
     "data": {
      "text/plain": "       #          Name   Type 1  Type 2  Total   HP  Attack  Defense  Sp. Atk  \\\n503  504        Arceus   Normal     NaN    720  120     120      120      120   \n662  663  Kyurem White   Dragon     Ice    700  125     120       90      170   \n661  662  Kyurem Black   Dragon     Ice    700  125     170      100      120   \n148  149        Mewtwo  Psychic     NaN    680  106     110       90      154   \n492  493        Palkia    Water  Dragon    680   90     120      100      150   \n..   ...           ...      ...     ...    ...  ...     ...      ...      ...   \n263  264       Wurmple      Bug     NaN    195   45      45       35       20   \n12    13        Weedle      Bug  Poison    195   40      35       30       20   \n402  403     Kricketot      Bug     NaN    194   37      25       41       25   \n296  297       Azurill   Normal   Fairy    190   50      20       40       20   \n189  190       Sunkern    Grass     NaN    180   30      30       30       30   \n\n     Sp. Def  Speed  Generation  Legendary Attacker  \n503      120    120           4       True   Strong  \n662      100     95           5       True   Strong  \n661       90     95           5       True   Strong  \n148       90    130           1       True   Strong  \n492      120    100           4       True   Strong  \n..       ...    ...         ...        ...      ...  \n263       30     20           3      False     Weak  \n12        20     50           1      False     Weak  \n402       41     25           4      False     Weak  \n296       40     20           3      False     Weak  \n189       30     30           2      False     Weak  \n\n[742 rows x 14 columns]",
      "text/html": "<div>\n<style scoped>\n    .dataframe tbody tr th:only-of-type {\n        vertical-align: middle;\n    }\n\n    .dataframe tbody tr th {\n        vertical-align: top;\n    }\n\n    .dataframe thead th {\n        text-align: right;\n    }\n</style>\n<table border=\"1\" class=\"dataframe\">\n  <thead>\n    <tr style=\"text-align: right;\">\n      <th></th>\n      <th>#</th>\n      <th>Name</th>\n      <th>Type 1</th>\n      <th>Type 2</th>\n      <th>Total</th>\n      <th>HP</th>\n      <th>Attack</th>\n      <th>Defense</th>\n      <th>Sp. Atk</th>\n      <th>Sp. Def</th>\n      <th>Speed</th>\n      <th>Generation</th>\n      <th>Legendary</th>\n      <th>Attacker</th>\n    </tr>\n  </thead>\n  <tbody>\n    <tr>\n      <th>503</th>\n      <td>504</td>\n      <td>Arceus</td>\n      <td>Normal</td>\n      <td>NaN</td>\n      <td>720</td>\n      <td>120</td>\n      <td>120</td>\n      <td>120</td>\n      <td>120</td>\n      <td>120</td>\n      <td>120</td>\n      <td>4</td>\n      <td>True</td>\n      <td>Strong</td>\n    </tr>\n    <tr>\n      <th>662</th>\n      <td>663</td>\n      <td>Kyurem White</td>\n      <td>Dragon</td>\n      <td>Ice</td>\n      <td>700</td>\n      <td>125</td>\n      <td>120</td>\n      <td>90</td>\n      <td>170</td>\n      <td>100</td>\n      <td>95</td>\n      <td>5</td>\n      <td>True</td>\n      <td>Strong</td>\n    </tr>\n    <tr>\n      <th>661</th>\n      <td>662</td>\n      <td>Kyurem Black</td>\n      <td>Dragon</td>\n      <td>Ice</td>\n      <td>700</td>\n      <td>125</td>\n      <td>170</td>\n      <td>100</td>\n      <td>120</td>\n      <td>90</td>\n      <td>95</td>\n      <td>5</td>\n      <td>True</td>\n      <td>Strong</td>\n    </tr>\n    <tr>\n      <th>148</th>\n      <td>149</td>\n      <td>Mewtwo</td>\n      <td>Psychic</td>\n      <td>NaN</td>\n      <td>680</td>\n      <td>106</td>\n      <td>110</td>\n      <td>90</td>\n      <td>154</td>\n      <td>90</td>\n      <td>130</td>\n      <td>1</td>\n      <td>True</td>\n      <td>Strong</td>\n    </tr>\n    <tr>\n      <th>492</th>\n      <td>493</td>\n      <td>Palkia</td>\n      <td>Water</td>\n      <td>Dragon</td>\n      <td>680</td>\n      <td>90</td>\n      <td>120</td>\n      <td>100</td>\n      <td>150</td>\n      <td>120</td>\n      <td>100</td>\n      <td>4</td>\n      <td>True</td>\n      <td>Strong</td>\n    </tr>\n    <tr>\n      <th>...</th>\n      <td>...</td>\n      <td>...</td>\n      <td>...</td>\n      <td>...</td>\n      <td>...</td>\n      <td>...</td>\n      <td>...</td>\n      <td>...</td>\n      <td>...</td>\n      <td>...</td>\n      <td>...</td>\n      <td>...</td>\n      <td>...</td>\n      <td>...</td>\n    </tr>\n    <tr>\n      <th>263</th>\n      <td>264</td>\n      <td>Wurmple</td>\n      <td>Bug</td>\n      <td>NaN</td>\n      <td>195</td>\n      <td>45</td>\n      <td>45</td>\n      <td>35</td>\n      <td>20</td>\n      <td>30</td>\n      <td>20</td>\n      <td>3</td>\n      <td>False</td>\n      <td>Weak</td>\n    </tr>\n    <tr>\n      <th>12</th>\n      <td>13</td>\n      <td>Weedle</td>\n      <td>Bug</td>\n      <td>Poison</td>\n      <td>195</td>\n      <td>40</td>\n      <td>35</td>\n      <td>30</td>\n      <td>20</td>\n      <td>20</td>\n      <td>50</td>\n      <td>1</td>\n      <td>False</td>\n      <td>Weak</td>\n    </tr>\n    <tr>\n      <th>402</th>\n      <td>403</td>\n      <td>Kricketot</td>\n      <td>Bug</td>\n      <td>NaN</td>\n      <td>194</td>\n      <td>37</td>\n      <td>25</td>\n      <td>41</td>\n      <td>25</td>\n      <td>41</td>\n      <td>25</td>\n      <td>4</td>\n      <td>False</td>\n      <td>Weak</td>\n    </tr>\n    <tr>\n      <th>296</th>\n      <td>297</td>\n      <td>Azurill</td>\n      <td>Normal</td>\n      <td>Fairy</td>\n      <td>190</td>\n      <td>50</td>\n      <td>20</td>\n      <td>40</td>\n      <td>20</td>\n      <td>40</td>\n      <td>20</td>\n      <td>3</td>\n      <td>False</td>\n      <td>Weak</td>\n    </tr>\n    <tr>\n      <th>189</th>\n      <td>190</td>\n      <td>Sunkern</td>\n      <td>Grass</td>\n      <td>NaN</td>\n      <td>180</td>\n      <td>30</td>\n      <td>30</td>\n      <td>30</td>\n      <td>30</td>\n      <td>30</td>\n      <td>30</td>\n      <td>2</td>\n      <td>False</td>\n      <td>Weak</td>\n    </tr>\n  </tbody>\n</table>\n<p>742 rows × 14 columns</p>\n</div>"
     },
     "execution_count": 27,
     "metadata": {},
     "output_type": "execute_result"
    }
   ],
   "source": [
    "df[\"Type 1\"] = df[\"Type 1\"].replace(\" \", \"Flame\")  # Replace all instances of \"Fire\" in the \"Type 1\" column with \"Flame\".\n",
    "df"
   ],
   "metadata": {
    "collapsed": false,
    "ExecuteTime": {
     "start_time": "2023-08-13T19:09:52.955916Z",
     "end_time": "2023-08-13T19:09:53.014915Z"
    }
   }
  },
  {
   "cell_type": "code",
   "execution_count": 31,
   "outputs": [
    {
     "data": {
      "text/plain": "  Type 1 Type 2\n0  Flame  Grass\n1  Flame  Grass\n2  Water  Water",
      "text/html": "<div>\n<style scoped>\n    .dataframe tbody tr th:only-of-type {\n        vertical-align: middle;\n    }\n\n    .dataframe tbody tr th {\n        vertical-align: top;\n    }\n\n    .dataframe thead th {\n        text-align: right;\n    }\n</style>\n<table border=\"1\" class=\"dataframe\">\n  <thead>\n    <tr style=\"text-align: right;\">\n      <th></th>\n      <th>Type 1</th>\n      <th>Type 2</th>\n    </tr>\n  </thead>\n  <tbody>\n    <tr>\n      <th>0</th>\n      <td>Flame</td>\n      <td>Grass</td>\n    </tr>\n    <tr>\n      <th>1</th>\n      <td>Flame</td>\n      <td>Grass</td>\n    </tr>\n    <tr>\n      <th>2</th>\n      <td>Water</td>\n      <td>Water</td>\n    </tr>\n  </tbody>\n</table>\n</div>"
     },
     "execution_count": 31,
     "metadata": {},
     "output_type": "execute_result"
    }
   ],
   "source": [
    "df_new= pd.DataFrame([[\"Flame\", \"Grass\"], [\"Flame\", \"Grass\"], [\"Water\", \"Water\"]], columns=[\"Type 1\", \"Type 2\"])  # Create a new dataframe.\n",
    "df_new"
   ],
   "metadata": {
    "collapsed": false,
    "ExecuteTime": {
     "start_time": "2023-08-13T19:15:12.946839Z",
     "end_time": "2023-08-13T19:15:12.971418Z"
    }
   }
  },
  {
   "cell_type": "code",
   "execution_count": 32,
   "outputs": [
    {
     "data": {
      "text/plain": "0    False\n1     True\n2    False\ndtype: bool"
     },
     "execution_count": 32,
     "metadata": {},
     "output_type": "execute_result"
    }
   ],
   "source": [
    "df_new.duplicated()  # Get a boolean series indicating whether each row is a duplicate of a previous row."
   ],
   "metadata": {
    "collapsed": false,
    "ExecuteTime": {
     "start_time": "2023-08-13T19:15:22.311877Z",
     "end_time": "2023-08-13T19:15:22.390874Z"
    }
   }
  },
  {
   "cell_type": "code",
   "execution_count": 35,
   "outputs": [
    {
     "data": {
      "text/plain": "  Type 1 Type 2\n1  Flame  Grass",
      "text/html": "<div>\n<style scoped>\n    .dataframe tbody tr th:only-of-type {\n        vertical-align: middle;\n    }\n\n    .dataframe tbody tr th {\n        vertical-align: top;\n    }\n\n    .dataframe thead th {\n        text-align: right;\n    }\n</style>\n<table border=\"1\" class=\"dataframe\">\n  <thead>\n    <tr style=\"text-align: right;\">\n      <th></th>\n      <th>Type 1</th>\n      <th>Type 2</th>\n    </tr>\n  </thead>\n  <tbody>\n    <tr>\n      <th>1</th>\n      <td>Flame</td>\n      <td>Grass</td>\n    </tr>\n  </tbody>\n</table>\n</div>"
     },
     "execution_count": 35,
     "metadata": {},
     "output_type": "execute_result"
    }
   ],
   "source": [
    "df_new[df_new.duplicated()]  # Get the rows that are duplicates of previous rows."
   ],
   "metadata": {
    "collapsed": false,
    "ExecuteTime": {
     "start_time": "2023-08-13T19:15:30.879684Z",
     "end_time": "2023-08-13T19:15:30.898891Z"
    }
   }
  },
  {
   "cell_type": "code",
   "execution_count": 38,
   "outputs": [
    {
     "data": {
      "text/plain": "  Type 1 Type 2\n0  Flame  Grass\n2  Water  Water",
      "text/html": "<div>\n<style scoped>\n    .dataframe tbody tr th:only-of-type {\n        vertical-align: middle;\n    }\n\n    .dataframe tbody tr th {\n        vertical-align: top;\n    }\n\n    .dataframe thead th {\n        text-align: right;\n    }\n</style>\n<table border=\"1\" class=\"dataframe\">\n  <thead>\n    <tr style=\"text-align: right;\">\n      <th></th>\n      <th>Type 1</th>\n      <th>Type 2</th>\n    </tr>\n  </thead>\n  <tbody>\n    <tr>\n      <th>0</th>\n      <td>Flame</td>\n      <td>Grass</td>\n    </tr>\n    <tr>\n      <th>2</th>\n      <td>Water</td>\n      <td>Water</td>\n    </tr>\n  </tbody>\n</table>\n</div>"
     },
     "execution_count": 38,
     "metadata": {},
     "output_type": "execute_result"
    }
   ],
   "source": [
    "df_new.drop_duplicates(inplace=True)  # Drop the rows that are duplicates of previous rows.\n",
    "df_new"
   ],
   "metadata": {
    "collapsed": false,
    "ExecuteTime": {
     "start_time": "2023-08-13T19:16:07.276405Z",
     "end_time": "2023-08-13T19:16:07.293403Z"
    }
   }
  }
 ],
 "metadata": {
  "kernelspec": {
   "display_name": "Python 3",
   "language": "python",
   "name": "python3"
  },
  "language_info": {
   "codemirror_mode": {
    "name": "ipython",
    "version": 2
   },
   "file_extension": ".py",
   "mimetype": "text/x-python",
   "name": "python",
   "nbconvert_exporter": "python",
   "pygments_lexer": "ipython2",
   "version": "2.7.6"
  }
 },
 "nbformat": 4,
 "nbformat_minor": 0
}

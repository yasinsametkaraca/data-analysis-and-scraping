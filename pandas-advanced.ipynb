{
 "cells": [
  {
   "cell_type": "code",
   "execution_count": 1,
   "metadata": {
    "collapsed": true,
    "ExecuteTime": {
     "start_time": "2023-08-04T09:29:05.884992Z",
     "end_time": "2023-08-04T09:29:07.918994Z"
    }
   },
   "outputs": [],
   "source": [
    "import pandas as pd\n",
    "import numpy as np"
   ]
  },
  {
   "cell_type": "code",
   "execution_count": 2,
   "outputs": [],
   "source": [
    "df = pd.read_csv(\"pokemon.csv\")"
   ],
   "metadata": {
    "collapsed": false,
    "ExecuteTime": {
     "start_time": "2023-08-04T09:29:07.913989Z",
     "end_time": "2023-08-04T09:29:07.941990Z"
    }
   }
  },
  {
   "cell_type": "code",
   "execution_count": 3,
   "outputs": [
    {
     "data": {
      "text/plain": "   #        Name Type 1  Type 2  Total  HP  Attack  Defense  Sp. Atk  Sp. Def  \\\n0  1   Bulbasaur  Grass  Poison    318  45      49       49       65       65   \n1  2     Ivysaur  Grass  Poison    405  60      62       63       80       80   \n2  3    Venusaur  Grass  Poison    525  80      82       83      100      100   \n3  4  Charmander   Fire     NaN    309  39      52       43       60       50   \n4  5  Charmeleon   Fire     NaN    405  58      64       58       80       65   \n\n   Speed  Generation  Legendary Attacker  \n0     45           1      False     Weak  \n1     60           1      False     Weak  \n2     80           1      False   Strong  \n3     65           1      False     Weak  \n4     80           1      False     Weak  ",
      "text/html": "<div>\n<style scoped>\n    .dataframe tbody tr th:only-of-type {\n        vertical-align: middle;\n    }\n\n    .dataframe tbody tr th {\n        vertical-align: top;\n    }\n\n    .dataframe thead th {\n        text-align: right;\n    }\n</style>\n<table border=\"1\" class=\"dataframe\">\n  <thead>\n    <tr style=\"text-align: right;\">\n      <th></th>\n      <th>#</th>\n      <th>Name</th>\n      <th>Type 1</th>\n      <th>Type 2</th>\n      <th>Total</th>\n      <th>HP</th>\n      <th>Attack</th>\n      <th>Defense</th>\n      <th>Sp. Atk</th>\n      <th>Sp. Def</th>\n      <th>Speed</th>\n      <th>Generation</th>\n      <th>Legendary</th>\n      <th>Attacker</th>\n    </tr>\n  </thead>\n  <tbody>\n    <tr>\n      <th>0</th>\n      <td>1</td>\n      <td>Bulbasaur</td>\n      <td>Grass</td>\n      <td>Poison</td>\n      <td>318</td>\n      <td>45</td>\n      <td>49</td>\n      <td>49</td>\n      <td>65</td>\n      <td>65</td>\n      <td>45</td>\n      <td>1</td>\n      <td>False</td>\n      <td>Weak</td>\n    </tr>\n    <tr>\n      <th>1</th>\n      <td>2</td>\n      <td>Ivysaur</td>\n      <td>Grass</td>\n      <td>Poison</td>\n      <td>405</td>\n      <td>60</td>\n      <td>62</td>\n      <td>63</td>\n      <td>80</td>\n      <td>80</td>\n      <td>60</td>\n      <td>1</td>\n      <td>False</td>\n      <td>Weak</td>\n    </tr>\n    <tr>\n      <th>2</th>\n      <td>3</td>\n      <td>Venusaur</td>\n      <td>Grass</td>\n      <td>Poison</td>\n      <td>525</td>\n      <td>80</td>\n      <td>82</td>\n      <td>83</td>\n      <td>100</td>\n      <td>100</td>\n      <td>80</td>\n      <td>1</td>\n      <td>False</td>\n      <td>Strong</td>\n    </tr>\n    <tr>\n      <th>3</th>\n      <td>4</td>\n      <td>Charmander</td>\n      <td>Fire</td>\n      <td>NaN</td>\n      <td>309</td>\n      <td>39</td>\n      <td>52</td>\n      <td>43</td>\n      <td>60</td>\n      <td>50</td>\n      <td>65</td>\n      <td>1</td>\n      <td>False</td>\n      <td>Weak</td>\n    </tr>\n    <tr>\n      <th>4</th>\n      <td>5</td>\n      <td>Charmeleon</td>\n      <td>Fire</td>\n      <td>NaN</td>\n      <td>405</td>\n      <td>58</td>\n      <td>64</td>\n      <td>58</td>\n      <td>80</td>\n      <td>65</td>\n      <td>80</td>\n      <td>1</td>\n      <td>False</td>\n      <td>Weak</td>\n    </tr>\n  </tbody>\n</table>\n</div>"
     },
     "execution_count": 3,
     "metadata": {},
     "output_type": "execute_result"
    }
   ],
   "source": [
    "def attack_power(attack, Sp_atk):\n",
    "    if attack + Sp_atk > 180:\n",
    "        return \"Strong\"\n",
    "    else:\n",
    "        return \"Weak\"\n",
    "\n",
    "df[\"Attacker\"] = np.vectorize(attack_power)(df[\"Attack\"], df[\"Sp. Atk\"])  # Create a new column named \"Attacker\" and apply the attack_power function to each row of the dataframe.\n",
    "\n",
    "df.head()"
   ],
   "metadata": {
    "collapsed": false,
    "ExecuteTime": {
     "start_time": "2023-08-04T09:29:07.947992Z",
     "end_time": "2023-08-04T09:29:07.997988Z"
    }
   }
  },
  {
   "cell_type": "code",
   "execution_count": 4,
   "outputs": [
    {
     "data": {
      "text/plain": "   #        Name Type 1  Type 2  Total  HP  Attack  Defense  Sp. Atk  Sp. Def  \\\n0  1   Bulbasaur  Grass  Poison    318  45      49       49       65       65   \n1  2     Ivysaur  Grass  Poison    405  60      62       63       80       80   \n2  3    Venusaur  Grass  Poison    525  80      82       83      100      100   \n3  4  Charmander   Fire     NaN    309  39      52       43       60       50   \n4  5  Charmeleon   Fire     NaN    405  58      64       58       80       65   \n\n   Speed  Generation  Legendary Attacker  \n0     45           1      False     Weak  \n1     60           1      False     Weak  \n2     80           1      False   Strong  \n3     65           1      False     Weak  \n4     80           1      False     Weak  ",
      "text/html": "<div>\n<style scoped>\n    .dataframe tbody tr th:only-of-type {\n        vertical-align: middle;\n    }\n\n    .dataframe tbody tr th {\n        vertical-align: top;\n    }\n\n    .dataframe thead th {\n        text-align: right;\n    }\n</style>\n<table border=\"1\" class=\"dataframe\">\n  <thead>\n    <tr style=\"text-align: right;\">\n      <th></th>\n      <th>#</th>\n      <th>Name</th>\n      <th>Type 1</th>\n      <th>Type 2</th>\n      <th>Total</th>\n      <th>HP</th>\n      <th>Attack</th>\n      <th>Defense</th>\n      <th>Sp. Atk</th>\n      <th>Sp. Def</th>\n      <th>Speed</th>\n      <th>Generation</th>\n      <th>Legendary</th>\n      <th>Attacker</th>\n    </tr>\n  </thead>\n  <tbody>\n    <tr>\n      <th>0</th>\n      <td>1</td>\n      <td>Bulbasaur</td>\n      <td>Grass</td>\n      <td>Poison</td>\n      <td>318</td>\n      <td>45</td>\n      <td>49</td>\n      <td>49</td>\n      <td>65</td>\n      <td>65</td>\n      <td>45</td>\n      <td>1</td>\n      <td>False</td>\n      <td>Weak</td>\n    </tr>\n    <tr>\n      <th>1</th>\n      <td>2</td>\n      <td>Ivysaur</td>\n      <td>Grass</td>\n      <td>Poison</td>\n      <td>405</td>\n      <td>60</td>\n      <td>62</td>\n      <td>63</td>\n      <td>80</td>\n      <td>80</td>\n      <td>60</td>\n      <td>1</td>\n      <td>False</td>\n      <td>Weak</td>\n    </tr>\n    <tr>\n      <th>2</th>\n      <td>3</td>\n      <td>Venusaur</td>\n      <td>Grass</td>\n      <td>Poison</td>\n      <td>525</td>\n      <td>80</td>\n      <td>82</td>\n      <td>83</td>\n      <td>100</td>\n      <td>100</td>\n      <td>80</td>\n      <td>1</td>\n      <td>False</td>\n      <td>Strong</td>\n    </tr>\n    <tr>\n      <th>3</th>\n      <td>4</td>\n      <td>Charmander</td>\n      <td>Fire</td>\n      <td>NaN</td>\n      <td>309</td>\n      <td>39</td>\n      <td>52</td>\n      <td>43</td>\n      <td>60</td>\n      <td>50</td>\n      <td>65</td>\n      <td>1</td>\n      <td>False</td>\n      <td>Weak</td>\n    </tr>\n    <tr>\n      <th>4</th>\n      <td>5</td>\n      <td>Charmeleon</td>\n      <td>Fire</td>\n      <td>NaN</td>\n      <td>405</td>\n      <td>58</td>\n      <td>64</td>\n      <td>58</td>\n      <td>80</td>\n      <td>65</td>\n      <td>80</td>\n      <td>1</td>\n      <td>False</td>\n      <td>Weak</td>\n    </tr>\n  </tbody>\n</table>\n</div>"
     },
     "execution_count": 4,
     "metadata": {},
     "output_type": "execute_result"
    }
   ],
   "source": [
    "df[\"Attacker\"] = df.apply(lambda row: attack_power(row[\"Attack\"], row[\"Sp. Atk\"]), axis=1)  # Create a new column named \"Attacker\" and apply the attack_power function to each row of the dataframe.\n",
    "df.head()"
   ],
   "metadata": {
    "collapsed": false,
    "ExecuteTime": {
     "start_time": "2023-08-04T09:29:07.975987Z",
     "end_time": "2023-08-04T09:29:08.022990Z"
    }
   }
  },
  {
   "cell_type": "code",
   "execution_count": 5,
   "outputs": [
    {
     "data": {
      "text/plain": "       #          Name   Type 1  Type 2  Total   HP  Attack  Defense  Sp. Atk  \\\n503  504        Arceus   Normal     NaN    720  120     120      120      120   \n662  663  Kyurem White   Dragon     Ice    700  125     120       90      170   \n661  662  Kyurem Black   Dragon     Ice    700  125     170      100      120   \n148  149        Mewtwo  Psychic     NaN    680  106     110       90      154   \n492  493        Palkia    Water  Dragon    680   90     120      100      150   \n\n     Sp. Def  Speed  Generation  Legendary Attacker  \n503      120    120           4       True   Strong  \n662      100     95           5       True   Strong  \n661       90     95           5       True   Strong  \n148       90    130           1       True   Strong  \n492      120    100           4       True   Strong  ",
      "text/html": "<div>\n<style scoped>\n    .dataframe tbody tr th:only-of-type {\n        vertical-align: middle;\n    }\n\n    .dataframe tbody tr th {\n        vertical-align: top;\n    }\n\n    .dataframe thead th {\n        text-align: right;\n    }\n</style>\n<table border=\"1\" class=\"dataframe\">\n  <thead>\n    <tr style=\"text-align: right;\">\n      <th></th>\n      <th>#</th>\n      <th>Name</th>\n      <th>Type 1</th>\n      <th>Type 2</th>\n      <th>Total</th>\n      <th>HP</th>\n      <th>Attack</th>\n      <th>Defense</th>\n      <th>Sp. Atk</th>\n      <th>Sp. Def</th>\n      <th>Speed</th>\n      <th>Generation</th>\n      <th>Legendary</th>\n      <th>Attacker</th>\n    </tr>\n  </thead>\n  <tbody>\n    <tr>\n      <th>503</th>\n      <td>504</td>\n      <td>Arceus</td>\n      <td>Normal</td>\n      <td>NaN</td>\n      <td>720</td>\n      <td>120</td>\n      <td>120</td>\n      <td>120</td>\n      <td>120</td>\n      <td>120</td>\n      <td>120</td>\n      <td>4</td>\n      <td>True</td>\n      <td>Strong</td>\n    </tr>\n    <tr>\n      <th>662</th>\n      <td>663</td>\n      <td>Kyurem White</td>\n      <td>Dragon</td>\n      <td>Ice</td>\n      <td>700</td>\n      <td>125</td>\n      <td>120</td>\n      <td>90</td>\n      <td>170</td>\n      <td>100</td>\n      <td>95</td>\n      <td>5</td>\n      <td>True</td>\n      <td>Strong</td>\n    </tr>\n    <tr>\n      <th>661</th>\n      <td>662</td>\n      <td>Kyurem Black</td>\n      <td>Dragon</td>\n      <td>Ice</td>\n      <td>700</td>\n      <td>125</td>\n      <td>170</td>\n      <td>100</td>\n      <td>120</td>\n      <td>90</td>\n      <td>95</td>\n      <td>5</td>\n      <td>True</td>\n      <td>Strong</td>\n    </tr>\n    <tr>\n      <th>148</th>\n      <td>149</td>\n      <td>Mewtwo</td>\n      <td>Psychic</td>\n      <td>NaN</td>\n      <td>680</td>\n      <td>106</td>\n      <td>110</td>\n      <td>90</td>\n      <td>154</td>\n      <td>90</td>\n      <td>130</td>\n      <td>1</td>\n      <td>True</td>\n      <td>Strong</td>\n    </tr>\n    <tr>\n      <th>492</th>\n      <td>493</td>\n      <td>Palkia</td>\n      <td>Water</td>\n      <td>Dragon</td>\n      <td>680</td>\n      <td>90</td>\n      <td>120</td>\n      <td>100</td>\n      <td>150</td>\n      <td>120</td>\n      <td>100</td>\n      <td>4</td>\n      <td>True</td>\n      <td>Strong</td>\n    </tr>\n  </tbody>\n</table>\n</div>"
     },
     "execution_count": 5,
     "metadata": {},
     "output_type": "execute_result"
    }
   ],
   "source": [
    "df.sort_values(\"Total\", ascending=False, inplace=True)  # Sort the dataframe by the \"Total\" column in descending order.\n",
    "df.head()"
   ],
   "metadata": {
    "collapsed": false,
    "ExecuteTime": {
     "start_time": "2023-08-04T09:29:08.021988Z",
     "end_time": "2023-08-04T09:29:08.173985Z"
    }
   }
  },
  {
   "cell_type": "code",
   "execution_count": 6,
   "outputs": [
    {
     "data": {
      "text/plain": "       #          Name   Type 1  Type 2  Total   HP  Attack  Defense  Sp. Atk  \\\n503  504        Arceus   Normal     NaN    720  120     120      120      120   \n662  663  Kyurem White   Dragon     Ice    700  125     120       90      170   \n661  662  Kyurem Black   Dragon     Ice    700  125     170      100      120   \n148  149        Mewtwo  Psychic     NaN    680  106     110       90      154   \n492  493        Palkia    Water  Dragon    680   90     120      100      150   \n\n     Sp. Def  Speed  Generation  Legendary Attacker  \n503      120    120           4       True   Strong  \n662      100     95           5       True   Strong  \n661       90     95           5       True   Strong  \n148       90    130           1       True   Strong  \n492      120    100           4       True   Strong  ",
      "text/html": "<div>\n<style scoped>\n    .dataframe tbody tr th:only-of-type {\n        vertical-align: middle;\n    }\n\n    .dataframe tbody tr th {\n        vertical-align: top;\n    }\n\n    .dataframe thead th {\n        text-align: right;\n    }\n</style>\n<table border=\"1\" class=\"dataframe\">\n  <thead>\n    <tr style=\"text-align: right;\">\n      <th></th>\n      <th>#</th>\n      <th>Name</th>\n      <th>Type 1</th>\n      <th>Type 2</th>\n      <th>Total</th>\n      <th>HP</th>\n      <th>Attack</th>\n      <th>Defense</th>\n      <th>Sp. Atk</th>\n      <th>Sp. Def</th>\n      <th>Speed</th>\n      <th>Generation</th>\n      <th>Legendary</th>\n      <th>Attacker</th>\n    </tr>\n  </thead>\n  <tbody>\n    <tr>\n      <th>503</th>\n      <td>504</td>\n      <td>Arceus</td>\n      <td>Normal</td>\n      <td>NaN</td>\n      <td>720</td>\n      <td>120</td>\n      <td>120</td>\n      <td>120</td>\n      <td>120</td>\n      <td>120</td>\n      <td>120</td>\n      <td>4</td>\n      <td>True</td>\n      <td>Strong</td>\n    </tr>\n    <tr>\n      <th>662</th>\n      <td>663</td>\n      <td>Kyurem White</td>\n      <td>Dragon</td>\n      <td>Ice</td>\n      <td>700</td>\n      <td>125</td>\n      <td>120</td>\n      <td>90</td>\n      <td>170</td>\n      <td>100</td>\n      <td>95</td>\n      <td>5</td>\n      <td>True</td>\n      <td>Strong</td>\n    </tr>\n    <tr>\n      <th>661</th>\n      <td>662</td>\n      <td>Kyurem Black</td>\n      <td>Dragon</td>\n      <td>Ice</td>\n      <td>700</td>\n      <td>125</td>\n      <td>170</td>\n      <td>100</td>\n      <td>120</td>\n      <td>90</td>\n      <td>95</td>\n      <td>5</td>\n      <td>True</td>\n      <td>Strong</td>\n    </tr>\n    <tr>\n      <th>148</th>\n      <td>149</td>\n      <td>Mewtwo</td>\n      <td>Psychic</td>\n      <td>NaN</td>\n      <td>680</td>\n      <td>106</td>\n      <td>110</td>\n      <td>90</td>\n      <td>154</td>\n      <td>90</td>\n      <td>130</td>\n      <td>1</td>\n      <td>True</td>\n      <td>Strong</td>\n    </tr>\n    <tr>\n      <th>492</th>\n      <td>493</td>\n      <td>Palkia</td>\n      <td>Water</td>\n      <td>Dragon</td>\n      <td>680</td>\n      <td>90</td>\n      <td>120</td>\n      <td>100</td>\n      <td>150</td>\n      <td>120</td>\n      <td>100</td>\n      <td>4</td>\n      <td>True</td>\n      <td>Strong</td>\n    </tr>\n  </tbody>\n</table>\n</div>"
     },
     "execution_count": 6,
     "metadata": {},
     "output_type": "execute_result"
    }
   ],
   "source": [
    "df.nlargest(5, \"Total\")  # Get the 5 largest values in the \"Total\" column."
   ],
   "metadata": {
    "collapsed": false,
    "ExecuteTime": {
     "start_time": "2023-08-04T09:29:08.052988Z",
     "end_time": "2023-08-04T09:29:08.192987Z"
    }
   }
  },
  {
   "cell_type": "code",
   "execution_count": 7,
   "outputs": [
    {
     "data": {
      "text/plain": "       #       Name  Type 1 Type 2  Total  HP  Attack  Defense  Sp. Atk  \\\n189  190    Sunkern   Grass    NaN    180  30      30       30       30   \n296  297    Azurill  Normal  Fairy    190  50      20       40       20   \n402  403  Kricketot     Bug    NaN    194  37      25       41       25   \n9     10   Caterpie     Bug    NaN    195  45      30       35       20   \n263  264    Wurmple     Bug    NaN    195  45      45       35       20   \n\n     Sp. Def  Speed  Generation  Legendary Attacker  \n189       30     30           2      False     Weak  \n296       40     20           3      False     Weak  \n402       41     25           4      False     Weak  \n9         20     45           1      False     Weak  \n263       30     20           3      False     Weak  ",
      "text/html": "<div>\n<style scoped>\n    .dataframe tbody tr th:only-of-type {\n        vertical-align: middle;\n    }\n\n    .dataframe tbody tr th {\n        vertical-align: top;\n    }\n\n    .dataframe thead th {\n        text-align: right;\n    }\n</style>\n<table border=\"1\" class=\"dataframe\">\n  <thead>\n    <tr style=\"text-align: right;\">\n      <th></th>\n      <th>#</th>\n      <th>Name</th>\n      <th>Type 1</th>\n      <th>Type 2</th>\n      <th>Total</th>\n      <th>HP</th>\n      <th>Attack</th>\n      <th>Defense</th>\n      <th>Sp. Atk</th>\n      <th>Sp. Def</th>\n      <th>Speed</th>\n      <th>Generation</th>\n      <th>Legendary</th>\n      <th>Attacker</th>\n    </tr>\n  </thead>\n  <tbody>\n    <tr>\n      <th>189</th>\n      <td>190</td>\n      <td>Sunkern</td>\n      <td>Grass</td>\n      <td>NaN</td>\n      <td>180</td>\n      <td>30</td>\n      <td>30</td>\n      <td>30</td>\n      <td>30</td>\n      <td>30</td>\n      <td>30</td>\n      <td>2</td>\n      <td>False</td>\n      <td>Weak</td>\n    </tr>\n    <tr>\n      <th>296</th>\n      <td>297</td>\n      <td>Azurill</td>\n      <td>Normal</td>\n      <td>Fairy</td>\n      <td>190</td>\n      <td>50</td>\n      <td>20</td>\n      <td>40</td>\n      <td>20</td>\n      <td>40</td>\n      <td>20</td>\n      <td>3</td>\n      <td>False</td>\n      <td>Weak</td>\n    </tr>\n    <tr>\n      <th>402</th>\n      <td>403</td>\n      <td>Kricketot</td>\n      <td>Bug</td>\n      <td>NaN</td>\n      <td>194</td>\n      <td>37</td>\n      <td>25</td>\n      <td>41</td>\n      <td>25</td>\n      <td>41</td>\n      <td>25</td>\n      <td>4</td>\n      <td>False</td>\n      <td>Weak</td>\n    </tr>\n    <tr>\n      <th>9</th>\n      <td>10</td>\n      <td>Caterpie</td>\n      <td>Bug</td>\n      <td>NaN</td>\n      <td>195</td>\n      <td>45</td>\n      <td>30</td>\n      <td>35</td>\n      <td>20</td>\n      <td>20</td>\n      <td>45</td>\n      <td>1</td>\n      <td>False</td>\n      <td>Weak</td>\n    </tr>\n    <tr>\n      <th>263</th>\n      <td>264</td>\n      <td>Wurmple</td>\n      <td>Bug</td>\n      <td>NaN</td>\n      <td>195</td>\n      <td>45</td>\n      <td>45</td>\n      <td>35</td>\n      <td>20</td>\n      <td>30</td>\n      <td>20</td>\n      <td>3</td>\n      <td>False</td>\n      <td>Weak</td>\n    </tr>\n  </tbody>\n</table>\n</div>"
     },
     "execution_count": 7,
     "metadata": {},
     "output_type": "execute_result"
    }
   ],
   "source": [
    "df.nsmallest(5, \"Total\")  # Get the 5 smallest values in the \"Total\" column."
   ],
   "metadata": {
    "collapsed": false,
    "ExecuteTime": {
     "start_time": "2023-08-04T09:29:08.083988Z",
     "end_time": "2023-08-04T09:29:08.342987Z"
    }
   }
  },
  {
   "cell_type": "code",
   "execution_count": 8,
   "outputs": [
    {
     "data": {
      "text/plain": "Water       105\nNormal       94\nGrass        67\nBug          65\nPsychic      51\nFire         48\nElectric     42\nRock         41\nGround       31\nDark         28\nPoison       28\nDragon       26\nFighting     25\nGhost        24\nSteel        23\nIce          23\nFairy        17\nFlying        4\nName: Type 1, dtype: int64"
     },
     "execution_count": 8,
     "metadata": {},
     "output_type": "execute_result"
    }
   ],
   "source": [
    "df[\"Type 1\"].value_counts()  # Get the count of each unique value in the \"Type 1\" column."
   ],
   "metadata": {
    "collapsed": false,
    "ExecuteTime": {
     "start_time": "2023-08-04T09:29:08.120987Z",
     "end_time": "2023-08-04T09:29:08.396985Z"
    }
   }
  },
  {
   "cell_type": "code",
   "execution_count": 9,
   "outputs": [
    {
     "data": {
      "text/plain": "503    False\n662    False\n661    False\n148    False\n492     True\n       ...  \n263    False\n12     False\n402    False\n296     True\n189    False\nName: HP, Length: 742, dtype: bool"
     },
     "execution_count": 9,
     "metadata": {},
     "output_type": "execute_result"
    }
   ],
   "source": [
    "df[\"HP\"].between(50, 100)  # Get a boolean series indicating whether each value in the \"HP\" column is between 50 and 100."
   ],
   "metadata": {
    "collapsed": false,
    "ExecuteTime": {
     "start_time": "2023-08-04T09:29:08.132986Z",
     "end_time": "2023-08-04T09:29:08.409987Z"
    }
   }
  },
  {
   "cell_type": "code",
   "execution_count": 10,
   "outputs": [
    {
     "data": {
      "text/plain": "       #                Name   Type 1    Type 2  Total   HP  Attack  Defense  \\\n492  493              Palkia    Water    Dragon    680   90     120      100   \n656  657            Reshiram   Dragon      Fire    680  100     120      100   \n657  658              Zekrom   Dragon  Electric    680  100     150      120   \n491  492              Dialga    Steel    Dragon    680  100     120      120   \n740  741  HoopaHoopa Unbound  Psychic      Dark    680   80     160       60   \n..   ...                 ...      ...       ...    ...  ...     ...      ...   \n172  173           Igglybuff   Normal     Fairy    210   90      30       15   \n10    11             Metapod      Bug       NaN    205   50      20       55   \n266  267             Cascoon      Bug       NaN    205   50      35       55   \n264  265             Silcoon      Bug       NaN    205   50      35       55   \n296  297             Azurill   Normal     Fairy    190   50      20       40   \n\n     Sp. Atk  Sp. Def  Speed  Generation  Legendary Attacker  \n492      150      120    100           4       True   Strong  \n656      150      120     90           5       True   Strong  \n657      120      100     90           5       True   Strong  \n491      150      100     90           4       True   Strong  \n740      170      130     80           6       True   Strong  \n..       ...      ...    ...         ...        ...      ...  \n172       40       20     15           2      False     Weak  \n10        25       25     30           1      False     Weak  \n266       25       25     15           3      False     Weak  \n264       25       25     15           3      False     Weak  \n296       20       40     20           3      False     Weak  \n\n[535 rows x 14 columns]",
      "text/html": "<div>\n<style scoped>\n    .dataframe tbody tr th:only-of-type {\n        vertical-align: middle;\n    }\n\n    .dataframe tbody tr th {\n        vertical-align: top;\n    }\n\n    .dataframe thead th {\n        text-align: right;\n    }\n</style>\n<table border=\"1\" class=\"dataframe\">\n  <thead>\n    <tr style=\"text-align: right;\">\n      <th></th>\n      <th>#</th>\n      <th>Name</th>\n      <th>Type 1</th>\n      <th>Type 2</th>\n      <th>Total</th>\n      <th>HP</th>\n      <th>Attack</th>\n      <th>Defense</th>\n      <th>Sp. Atk</th>\n      <th>Sp. Def</th>\n      <th>Speed</th>\n      <th>Generation</th>\n      <th>Legendary</th>\n      <th>Attacker</th>\n    </tr>\n  </thead>\n  <tbody>\n    <tr>\n      <th>492</th>\n      <td>493</td>\n      <td>Palkia</td>\n      <td>Water</td>\n      <td>Dragon</td>\n      <td>680</td>\n      <td>90</td>\n      <td>120</td>\n      <td>100</td>\n      <td>150</td>\n      <td>120</td>\n      <td>100</td>\n      <td>4</td>\n      <td>True</td>\n      <td>Strong</td>\n    </tr>\n    <tr>\n      <th>656</th>\n      <td>657</td>\n      <td>Reshiram</td>\n      <td>Dragon</td>\n      <td>Fire</td>\n      <td>680</td>\n      <td>100</td>\n      <td>120</td>\n      <td>100</td>\n      <td>150</td>\n      <td>120</td>\n      <td>90</td>\n      <td>5</td>\n      <td>True</td>\n      <td>Strong</td>\n    </tr>\n    <tr>\n      <th>657</th>\n      <td>658</td>\n      <td>Zekrom</td>\n      <td>Dragon</td>\n      <td>Electric</td>\n      <td>680</td>\n      <td>100</td>\n      <td>150</td>\n      <td>120</td>\n      <td>120</td>\n      <td>100</td>\n      <td>90</td>\n      <td>5</td>\n      <td>True</td>\n      <td>Strong</td>\n    </tr>\n    <tr>\n      <th>491</th>\n      <td>492</td>\n      <td>Dialga</td>\n      <td>Steel</td>\n      <td>Dragon</td>\n      <td>680</td>\n      <td>100</td>\n      <td>120</td>\n      <td>120</td>\n      <td>150</td>\n      <td>100</td>\n      <td>90</td>\n      <td>4</td>\n      <td>True</td>\n      <td>Strong</td>\n    </tr>\n    <tr>\n      <th>740</th>\n      <td>741</td>\n      <td>HoopaHoopa Unbound</td>\n      <td>Psychic</td>\n      <td>Dark</td>\n      <td>680</td>\n      <td>80</td>\n      <td>160</td>\n      <td>60</td>\n      <td>170</td>\n      <td>130</td>\n      <td>80</td>\n      <td>6</td>\n      <td>True</td>\n      <td>Strong</td>\n    </tr>\n    <tr>\n      <th>...</th>\n      <td>...</td>\n      <td>...</td>\n      <td>...</td>\n      <td>...</td>\n      <td>...</td>\n      <td>...</td>\n      <td>...</td>\n      <td>...</td>\n      <td>...</td>\n      <td>...</td>\n      <td>...</td>\n      <td>...</td>\n      <td>...</td>\n      <td>...</td>\n    </tr>\n    <tr>\n      <th>172</th>\n      <td>173</td>\n      <td>Igglybuff</td>\n      <td>Normal</td>\n      <td>Fairy</td>\n      <td>210</td>\n      <td>90</td>\n      <td>30</td>\n      <td>15</td>\n      <td>40</td>\n      <td>20</td>\n      <td>15</td>\n      <td>2</td>\n      <td>False</td>\n      <td>Weak</td>\n    </tr>\n    <tr>\n      <th>10</th>\n      <td>11</td>\n      <td>Metapod</td>\n      <td>Bug</td>\n      <td>NaN</td>\n      <td>205</td>\n      <td>50</td>\n      <td>20</td>\n      <td>55</td>\n      <td>25</td>\n      <td>25</td>\n      <td>30</td>\n      <td>1</td>\n      <td>False</td>\n      <td>Weak</td>\n    </tr>\n    <tr>\n      <th>266</th>\n      <td>267</td>\n      <td>Cascoon</td>\n      <td>Bug</td>\n      <td>NaN</td>\n      <td>205</td>\n      <td>50</td>\n      <td>35</td>\n      <td>55</td>\n      <td>25</td>\n      <td>25</td>\n      <td>15</td>\n      <td>3</td>\n      <td>False</td>\n      <td>Weak</td>\n    </tr>\n    <tr>\n      <th>264</th>\n      <td>265</td>\n      <td>Silcoon</td>\n      <td>Bug</td>\n      <td>NaN</td>\n      <td>205</td>\n      <td>50</td>\n      <td>35</td>\n      <td>55</td>\n      <td>25</td>\n      <td>25</td>\n      <td>15</td>\n      <td>3</td>\n      <td>False</td>\n      <td>Weak</td>\n    </tr>\n    <tr>\n      <th>296</th>\n      <td>297</td>\n      <td>Azurill</td>\n      <td>Normal</td>\n      <td>Fairy</td>\n      <td>190</td>\n      <td>50</td>\n      <td>20</td>\n      <td>40</td>\n      <td>20</td>\n      <td>40</td>\n      <td>20</td>\n      <td>3</td>\n      <td>False</td>\n      <td>Weak</td>\n    </tr>\n  </tbody>\n</table>\n<p>535 rows × 14 columns</p>\n</div>"
     },
     "execution_count": 10,
     "metadata": {},
     "output_type": "execute_result"
    }
   ],
   "source": [
    "df[df[\"HP\"].between(50, 100)] # Get the rows where the \"HP\" column is between 50 and 100."
   ],
   "metadata": {
    "collapsed": false,
    "ExecuteTime": {
     "start_time": "2023-08-04T09:29:08.146986Z",
     "end_time": "2023-08-04T09:29:08.410988Z"
    }
   }
  },
  {
   "cell_type": "code",
   "execution_count": 11,
   "outputs": [
    {
     "data": {
      "text/plain": "Water       77\nNormal      65\nGrass       52\nBug         46\nFire        35\nPsychic     34\nElectric    32\nRock        32\nGround      22\nDark        21\nSteel       20\nPoison      20\nIce         18\nFighting    17\nDragon      16\nFairy       13\nGhost       12\nFlying       3\nName: Type 1, dtype: int64"
     },
     "execution_count": 11,
     "metadata": {},
     "output_type": "execute_result"
    }
   ],
   "source": [
    "df[df[\"HP\"].between(50, 100)][\"Type 1\"].value_counts()  # Get the count of each unique value in the \"Type 1\" column for the rows where the \"HP\" column is between 50 and 100."
   ],
   "metadata": {
    "collapsed": false,
    "ExecuteTime": {
     "start_time": "2023-08-04T09:29:08.179993Z",
     "end_time": "2023-08-04T09:29:08.411985Z"
    }
   }
  },
  {
   "cell_type": "code",
   "execution_count": 12,
   "outputs": [
    {
     "data": {
      "text/plain": "       #                Name   Type 1    Type 2  Total   HP  Attack  Defense  \\\n492  493              Palkia    Water    Dragon    680   90     120      100   \n656  657            Reshiram   Dragon      Fire    680  100     120      100   \n657  658              Zekrom   Dragon  Electric    680  100     150      120   \n491  492              Dialga    Steel    Dragon    680  100     120      120   \n740  741  HoopaHoopa Unbound  Psychic      Dark    680   80     160       60   \n..   ...                 ...      ...       ...    ...  ...     ...      ...   \n172  173           Igglybuff   Normal     Fairy    210   90      30       15   \n10    11             Metapod      Bug       NaN    205   50      20       55   \n266  267             Cascoon      Bug       NaN    205   50      35       55   \n264  265             Silcoon      Bug       NaN    205   50      35       55   \n296  297             Azurill   Normal     Fairy    190   50      20       40   \n\n     Sp. Atk  Sp. Def  Speed  Generation  Legendary Attacker  \n492      150      120    100           4       True   Strong  \n656      150      120     90           5       True   Strong  \n657      120      100     90           5       True   Strong  \n491      150      100     90           4       True   Strong  \n740      170      130     80           6       True   Strong  \n..       ...      ...    ...         ...        ...      ...  \n172       40       20     15           2      False     Weak  \n10        25       25     30           1      False     Weak  \n266       25       25     15           3      False     Weak  \n264       25       25     15           3      False     Weak  \n296       20       40     20           3      False     Weak  \n\n[535 rows x 14 columns]",
      "text/html": "<div>\n<style scoped>\n    .dataframe tbody tr th:only-of-type {\n        vertical-align: middle;\n    }\n\n    .dataframe tbody tr th {\n        vertical-align: top;\n    }\n\n    .dataframe thead th {\n        text-align: right;\n    }\n</style>\n<table border=\"1\" class=\"dataframe\">\n  <thead>\n    <tr style=\"text-align: right;\">\n      <th></th>\n      <th>#</th>\n      <th>Name</th>\n      <th>Type 1</th>\n      <th>Type 2</th>\n      <th>Total</th>\n      <th>HP</th>\n      <th>Attack</th>\n      <th>Defense</th>\n      <th>Sp. Atk</th>\n      <th>Sp. Def</th>\n      <th>Speed</th>\n      <th>Generation</th>\n      <th>Legendary</th>\n      <th>Attacker</th>\n    </tr>\n  </thead>\n  <tbody>\n    <tr>\n      <th>492</th>\n      <td>493</td>\n      <td>Palkia</td>\n      <td>Water</td>\n      <td>Dragon</td>\n      <td>680</td>\n      <td>90</td>\n      <td>120</td>\n      <td>100</td>\n      <td>150</td>\n      <td>120</td>\n      <td>100</td>\n      <td>4</td>\n      <td>True</td>\n      <td>Strong</td>\n    </tr>\n    <tr>\n      <th>656</th>\n      <td>657</td>\n      <td>Reshiram</td>\n      <td>Dragon</td>\n      <td>Fire</td>\n      <td>680</td>\n      <td>100</td>\n      <td>120</td>\n      <td>100</td>\n      <td>150</td>\n      <td>120</td>\n      <td>90</td>\n      <td>5</td>\n      <td>True</td>\n      <td>Strong</td>\n    </tr>\n    <tr>\n      <th>657</th>\n      <td>658</td>\n      <td>Zekrom</td>\n      <td>Dragon</td>\n      <td>Electric</td>\n      <td>680</td>\n      <td>100</td>\n      <td>150</td>\n      <td>120</td>\n      <td>120</td>\n      <td>100</td>\n      <td>90</td>\n      <td>5</td>\n      <td>True</td>\n      <td>Strong</td>\n    </tr>\n    <tr>\n      <th>491</th>\n      <td>492</td>\n      <td>Dialga</td>\n      <td>Steel</td>\n      <td>Dragon</td>\n      <td>680</td>\n      <td>100</td>\n      <td>120</td>\n      <td>120</td>\n      <td>150</td>\n      <td>100</td>\n      <td>90</td>\n      <td>4</td>\n      <td>True</td>\n      <td>Strong</td>\n    </tr>\n    <tr>\n      <th>740</th>\n      <td>741</td>\n      <td>HoopaHoopa Unbound</td>\n      <td>Psychic</td>\n      <td>Dark</td>\n      <td>680</td>\n      <td>80</td>\n      <td>160</td>\n      <td>60</td>\n      <td>170</td>\n      <td>130</td>\n      <td>80</td>\n      <td>6</td>\n      <td>True</td>\n      <td>Strong</td>\n    </tr>\n    <tr>\n      <th>...</th>\n      <td>...</td>\n      <td>...</td>\n      <td>...</td>\n      <td>...</td>\n      <td>...</td>\n      <td>...</td>\n      <td>...</td>\n      <td>...</td>\n      <td>...</td>\n      <td>...</td>\n      <td>...</td>\n      <td>...</td>\n      <td>...</td>\n      <td>...</td>\n    </tr>\n    <tr>\n      <th>172</th>\n      <td>173</td>\n      <td>Igglybuff</td>\n      <td>Normal</td>\n      <td>Fairy</td>\n      <td>210</td>\n      <td>90</td>\n      <td>30</td>\n      <td>15</td>\n      <td>40</td>\n      <td>20</td>\n      <td>15</td>\n      <td>2</td>\n      <td>False</td>\n      <td>Weak</td>\n    </tr>\n    <tr>\n      <th>10</th>\n      <td>11</td>\n      <td>Metapod</td>\n      <td>Bug</td>\n      <td>NaN</td>\n      <td>205</td>\n      <td>50</td>\n      <td>20</td>\n      <td>55</td>\n      <td>25</td>\n      <td>25</td>\n      <td>30</td>\n      <td>1</td>\n      <td>False</td>\n      <td>Weak</td>\n    </tr>\n    <tr>\n      <th>266</th>\n      <td>267</td>\n      <td>Cascoon</td>\n      <td>Bug</td>\n      <td>NaN</td>\n      <td>205</td>\n      <td>50</td>\n      <td>35</td>\n      <td>55</td>\n      <td>25</td>\n      <td>25</td>\n      <td>15</td>\n      <td>3</td>\n      <td>False</td>\n      <td>Weak</td>\n    </tr>\n    <tr>\n      <th>264</th>\n      <td>265</td>\n      <td>Silcoon</td>\n      <td>Bug</td>\n      <td>NaN</td>\n      <td>205</td>\n      <td>50</td>\n      <td>35</td>\n      <td>55</td>\n      <td>25</td>\n      <td>25</td>\n      <td>15</td>\n      <td>3</td>\n      <td>False</td>\n      <td>Weak</td>\n    </tr>\n    <tr>\n      <th>296</th>\n      <td>297</td>\n      <td>Azurill</td>\n      <td>Normal</td>\n      <td>Fairy</td>\n      <td>190</td>\n      <td>50</td>\n      <td>20</td>\n      <td>40</td>\n      <td>20</td>\n      <td>40</td>\n      <td>20</td>\n      <td>3</td>\n      <td>False</td>\n      <td>Weak</td>\n    </tr>\n  </tbody>\n</table>\n<p>535 rows × 14 columns</p>\n</div>"
     },
     "execution_count": 12,
     "metadata": {},
     "output_type": "execute_result"
    }
   ],
   "source": [
    "df[df[\"HP\"].between(50, 100, inclusive=\"both\")]  # Get the rows where the \"HP\" column is between 50 and 100, including 50 and 100."
   ],
   "metadata": {
    "collapsed": false,
    "ExecuteTime": {
     "start_time": "2023-08-04T09:29:08.194989Z",
     "end_time": "2023-08-04T09:29:08.411985Z"
    }
   }
  },
  {
   "cell_type": "code",
   "execution_count": 13,
   "outputs": [
    {
     "data": {
      "text/plain": "       #       Name  Type 1  Type 2  Total  HP  Attack  Defense  Sp. Atk  \\\n110  111    Rhyhorn  Ground    Rock    345  80      85       95       30   \n676  677   Greninja   Water    Dark    530  72      95       67      103   \n15    16     Pidgey  Normal  Flying    251  40      45       40       35   \n518  519  Stoutland  Normal     NaN    500  85     110       90       45   \n463  464  Abomasnow   Grass     Ice    494  90      92       75       92   \n470  471  Magmortar    Fire     NaN    540  75      95       67      125   \n\n     Sp. Def  Speed  Generation  Legendary Attacker  \n110       30     25           1      False     Weak  \n676       71    122           6      False   Strong  \n15        35     56           1      False     Weak  \n518       90     80           5      False     Weak  \n463       85     60           4      False   Strong  \n470       95     83           4      False   Strong  ",
      "text/html": "<div>\n<style scoped>\n    .dataframe tbody tr th:only-of-type {\n        vertical-align: middle;\n    }\n\n    .dataframe tbody tr th {\n        vertical-align: top;\n    }\n\n    .dataframe thead th {\n        text-align: right;\n    }\n</style>\n<table border=\"1\" class=\"dataframe\">\n  <thead>\n    <tr style=\"text-align: right;\">\n      <th></th>\n      <th>#</th>\n      <th>Name</th>\n      <th>Type 1</th>\n      <th>Type 2</th>\n      <th>Total</th>\n      <th>HP</th>\n      <th>Attack</th>\n      <th>Defense</th>\n      <th>Sp. Atk</th>\n      <th>Sp. Def</th>\n      <th>Speed</th>\n      <th>Generation</th>\n      <th>Legendary</th>\n      <th>Attacker</th>\n    </tr>\n  </thead>\n  <tbody>\n    <tr>\n      <th>110</th>\n      <td>111</td>\n      <td>Rhyhorn</td>\n      <td>Ground</td>\n      <td>Rock</td>\n      <td>345</td>\n      <td>80</td>\n      <td>85</td>\n      <td>95</td>\n      <td>30</td>\n      <td>30</td>\n      <td>25</td>\n      <td>1</td>\n      <td>False</td>\n      <td>Weak</td>\n    </tr>\n    <tr>\n      <th>676</th>\n      <td>677</td>\n      <td>Greninja</td>\n      <td>Water</td>\n      <td>Dark</td>\n      <td>530</td>\n      <td>72</td>\n      <td>95</td>\n      <td>67</td>\n      <td>103</td>\n      <td>71</td>\n      <td>122</td>\n      <td>6</td>\n      <td>False</td>\n      <td>Strong</td>\n    </tr>\n    <tr>\n      <th>15</th>\n      <td>16</td>\n      <td>Pidgey</td>\n      <td>Normal</td>\n      <td>Flying</td>\n      <td>251</td>\n      <td>40</td>\n      <td>45</td>\n      <td>40</td>\n      <td>35</td>\n      <td>35</td>\n      <td>56</td>\n      <td>1</td>\n      <td>False</td>\n      <td>Weak</td>\n    </tr>\n    <tr>\n      <th>518</th>\n      <td>519</td>\n      <td>Stoutland</td>\n      <td>Normal</td>\n      <td>NaN</td>\n      <td>500</td>\n      <td>85</td>\n      <td>110</td>\n      <td>90</td>\n      <td>45</td>\n      <td>90</td>\n      <td>80</td>\n      <td>5</td>\n      <td>False</td>\n      <td>Weak</td>\n    </tr>\n    <tr>\n      <th>463</th>\n      <td>464</td>\n      <td>Abomasnow</td>\n      <td>Grass</td>\n      <td>Ice</td>\n      <td>494</td>\n      <td>90</td>\n      <td>92</td>\n      <td>75</td>\n      <td>92</td>\n      <td>85</td>\n      <td>60</td>\n      <td>4</td>\n      <td>False</td>\n      <td>Strong</td>\n    </tr>\n    <tr>\n      <th>470</th>\n      <td>471</td>\n      <td>Magmortar</td>\n      <td>Fire</td>\n      <td>NaN</td>\n      <td>540</td>\n      <td>75</td>\n      <td>95</td>\n      <td>67</td>\n      <td>125</td>\n      <td>95</td>\n      <td>83</td>\n      <td>4</td>\n      <td>False</td>\n      <td>Strong</td>\n    </tr>\n  </tbody>\n</table>\n</div>"
     },
     "execution_count": 13,
     "metadata": {},
     "output_type": "execute_result"
    }
   ],
   "source": [
    "df.sample(6)  # Get a random sample of 6 rows from the dataframe."
   ],
   "metadata": {
    "collapsed": false,
    "ExecuteTime": {
     "start_time": "2023-08-04T09:29:08.224991Z",
     "end_time": "2023-08-04T09:29:08.411985Z"
    }
   }
  },
  {
   "cell_type": "code",
   "execution_count": 14,
   "outputs": [
    {
     "data": {
      "text/plain": "       #                Name  Type 1    Type 2  Total   HP  Attack  Defense  \\\n302  303                Aron   Steel      Rock    330   50      70      100   \n582  583             Zoroark    Dark       NaN    510   60     105       60   \n673  674             Delphox    Fire   Psychic    534   75      69       72   \n232  233            Stantler  Normal       NaN    465   73      95       62   \n320  321               Numel    Fire    Ground    305   60      60       40   \n..   ...                 ...     ...       ...    ...  ...     ...      ...   \n666  667  Meloetta Pirouette  Normal  Fighting    600  100     128       90   \n72    73          Tentacruel   Water    Poison    515   80      70       65   \n290  291            Shedinja     Bug     Ghost    236    1      90       45   \n215  216            Ursaring  Normal       NaN    500   90     130       75   \n223  224            Delibird     Ice    Flying    330   45      55       45   \n\n     Sp. Atk  Sp. Def  Speed  Generation  Legendary Attacker  \n302       40       40     30           3      False     Weak  \n582      120       60    105           5      False   Strong  \n673      114      100    104           6      False   Strong  \n232       85       65     85           2      False     Weak  \n320       65       45     35           3      False     Weak  \n..       ...      ...    ...         ...        ...      ...  \n666       77       77    128           5      False   Strong  \n72        80      120    100           1      False     Weak  \n290       30       30     40           3      False     Weak  \n215       75       75     55           2      False   Strong  \n223       65       45     75           2      False     Weak  \n\n[74 rows x 14 columns]",
      "text/html": "<div>\n<style scoped>\n    .dataframe tbody tr th:only-of-type {\n        vertical-align: middle;\n    }\n\n    .dataframe tbody tr th {\n        vertical-align: top;\n    }\n\n    .dataframe thead th {\n        text-align: right;\n    }\n</style>\n<table border=\"1\" class=\"dataframe\">\n  <thead>\n    <tr style=\"text-align: right;\">\n      <th></th>\n      <th>#</th>\n      <th>Name</th>\n      <th>Type 1</th>\n      <th>Type 2</th>\n      <th>Total</th>\n      <th>HP</th>\n      <th>Attack</th>\n      <th>Defense</th>\n      <th>Sp. Atk</th>\n      <th>Sp. Def</th>\n      <th>Speed</th>\n      <th>Generation</th>\n      <th>Legendary</th>\n      <th>Attacker</th>\n    </tr>\n  </thead>\n  <tbody>\n    <tr>\n      <th>302</th>\n      <td>303</td>\n      <td>Aron</td>\n      <td>Steel</td>\n      <td>Rock</td>\n      <td>330</td>\n      <td>50</td>\n      <td>70</td>\n      <td>100</td>\n      <td>40</td>\n      <td>40</td>\n      <td>30</td>\n      <td>3</td>\n      <td>False</td>\n      <td>Weak</td>\n    </tr>\n    <tr>\n      <th>582</th>\n      <td>583</td>\n      <td>Zoroark</td>\n      <td>Dark</td>\n      <td>NaN</td>\n      <td>510</td>\n      <td>60</td>\n      <td>105</td>\n      <td>60</td>\n      <td>120</td>\n      <td>60</td>\n      <td>105</td>\n      <td>5</td>\n      <td>False</td>\n      <td>Strong</td>\n    </tr>\n    <tr>\n      <th>673</th>\n      <td>674</td>\n      <td>Delphox</td>\n      <td>Fire</td>\n      <td>Psychic</td>\n      <td>534</td>\n      <td>75</td>\n      <td>69</td>\n      <td>72</td>\n      <td>114</td>\n      <td>100</td>\n      <td>104</td>\n      <td>6</td>\n      <td>False</td>\n      <td>Strong</td>\n    </tr>\n    <tr>\n      <th>232</th>\n      <td>233</td>\n      <td>Stantler</td>\n      <td>Normal</td>\n      <td>NaN</td>\n      <td>465</td>\n      <td>73</td>\n      <td>95</td>\n      <td>62</td>\n      <td>85</td>\n      <td>65</td>\n      <td>85</td>\n      <td>2</td>\n      <td>False</td>\n      <td>Weak</td>\n    </tr>\n    <tr>\n      <th>320</th>\n      <td>321</td>\n      <td>Numel</td>\n      <td>Fire</td>\n      <td>Ground</td>\n      <td>305</td>\n      <td>60</td>\n      <td>60</td>\n      <td>40</td>\n      <td>65</td>\n      <td>45</td>\n      <td>35</td>\n      <td>3</td>\n      <td>False</td>\n      <td>Weak</td>\n    </tr>\n    <tr>\n      <th>...</th>\n      <td>...</td>\n      <td>...</td>\n      <td>...</td>\n      <td>...</td>\n      <td>...</td>\n      <td>...</td>\n      <td>...</td>\n      <td>...</td>\n      <td>...</td>\n      <td>...</td>\n      <td>...</td>\n      <td>...</td>\n      <td>...</td>\n      <td>...</td>\n    </tr>\n    <tr>\n      <th>666</th>\n      <td>667</td>\n      <td>Meloetta Pirouette</td>\n      <td>Normal</td>\n      <td>Fighting</td>\n      <td>600</td>\n      <td>100</td>\n      <td>128</td>\n      <td>90</td>\n      <td>77</td>\n      <td>77</td>\n      <td>128</td>\n      <td>5</td>\n      <td>False</td>\n      <td>Strong</td>\n    </tr>\n    <tr>\n      <th>72</th>\n      <td>73</td>\n      <td>Tentacruel</td>\n      <td>Water</td>\n      <td>Poison</td>\n      <td>515</td>\n      <td>80</td>\n      <td>70</td>\n      <td>65</td>\n      <td>80</td>\n      <td>120</td>\n      <td>100</td>\n      <td>1</td>\n      <td>False</td>\n      <td>Weak</td>\n    </tr>\n    <tr>\n      <th>290</th>\n      <td>291</td>\n      <td>Shedinja</td>\n      <td>Bug</td>\n      <td>Ghost</td>\n      <td>236</td>\n      <td>1</td>\n      <td>90</td>\n      <td>45</td>\n      <td>30</td>\n      <td>30</td>\n      <td>40</td>\n      <td>3</td>\n      <td>False</td>\n      <td>Weak</td>\n    </tr>\n    <tr>\n      <th>215</th>\n      <td>216</td>\n      <td>Ursaring</td>\n      <td>Normal</td>\n      <td>NaN</td>\n      <td>500</td>\n      <td>90</td>\n      <td>130</td>\n      <td>75</td>\n      <td>75</td>\n      <td>75</td>\n      <td>55</td>\n      <td>2</td>\n      <td>False</td>\n      <td>Strong</td>\n    </tr>\n    <tr>\n      <th>223</th>\n      <td>224</td>\n      <td>Delibird</td>\n      <td>Ice</td>\n      <td>Flying</td>\n      <td>330</td>\n      <td>45</td>\n      <td>55</td>\n      <td>45</td>\n      <td>65</td>\n      <td>45</td>\n      <td>75</td>\n      <td>2</td>\n      <td>False</td>\n      <td>Weak</td>\n    </tr>\n  </tbody>\n</table>\n<p>74 rows × 14 columns</p>\n</div>"
     },
     "execution_count": 14,
     "metadata": {},
     "output_type": "execute_result"
    }
   ],
   "source": [
    "df.sample(frac=0.1)  # Get a random sample of 10% of the rows from the dataframe."
   ],
   "metadata": {
    "collapsed": false,
    "ExecuteTime": {
     "start_time": "2023-08-04T09:29:08.245991Z",
     "end_time": "2023-08-04T09:29:08.412984Z"
    }
   }
  },
  {
   "cell_type": "code",
   "execution_count": 15,
   "outputs": [
    {
     "data": {
      "text/plain": "       #       Name    Type 1   Type 2  Total   HP  Attack  Defense  Sp. Atk  \\\n133  134    Jolteon  Electric      NaN    525   65      65       60      110   \n184  185   Politoed     Water      NaN    500   90      75       75       90   \n201  202  Girafarig    Normal  Psychic    455   70      80       65       90   \n537  538     Woobat   Psychic   Flying    313   55      45       43       55   \n160  161     Furret    Normal      NaN    415   85      76       64       45   \n..   ...        ...       ...      ...    ...  ...     ...      ...      ...   \n344  345    Cradily      Rock    Grass    495   86      81       97       81   \n472  473    Yanmega       Bug   Flying    515   86      76       86      116   \n162  163    Noctowl    Normal   Flying    442  100      50       50       76   \n241  242     Raikou  Electric      NaN    580   90      85       75      115   \n124  125     Magmar      Fire      NaN    495   65      95       57      100   \n\n     Sp. Def  Speed  Generation  Legendary Attacker  \n133       95    130           1      False     Weak  \n184      100     70           2      False     Weak  \n201       65     85           2      False     Weak  \n537       43     72           5      False     Weak  \n160       55     90           2      False     Weak  \n..       ...    ...         ...        ...      ...  \n344      107     43           3      False     Weak  \n472       56     95           4      False   Strong  \n162       96     70           2      False     Weak  \n241      100    115           2       True   Strong  \n124       85     93           1      False   Strong  \n\n[74 rows x 14 columns]",
      "text/html": "<div>\n<style scoped>\n    .dataframe tbody tr th:only-of-type {\n        vertical-align: middle;\n    }\n\n    .dataframe tbody tr th {\n        vertical-align: top;\n    }\n\n    .dataframe thead th {\n        text-align: right;\n    }\n</style>\n<table border=\"1\" class=\"dataframe\">\n  <thead>\n    <tr style=\"text-align: right;\">\n      <th></th>\n      <th>#</th>\n      <th>Name</th>\n      <th>Type 1</th>\n      <th>Type 2</th>\n      <th>Total</th>\n      <th>HP</th>\n      <th>Attack</th>\n      <th>Defense</th>\n      <th>Sp. Atk</th>\n      <th>Sp. Def</th>\n      <th>Speed</th>\n      <th>Generation</th>\n      <th>Legendary</th>\n      <th>Attacker</th>\n    </tr>\n  </thead>\n  <tbody>\n    <tr>\n      <th>133</th>\n      <td>134</td>\n      <td>Jolteon</td>\n      <td>Electric</td>\n      <td>NaN</td>\n      <td>525</td>\n      <td>65</td>\n      <td>65</td>\n      <td>60</td>\n      <td>110</td>\n      <td>95</td>\n      <td>130</td>\n      <td>1</td>\n      <td>False</td>\n      <td>Weak</td>\n    </tr>\n    <tr>\n      <th>184</th>\n      <td>185</td>\n      <td>Politoed</td>\n      <td>Water</td>\n      <td>NaN</td>\n      <td>500</td>\n      <td>90</td>\n      <td>75</td>\n      <td>75</td>\n      <td>90</td>\n      <td>100</td>\n      <td>70</td>\n      <td>2</td>\n      <td>False</td>\n      <td>Weak</td>\n    </tr>\n    <tr>\n      <th>201</th>\n      <td>202</td>\n      <td>Girafarig</td>\n      <td>Normal</td>\n      <td>Psychic</td>\n      <td>455</td>\n      <td>70</td>\n      <td>80</td>\n      <td>65</td>\n      <td>90</td>\n      <td>65</td>\n      <td>85</td>\n      <td>2</td>\n      <td>False</td>\n      <td>Weak</td>\n    </tr>\n    <tr>\n      <th>537</th>\n      <td>538</td>\n      <td>Woobat</td>\n      <td>Psychic</td>\n      <td>Flying</td>\n      <td>313</td>\n      <td>55</td>\n      <td>45</td>\n      <td>43</td>\n      <td>55</td>\n      <td>43</td>\n      <td>72</td>\n      <td>5</td>\n      <td>False</td>\n      <td>Weak</td>\n    </tr>\n    <tr>\n      <th>160</th>\n      <td>161</td>\n      <td>Furret</td>\n      <td>Normal</td>\n      <td>NaN</td>\n      <td>415</td>\n      <td>85</td>\n      <td>76</td>\n      <td>64</td>\n      <td>45</td>\n      <td>55</td>\n      <td>90</td>\n      <td>2</td>\n      <td>False</td>\n      <td>Weak</td>\n    </tr>\n    <tr>\n      <th>...</th>\n      <td>...</td>\n      <td>...</td>\n      <td>...</td>\n      <td>...</td>\n      <td>...</td>\n      <td>...</td>\n      <td>...</td>\n      <td>...</td>\n      <td>...</td>\n      <td>...</td>\n      <td>...</td>\n      <td>...</td>\n      <td>...</td>\n      <td>...</td>\n    </tr>\n    <tr>\n      <th>344</th>\n      <td>345</td>\n      <td>Cradily</td>\n      <td>Rock</td>\n      <td>Grass</td>\n      <td>495</td>\n      <td>86</td>\n      <td>81</td>\n      <td>97</td>\n      <td>81</td>\n      <td>107</td>\n      <td>43</td>\n      <td>3</td>\n      <td>False</td>\n      <td>Weak</td>\n    </tr>\n    <tr>\n      <th>472</th>\n      <td>473</td>\n      <td>Yanmega</td>\n      <td>Bug</td>\n      <td>Flying</td>\n      <td>515</td>\n      <td>86</td>\n      <td>76</td>\n      <td>86</td>\n      <td>116</td>\n      <td>56</td>\n      <td>95</td>\n      <td>4</td>\n      <td>False</td>\n      <td>Strong</td>\n    </tr>\n    <tr>\n      <th>162</th>\n      <td>163</td>\n      <td>Noctowl</td>\n      <td>Normal</td>\n      <td>Flying</td>\n      <td>442</td>\n      <td>100</td>\n      <td>50</td>\n      <td>50</td>\n      <td>76</td>\n      <td>96</td>\n      <td>70</td>\n      <td>2</td>\n      <td>False</td>\n      <td>Weak</td>\n    </tr>\n    <tr>\n      <th>241</th>\n      <td>242</td>\n      <td>Raikou</td>\n      <td>Electric</td>\n      <td>NaN</td>\n      <td>580</td>\n      <td>90</td>\n      <td>85</td>\n      <td>75</td>\n      <td>115</td>\n      <td>100</td>\n      <td>115</td>\n      <td>2</td>\n      <td>True</td>\n      <td>Strong</td>\n    </tr>\n    <tr>\n      <th>124</th>\n      <td>125</td>\n      <td>Magmar</td>\n      <td>Fire</td>\n      <td>NaN</td>\n      <td>495</td>\n      <td>65</td>\n      <td>95</td>\n      <td>57</td>\n      <td>100</td>\n      <td>85</td>\n      <td>93</td>\n      <td>1</td>\n      <td>False</td>\n      <td>Strong</td>\n    </tr>\n  </tbody>\n</table>\n<p>74 rows × 14 columns</p>\n</div>"
     },
     "execution_count": 15,
     "metadata": {},
     "output_type": "execute_result"
    }
   ],
   "source": [
    "df.sample(frac=0.1, random_state=42)  # Get a random sample of 10% of the rows from the dataframe, using a seed of 42. Random state is used to ensure that the same random sample is returned each time."
   ],
   "metadata": {
    "collapsed": false,
    "ExecuteTime": {
     "start_time": "2023-08-04T09:29:08.288989Z",
     "end_time": "2023-08-04T09:29:08.500988Z"
    }
   }
  },
  {
   "cell_type": "code",
   "execution_count": 15,
   "outputs": [],
   "source": [],
   "metadata": {
    "collapsed": false,
    "ExecuteTime": {
     "start_time": "2023-08-04T09:29:08.301990Z",
     "end_time": "2023-08-04T09:29:08.578988Z"
    }
   }
  }
 ],
 "metadata": {
  "kernelspec": {
   "display_name": "Python 3",
   "language": "python",
   "name": "python3"
  },
  "language_info": {
   "codemirror_mode": {
    "name": "ipython",
    "version": 2
   },
   "file_extension": ".py",
   "mimetype": "text/x-python",
   "name": "python",
   "nbconvert_exporter": "python",
   "pygments_lexer": "ipython2",
   "version": "2.7.6"
  }
 },
 "nbformat": 4,
 "nbformat_minor": 0
}

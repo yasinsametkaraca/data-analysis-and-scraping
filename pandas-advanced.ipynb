{
 "cells": [
  {
   "cell_type": "code",
   "execution_count": 2,
   "metadata": {
    "collapsed": true,
    "ExecuteTime": {
     "start_time": "2023-08-02T23:42:54.406889Z",
     "end_time": "2023-08-02T23:42:54.419889Z"
    }
   },
   "outputs": [],
   "source": [
    "import pandas as pd\n",
    "import numpy as np"
   ]
  },
  {
   "cell_type": "code",
   "execution_count": 3,
   "outputs": [],
   "source": [
    "df = pd.read_csv(\"pokemon.csv\")"
   ],
   "metadata": {
    "collapsed": false,
    "ExecuteTime": {
     "start_time": "2023-08-02T23:43:05.140815Z",
     "end_time": "2023-08-02T23:43:05.156812Z"
    }
   }
  },
  {
   "cell_type": "code",
   "execution_count": 5,
   "outputs": [
    {
     "data": {
      "text/plain": "   #        Name Type 1  Type 2  Total  HP  Attack  Defense  Sp. Atk  Sp. Def  \\\n0  1   Bulbasaur  Grass  Poison    318  45      49       49       65       65   \n1  2     Ivysaur  Grass  Poison    405  60      62       63       80       80   \n2  3    Venusaur  Grass  Poison    525  80      82       83      100      100   \n3  4  Charmander   Fire     NaN    309  39      52       43       60       50   \n4  5  Charmeleon   Fire     NaN    405  58      64       58       80       65   \n\n   Speed  Generation  Legendary Attacker  \n0     45           1      False     Weak  \n1     60           1      False     Weak  \n2     80           1      False   Strong  \n3     65           1      False     Weak  \n4     80           1      False     Weak  ",
      "text/html": "<div>\n<style scoped>\n    .dataframe tbody tr th:only-of-type {\n        vertical-align: middle;\n    }\n\n    .dataframe tbody tr th {\n        vertical-align: top;\n    }\n\n    .dataframe thead th {\n        text-align: right;\n    }\n</style>\n<table border=\"1\" class=\"dataframe\">\n  <thead>\n    <tr style=\"text-align: right;\">\n      <th></th>\n      <th>#</th>\n      <th>Name</th>\n      <th>Type 1</th>\n      <th>Type 2</th>\n      <th>Total</th>\n      <th>HP</th>\n      <th>Attack</th>\n      <th>Defense</th>\n      <th>Sp. Atk</th>\n      <th>Sp. Def</th>\n      <th>Speed</th>\n      <th>Generation</th>\n      <th>Legendary</th>\n      <th>Attacker</th>\n    </tr>\n  </thead>\n  <tbody>\n    <tr>\n      <th>0</th>\n      <td>1</td>\n      <td>Bulbasaur</td>\n      <td>Grass</td>\n      <td>Poison</td>\n      <td>318</td>\n      <td>45</td>\n      <td>49</td>\n      <td>49</td>\n      <td>65</td>\n      <td>65</td>\n      <td>45</td>\n      <td>1</td>\n      <td>False</td>\n      <td>Weak</td>\n    </tr>\n    <tr>\n      <th>1</th>\n      <td>2</td>\n      <td>Ivysaur</td>\n      <td>Grass</td>\n      <td>Poison</td>\n      <td>405</td>\n      <td>60</td>\n      <td>62</td>\n      <td>63</td>\n      <td>80</td>\n      <td>80</td>\n      <td>60</td>\n      <td>1</td>\n      <td>False</td>\n      <td>Weak</td>\n    </tr>\n    <tr>\n      <th>2</th>\n      <td>3</td>\n      <td>Venusaur</td>\n      <td>Grass</td>\n      <td>Poison</td>\n      <td>525</td>\n      <td>80</td>\n      <td>82</td>\n      <td>83</td>\n      <td>100</td>\n      <td>100</td>\n      <td>80</td>\n      <td>1</td>\n      <td>False</td>\n      <td>Strong</td>\n    </tr>\n    <tr>\n      <th>3</th>\n      <td>4</td>\n      <td>Charmander</td>\n      <td>Fire</td>\n      <td>NaN</td>\n      <td>309</td>\n      <td>39</td>\n      <td>52</td>\n      <td>43</td>\n      <td>60</td>\n      <td>50</td>\n      <td>65</td>\n      <td>1</td>\n      <td>False</td>\n      <td>Weak</td>\n    </tr>\n    <tr>\n      <th>4</th>\n      <td>5</td>\n      <td>Charmeleon</td>\n      <td>Fire</td>\n      <td>NaN</td>\n      <td>405</td>\n      <td>58</td>\n      <td>64</td>\n      <td>58</td>\n      <td>80</td>\n      <td>65</td>\n      <td>80</td>\n      <td>1</td>\n      <td>False</td>\n      <td>Weak</td>\n    </tr>\n  </tbody>\n</table>\n</div>"
     },
     "execution_count": 5,
     "metadata": {},
     "output_type": "execute_result"
    }
   ],
   "source": [
    "def attack_power(attack, Sp_atk):\n",
    "    if attack + Sp_atk > 180:\n",
    "        return \"Strong\"\n",
    "    else:\n",
    "        return \"Weak\"\n",
    "\n",
    "df[\"Attacker\"] = np.vectorize(attack_power)(df[\"Attack\"], df[\"Sp. Atk\"])  # Create a new column named \"Attacker\" and apply the attack_power function to each row of the dataframe.\n",
    "\n",
    "df.head()"
   ],
   "metadata": {
    "collapsed": false,
    "ExecuteTime": {
     "start_time": "2023-08-02T23:43:30.750185Z",
     "end_time": "2023-08-02T23:43:30.771184Z"
    }
   }
  },
  {
   "cell_type": "code",
   "execution_count": 6,
   "outputs": [
    {
     "data": {
      "text/plain": "   #        Name Type 1  Type 2  Total  HP  Attack  Defense  Sp. Atk  Sp. Def  \\\n0  1   Bulbasaur  Grass  Poison    318  45      49       49       65       65   \n1  2     Ivysaur  Grass  Poison    405  60      62       63       80       80   \n2  3    Venusaur  Grass  Poison    525  80      82       83      100      100   \n3  4  Charmander   Fire     NaN    309  39      52       43       60       50   \n4  5  Charmeleon   Fire     NaN    405  58      64       58       80       65   \n\n   Speed  Generation  Legendary Attacker  \n0     45           1      False     Weak  \n1     60           1      False     Weak  \n2     80           1      False   Strong  \n3     65           1      False     Weak  \n4     80           1      False     Weak  ",
      "text/html": "<div>\n<style scoped>\n    .dataframe tbody tr th:only-of-type {\n        vertical-align: middle;\n    }\n\n    .dataframe tbody tr th {\n        vertical-align: top;\n    }\n\n    .dataframe thead th {\n        text-align: right;\n    }\n</style>\n<table border=\"1\" class=\"dataframe\">\n  <thead>\n    <tr style=\"text-align: right;\">\n      <th></th>\n      <th>#</th>\n      <th>Name</th>\n      <th>Type 1</th>\n      <th>Type 2</th>\n      <th>Total</th>\n      <th>HP</th>\n      <th>Attack</th>\n      <th>Defense</th>\n      <th>Sp. Atk</th>\n      <th>Sp. Def</th>\n      <th>Speed</th>\n      <th>Generation</th>\n      <th>Legendary</th>\n      <th>Attacker</th>\n    </tr>\n  </thead>\n  <tbody>\n    <tr>\n      <th>0</th>\n      <td>1</td>\n      <td>Bulbasaur</td>\n      <td>Grass</td>\n      <td>Poison</td>\n      <td>318</td>\n      <td>45</td>\n      <td>49</td>\n      <td>49</td>\n      <td>65</td>\n      <td>65</td>\n      <td>45</td>\n      <td>1</td>\n      <td>False</td>\n      <td>Weak</td>\n    </tr>\n    <tr>\n      <th>1</th>\n      <td>2</td>\n      <td>Ivysaur</td>\n      <td>Grass</td>\n      <td>Poison</td>\n      <td>405</td>\n      <td>60</td>\n      <td>62</td>\n      <td>63</td>\n      <td>80</td>\n      <td>80</td>\n      <td>60</td>\n      <td>1</td>\n      <td>False</td>\n      <td>Weak</td>\n    </tr>\n    <tr>\n      <th>2</th>\n      <td>3</td>\n      <td>Venusaur</td>\n      <td>Grass</td>\n      <td>Poison</td>\n      <td>525</td>\n      <td>80</td>\n      <td>82</td>\n      <td>83</td>\n      <td>100</td>\n      <td>100</td>\n      <td>80</td>\n      <td>1</td>\n      <td>False</td>\n      <td>Strong</td>\n    </tr>\n    <tr>\n      <th>3</th>\n      <td>4</td>\n      <td>Charmander</td>\n      <td>Fire</td>\n      <td>NaN</td>\n      <td>309</td>\n      <td>39</td>\n      <td>52</td>\n      <td>43</td>\n      <td>60</td>\n      <td>50</td>\n      <td>65</td>\n      <td>1</td>\n      <td>False</td>\n      <td>Weak</td>\n    </tr>\n    <tr>\n      <th>4</th>\n      <td>5</td>\n      <td>Charmeleon</td>\n      <td>Fire</td>\n      <td>NaN</td>\n      <td>405</td>\n      <td>58</td>\n      <td>64</td>\n      <td>58</td>\n      <td>80</td>\n      <td>65</td>\n      <td>80</td>\n      <td>1</td>\n      <td>False</td>\n      <td>Weak</td>\n    </tr>\n  </tbody>\n</table>\n</div>"
     },
     "execution_count": 6,
     "metadata": {},
     "output_type": "execute_result"
    }
   ],
   "source": [
    "df[\"Attacker\"] = df.apply(lambda row: attack_power(row[\"Attack\"], row[\"Sp. Atk\"]), axis=1)  # Create a new column named \"Attacker\" and apply the attack_power function to each row of the dataframe.\n",
    "df.head()"
   ],
   "metadata": {
    "collapsed": false,
    "ExecuteTime": {
     "start_time": "2023-08-02T23:43:50.565170Z",
     "end_time": "2023-08-02T23:43:50.598164Z"
    }
   }
  },
  {
   "cell_type": "code",
   "execution_count": 10,
   "outputs": [
    {
     "data": {
      "text/plain": "       #             Name   Type 1  Type 2  Total   HP  Attack  Defense  \\\n503  504           Arceus   Normal     NaN    720  120     120      120   \n662  663     Kyurem White   Dragon     Ice    700  125     120       90   \n661  662     Kyurem Black   Dragon     Ice    700  125     170      100   \n148  149           Mewtwo  Psychic     NaN    680  106     110       90   \n496  497  Giratina Origin    Ghost  Dragon    680  150     120      100   \n\n     Sp. Atk  Sp. Def  Speed  Generation  Legendary Attacker  \n503      120      120    120           4       True   Strong  \n662      170      100     95           5       True   Strong  \n661      120       90     95           5       True   Strong  \n148      154       90    130           1       True   Strong  \n496      120      100     90           4       True   Strong  ",
      "text/html": "<div>\n<style scoped>\n    .dataframe tbody tr th:only-of-type {\n        vertical-align: middle;\n    }\n\n    .dataframe tbody tr th {\n        vertical-align: top;\n    }\n\n    .dataframe thead th {\n        text-align: right;\n    }\n</style>\n<table border=\"1\" class=\"dataframe\">\n  <thead>\n    <tr style=\"text-align: right;\">\n      <th></th>\n      <th>#</th>\n      <th>Name</th>\n      <th>Type 1</th>\n      <th>Type 2</th>\n      <th>Total</th>\n      <th>HP</th>\n      <th>Attack</th>\n      <th>Defense</th>\n      <th>Sp. Atk</th>\n      <th>Sp. Def</th>\n      <th>Speed</th>\n      <th>Generation</th>\n      <th>Legendary</th>\n      <th>Attacker</th>\n    </tr>\n  </thead>\n  <tbody>\n    <tr>\n      <th>503</th>\n      <td>504</td>\n      <td>Arceus</td>\n      <td>Normal</td>\n      <td>NaN</td>\n      <td>720</td>\n      <td>120</td>\n      <td>120</td>\n      <td>120</td>\n      <td>120</td>\n      <td>120</td>\n      <td>120</td>\n      <td>4</td>\n      <td>True</td>\n      <td>Strong</td>\n    </tr>\n    <tr>\n      <th>662</th>\n      <td>663</td>\n      <td>Kyurem White</td>\n      <td>Dragon</td>\n      <td>Ice</td>\n      <td>700</td>\n      <td>125</td>\n      <td>120</td>\n      <td>90</td>\n      <td>170</td>\n      <td>100</td>\n      <td>95</td>\n      <td>5</td>\n      <td>True</td>\n      <td>Strong</td>\n    </tr>\n    <tr>\n      <th>661</th>\n      <td>662</td>\n      <td>Kyurem Black</td>\n      <td>Dragon</td>\n      <td>Ice</td>\n      <td>700</td>\n      <td>125</td>\n      <td>170</td>\n      <td>100</td>\n      <td>120</td>\n      <td>90</td>\n      <td>95</td>\n      <td>5</td>\n      <td>True</td>\n      <td>Strong</td>\n    </tr>\n    <tr>\n      <th>148</th>\n      <td>149</td>\n      <td>Mewtwo</td>\n      <td>Psychic</td>\n      <td>NaN</td>\n      <td>680</td>\n      <td>106</td>\n      <td>110</td>\n      <td>90</td>\n      <td>154</td>\n      <td>90</td>\n      <td>130</td>\n      <td>1</td>\n      <td>True</td>\n      <td>Strong</td>\n    </tr>\n    <tr>\n      <th>496</th>\n      <td>497</td>\n      <td>Giratina Origin</td>\n      <td>Ghost</td>\n      <td>Dragon</td>\n      <td>680</td>\n      <td>150</td>\n      <td>120</td>\n      <td>100</td>\n      <td>120</td>\n      <td>100</td>\n      <td>90</td>\n      <td>4</td>\n      <td>True</td>\n      <td>Strong</td>\n    </tr>\n  </tbody>\n</table>\n</div>"
     },
     "execution_count": 10,
     "metadata": {},
     "output_type": "execute_result"
    }
   ],
   "source": [
    "df.sort_values(\"Total\", ascending=False, inplace=True)  # Sort the dataframe by the \"Total\" column in descending order.\n",
    "df.head()"
   ],
   "metadata": {
    "collapsed": false,
    "ExecuteTime": {
     "start_time": "2023-08-02T23:44:23.062584Z",
     "end_time": "2023-08-02T23:44:23.107456Z"
    }
   }
  },
  {
   "cell_type": "code",
   "execution_count": 11,
   "outputs": [
    {
     "data": {
      "text/plain": "       #             Name   Type 1  Type 2  Total   HP  Attack  Defense  \\\n503  504           Arceus   Normal     NaN    720  120     120      120   \n662  663     Kyurem White   Dragon     Ice    700  125     120       90   \n661  662     Kyurem Black   Dragon     Ice    700  125     170      100   \n148  149           Mewtwo  Psychic     NaN    680  106     110       90   \n496  497  Giratina Origin    Ghost  Dragon    680  150     120      100   \n\n     Sp. Atk  Sp. Def  Speed  Generation  Legendary Attacker  \n503      120      120    120           4       True   Strong  \n662      170      100     95           5       True   Strong  \n661      120       90     95           5       True   Strong  \n148      154       90    130           1       True   Strong  \n496      120      100     90           4       True   Strong  ",
      "text/html": "<div>\n<style scoped>\n    .dataframe tbody tr th:only-of-type {\n        vertical-align: middle;\n    }\n\n    .dataframe tbody tr th {\n        vertical-align: top;\n    }\n\n    .dataframe thead th {\n        text-align: right;\n    }\n</style>\n<table border=\"1\" class=\"dataframe\">\n  <thead>\n    <tr style=\"text-align: right;\">\n      <th></th>\n      <th>#</th>\n      <th>Name</th>\n      <th>Type 1</th>\n      <th>Type 2</th>\n      <th>Total</th>\n      <th>HP</th>\n      <th>Attack</th>\n      <th>Defense</th>\n      <th>Sp. Atk</th>\n      <th>Sp. Def</th>\n      <th>Speed</th>\n      <th>Generation</th>\n      <th>Legendary</th>\n      <th>Attacker</th>\n    </tr>\n  </thead>\n  <tbody>\n    <tr>\n      <th>503</th>\n      <td>504</td>\n      <td>Arceus</td>\n      <td>Normal</td>\n      <td>NaN</td>\n      <td>720</td>\n      <td>120</td>\n      <td>120</td>\n      <td>120</td>\n      <td>120</td>\n      <td>120</td>\n      <td>120</td>\n      <td>4</td>\n      <td>True</td>\n      <td>Strong</td>\n    </tr>\n    <tr>\n      <th>662</th>\n      <td>663</td>\n      <td>Kyurem White</td>\n      <td>Dragon</td>\n      <td>Ice</td>\n      <td>700</td>\n      <td>125</td>\n      <td>120</td>\n      <td>90</td>\n      <td>170</td>\n      <td>100</td>\n      <td>95</td>\n      <td>5</td>\n      <td>True</td>\n      <td>Strong</td>\n    </tr>\n    <tr>\n      <th>661</th>\n      <td>662</td>\n      <td>Kyurem Black</td>\n      <td>Dragon</td>\n      <td>Ice</td>\n      <td>700</td>\n      <td>125</td>\n      <td>170</td>\n      <td>100</td>\n      <td>120</td>\n      <td>90</td>\n      <td>95</td>\n      <td>5</td>\n      <td>True</td>\n      <td>Strong</td>\n    </tr>\n    <tr>\n      <th>148</th>\n      <td>149</td>\n      <td>Mewtwo</td>\n      <td>Psychic</td>\n      <td>NaN</td>\n      <td>680</td>\n      <td>106</td>\n      <td>110</td>\n      <td>90</td>\n      <td>154</td>\n      <td>90</td>\n      <td>130</td>\n      <td>1</td>\n      <td>True</td>\n      <td>Strong</td>\n    </tr>\n    <tr>\n      <th>496</th>\n      <td>497</td>\n      <td>Giratina Origin</td>\n      <td>Ghost</td>\n      <td>Dragon</td>\n      <td>680</td>\n      <td>150</td>\n      <td>120</td>\n      <td>100</td>\n      <td>120</td>\n      <td>100</td>\n      <td>90</td>\n      <td>4</td>\n      <td>True</td>\n      <td>Strong</td>\n    </tr>\n  </tbody>\n</table>\n</div>"
     },
     "execution_count": 11,
     "metadata": {},
     "output_type": "execute_result"
    }
   ],
   "source": [
    "df.nlargest(5, \"Total\")  # Get the 5 largest values in the \"Total\" column."
   ],
   "metadata": {
    "collapsed": false,
    "ExecuteTime": {
     "start_time": "2023-08-02T23:45:40.814571Z",
     "end_time": "2023-08-02T23:45:40.856923Z"
    }
   }
  },
  {
   "cell_type": "code",
   "execution_count": 12,
   "outputs": [
    {
     "data": {
      "text/plain": "       #       Name  Type 1 Type 2  Total  HP  Attack  Defense  Sp. Atk  \\\n189  190    Sunkern   Grass    NaN    180  30      30       30       30   \n296  297    Azurill  Normal  Fairy    190  50      20       40       20   \n402  403  Kricketot     Bug    NaN    194  37      25       41       25   \n9     10   Caterpie     Bug    NaN    195  45      30       35       20   \n263  264    Wurmple     Bug    NaN    195  45      45       35       20   \n\n     Sp. Def  Speed  Generation  Legendary Attacker  \n189       30     30           2      False     Weak  \n296       40     20           3      False     Weak  \n402       41     25           4      False     Weak  \n9         20     45           1      False     Weak  \n263       30     20           3      False     Weak  ",
      "text/html": "<div>\n<style scoped>\n    .dataframe tbody tr th:only-of-type {\n        vertical-align: middle;\n    }\n\n    .dataframe tbody tr th {\n        vertical-align: top;\n    }\n\n    .dataframe thead th {\n        text-align: right;\n    }\n</style>\n<table border=\"1\" class=\"dataframe\">\n  <thead>\n    <tr style=\"text-align: right;\">\n      <th></th>\n      <th>#</th>\n      <th>Name</th>\n      <th>Type 1</th>\n      <th>Type 2</th>\n      <th>Total</th>\n      <th>HP</th>\n      <th>Attack</th>\n      <th>Defense</th>\n      <th>Sp. Atk</th>\n      <th>Sp. Def</th>\n      <th>Speed</th>\n      <th>Generation</th>\n      <th>Legendary</th>\n      <th>Attacker</th>\n    </tr>\n  </thead>\n  <tbody>\n    <tr>\n      <th>189</th>\n      <td>190</td>\n      <td>Sunkern</td>\n      <td>Grass</td>\n      <td>NaN</td>\n      <td>180</td>\n      <td>30</td>\n      <td>30</td>\n      <td>30</td>\n      <td>30</td>\n      <td>30</td>\n      <td>30</td>\n      <td>2</td>\n      <td>False</td>\n      <td>Weak</td>\n    </tr>\n    <tr>\n      <th>296</th>\n      <td>297</td>\n      <td>Azurill</td>\n      <td>Normal</td>\n      <td>Fairy</td>\n      <td>190</td>\n      <td>50</td>\n      <td>20</td>\n      <td>40</td>\n      <td>20</td>\n      <td>40</td>\n      <td>20</td>\n      <td>3</td>\n      <td>False</td>\n      <td>Weak</td>\n    </tr>\n    <tr>\n      <th>402</th>\n      <td>403</td>\n      <td>Kricketot</td>\n      <td>Bug</td>\n      <td>NaN</td>\n      <td>194</td>\n      <td>37</td>\n      <td>25</td>\n      <td>41</td>\n      <td>25</td>\n      <td>41</td>\n      <td>25</td>\n      <td>4</td>\n      <td>False</td>\n      <td>Weak</td>\n    </tr>\n    <tr>\n      <th>9</th>\n      <td>10</td>\n      <td>Caterpie</td>\n      <td>Bug</td>\n      <td>NaN</td>\n      <td>195</td>\n      <td>45</td>\n      <td>30</td>\n      <td>35</td>\n      <td>20</td>\n      <td>20</td>\n      <td>45</td>\n      <td>1</td>\n      <td>False</td>\n      <td>Weak</td>\n    </tr>\n    <tr>\n      <th>263</th>\n      <td>264</td>\n      <td>Wurmple</td>\n      <td>Bug</td>\n      <td>NaN</td>\n      <td>195</td>\n      <td>45</td>\n      <td>45</td>\n      <td>35</td>\n      <td>20</td>\n      <td>30</td>\n      <td>20</td>\n      <td>3</td>\n      <td>False</td>\n      <td>Weak</td>\n    </tr>\n  </tbody>\n</table>\n</div>"
     },
     "execution_count": 12,
     "metadata": {},
     "output_type": "execute_result"
    }
   ],
   "source": [
    "df.nsmallest(5, \"Total\")  # Get the 5 smallest values in the \"Total\" column."
   ],
   "metadata": {
    "collapsed": false,
    "ExecuteTime": {
     "start_time": "2023-08-02T23:45:48.418447Z",
     "end_time": "2023-08-02T23:45:48.473445Z"
    }
   }
  },
  {
   "cell_type": "code",
   "execution_count": 13,
   "outputs": [
    {
     "data": {
      "text/plain": "Water       105\nNormal       94\nGrass        67\nBug          65\nPsychic      51\nFire         48\nElectric     42\nRock         41\nGround       31\nDark         28\nPoison       28\nDragon       26\nFighting     25\nGhost        24\nSteel        23\nIce          23\nFairy        17\nFlying        4\nName: Type 1, dtype: int64"
     },
     "execution_count": 13,
     "metadata": {},
     "output_type": "execute_result"
    }
   ],
   "source": [
    "df[\"Type 1\"].value_counts()  # Get the count of each unique value in the \"Type 1\" column."
   ],
   "metadata": {
    "collapsed": false,
    "ExecuteTime": {
     "start_time": "2023-08-02T23:46:00.012536Z",
     "end_time": "2023-08-02T23:46:00.048652Z"
    }
   }
  },
  {
   "cell_type": "code",
   "execution_count": 15,
   "outputs": [
    {
     "data": {
      "text/plain": "503    False\n662    False\n661    False\n148    False\n496    False\n       ...  \n263    False\n12     False\n402    False\n296     True\n189    False\nName: HP, Length: 742, dtype: bool"
     },
     "execution_count": 15,
     "metadata": {},
     "output_type": "execute_result"
    }
   ],
   "source": [
    "df[\"HP\"].between(50, 100)  # Get a boolean series indicating whether each value in the \"HP\" column is between 50 and 100."
   ],
   "metadata": {
    "collapsed": false,
    "ExecuteTime": {
     "start_time": "2023-08-02T23:46:48.617762Z",
     "end_time": "2023-08-02T23:46:48.642760Z"
    }
   }
  },
  {
   "cell_type": "code",
   "execution_count": 16,
   "outputs": [
    {
     "data": {
      "text/plain": "       #                Name   Type 1    Type 2  Total   HP  Attack  Defense  \\\n656  657            Reshiram   Dragon      Fire    680  100     120      100   \n657  658              Zekrom   Dragon  Electric    680  100     150      120   \n491  492              Dialga    Steel    Dragon    680  100     120      120   \n740  741  HoopaHoopa Unbound  Psychic      Dark    680   80     160       60   \n492  493              Palkia    Water    Dragon    680   90     120      100   \n..   ...                 ...      ...       ...    ...  ...     ...      ...   \n172  173           Igglybuff   Normal     Fairy    210   90      30       15   \n10    11             Metapod      Bug       NaN    205   50      20       55   \n264  265             Silcoon      Bug       NaN    205   50      35       55   \n266  267             Cascoon      Bug       NaN    205   50      35       55   \n296  297             Azurill   Normal     Fairy    190   50      20       40   \n\n     Sp. Atk  Sp. Def  Speed  Generation  Legendary Attacker  \n656      150      120     90           5       True   Strong  \n657      120      100     90           5       True   Strong  \n491      150      100     90           4       True   Strong  \n740      170      130     80           6       True   Strong  \n492      150      120    100           4       True   Strong  \n..       ...      ...    ...         ...        ...      ...  \n172       40       20     15           2      False     Weak  \n10        25       25     30           1      False     Weak  \n264       25       25     15           3      False     Weak  \n266       25       25     15           3      False     Weak  \n296       20       40     20           3      False     Weak  \n\n[535 rows x 14 columns]",
      "text/html": "<div>\n<style scoped>\n    .dataframe tbody tr th:only-of-type {\n        vertical-align: middle;\n    }\n\n    .dataframe tbody tr th {\n        vertical-align: top;\n    }\n\n    .dataframe thead th {\n        text-align: right;\n    }\n</style>\n<table border=\"1\" class=\"dataframe\">\n  <thead>\n    <tr style=\"text-align: right;\">\n      <th></th>\n      <th>#</th>\n      <th>Name</th>\n      <th>Type 1</th>\n      <th>Type 2</th>\n      <th>Total</th>\n      <th>HP</th>\n      <th>Attack</th>\n      <th>Defense</th>\n      <th>Sp. Atk</th>\n      <th>Sp. Def</th>\n      <th>Speed</th>\n      <th>Generation</th>\n      <th>Legendary</th>\n      <th>Attacker</th>\n    </tr>\n  </thead>\n  <tbody>\n    <tr>\n      <th>656</th>\n      <td>657</td>\n      <td>Reshiram</td>\n      <td>Dragon</td>\n      <td>Fire</td>\n      <td>680</td>\n      <td>100</td>\n      <td>120</td>\n      <td>100</td>\n      <td>150</td>\n      <td>120</td>\n      <td>90</td>\n      <td>5</td>\n      <td>True</td>\n      <td>Strong</td>\n    </tr>\n    <tr>\n      <th>657</th>\n      <td>658</td>\n      <td>Zekrom</td>\n      <td>Dragon</td>\n      <td>Electric</td>\n      <td>680</td>\n      <td>100</td>\n      <td>150</td>\n      <td>120</td>\n      <td>120</td>\n      <td>100</td>\n      <td>90</td>\n      <td>5</td>\n      <td>True</td>\n      <td>Strong</td>\n    </tr>\n    <tr>\n      <th>491</th>\n      <td>492</td>\n      <td>Dialga</td>\n      <td>Steel</td>\n      <td>Dragon</td>\n      <td>680</td>\n      <td>100</td>\n      <td>120</td>\n      <td>120</td>\n      <td>150</td>\n      <td>100</td>\n      <td>90</td>\n      <td>4</td>\n      <td>True</td>\n      <td>Strong</td>\n    </tr>\n    <tr>\n      <th>740</th>\n      <td>741</td>\n      <td>HoopaHoopa Unbound</td>\n      <td>Psychic</td>\n      <td>Dark</td>\n      <td>680</td>\n      <td>80</td>\n      <td>160</td>\n      <td>60</td>\n      <td>170</td>\n      <td>130</td>\n      <td>80</td>\n      <td>6</td>\n      <td>True</td>\n      <td>Strong</td>\n    </tr>\n    <tr>\n      <th>492</th>\n      <td>493</td>\n      <td>Palkia</td>\n      <td>Water</td>\n      <td>Dragon</td>\n      <td>680</td>\n      <td>90</td>\n      <td>120</td>\n      <td>100</td>\n      <td>150</td>\n      <td>120</td>\n      <td>100</td>\n      <td>4</td>\n      <td>True</td>\n      <td>Strong</td>\n    </tr>\n    <tr>\n      <th>...</th>\n      <td>...</td>\n      <td>...</td>\n      <td>...</td>\n      <td>...</td>\n      <td>...</td>\n      <td>...</td>\n      <td>...</td>\n      <td>...</td>\n      <td>...</td>\n      <td>...</td>\n      <td>...</td>\n      <td>...</td>\n      <td>...</td>\n      <td>...</td>\n    </tr>\n    <tr>\n      <th>172</th>\n      <td>173</td>\n      <td>Igglybuff</td>\n      <td>Normal</td>\n      <td>Fairy</td>\n      <td>210</td>\n      <td>90</td>\n      <td>30</td>\n      <td>15</td>\n      <td>40</td>\n      <td>20</td>\n      <td>15</td>\n      <td>2</td>\n      <td>False</td>\n      <td>Weak</td>\n    </tr>\n    <tr>\n      <th>10</th>\n      <td>11</td>\n      <td>Metapod</td>\n      <td>Bug</td>\n      <td>NaN</td>\n      <td>205</td>\n      <td>50</td>\n      <td>20</td>\n      <td>55</td>\n      <td>25</td>\n      <td>25</td>\n      <td>30</td>\n      <td>1</td>\n      <td>False</td>\n      <td>Weak</td>\n    </tr>\n    <tr>\n      <th>264</th>\n      <td>265</td>\n      <td>Silcoon</td>\n      <td>Bug</td>\n      <td>NaN</td>\n      <td>205</td>\n      <td>50</td>\n      <td>35</td>\n      <td>55</td>\n      <td>25</td>\n      <td>25</td>\n      <td>15</td>\n      <td>3</td>\n      <td>False</td>\n      <td>Weak</td>\n    </tr>\n    <tr>\n      <th>266</th>\n      <td>267</td>\n      <td>Cascoon</td>\n      <td>Bug</td>\n      <td>NaN</td>\n      <td>205</td>\n      <td>50</td>\n      <td>35</td>\n      <td>55</td>\n      <td>25</td>\n      <td>25</td>\n      <td>15</td>\n      <td>3</td>\n      <td>False</td>\n      <td>Weak</td>\n    </tr>\n    <tr>\n      <th>296</th>\n      <td>297</td>\n      <td>Azurill</td>\n      <td>Normal</td>\n      <td>Fairy</td>\n      <td>190</td>\n      <td>50</td>\n      <td>20</td>\n      <td>40</td>\n      <td>20</td>\n      <td>40</td>\n      <td>20</td>\n      <td>3</td>\n      <td>False</td>\n      <td>Weak</td>\n    </tr>\n  </tbody>\n</table>\n<p>535 rows × 14 columns</p>\n</div>"
     },
     "execution_count": 16,
     "metadata": {},
     "output_type": "execute_result"
    }
   ],
   "source": [
    "df[df[\"HP\"].between(50, 100)] # Get the rows where the \"HP\" column is between 50 and 100."
   ],
   "metadata": {
    "collapsed": false,
    "ExecuteTime": {
     "start_time": "2023-08-02T23:47:03.983470Z",
     "end_time": "2023-08-02T23:47:04.009469Z"
    }
   }
  },
  {
   "cell_type": "code",
   "execution_count": 17,
   "outputs": [
    {
     "data": {
      "text/plain": "Water       77\nNormal      65\nGrass       52\nBug         46\nFire        35\nPsychic     34\nRock        32\nElectric    32\nGround      22\nDark        21\nPoison      20\nSteel       20\nIce         18\nFighting    17\nDragon      16\nFairy       13\nGhost       12\nFlying       3\nName: Type 1, dtype: int64"
     },
     "execution_count": 17,
     "metadata": {},
     "output_type": "execute_result"
    }
   ],
   "source": [
    "df[df[\"HP\"].between(50, 100)][\"Type 1\"].value_counts()  # Get the count of each unique value in the \"Type 1\" column for the rows where the \"HP\" column is between 50 and 100."
   ],
   "metadata": {
    "collapsed": false,
    "ExecuteTime": {
     "start_time": "2023-08-02T23:47:20.478484Z",
     "end_time": "2023-08-02T23:47:20.508480Z"
    }
   }
  },
  {
   "cell_type": "code",
   "execution_count": 19,
   "outputs": [
    {
     "data": {
      "text/plain": "       #                Name   Type 1    Type 2  Total   HP  Attack  Defense  \\\n656  657            Reshiram   Dragon      Fire    680  100     120      100   \n657  658              Zekrom   Dragon  Electric    680  100     150      120   \n491  492              Dialga    Steel    Dragon    680  100     120      120   \n740  741  HoopaHoopa Unbound  Psychic      Dark    680   80     160       60   \n492  493              Palkia    Water    Dragon    680   90     120      100   \n..   ...                 ...      ...       ...    ...  ...     ...      ...   \n172  173           Igglybuff   Normal     Fairy    210   90      30       15   \n10    11             Metapod      Bug       NaN    205   50      20       55   \n264  265             Silcoon      Bug       NaN    205   50      35       55   \n266  267             Cascoon      Bug       NaN    205   50      35       55   \n296  297             Azurill   Normal     Fairy    190   50      20       40   \n\n     Sp. Atk  Sp. Def  Speed  Generation  Legendary Attacker  \n656      150      120     90           5       True   Strong  \n657      120      100     90           5       True   Strong  \n491      150      100     90           4       True   Strong  \n740      170      130     80           6       True   Strong  \n492      150      120    100           4       True   Strong  \n..       ...      ...    ...         ...        ...      ...  \n172       40       20     15           2      False     Weak  \n10        25       25     30           1      False     Weak  \n264       25       25     15           3      False     Weak  \n266       25       25     15           3      False     Weak  \n296       20       40     20           3      False     Weak  \n\n[535 rows x 14 columns]",
      "text/html": "<div>\n<style scoped>\n    .dataframe tbody tr th:only-of-type {\n        vertical-align: middle;\n    }\n\n    .dataframe tbody tr th {\n        vertical-align: top;\n    }\n\n    .dataframe thead th {\n        text-align: right;\n    }\n</style>\n<table border=\"1\" class=\"dataframe\">\n  <thead>\n    <tr style=\"text-align: right;\">\n      <th></th>\n      <th>#</th>\n      <th>Name</th>\n      <th>Type 1</th>\n      <th>Type 2</th>\n      <th>Total</th>\n      <th>HP</th>\n      <th>Attack</th>\n      <th>Defense</th>\n      <th>Sp. Atk</th>\n      <th>Sp. Def</th>\n      <th>Speed</th>\n      <th>Generation</th>\n      <th>Legendary</th>\n      <th>Attacker</th>\n    </tr>\n  </thead>\n  <tbody>\n    <tr>\n      <th>656</th>\n      <td>657</td>\n      <td>Reshiram</td>\n      <td>Dragon</td>\n      <td>Fire</td>\n      <td>680</td>\n      <td>100</td>\n      <td>120</td>\n      <td>100</td>\n      <td>150</td>\n      <td>120</td>\n      <td>90</td>\n      <td>5</td>\n      <td>True</td>\n      <td>Strong</td>\n    </tr>\n    <tr>\n      <th>657</th>\n      <td>658</td>\n      <td>Zekrom</td>\n      <td>Dragon</td>\n      <td>Electric</td>\n      <td>680</td>\n      <td>100</td>\n      <td>150</td>\n      <td>120</td>\n      <td>120</td>\n      <td>100</td>\n      <td>90</td>\n      <td>5</td>\n      <td>True</td>\n      <td>Strong</td>\n    </tr>\n    <tr>\n      <th>491</th>\n      <td>492</td>\n      <td>Dialga</td>\n      <td>Steel</td>\n      <td>Dragon</td>\n      <td>680</td>\n      <td>100</td>\n      <td>120</td>\n      <td>120</td>\n      <td>150</td>\n      <td>100</td>\n      <td>90</td>\n      <td>4</td>\n      <td>True</td>\n      <td>Strong</td>\n    </tr>\n    <tr>\n      <th>740</th>\n      <td>741</td>\n      <td>HoopaHoopa Unbound</td>\n      <td>Psychic</td>\n      <td>Dark</td>\n      <td>680</td>\n      <td>80</td>\n      <td>160</td>\n      <td>60</td>\n      <td>170</td>\n      <td>130</td>\n      <td>80</td>\n      <td>6</td>\n      <td>True</td>\n      <td>Strong</td>\n    </tr>\n    <tr>\n      <th>492</th>\n      <td>493</td>\n      <td>Palkia</td>\n      <td>Water</td>\n      <td>Dragon</td>\n      <td>680</td>\n      <td>90</td>\n      <td>120</td>\n      <td>100</td>\n      <td>150</td>\n      <td>120</td>\n      <td>100</td>\n      <td>4</td>\n      <td>True</td>\n      <td>Strong</td>\n    </tr>\n    <tr>\n      <th>...</th>\n      <td>...</td>\n      <td>...</td>\n      <td>...</td>\n      <td>...</td>\n      <td>...</td>\n      <td>...</td>\n      <td>...</td>\n      <td>...</td>\n      <td>...</td>\n      <td>...</td>\n      <td>...</td>\n      <td>...</td>\n      <td>...</td>\n      <td>...</td>\n    </tr>\n    <tr>\n      <th>172</th>\n      <td>173</td>\n      <td>Igglybuff</td>\n      <td>Normal</td>\n      <td>Fairy</td>\n      <td>210</td>\n      <td>90</td>\n      <td>30</td>\n      <td>15</td>\n      <td>40</td>\n      <td>20</td>\n      <td>15</td>\n      <td>2</td>\n      <td>False</td>\n      <td>Weak</td>\n    </tr>\n    <tr>\n      <th>10</th>\n      <td>11</td>\n      <td>Metapod</td>\n      <td>Bug</td>\n      <td>NaN</td>\n      <td>205</td>\n      <td>50</td>\n      <td>20</td>\n      <td>55</td>\n      <td>25</td>\n      <td>25</td>\n      <td>30</td>\n      <td>1</td>\n      <td>False</td>\n      <td>Weak</td>\n    </tr>\n    <tr>\n      <th>264</th>\n      <td>265</td>\n      <td>Silcoon</td>\n      <td>Bug</td>\n      <td>NaN</td>\n      <td>205</td>\n      <td>50</td>\n      <td>35</td>\n      <td>55</td>\n      <td>25</td>\n      <td>25</td>\n      <td>15</td>\n      <td>3</td>\n      <td>False</td>\n      <td>Weak</td>\n    </tr>\n    <tr>\n      <th>266</th>\n      <td>267</td>\n      <td>Cascoon</td>\n      <td>Bug</td>\n      <td>NaN</td>\n      <td>205</td>\n      <td>50</td>\n      <td>35</td>\n      <td>55</td>\n      <td>25</td>\n      <td>25</td>\n      <td>15</td>\n      <td>3</td>\n      <td>False</td>\n      <td>Weak</td>\n    </tr>\n    <tr>\n      <th>296</th>\n      <td>297</td>\n      <td>Azurill</td>\n      <td>Normal</td>\n      <td>Fairy</td>\n      <td>190</td>\n      <td>50</td>\n      <td>20</td>\n      <td>40</td>\n      <td>20</td>\n      <td>40</td>\n      <td>20</td>\n      <td>3</td>\n      <td>False</td>\n      <td>Weak</td>\n    </tr>\n  </tbody>\n</table>\n<p>535 rows × 14 columns</p>\n</div>"
     },
     "execution_count": 19,
     "metadata": {},
     "output_type": "execute_result"
    }
   ],
   "source": [
    "df[df[\"HP\"].between(50, 100, inclusive=\"both\")]  # Get the rows where the \"HP\" column is between 50 and 100, including 50 and 100."
   ],
   "metadata": {
    "collapsed": false,
    "ExecuteTime": {
     "start_time": "2023-08-02T23:48:37.134573Z",
     "end_time": "2023-08-02T23:48:37.165497Z"
    }
   }
  },
  {
   "cell_type": "code",
   "execution_count": 20,
   "outputs": [
    {
     "data": {
      "text/plain": "       #               Name   Type 1  Type 2  Total  HP  Attack  Defense  \\\n360  361             Glalie      Ice     NaN    480  80      80       80   \n343  344             Lileep     Rock   Grass    355  66      41       77   \n136  137            Omanyte     Rock   Water    355  35      40      100   \n95    96            Drowzee  Psychic     NaN    328  60      48       45   \n30    31          Nidoqueen   Poison  Ground    505  90      92       87   \n658  659  Landorus ncarnate   Ground  Flying    600  89     125       90   \n\n     Sp. Atk  Sp. Def  Speed  Generation  Legendary Attacker  \n360       80       80     80           3      False     Weak  \n343       61       87     23           3      False     Weak  \n136       90       55     35           1      False     Weak  \n95        43       90     42           1      False     Weak  \n30        75       85     76           1      False     Weak  \n658      115       80    101           5       True   Strong  ",
      "text/html": "<div>\n<style scoped>\n    .dataframe tbody tr th:only-of-type {\n        vertical-align: middle;\n    }\n\n    .dataframe tbody tr th {\n        vertical-align: top;\n    }\n\n    .dataframe thead th {\n        text-align: right;\n    }\n</style>\n<table border=\"1\" class=\"dataframe\">\n  <thead>\n    <tr style=\"text-align: right;\">\n      <th></th>\n      <th>#</th>\n      <th>Name</th>\n      <th>Type 1</th>\n      <th>Type 2</th>\n      <th>Total</th>\n      <th>HP</th>\n      <th>Attack</th>\n      <th>Defense</th>\n      <th>Sp. Atk</th>\n      <th>Sp. Def</th>\n      <th>Speed</th>\n      <th>Generation</th>\n      <th>Legendary</th>\n      <th>Attacker</th>\n    </tr>\n  </thead>\n  <tbody>\n    <tr>\n      <th>360</th>\n      <td>361</td>\n      <td>Glalie</td>\n      <td>Ice</td>\n      <td>NaN</td>\n      <td>480</td>\n      <td>80</td>\n      <td>80</td>\n      <td>80</td>\n      <td>80</td>\n      <td>80</td>\n      <td>80</td>\n      <td>3</td>\n      <td>False</td>\n      <td>Weak</td>\n    </tr>\n    <tr>\n      <th>343</th>\n      <td>344</td>\n      <td>Lileep</td>\n      <td>Rock</td>\n      <td>Grass</td>\n      <td>355</td>\n      <td>66</td>\n      <td>41</td>\n      <td>77</td>\n      <td>61</td>\n      <td>87</td>\n      <td>23</td>\n      <td>3</td>\n      <td>False</td>\n      <td>Weak</td>\n    </tr>\n    <tr>\n      <th>136</th>\n      <td>137</td>\n      <td>Omanyte</td>\n      <td>Rock</td>\n      <td>Water</td>\n      <td>355</td>\n      <td>35</td>\n      <td>40</td>\n      <td>100</td>\n      <td>90</td>\n      <td>55</td>\n      <td>35</td>\n      <td>1</td>\n      <td>False</td>\n      <td>Weak</td>\n    </tr>\n    <tr>\n      <th>95</th>\n      <td>96</td>\n      <td>Drowzee</td>\n      <td>Psychic</td>\n      <td>NaN</td>\n      <td>328</td>\n      <td>60</td>\n      <td>48</td>\n      <td>45</td>\n      <td>43</td>\n      <td>90</td>\n      <td>42</td>\n      <td>1</td>\n      <td>False</td>\n      <td>Weak</td>\n    </tr>\n    <tr>\n      <th>30</th>\n      <td>31</td>\n      <td>Nidoqueen</td>\n      <td>Poison</td>\n      <td>Ground</td>\n      <td>505</td>\n      <td>90</td>\n      <td>92</td>\n      <td>87</td>\n      <td>75</td>\n      <td>85</td>\n      <td>76</td>\n      <td>1</td>\n      <td>False</td>\n      <td>Weak</td>\n    </tr>\n    <tr>\n      <th>658</th>\n      <td>659</td>\n      <td>Landorus ncarnate</td>\n      <td>Ground</td>\n      <td>Flying</td>\n      <td>600</td>\n      <td>89</td>\n      <td>125</td>\n      <td>90</td>\n      <td>115</td>\n      <td>80</td>\n      <td>101</td>\n      <td>5</td>\n      <td>True</td>\n      <td>Strong</td>\n    </tr>\n  </tbody>\n</table>\n</div>"
     },
     "execution_count": 20,
     "metadata": {},
     "output_type": "execute_result"
    }
   ],
   "source": [
    "df.sample(6)  # Get a random sample of 6 rows from the dataframe."
   ],
   "metadata": {
    "collapsed": false,
    "ExecuteTime": {
     "start_time": "2023-08-02T23:49:56.821222Z",
     "end_time": "2023-08-02T23:49:56.865223Z"
    }
   }
  },
  {
   "cell_type": "code",
   "execution_count": 21,
   "outputs": [
    {
     "data": {
      "text/plain": "       #       Name    Type 1    Type 2  Total  HP  Attack  Defense  Sp. Atk  \\\n223  224   Delibird       Ice    Flying    330  45      55       45       65   \n45    46      Paras       Bug     Grass    285  35      70       55       45   \n628  629   Accelgor       Bug       NaN    495  80      70       40      100   \n102  103  Exeggutor     Grass   Psychic    520  95      95       85      125   \n67    68    Machamp  Fighting       NaN    505  90     130       80       65   \n..   ...        ...       ...       ...    ...  ..     ...      ...      ...   \n61    62  Poliwrath     Water  Fighting    510  90      95       95       70   \n493  494    Heatran      Fire     Steel    600  91      90      106      130   \n213  214    Sneasel      Dark       Ice    430  55      95       55       35   \n259  260  Poochyena      Dark       NaN    220  35      55       35       30   \n25    26     Raichu  Electric       NaN    485  60      90       55       90   \n\n     Sp. Def  Speed  Generation  Legendary Attacker  \n223       45     75           2      False     Weak  \n45        55     25           1      False     Weak  \n628       60    145           5      False     Weak  \n102       65     55           1      False   Strong  \n67        85     55           1      False   Strong  \n..       ...    ...         ...        ...      ...  \n61        90     70           1      False     Weak  \n493      106     77           4       True   Strong  \n213       75    115           2      False     Weak  \n259       30     35           3      False     Weak  \n25        80    110           1      False     Weak  \n\n[74 rows x 14 columns]",
      "text/html": "<div>\n<style scoped>\n    .dataframe tbody tr th:only-of-type {\n        vertical-align: middle;\n    }\n\n    .dataframe tbody tr th {\n        vertical-align: top;\n    }\n\n    .dataframe thead th {\n        text-align: right;\n    }\n</style>\n<table border=\"1\" class=\"dataframe\">\n  <thead>\n    <tr style=\"text-align: right;\">\n      <th></th>\n      <th>#</th>\n      <th>Name</th>\n      <th>Type 1</th>\n      <th>Type 2</th>\n      <th>Total</th>\n      <th>HP</th>\n      <th>Attack</th>\n      <th>Defense</th>\n      <th>Sp. Atk</th>\n      <th>Sp. Def</th>\n      <th>Speed</th>\n      <th>Generation</th>\n      <th>Legendary</th>\n      <th>Attacker</th>\n    </tr>\n  </thead>\n  <tbody>\n    <tr>\n      <th>223</th>\n      <td>224</td>\n      <td>Delibird</td>\n      <td>Ice</td>\n      <td>Flying</td>\n      <td>330</td>\n      <td>45</td>\n      <td>55</td>\n      <td>45</td>\n      <td>65</td>\n      <td>45</td>\n      <td>75</td>\n      <td>2</td>\n      <td>False</td>\n      <td>Weak</td>\n    </tr>\n    <tr>\n      <th>45</th>\n      <td>46</td>\n      <td>Paras</td>\n      <td>Bug</td>\n      <td>Grass</td>\n      <td>285</td>\n      <td>35</td>\n      <td>70</td>\n      <td>55</td>\n      <td>45</td>\n      <td>55</td>\n      <td>25</td>\n      <td>1</td>\n      <td>False</td>\n      <td>Weak</td>\n    </tr>\n    <tr>\n      <th>628</th>\n      <td>629</td>\n      <td>Accelgor</td>\n      <td>Bug</td>\n      <td>NaN</td>\n      <td>495</td>\n      <td>80</td>\n      <td>70</td>\n      <td>40</td>\n      <td>100</td>\n      <td>60</td>\n      <td>145</td>\n      <td>5</td>\n      <td>False</td>\n      <td>Weak</td>\n    </tr>\n    <tr>\n      <th>102</th>\n      <td>103</td>\n      <td>Exeggutor</td>\n      <td>Grass</td>\n      <td>Psychic</td>\n      <td>520</td>\n      <td>95</td>\n      <td>95</td>\n      <td>85</td>\n      <td>125</td>\n      <td>65</td>\n      <td>55</td>\n      <td>1</td>\n      <td>False</td>\n      <td>Strong</td>\n    </tr>\n    <tr>\n      <th>67</th>\n      <td>68</td>\n      <td>Machamp</td>\n      <td>Fighting</td>\n      <td>NaN</td>\n      <td>505</td>\n      <td>90</td>\n      <td>130</td>\n      <td>80</td>\n      <td>65</td>\n      <td>85</td>\n      <td>55</td>\n      <td>1</td>\n      <td>False</td>\n      <td>Strong</td>\n    </tr>\n    <tr>\n      <th>...</th>\n      <td>...</td>\n      <td>...</td>\n      <td>...</td>\n      <td>...</td>\n      <td>...</td>\n      <td>...</td>\n      <td>...</td>\n      <td>...</td>\n      <td>...</td>\n      <td>...</td>\n      <td>...</td>\n      <td>...</td>\n      <td>...</td>\n      <td>...</td>\n    </tr>\n    <tr>\n      <th>61</th>\n      <td>62</td>\n      <td>Poliwrath</td>\n      <td>Water</td>\n      <td>Fighting</td>\n      <td>510</td>\n      <td>90</td>\n      <td>95</td>\n      <td>95</td>\n      <td>70</td>\n      <td>90</td>\n      <td>70</td>\n      <td>1</td>\n      <td>False</td>\n      <td>Weak</td>\n    </tr>\n    <tr>\n      <th>493</th>\n      <td>494</td>\n      <td>Heatran</td>\n      <td>Fire</td>\n      <td>Steel</td>\n      <td>600</td>\n      <td>91</td>\n      <td>90</td>\n      <td>106</td>\n      <td>130</td>\n      <td>106</td>\n      <td>77</td>\n      <td>4</td>\n      <td>True</td>\n      <td>Strong</td>\n    </tr>\n    <tr>\n      <th>213</th>\n      <td>214</td>\n      <td>Sneasel</td>\n      <td>Dark</td>\n      <td>Ice</td>\n      <td>430</td>\n      <td>55</td>\n      <td>95</td>\n      <td>55</td>\n      <td>35</td>\n      <td>75</td>\n      <td>115</td>\n      <td>2</td>\n      <td>False</td>\n      <td>Weak</td>\n    </tr>\n    <tr>\n      <th>259</th>\n      <td>260</td>\n      <td>Poochyena</td>\n      <td>Dark</td>\n      <td>NaN</td>\n      <td>220</td>\n      <td>35</td>\n      <td>55</td>\n      <td>35</td>\n      <td>30</td>\n      <td>30</td>\n      <td>35</td>\n      <td>3</td>\n      <td>False</td>\n      <td>Weak</td>\n    </tr>\n    <tr>\n      <th>25</th>\n      <td>26</td>\n      <td>Raichu</td>\n      <td>Electric</td>\n      <td>NaN</td>\n      <td>485</td>\n      <td>60</td>\n      <td>90</td>\n      <td>55</td>\n      <td>90</td>\n      <td>80</td>\n      <td>110</td>\n      <td>1</td>\n      <td>False</td>\n      <td>Weak</td>\n    </tr>\n  </tbody>\n</table>\n<p>74 rows × 14 columns</p>\n</div>"
     },
     "execution_count": 21,
     "metadata": {},
     "output_type": "execute_result"
    }
   ],
   "source": [
    "df.sample(frac=0.1)  # Get a random sample of 10% of the rows from the dataframe."
   ],
   "metadata": {
    "collapsed": false,
    "ExecuteTime": {
     "start_time": "2023-08-02T23:50:29.549781Z",
     "end_time": "2023-08-02T23:50:29.606778Z"
    }
   }
  },
  {
   "cell_type": "code",
   "execution_count": 36,
   "outputs": [
    {
     "data": {
      "text/plain": "       #       Name    Type 1  Type 2  Total   HP  Attack  Defense  Sp. Atk  \\\n431  432    Lopunny    Normal     NaN    480   65      76       84       54   \n675  676  Frogadier     Water     NaN    405   54      63       52       83   \n329  330     Cacnea     Grass     NaN    335   50      85       40       85   \n630  631    Mienfoo  Fighting     NaN    350   45      85       50       55   \n13    14     Kakuna       Bug  Poison    205   45      25       50       25   \n..   ...        ...       ...     ...    ...  ...     ...      ...      ...   \n65    66     Machop  Fighting     NaN    305   70      80       50       35   \n461  462    Mantyke     Water  Flying    345   45      20       50       60   \n691  692     Gogoat     Grass     NaN    531  123     100       62       97   \n222  223  Octillery     Water     NaN    480   75     105       75      105   \n605  606  Alomomola     Water     NaN    470  165      75       80       40   \n\n     Sp. Def  Speed  Generation  Legendary Attacker  \n431       96    105           4      False     Weak  \n675       56     97           6      False     Weak  \n329       40     35           3      False     Weak  \n630       50     65           5      False     Weak  \n13        25     35           1      False     Weak  \n..       ...    ...         ...        ...      ...  \n65        35     35           1      False     Weak  \n461      120     50           4      False     Weak  \n691       81     68           6      False   Strong  \n222       75     45           2      False   Strong  \n605       45     65           5      False     Weak  \n\n[74 rows x 14 columns]",
      "text/html": "<div>\n<style scoped>\n    .dataframe tbody tr th:only-of-type {\n        vertical-align: middle;\n    }\n\n    .dataframe tbody tr th {\n        vertical-align: top;\n    }\n\n    .dataframe thead th {\n        text-align: right;\n    }\n</style>\n<table border=\"1\" class=\"dataframe\">\n  <thead>\n    <tr style=\"text-align: right;\">\n      <th></th>\n      <th>#</th>\n      <th>Name</th>\n      <th>Type 1</th>\n      <th>Type 2</th>\n      <th>Total</th>\n      <th>HP</th>\n      <th>Attack</th>\n      <th>Defense</th>\n      <th>Sp. Atk</th>\n      <th>Sp. Def</th>\n      <th>Speed</th>\n      <th>Generation</th>\n      <th>Legendary</th>\n      <th>Attacker</th>\n    </tr>\n  </thead>\n  <tbody>\n    <tr>\n      <th>431</th>\n      <td>432</td>\n      <td>Lopunny</td>\n      <td>Normal</td>\n      <td>NaN</td>\n      <td>480</td>\n      <td>65</td>\n      <td>76</td>\n      <td>84</td>\n      <td>54</td>\n      <td>96</td>\n      <td>105</td>\n      <td>4</td>\n      <td>False</td>\n      <td>Weak</td>\n    </tr>\n    <tr>\n      <th>675</th>\n      <td>676</td>\n      <td>Frogadier</td>\n      <td>Water</td>\n      <td>NaN</td>\n      <td>405</td>\n      <td>54</td>\n      <td>63</td>\n      <td>52</td>\n      <td>83</td>\n      <td>56</td>\n      <td>97</td>\n      <td>6</td>\n      <td>False</td>\n      <td>Weak</td>\n    </tr>\n    <tr>\n      <th>329</th>\n      <td>330</td>\n      <td>Cacnea</td>\n      <td>Grass</td>\n      <td>NaN</td>\n      <td>335</td>\n      <td>50</td>\n      <td>85</td>\n      <td>40</td>\n      <td>85</td>\n      <td>40</td>\n      <td>35</td>\n      <td>3</td>\n      <td>False</td>\n      <td>Weak</td>\n    </tr>\n    <tr>\n      <th>630</th>\n      <td>631</td>\n      <td>Mienfoo</td>\n      <td>Fighting</td>\n      <td>NaN</td>\n      <td>350</td>\n      <td>45</td>\n      <td>85</td>\n      <td>50</td>\n      <td>55</td>\n      <td>50</td>\n      <td>65</td>\n      <td>5</td>\n      <td>False</td>\n      <td>Weak</td>\n    </tr>\n    <tr>\n      <th>13</th>\n      <td>14</td>\n      <td>Kakuna</td>\n      <td>Bug</td>\n      <td>Poison</td>\n      <td>205</td>\n      <td>45</td>\n      <td>25</td>\n      <td>50</td>\n      <td>25</td>\n      <td>25</td>\n      <td>35</td>\n      <td>1</td>\n      <td>False</td>\n      <td>Weak</td>\n    </tr>\n    <tr>\n      <th>...</th>\n      <td>...</td>\n      <td>...</td>\n      <td>...</td>\n      <td>...</td>\n      <td>...</td>\n      <td>...</td>\n      <td>...</td>\n      <td>...</td>\n      <td>...</td>\n      <td>...</td>\n      <td>...</td>\n      <td>...</td>\n      <td>...</td>\n      <td>...</td>\n    </tr>\n    <tr>\n      <th>65</th>\n      <td>66</td>\n      <td>Machop</td>\n      <td>Fighting</td>\n      <td>NaN</td>\n      <td>305</td>\n      <td>70</td>\n      <td>80</td>\n      <td>50</td>\n      <td>35</td>\n      <td>35</td>\n      <td>35</td>\n      <td>1</td>\n      <td>False</td>\n      <td>Weak</td>\n    </tr>\n    <tr>\n      <th>461</th>\n      <td>462</td>\n      <td>Mantyke</td>\n      <td>Water</td>\n      <td>Flying</td>\n      <td>345</td>\n      <td>45</td>\n      <td>20</td>\n      <td>50</td>\n      <td>60</td>\n      <td>120</td>\n      <td>50</td>\n      <td>4</td>\n      <td>False</td>\n      <td>Weak</td>\n    </tr>\n    <tr>\n      <th>691</th>\n      <td>692</td>\n      <td>Gogoat</td>\n      <td>Grass</td>\n      <td>NaN</td>\n      <td>531</td>\n      <td>123</td>\n      <td>100</td>\n      <td>62</td>\n      <td>97</td>\n      <td>81</td>\n      <td>68</td>\n      <td>6</td>\n      <td>False</td>\n      <td>Strong</td>\n    </tr>\n    <tr>\n      <th>222</th>\n      <td>223</td>\n      <td>Octillery</td>\n      <td>Water</td>\n      <td>NaN</td>\n      <td>480</td>\n      <td>75</td>\n      <td>105</td>\n      <td>75</td>\n      <td>105</td>\n      <td>75</td>\n      <td>45</td>\n      <td>2</td>\n      <td>False</td>\n      <td>Strong</td>\n    </tr>\n    <tr>\n      <th>605</th>\n      <td>606</td>\n      <td>Alomomola</td>\n      <td>Water</td>\n      <td>NaN</td>\n      <td>470</td>\n      <td>165</td>\n      <td>75</td>\n      <td>80</td>\n      <td>40</td>\n      <td>45</td>\n      <td>65</td>\n      <td>5</td>\n      <td>False</td>\n      <td>Weak</td>\n    </tr>\n  </tbody>\n</table>\n<p>74 rows × 14 columns</p>\n</div>"
     },
     "execution_count": 36,
     "metadata": {},
     "output_type": "execute_result"
    }
   ],
   "source": [
    "df.sample(frac=0.1, random_state=42)  # Get a random sample of 10% of the rows from the dataframe, using a seed of 42. Random state is used to ensure that the same random sample is returned each time."
   ],
   "metadata": {
    "collapsed": false,
    "ExecuteTime": {
     "start_time": "2023-08-02T23:52:55.746281Z",
     "end_time": "2023-08-02T23:52:55.773396Z"
    }
   }
  }
 ],
 "metadata": {
  "kernelspec": {
   "display_name": "Python 3",
   "language": "python",
   "name": "python3"
  },
  "language_info": {
   "codemirror_mode": {
    "name": "ipython",
    "version": 2
   },
   "file_extension": ".py",
   "mimetype": "text/x-python",
   "name": "python",
   "nbconvert_exporter": "python",
   "pygments_lexer": "ipython2",
   "version": "2.7.6"
  }
 },
 "nbformat": 4,
 "nbformat_minor": 0
}

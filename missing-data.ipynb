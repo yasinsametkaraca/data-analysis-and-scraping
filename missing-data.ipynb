{
 "cells": [
  {
   "cell_type": "code",
   "execution_count": 90,
   "metadata": {
    "collapsed": true,
    "ExecuteTime": {
     "start_time": "2023-08-14T01:09:47.112309Z",
     "end_time": "2023-08-14T01:09:47.383316Z"
    }
   },
   "outputs": [],
   "source": [
    "import pandas as pd\n",
    "import numpy as np"
   ]
  },
  {
   "cell_type": "code",
   "execution_count": 91,
   "outputs": [],
   "source": [
    "df = pd.read_csv('starwars.csv')"
   ],
   "metadata": {
    "collapsed": false,
    "ExecuteTime": {
     "start_time": "2023-08-14T01:09:47.118307Z",
     "end_time": "2023-08-14T01:09:47.571315Z"
    }
   }
  },
  {
   "cell_type": "code",
   "execution_count": 92,
   "outputs": [
    {
     "data": {
      "text/plain": "              name  height   mass hair_color   skin_color eye_color  \\\n0   Luke Skywalker   172.0   77.0      blond         fair      blue   \n1            C-3PO   167.0   75.0        NaN         gold    yellow   \n2            R2-D2    96.0   32.0        NaN  white, blue       red   \n3      Darth Vader   202.0  136.0       none        white    yellow   \n4      Leia Organa   150.0   49.0      brown        light     brown   \n..             ...     ...    ...        ...          ...       ...   \n82             Rey     NaN    NaN      brown        light     hazel   \n83     Poe Dameron     NaN    NaN      brown        light     brown   \n84             BB8     NaN    NaN       none         none     black   \n85  Captain Phasma     NaN    NaN    unknown      unknown   unknown   \n86   Padmé Amidala   165.0   45.0      brown        light     brown   \n\n    birth_year     sex     gender homeworld species  \\\n0         19.0    male  masculine  Tatooine   Human   \n1        112.0    none  masculine  Tatooine   Droid   \n2         33.0    none  masculine     Naboo   Droid   \n3         41.9    male  masculine  Tatooine   Human   \n4         19.0  female   feminine  Alderaan   Human   \n..         ...     ...        ...       ...     ...   \n82         NaN  female   feminine       NaN   Human   \n83         NaN    male  masculine       NaN   Human   \n84         NaN    none  masculine       NaN   Droid   \n85         NaN     NaN        NaN       NaN     NaN   \n86        46.0  female   feminine     Naboo   Human   \n\n                                                films  \\\n0   The Empire Strikes Back, Revenge of the Sith, ...   \n1   The Empire Strikes Back, Attack of the Clones,...   \n2   The Empire Strikes Back, Attack of the Clones,...   \n3   The Empire Strikes Back, Revenge of the Sith, ...   \n4   The Empire Strikes Back, Revenge of the Sith, ...   \n..                                                ...   \n82                                  The Force Awakens   \n83                                  The Force Awakens   \n84                                  The Force Awakens   \n85                                  The Force Awakens   \n86  Attack of the Clones, The Phantom Menace, Reve...   \n\n                              vehicles  \\\n0   Snowspeeder, Imperial Speeder Bike   \n1                                  NaN   \n2                                  NaN   \n3                                  NaN   \n4                Imperial Speeder Bike   \n..                                 ...   \n82                                 NaN   \n83                                 NaN   \n84                                 NaN   \n85                                 NaN   \n86                                 NaN   \n\n                                            starships  \n0                            X-wing, Imperial shuttle  \n1                                                 NaN  \n2                                                 NaN  \n3                                     TIE Advanced x1  \n4                                                 NaN  \n..                                                ...  \n82                                                NaN  \n83                                T-70 X-wing fighter  \n84                                                NaN  \n85                                                NaN  \n86  H-type Nubian yacht, Naboo star skiff, Naboo f...  \n\n[87 rows x 14 columns]",
      "text/html": "<div>\n<style scoped>\n    .dataframe tbody tr th:only-of-type {\n        vertical-align: middle;\n    }\n\n    .dataframe tbody tr th {\n        vertical-align: top;\n    }\n\n    .dataframe thead th {\n        text-align: right;\n    }\n</style>\n<table border=\"1\" class=\"dataframe\">\n  <thead>\n    <tr style=\"text-align: right;\">\n      <th></th>\n      <th>name</th>\n      <th>height</th>\n      <th>mass</th>\n      <th>hair_color</th>\n      <th>skin_color</th>\n      <th>eye_color</th>\n      <th>birth_year</th>\n      <th>sex</th>\n      <th>gender</th>\n      <th>homeworld</th>\n      <th>species</th>\n      <th>films</th>\n      <th>vehicles</th>\n      <th>starships</th>\n    </tr>\n  </thead>\n  <tbody>\n    <tr>\n      <th>0</th>\n      <td>Luke Skywalker</td>\n      <td>172.0</td>\n      <td>77.0</td>\n      <td>blond</td>\n      <td>fair</td>\n      <td>blue</td>\n      <td>19.0</td>\n      <td>male</td>\n      <td>masculine</td>\n      <td>Tatooine</td>\n      <td>Human</td>\n      <td>The Empire Strikes Back, Revenge of the Sith, ...</td>\n      <td>Snowspeeder, Imperial Speeder Bike</td>\n      <td>X-wing, Imperial shuttle</td>\n    </tr>\n    <tr>\n      <th>1</th>\n      <td>C-3PO</td>\n      <td>167.0</td>\n      <td>75.0</td>\n      <td>NaN</td>\n      <td>gold</td>\n      <td>yellow</td>\n      <td>112.0</td>\n      <td>none</td>\n      <td>masculine</td>\n      <td>Tatooine</td>\n      <td>Droid</td>\n      <td>The Empire Strikes Back, Attack of the Clones,...</td>\n      <td>NaN</td>\n      <td>NaN</td>\n    </tr>\n    <tr>\n      <th>2</th>\n      <td>R2-D2</td>\n      <td>96.0</td>\n      <td>32.0</td>\n      <td>NaN</td>\n      <td>white, blue</td>\n      <td>red</td>\n      <td>33.0</td>\n      <td>none</td>\n      <td>masculine</td>\n      <td>Naboo</td>\n      <td>Droid</td>\n      <td>The Empire Strikes Back, Attack of the Clones,...</td>\n      <td>NaN</td>\n      <td>NaN</td>\n    </tr>\n    <tr>\n      <th>3</th>\n      <td>Darth Vader</td>\n      <td>202.0</td>\n      <td>136.0</td>\n      <td>none</td>\n      <td>white</td>\n      <td>yellow</td>\n      <td>41.9</td>\n      <td>male</td>\n      <td>masculine</td>\n      <td>Tatooine</td>\n      <td>Human</td>\n      <td>The Empire Strikes Back, Revenge of the Sith, ...</td>\n      <td>NaN</td>\n      <td>TIE Advanced x1</td>\n    </tr>\n    <tr>\n      <th>4</th>\n      <td>Leia Organa</td>\n      <td>150.0</td>\n      <td>49.0</td>\n      <td>brown</td>\n      <td>light</td>\n      <td>brown</td>\n      <td>19.0</td>\n      <td>female</td>\n      <td>feminine</td>\n      <td>Alderaan</td>\n      <td>Human</td>\n      <td>The Empire Strikes Back, Revenge of the Sith, ...</td>\n      <td>Imperial Speeder Bike</td>\n      <td>NaN</td>\n    </tr>\n    <tr>\n      <th>...</th>\n      <td>...</td>\n      <td>...</td>\n      <td>...</td>\n      <td>...</td>\n      <td>...</td>\n      <td>...</td>\n      <td>...</td>\n      <td>...</td>\n      <td>...</td>\n      <td>...</td>\n      <td>...</td>\n      <td>...</td>\n      <td>...</td>\n      <td>...</td>\n    </tr>\n    <tr>\n      <th>82</th>\n      <td>Rey</td>\n      <td>NaN</td>\n      <td>NaN</td>\n      <td>brown</td>\n      <td>light</td>\n      <td>hazel</td>\n      <td>NaN</td>\n      <td>female</td>\n      <td>feminine</td>\n      <td>NaN</td>\n      <td>Human</td>\n      <td>The Force Awakens</td>\n      <td>NaN</td>\n      <td>NaN</td>\n    </tr>\n    <tr>\n      <th>83</th>\n      <td>Poe Dameron</td>\n      <td>NaN</td>\n      <td>NaN</td>\n      <td>brown</td>\n      <td>light</td>\n      <td>brown</td>\n      <td>NaN</td>\n      <td>male</td>\n      <td>masculine</td>\n      <td>NaN</td>\n      <td>Human</td>\n      <td>The Force Awakens</td>\n      <td>NaN</td>\n      <td>T-70 X-wing fighter</td>\n    </tr>\n    <tr>\n      <th>84</th>\n      <td>BB8</td>\n      <td>NaN</td>\n      <td>NaN</td>\n      <td>none</td>\n      <td>none</td>\n      <td>black</td>\n      <td>NaN</td>\n      <td>none</td>\n      <td>masculine</td>\n      <td>NaN</td>\n      <td>Droid</td>\n      <td>The Force Awakens</td>\n      <td>NaN</td>\n      <td>NaN</td>\n    </tr>\n    <tr>\n      <th>85</th>\n      <td>Captain Phasma</td>\n      <td>NaN</td>\n      <td>NaN</td>\n      <td>unknown</td>\n      <td>unknown</td>\n      <td>unknown</td>\n      <td>NaN</td>\n      <td>NaN</td>\n      <td>NaN</td>\n      <td>NaN</td>\n      <td>NaN</td>\n      <td>The Force Awakens</td>\n      <td>NaN</td>\n      <td>NaN</td>\n    </tr>\n    <tr>\n      <th>86</th>\n      <td>Padmé Amidala</td>\n      <td>165.0</td>\n      <td>45.0</td>\n      <td>brown</td>\n      <td>light</td>\n      <td>brown</td>\n      <td>46.0</td>\n      <td>female</td>\n      <td>feminine</td>\n      <td>Naboo</td>\n      <td>Human</td>\n      <td>Attack of the Clones, The Phantom Menace, Reve...</td>\n      <td>NaN</td>\n      <td>H-type Nubian yacht, Naboo star skiff, Naboo f...</td>\n    </tr>\n  </tbody>\n</table>\n<p>87 rows × 14 columns</p>\n</div>"
     },
     "execution_count": 92,
     "metadata": {},
     "output_type": "execute_result"
    }
   ],
   "source": [
    "df"
   ],
   "metadata": {
    "collapsed": false,
    "ExecuteTime": {
     "start_time": "2023-08-14T01:09:47.132945Z",
     "end_time": "2023-08-14T01:09:47.577322Z"
    }
   }
  },
  {
   "cell_type": "markdown",
   "source": [],
   "metadata": {
    "collapsed": false
   }
  },
  {
   "cell_type": "code",
   "execution_count": 93,
   "outputs": [
    {
     "data": {
      "text/plain": "True"
     },
     "execution_count": 93,
     "metadata": {},
     "output_type": "execute_result"
    }
   ],
   "source": [
    "48==48  # 48 is equal to 48"
   ],
   "metadata": {
    "collapsed": false,
    "ExecuteTime": {
     "start_time": "2023-08-14T01:09:47.314320Z",
     "end_time": "2023-08-14T01:09:47.600315Z"
    }
   }
  },
  {
   "cell_type": "code",
   "execution_count": 94,
   "outputs": [
    {
     "data": {
      "text/plain": "nan"
     },
     "execution_count": 94,
     "metadata": {},
     "output_type": "execute_result"
    }
   ],
   "source": [
    "np.nan"
   ],
   "metadata": {
    "collapsed": false,
    "ExecuteTime": {
     "start_time": "2023-08-14T01:09:47.324318Z",
     "end_time": "2023-08-14T01:09:47.606321Z"
    }
   }
  },
  {
   "cell_type": "code",
   "execution_count": 95,
   "outputs": [
    {
     "data": {
      "text/plain": "False"
     },
     "execution_count": 95,
     "metadata": {},
     "output_type": "execute_result"
    }
   ],
   "source": [
    "np.nan == np.nan  # np.nan is not equal to np.nan because np.nan is not a number. NaN means not a number and it is not equal to itself."
   ],
   "metadata": {
    "collapsed": false,
    "ExecuteTime": {
     "start_time": "2023-08-14T01:09:47.339317Z",
     "end_time": "2023-08-14T01:09:47.610316Z"
    }
   }
  },
  {
   "cell_type": "code",
   "execution_count": 96,
   "outputs": [
    {
     "data": {
      "text/plain": "     name  height   mass  hair_color  skin_color  eye_color  birth_year  \\\n0   False   False  False       False       False      False       False   \n1   False   False  False        True       False      False       False   \n2   False   False  False        True       False      False       False   \n3   False   False  False       False       False      False       False   \n4   False   False  False       False       False      False       False   \n..    ...     ...    ...         ...         ...        ...         ...   \n82  False    True   True       False       False      False        True   \n83  False    True   True       False       False      False        True   \n84  False    True   True       False       False      False        True   \n85  False    True   True       False       False      False        True   \n86  False   False  False       False       False      False       False   \n\n      sex  gender  homeworld  species  films  vehicles  starships  \n0   False   False      False    False  False     False      False  \n1   False   False      False    False  False      True       True  \n2   False   False      False    False  False      True       True  \n3   False   False      False    False  False      True      False  \n4   False   False      False    False  False     False       True  \n..    ...     ...        ...      ...    ...       ...        ...  \n82  False   False       True    False  False      True       True  \n83  False   False       True    False  False      True      False  \n84  False   False       True    False  False      True       True  \n85   True    True       True     True  False      True       True  \n86  False   False      False    False  False      True      False  \n\n[87 rows x 14 columns]",
      "text/html": "<div>\n<style scoped>\n    .dataframe tbody tr th:only-of-type {\n        vertical-align: middle;\n    }\n\n    .dataframe tbody tr th {\n        vertical-align: top;\n    }\n\n    .dataframe thead th {\n        text-align: right;\n    }\n</style>\n<table border=\"1\" class=\"dataframe\">\n  <thead>\n    <tr style=\"text-align: right;\">\n      <th></th>\n      <th>name</th>\n      <th>height</th>\n      <th>mass</th>\n      <th>hair_color</th>\n      <th>skin_color</th>\n      <th>eye_color</th>\n      <th>birth_year</th>\n      <th>sex</th>\n      <th>gender</th>\n      <th>homeworld</th>\n      <th>species</th>\n      <th>films</th>\n      <th>vehicles</th>\n      <th>starships</th>\n    </tr>\n  </thead>\n  <tbody>\n    <tr>\n      <th>0</th>\n      <td>False</td>\n      <td>False</td>\n      <td>False</td>\n      <td>False</td>\n      <td>False</td>\n      <td>False</td>\n      <td>False</td>\n      <td>False</td>\n      <td>False</td>\n      <td>False</td>\n      <td>False</td>\n      <td>False</td>\n      <td>False</td>\n      <td>False</td>\n    </tr>\n    <tr>\n      <th>1</th>\n      <td>False</td>\n      <td>False</td>\n      <td>False</td>\n      <td>True</td>\n      <td>False</td>\n      <td>False</td>\n      <td>False</td>\n      <td>False</td>\n      <td>False</td>\n      <td>False</td>\n      <td>False</td>\n      <td>False</td>\n      <td>True</td>\n      <td>True</td>\n    </tr>\n    <tr>\n      <th>2</th>\n      <td>False</td>\n      <td>False</td>\n      <td>False</td>\n      <td>True</td>\n      <td>False</td>\n      <td>False</td>\n      <td>False</td>\n      <td>False</td>\n      <td>False</td>\n      <td>False</td>\n      <td>False</td>\n      <td>False</td>\n      <td>True</td>\n      <td>True</td>\n    </tr>\n    <tr>\n      <th>3</th>\n      <td>False</td>\n      <td>False</td>\n      <td>False</td>\n      <td>False</td>\n      <td>False</td>\n      <td>False</td>\n      <td>False</td>\n      <td>False</td>\n      <td>False</td>\n      <td>False</td>\n      <td>False</td>\n      <td>False</td>\n      <td>True</td>\n      <td>False</td>\n    </tr>\n    <tr>\n      <th>4</th>\n      <td>False</td>\n      <td>False</td>\n      <td>False</td>\n      <td>False</td>\n      <td>False</td>\n      <td>False</td>\n      <td>False</td>\n      <td>False</td>\n      <td>False</td>\n      <td>False</td>\n      <td>False</td>\n      <td>False</td>\n      <td>False</td>\n      <td>True</td>\n    </tr>\n    <tr>\n      <th>...</th>\n      <td>...</td>\n      <td>...</td>\n      <td>...</td>\n      <td>...</td>\n      <td>...</td>\n      <td>...</td>\n      <td>...</td>\n      <td>...</td>\n      <td>...</td>\n      <td>...</td>\n      <td>...</td>\n      <td>...</td>\n      <td>...</td>\n      <td>...</td>\n    </tr>\n    <tr>\n      <th>82</th>\n      <td>False</td>\n      <td>True</td>\n      <td>True</td>\n      <td>False</td>\n      <td>False</td>\n      <td>False</td>\n      <td>True</td>\n      <td>False</td>\n      <td>False</td>\n      <td>True</td>\n      <td>False</td>\n      <td>False</td>\n      <td>True</td>\n      <td>True</td>\n    </tr>\n    <tr>\n      <th>83</th>\n      <td>False</td>\n      <td>True</td>\n      <td>True</td>\n      <td>False</td>\n      <td>False</td>\n      <td>False</td>\n      <td>True</td>\n      <td>False</td>\n      <td>False</td>\n      <td>True</td>\n      <td>False</td>\n      <td>False</td>\n      <td>True</td>\n      <td>False</td>\n    </tr>\n    <tr>\n      <th>84</th>\n      <td>False</td>\n      <td>True</td>\n      <td>True</td>\n      <td>False</td>\n      <td>False</td>\n      <td>False</td>\n      <td>True</td>\n      <td>False</td>\n      <td>False</td>\n      <td>True</td>\n      <td>False</td>\n      <td>False</td>\n      <td>True</td>\n      <td>True</td>\n    </tr>\n    <tr>\n      <th>85</th>\n      <td>False</td>\n      <td>True</td>\n      <td>True</td>\n      <td>False</td>\n      <td>False</td>\n      <td>False</td>\n      <td>True</td>\n      <td>True</td>\n      <td>True</td>\n      <td>True</td>\n      <td>True</td>\n      <td>False</td>\n      <td>True</td>\n      <td>True</td>\n    </tr>\n    <tr>\n      <th>86</th>\n      <td>False</td>\n      <td>False</td>\n      <td>False</td>\n      <td>False</td>\n      <td>False</td>\n      <td>False</td>\n      <td>False</td>\n      <td>False</td>\n      <td>False</td>\n      <td>False</td>\n      <td>False</td>\n      <td>False</td>\n      <td>True</td>\n      <td>False</td>\n    </tr>\n  </tbody>\n</table>\n<p>87 rows × 14 columns</p>\n</div>"
     },
     "execution_count": 96,
     "metadata": {},
     "output_type": "execute_result"
    }
   ],
   "source": [
    "df.isnull() # this will return a boolean dataframe where True means that the value is null and False means that the value is not null. NaN is a null value."
   ],
   "metadata": {
    "collapsed": false,
    "ExecuteTime": {
     "start_time": "2023-08-14T01:09:47.356317Z",
     "end_time": "2023-08-14T01:09:47.616317Z"
    }
   }
  },
  {
   "cell_type": "code",
   "execution_count": 97,
   "outputs": [
    {
     "data": {
      "text/plain": "    name  height   mass  hair_color  skin_color  eye_color  birth_year    sex  \\\n0   True    True   True        True        True       True        True   True   \n1   True    True   True       False        True       True        True   True   \n2   True    True   True       False        True       True        True   True   \n3   True    True   True        True        True       True        True   True   \n4   True    True   True        True        True       True        True   True   \n..   ...     ...    ...         ...         ...        ...         ...    ...   \n82  True   False  False        True        True       True       False   True   \n83  True   False  False        True        True       True       False   True   \n84  True   False  False        True        True       True       False   True   \n85  True   False  False        True        True       True       False  False   \n86  True    True   True        True        True       True        True   True   \n\n    gender  homeworld  species  films  vehicles  starships  \n0     True       True     True   True      True       True  \n1     True       True     True   True     False      False  \n2     True       True     True   True     False      False  \n3     True       True     True   True     False       True  \n4     True       True     True   True      True      False  \n..     ...        ...      ...    ...       ...        ...  \n82    True      False     True   True     False      False  \n83    True      False     True   True     False       True  \n84    True      False     True   True     False      False  \n85   False      False    False   True     False      False  \n86    True       True     True   True     False       True  \n\n[87 rows x 14 columns]",
      "text/html": "<div>\n<style scoped>\n    .dataframe tbody tr th:only-of-type {\n        vertical-align: middle;\n    }\n\n    .dataframe tbody tr th {\n        vertical-align: top;\n    }\n\n    .dataframe thead th {\n        text-align: right;\n    }\n</style>\n<table border=\"1\" class=\"dataframe\">\n  <thead>\n    <tr style=\"text-align: right;\">\n      <th></th>\n      <th>name</th>\n      <th>height</th>\n      <th>mass</th>\n      <th>hair_color</th>\n      <th>skin_color</th>\n      <th>eye_color</th>\n      <th>birth_year</th>\n      <th>sex</th>\n      <th>gender</th>\n      <th>homeworld</th>\n      <th>species</th>\n      <th>films</th>\n      <th>vehicles</th>\n      <th>starships</th>\n    </tr>\n  </thead>\n  <tbody>\n    <tr>\n      <th>0</th>\n      <td>True</td>\n      <td>True</td>\n      <td>True</td>\n      <td>True</td>\n      <td>True</td>\n      <td>True</td>\n      <td>True</td>\n      <td>True</td>\n      <td>True</td>\n      <td>True</td>\n      <td>True</td>\n      <td>True</td>\n      <td>True</td>\n      <td>True</td>\n    </tr>\n    <tr>\n      <th>1</th>\n      <td>True</td>\n      <td>True</td>\n      <td>True</td>\n      <td>False</td>\n      <td>True</td>\n      <td>True</td>\n      <td>True</td>\n      <td>True</td>\n      <td>True</td>\n      <td>True</td>\n      <td>True</td>\n      <td>True</td>\n      <td>False</td>\n      <td>False</td>\n    </tr>\n    <tr>\n      <th>2</th>\n      <td>True</td>\n      <td>True</td>\n      <td>True</td>\n      <td>False</td>\n      <td>True</td>\n      <td>True</td>\n      <td>True</td>\n      <td>True</td>\n      <td>True</td>\n      <td>True</td>\n      <td>True</td>\n      <td>True</td>\n      <td>False</td>\n      <td>False</td>\n    </tr>\n    <tr>\n      <th>3</th>\n      <td>True</td>\n      <td>True</td>\n      <td>True</td>\n      <td>True</td>\n      <td>True</td>\n      <td>True</td>\n      <td>True</td>\n      <td>True</td>\n      <td>True</td>\n      <td>True</td>\n      <td>True</td>\n      <td>True</td>\n      <td>False</td>\n      <td>True</td>\n    </tr>\n    <tr>\n      <th>4</th>\n      <td>True</td>\n      <td>True</td>\n      <td>True</td>\n      <td>True</td>\n      <td>True</td>\n      <td>True</td>\n      <td>True</td>\n      <td>True</td>\n      <td>True</td>\n      <td>True</td>\n      <td>True</td>\n      <td>True</td>\n      <td>True</td>\n      <td>False</td>\n    </tr>\n    <tr>\n      <th>...</th>\n      <td>...</td>\n      <td>...</td>\n      <td>...</td>\n      <td>...</td>\n      <td>...</td>\n      <td>...</td>\n      <td>...</td>\n      <td>...</td>\n      <td>...</td>\n      <td>...</td>\n      <td>...</td>\n      <td>...</td>\n      <td>...</td>\n      <td>...</td>\n    </tr>\n    <tr>\n      <th>82</th>\n      <td>True</td>\n      <td>False</td>\n      <td>False</td>\n      <td>True</td>\n      <td>True</td>\n      <td>True</td>\n      <td>False</td>\n      <td>True</td>\n      <td>True</td>\n      <td>False</td>\n      <td>True</td>\n      <td>True</td>\n      <td>False</td>\n      <td>False</td>\n    </tr>\n    <tr>\n      <th>83</th>\n      <td>True</td>\n      <td>False</td>\n      <td>False</td>\n      <td>True</td>\n      <td>True</td>\n      <td>True</td>\n      <td>False</td>\n      <td>True</td>\n      <td>True</td>\n      <td>False</td>\n      <td>True</td>\n      <td>True</td>\n      <td>False</td>\n      <td>True</td>\n    </tr>\n    <tr>\n      <th>84</th>\n      <td>True</td>\n      <td>False</td>\n      <td>False</td>\n      <td>True</td>\n      <td>True</td>\n      <td>True</td>\n      <td>False</td>\n      <td>True</td>\n      <td>True</td>\n      <td>False</td>\n      <td>True</td>\n      <td>True</td>\n      <td>False</td>\n      <td>False</td>\n    </tr>\n    <tr>\n      <th>85</th>\n      <td>True</td>\n      <td>False</td>\n      <td>False</td>\n      <td>True</td>\n      <td>True</td>\n      <td>True</td>\n      <td>False</td>\n      <td>False</td>\n      <td>False</td>\n      <td>False</td>\n      <td>False</td>\n      <td>True</td>\n      <td>False</td>\n      <td>False</td>\n    </tr>\n    <tr>\n      <th>86</th>\n      <td>True</td>\n      <td>True</td>\n      <td>True</td>\n      <td>True</td>\n      <td>True</td>\n      <td>True</td>\n      <td>True</td>\n      <td>True</td>\n      <td>True</td>\n      <td>True</td>\n      <td>True</td>\n      <td>True</td>\n      <td>False</td>\n      <td>True</td>\n    </tr>\n  </tbody>\n</table>\n<p>87 rows × 14 columns</p>\n</div>"
     },
     "execution_count": 97,
     "metadata": {},
     "output_type": "execute_result"
    }
   ],
   "source": [
    "df.notnull() # this will return a boolean dataframe where True means that the value is not null and False means that the value is null. NaN is a null value."
   ],
   "metadata": {
    "collapsed": false,
    "ExecuteTime": {
     "start_time": "2023-08-14T01:09:47.386317Z",
     "end_time": "2023-08-14T01:09:47.616317Z"
    }
   }
  },
  {
   "cell_type": "code",
   "execution_count": 98,
   "outputs": [
    {
     "data": {
      "text/plain": "     name  height   mass  hair_color  skin_color  eye_color  birth_year  \\\n0   False   False  False       False       False      False       False   \n1   False   False  False        True       False      False       False   \n2   False   False  False        True       False      False       False   \n3   False   False  False       False       False      False       False   \n4   False   False  False       False       False      False       False   \n..    ...     ...    ...         ...         ...        ...         ...   \n82  False    True   True       False       False      False        True   \n83  False    True   True       False       False      False        True   \n84  False    True   True       False       False      False        True   \n85  False    True   True       False       False      False        True   \n86  False   False  False       False       False      False       False   \n\n      sex  gender  homeworld  species  films  vehicles  starships  \n0   False   False      False    False  False     False      False  \n1   False   False      False    False  False      True       True  \n2   False   False      False    False  False      True       True  \n3   False   False      False    False  False      True      False  \n4   False   False      False    False  False     False       True  \n..    ...     ...        ...      ...    ...       ...        ...  \n82  False   False       True    False  False      True       True  \n83  False   False       True    False  False      True      False  \n84  False   False       True    False  False      True       True  \n85   True    True       True     True  False      True       True  \n86  False   False      False    False  False      True      False  \n\n[87 rows x 14 columns]",
      "text/html": "<div>\n<style scoped>\n    .dataframe tbody tr th:only-of-type {\n        vertical-align: middle;\n    }\n\n    .dataframe tbody tr th {\n        vertical-align: top;\n    }\n\n    .dataframe thead th {\n        text-align: right;\n    }\n</style>\n<table border=\"1\" class=\"dataframe\">\n  <thead>\n    <tr style=\"text-align: right;\">\n      <th></th>\n      <th>name</th>\n      <th>height</th>\n      <th>mass</th>\n      <th>hair_color</th>\n      <th>skin_color</th>\n      <th>eye_color</th>\n      <th>birth_year</th>\n      <th>sex</th>\n      <th>gender</th>\n      <th>homeworld</th>\n      <th>species</th>\n      <th>films</th>\n      <th>vehicles</th>\n      <th>starships</th>\n    </tr>\n  </thead>\n  <tbody>\n    <tr>\n      <th>0</th>\n      <td>False</td>\n      <td>False</td>\n      <td>False</td>\n      <td>False</td>\n      <td>False</td>\n      <td>False</td>\n      <td>False</td>\n      <td>False</td>\n      <td>False</td>\n      <td>False</td>\n      <td>False</td>\n      <td>False</td>\n      <td>False</td>\n      <td>False</td>\n    </tr>\n    <tr>\n      <th>1</th>\n      <td>False</td>\n      <td>False</td>\n      <td>False</td>\n      <td>True</td>\n      <td>False</td>\n      <td>False</td>\n      <td>False</td>\n      <td>False</td>\n      <td>False</td>\n      <td>False</td>\n      <td>False</td>\n      <td>False</td>\n      <td>True</td>\n      <td>True</td>\n    </tr>\n    <tr>\n      <th>2</th>\n      <td>False</td>\n      <td>False</td>\n      <td>False</td>\n      <td>True</td>\n      <td>False</td>\n      <td>False</td>\n      <td>False</td>\n      <td>False</td>\n      <td>False</td>\n      <td>False</td>\n      <td>False</td>\n      <td>False</td>\n      <td>True</td>\n      <td>True</td>\n    </tr>\n    <tr>\n      <th>3</th>\n      <td>False</td>\n      <td>False</td>\n      <td>False</td>\n      <td>False</td>\n      <td>False</td>\n      <td>False</td>\n      <td>False</td>\n      <td>False</td>\n      <td>False</td>\n      <td>False</td>\n      <td>False</td>\n      <td>False</td>\n      <td>True</td>\n      <td>False</td>\n    </tr>\n    <tr>\n      <th>4</th>\n      <td>False</td>\n      <td>False</td>\n      <td>False</td>\n      <td>False</td>\n      <td>False</td>\n      <td>False</td>\n      <td>False</td>\n      <td>False</td>\n      <td>False</td>\n      <td>False</td>\n      <td>False</td>\n      <td>False</td>\n      <td>False</td>\n      <td>True</td>\n    </tr>\n    <tr>\n      <th>...</th>\n      <td>...</td>\n      <td>...</td>\n      <td>...</td>\n      <td>...</td>\n      <td>...</td>\n      <td>...</td>\n      <td>...</td>\n      <td>...</td>\n      <td>...</td>\n      <td>...</td>\n      <td>...</td>\n      <td>...</td>\n      <td>...</td>\n      <td>...</td>\n    </tr>\n    <tr>\n      <th>82</th>\n      <td>False</td>\n      <td>True</td>\n      <td>True</td>\n      <td>False</td>\n      <td>False</td>\n      <td>False</td>\n      <td>True</td>\n      <td>False</td>\n      <td>False</td>\n      <td>True</td>\n      <td>False</td>\n      <td>False</td>\n      <td>True</td>\n      <td>True</td>\n    </tr>\n    <tr>\n      <th>83</th>\n      <td>False</td>\n      <td>True</td>\n      <td>True</td>\n      <td>False</td>\n      <td>False</td>\n      <td>False</td>\n      <td>True</td>\n      <td>False</td>\n      <td>False</td>\n      <td>True</td>\n      <td>False</td>\n      <td>False</td>\n      <td>True</td>\n      <td>False</td>\n    </tr>\n    <tr>\n      <th>84</th>\n      <td>False</td>\n      <td>True</td>\n      <td>True</td>\n      <td>False</td>\n      <td>False</td>\n      <td>False</td>\n      <td>True</td>\n      <td>False</td>\n      <td>False</td>\n      <td>True</td>\n      <td>False</td>\n      <td>False</td>\n      <td>True</td>\n      <td>True</td>\n    </tr>\n    <tr>\n      <th>85</th>\n      <td>False</td>\n      <td>True</td>\n      <td>True</td>\n      <td>False</td>\n      <td>False</td>\n      <td>False</td>\n      <td>True</td>\n      <td>True</td>\n      <td>True</td>\n      <td>True</td>\n      <td>True</td>\n      <td>False</td>\n      <td>True</td>\n      <td>True</td>\n    </tr>\n    <tr>\n      <th>86</th>\n      <td>False</td>\n      <td>False</td>\n      <td>False</td>\n      <td>False</td>\n      <td>False</td>\n      <td>False</td>\n      <td>False</td>\n      <td>False</td>\n      <td>False</td>\n      <td>False</td>\n      <td>False</td>\n      <td>False</td>\n      <td>True</td>\n      <td>False</td>\n    </tr>\n  </tbody>\n</table>\n<p>87 rows × 14 columns</p>\n</div>"
     },
     "execution_count": 98,
     "metadata": {},
     "output_type": "execute_result"
    }
   ],
   "source": [
    "df.isna() # this will return a boolean dataframe where True means that the value is null and False means that the value is not null. NaN is a null value."
   ],
   "metadata": {
    "collapsed": false,
    "ExecuteTime": {
     "start_time": "2023-08-14T01:09:47.418322Z",
     "end_time": "2023-08-14T01:09:47.617318Z"
    }
   }
  },
  {
   "cell_type": "code",
   "execution_count": 99,
   "outputs": [
    {
     "name": "stdout",
     "output_type": "stream",
     "text": [
      "<class 'pandas.core.frame.DataFrame'>\n",
      "RangeIndex: 87 entries, 0 to 86\n",
      "Data columns (total 14 columns):\n",
      " #   Column      Non-Null Count  Dtype  \n",
      "---  ------      --------------  -----  \n",
      " 0   name        87 non-null     object \n",
      " 1   height      81 non-null     float64\n",
      " 2   mass        59 non-null     float64\n",
      " 3   hair_color  82 non-null     object \n",
      " 4   skin_color  87 non-null     object \n",
      " 5   eye_color   87 non-null     object \n",
      " 6   birth_year  43 non-null     float64\n",
      " 7   sex         83 non-null     object \n",
      " 8   gender      83 non-null     object \n",
      " 9   homeworld   77 non-null     object \n",
      " 10  species     83 non-null     object \n",
      " 11  films       87 non-null     object \n",
      " 12  vehicles    11 non-null     object \n",
      " 13  starships   20 non-null     object \n",
      "dtypes: float64(3), object(11)\n",
      "memory usage: 9.6+ KB\n"
     ]
    }
   ],
   "source": [
    "df.info()"
   ],
   "metadata": {
    "collapsed": false,
    "ExecuteTime": {
     "start_time": "2023-08-14T01:09:47.449319Z",
     "end_time": "2023-08-14T01:09:47.624318Z"
    }
   }
  },
  {
   "cell_type": "code",
   "execution_count": 100,
   "outputs": [
    {
     "data": {
      "text/plain": "name           0\nheight         6\nmass          28\nhair_color     5\nskin_color     0\neye_color      0\nbirth_year    44\nsex            4\ngender         4\nhomeworld     10\nspecies        4\nfilms          0\nvehicles      76\nstarships     67\ndtype: int64"
     },
     "execution_count": 100,
     "metadata": {},
     "output_type": "execute_result"
    }
   ],
   "source": [
    "df.isnull().sum() # this will return the number of null values in each column"
   ],
   "metadata": {
    "collapsed": false,
    "ExecuteTime": {
     "start_time": "2023-08-14T01:09:47.466322Z",
     "end_time": "2023-08-14T01:09:47.625318Z"
    }
   }
  },
  {
   "cell_type": "code",
   "execution_count": 101,
   "outputs": [
    {
     "data": {
      "text/plain": "248"
     },
     "execution_count": 101,
     "metadata": {},
     "output_type": "execute_result"
    }
   ],
   "source": [
    "df.isnull().sum().sum() # this will return the total number of null values in the dataframe"
   ],
   "metadata": {
    "collapsed": false,
    "ExecuteTime": {
     "start_time": "2023-08-14T01:09:47.483318Z",
     "end_time": "2023-08-14T01:09:47.625318Z"
    }
   }
  },
  {
   "cell_type": "code",
   "execution_count": 102,
   "outputs": [
    {
     "data": {
      "text/plain": "(87, 14)"
     },
     "execution_count": 102,
     "metadata": {},
     "output_type": "execute_result"
    }
   ],
   "source": [
    "df.shape"
   ],
   "metadata": {
    "collapsed": false,
    "ExecuteTime": {
     "start_time": "2023-08-14T01:09:47.498324Z",
     "end_time": "2023-08-14T01:09:47.625318Z"
    }
   }
  },
  {
   "cell_type": "code",
   "execution_count": 103,
   "outputs": [
    {
     "data": {
      "text/plain": "name          0.000000\nheight        0.068966\nmass          0.321839\nhair_color    0.057471\nskin_color    0.000000\neye_color     0.000000\nbirth_year    0.505747\nsex           0.045977\ngender        0.045977\nhomeworld     0.114943\nspecies       0.045977\nfilms         0.000000\nvehicles      0.873563\nstarships     0.770115\ndtype: float64"
     },
     "execution_count": 103,
     "metadata": {},
     "output_type": "execute_result"
    }
   ],
   "source": [
    "missing_values_rate_row = df.isnull().sum() / df.shape[0] # this will return the percentage of null values in each column\n",
    "missing_values_rate_row"
   ],
   "metadata": {
    "collapsed": false,
    "ExecuteTime": {
     "start_time": "2023-08-14T01:09:47.515321Z",
     "end_time": "2023-08-14T01:09:47.626318Z"
    }
   }
  },
  {
   "cell_type": "code",
   "execution_count": 104,
   "outputs": [
    {
     "data": {
      "text/plain": "0.20361247947454844"
     },
     "execution_count": 104,
     "metadata": {},
     "output_type": "execute_result"
    }
   ],
   "source": [
    "missing_values_rate = df.isna().sum().sum() / df.size # this will return the percentage of null values in the dataframe\n",
    "missing_values_rate"
   ],
   "metadata": {
    "collapsed": false,
    "ExecuteTime": {
     "start_time": "2023-08-14T01:09:47.528320Z",
     "end_time": "2023-08-14T01:09:47.626318Z"
    }
   }
  },
  {
   "cell_type": "code",
   "execution_count": 105,
   "outputs": [
    {
     "data": {
      "text/plain": "               name  height   mass hair_color   skin_color eye_color  \\\n0    Luke Skywalker   172.0   77.0      blond         fair      blue   \n1             C-3PO   167.0   75.0        NaN         gold    yellow   \n2             R2-D2    96.0   32.0        NaN  white, blue       red   \n3       Darth Vader   202.0  136.0       none        white    yellow   \n4       Leia Organa   150.0   49.0      brown        light     brown   \n..              ...     ...    ...        ...          ...       ...   \n77          Tarfful   234.0  136.0      brown        brown      blue   \n78  Raymus Antilles   188.0   79.0      brown        light     brown   \n79        Sly Moore   178.0   48.0       none         pale     white   \n80       Tion Medon   206.0   80.0       none         grey     black   \n86    Padmé Amidala   165.0   45.0      brown        light     brown   \n\n    birth_year     sex     gender homeworld  species  \\\n0         19.0    male  masculine  Tatooine    Human   \n1        112.0    none  masculine  Tatooine    Droid   \n2         33.0    none  masculine     Naboo    Droid   \n3         41.9    male  masculine  Tatooine    Human   \n4         19.0  female   feminine  Alderaan    Human   \n..         ...     ...        ...       ...      ...   \n77         NaN    male  masculine  Kashyyyk  Wookiee   \n78         NaN    male  masculine  Alderaan    Human   \n79         NaN     NaN        NaN    Umbara      NaN   \n80         NaN    male  masculine    Utapau   Pau'an   \n86        46.0  female   feminine     Naboo    Human   \n\n                                                films  \\\n0   The Empire Strikes Back, Revenge of the Sith, ...   \n1   The Empire Strikes Back, Attack of the Clones,...   \n2   The Empire Strikes Back, Attack of the Clones,...   \n3   The Empire Strikes Back, Revenge of the Sith, ...   \n4   The Empire Strikes Back, Revenge of the Sith, ...   \n..                                                ...   \n77                                Revenge of the Sith   \n78                    Revenge of the Sith, A New Hope   \n79          Attack of the Clones, Revenge of the Sith   \n80                                Revenge of the Sith   \n86  Attack of the Clones, The Phantom Menace, Reve...   \n\n                              vehicles  \\\n0   Snowspeeder, Imperial Speeder Bike   \n1                                  NaN   \n2                                  NaN   \n3                                  NaN   \n4                Imperial Speeder Bike   \n..                                 ...   \n77                                 NaN   \n78                                 NaN   \n79                                 NaN   \n80                                 NaN   \n86                                 NaN   \n\n                                            starships  \n0                            X-wing, Imperial shuttle  \n1                                                 NaN  \n2                                                 NaN  \n3                                     TIE Advanced x1  \n4                                                 NaN  \n..                                                ...  \n77                                                NaN  \n78                                                NaN  \n79                                                NaN  \n80                                                NaN  \n86  H-type Nubian yacht, Naboo star skiff, Naboo f...  \n\n[77 rows x 14 columns]",
      "text/html": "<div>\n<style scoped>\n    .dataframe tbody tr th:only-of-type {\n        vertical-align: middle;\n    }\n\n    .dataframe tbody tr th {\n        vertical-align: top;\n    }\n\n    .dataframe thead th {\n        text-align: right;\n    }\n</style>\n<table border=\"1\" class=\"dataframe\">\n  <thead>\n    <tr style=\"text-align: right;\">\n      <th></th>\n      <th>name</th>\n      <th>height</th>\n      <th>mass</th>\n      <th>hair_color</th>\n      <th>skin_color</th>\n      <th>eye_color</th>\n      <th>birth_year</th>\n      <th>sex</th>\n      <th>gender</th>\n      <th>homeworld</th>\n      <th>species</th>\n      <th>films</th>\n      <th>vehicles</th>\n      <th>starships</th>\n    </tr>\n  </thead>\n  <tbody>\n    <tr>\n      <th>0</th>\n      <td>Luke Skywalker</td>\n      <td>172.0</td>\n      <td>77.0</td>\n      <td>blond</td>\n      <td>fair</td>\n      <td>blue</td>\n      <td>19.0</td>\n      <td>male</td>\n      <td>masculine</td>\n      <td>Tatooine</td>\n      <td>Human</td>\n      <td>The Empire Strikes Back, Revenge of the Sith, ...</td>\n      <td>Snowspeeder, Imperial Speeder Bike</td>\n      <td>X-wing, Imperial shuttle</td>\n    </tr>\n    <tr>\n      <th>1</th>\n      <td>C-3PO</td>\n      <td>167.0</td>\n      <td>75.0</td>\n      <td>NaN</td>\n      <td>gold</td>\n      <td>yellow</td>\n      <td>112.0</td>\n      <td>none</td>\n      <td>masculine</td>\n      <td>Tatooine</td>\n      <td>Droid</td>\n      <td>The Empire Strikes Back, Attack of the Clones,...</td>\n      <td>NaN</td>\n      <td>NaN</td>\n    </tr>\n    <tr>\n      <th>2</th>\n      <td>R2-D2</td>\n      <td>96.0</td>\n      <td>32.0</td>\n      <td>NaN</td>\n      <td>white, blue</td>\n      <td>red</td>\n      <td>33.0</td>\n      <td>none</td>\n      <td>masculine</td>\n      <td>Naboo</td>\n      <td>Droid</td>\n      <td>The Empire Strikes Back, Attack of the Clones,...</td>\n      <td>NaN</td>\n      <td>NaN</td>\n    </tr>\n    <tr>\n      <th>3</th>\n      <td>Darth Vader</td>\n      <td>202.0</td>\n      <td>136.0</td>\n      <td>none</td>\n      <td>white</td>\n      <td>yellow</td>\n      <td>41.9</td>\n      <td>male</td>\n      <td>masculine</td>\n      <td>Tatooine</td>\n      <td>Human</td>\n      <td>The Empire Strikes Back, Revenge of the Sith, ...</td>\n      <td>NaN</td>\n      <td>TIE Advanced x1</td>\n    </tr>\n    <tr>\n      <th>4</th>\n      <td>Leia Organa</td>\n      <td>150.0</td>\n      <td>49.0</td>\n      <td>brown</td>\n      <td>light</td>\n      <td>brown</td>\n      <td>19.0</td>\n      <td>female</td>\n      <td>feminine</td>\n      <td>Alderaan</td>\n      <td>Human</td>\n      <td>The Empire Strikes Back, Revenge of the Sith, ...</td>\n      <td>Imperial Speeder Bike</td>\n      <td>NaN</td>\n    </tr>\n    <tr>\n      <th>...</th>\n      <td>...</td>\n      <td>...</td>\n      <td>...</td>\n      <td>...</td>\n      <td>...</td>\n      <td>...</td>\n      <td>...</td>\n      <td>...</td>\n      <td>...</td>\n      <td>...</td>\n      <td>...</td>\n      <td>...</td>\n      <td>...</td>\n      <td>...</td>\n    </tr>\n    <tr>\n      <th>77</th>\n      <td>Tarfful</td>\n      <td>234.0</td>\n      <td>136.0</td>\n      <td>brown</td>\n      <td>brown</td>\n      <td>blue</td>\n      <td>NaN</td>\n      <td>male</td>\n      <td>masculine</td>\n      <td>Kashyyyk</td>\n      <td>Wookiee</td>\n      <td>Revenge of the Sith</td>\n      <td>NaN</td>\n      <td>NaN</td>\n    </tr>\n    <tr>\n      <th>78</th>\n      <td>Raymus Antilles</td>\n      <td>188.0</td>\n      <td>79.0</td>\n      <td>brown</td>\n      <td>light</td>\n      <td>brown</td>\n      <td>NaN</td>\n      <td>male</td>\n      <td>masculine</td>\n      <td>Alderaan</td>\n      <td>Human</td>\n      <td>Revenge of the Sith, A New Hope</td>\n      <td>NaN</td>\n      <td>NaN</td>\n    </tr>\n    <tr>\n      <th>79</th>\n      <td>Sly Moore</td>\n      <td>178.0</td>\n      <td>48.0</td>\n      <td>none</td>\n      <td>pale</td>\n      <td>white</td>\n      <td>NaN</td>\n      <td>NaN</td>\n      <td>NaN</td>\n      <td>Umbara</td>\n      <td>NaN</td>\n      <td>Attack of the Clones, Revenge of the Sith</td>\n      <td>NaN</td>\n      <td>NaN</td>\n    </tr>\n    <tr>\n      <th>80</th>\n      <td>Tion Medon</td>\n      <td>206.0</td>\n      <td>80.0</td>\n      <td>none</td>\n      <td>grey</td>\n      <td>black</td>\n      <td>NaN</td>\n      <td>male</td>\n      <td>masculine</td>\n      <td>Utapau</td>\n      <td>Pau'an</td>\n      <td>Revenge of the Sith</td>\n      <td>NaN</td>\n      <td>NaN</td>\n    </tr>\n    <tr>\n      <th>86</th>\n      <td>Padmé Amidala</td>\n      <td>165.0</td>\n      <td>45.0</td>\n      <td>brown</td>\n      <td>light</td>\n      <td>brown</td>\n      <td>46.0</td>\n      <td>female</td>\n      <td>feminine</td>\n      <td>Naboo</td>\n      <td>Human</td>\n      <td>Attack of the Clones, The Phantom Menace, Reve...</td>\n      <td>NaN</td>\n      <td>H-type Nubian yacht, Naboo star skiff, Naboo f...</td>\n    </tr>\n  </tbody>\n</table>\n<p>77 rows × 14 columns</p>\n</div>"
     },
     "execution_count": 105,
     "metadata": {},
     "output_type": "execute_result"
    }
   ],
   "source": [
    "df[df[\"homeworld\"].notnull()] # this will return the rows where the homeworld column is not null"
   ],
   "metadata": {
    "collapsed": false,
    "ExecuteTime": {
     "start_time": "2023-08-14T01:09:47.544319Z",
     "end_time": "2023-08-14T01:09:47.626318Z"
    }
   }
  },
  {
   "cell_type": "code",
   "execution_count": 106,
   "outputs": [
    {
     "data": {
      "text/plain": "              name  height   mass hair_color   skin_color  eye_color  \\\n18            Yoda    66.0   17.0      white        green      brown   \n21           IG-88   200.0  140.0       none        metal        red   \n27    Arvel Crynyd     NaN    NaN      brown         fair      brown   \n30    Qui-Gon Jinn   193.0   89.0      brown         fair       blue   \n72          R4-P17    96.0    NaN       none  silver, red  red, blue   \n81            Finn     NaN    NaN      black         dark       dark   \n82             Rey     NaN    NaN      brown        light      hazel   \n83     Poe Dameron     NaN    NaN      brown        light      brown   \n84             BB8     NaN    NaN       none         none      black   \n85  Captain Phasma     NaN    NaN    unknown      unknown    unknown   \n\n    birth_year     sex     gender homeworld         species  \\\n18       896.0    male  masculine       NaN  Yoda's species   \n21        15.0    none  masculine       NaN           Droid   \n27         NaN    male  masculine       NaN           Human   \n30        92.0    male  masculine       NaN           Human   \n72         NaN    none   feminine       NaN           Droid   \n81         NaN    male  masculine       NaN           Human   \n82         NaN  female   feminine       NaN           Human   \n83         NaN    male  masculine       NaN           Human   \n84         NaN    none  masculine       NaN           Droid   \n85         NaN     NaN        NaN       NaN             NaN   \n\n                                                films         vehicles  \\\n18  The Empire Strikes Back, Attack of the Clones,...              NaN   \n21                            The Empire Strikes Back              NaN   \n27                                 Return of the Jedi              NaN   \n30                                 The Phantom Menace  Tribubble bongo   \n72          Attack of the Clones, Revenge of the Sith              NaN   \n81                                  The Force Awakens              NaN   \n82                                  The Force Awakens              NaN   \n83                                  The Force Awakens              NaN   \n84                                  The Force Awakens              NaN   \n85                                  The Force Awakens              NaN   \n\n              starships  \n18                  NaN  \n21                  NaN  \n27               A-wing  \n30                  NaN  \n72                  NaN  \n81                  NaN  \n82                  NaN  \n83  T-70 X-wing fighter  \n84                  NaN  \n85                  NaN  ",
      "text/html": "<div>\n<style scoped>\n    .dataframe tbody tr th:only-of-type {\n        vertical-align: middle;\n    }\n\n    .dataframe tbody tr th {\n        vertical-align: top;\n    }\n\n    .dataframe thead th {\n        text-align: right;\n    }\n</style>\n<table border=\"1\" class=\"dataframe\">\n  <thead>\n    <tr style=\"text-align: right;\">\n      <th></th>\n      <th>name</th>\n      <th>height</th>\n      <th>mass</th>\n      <th>hair_color</th>\n      <th>skin_color</th>\n      <th>eye_color</th>\n      <th>birth_year</th>\n      <th>sex</th>\n      <th>gender</th>\n      <th>homeworld</th>\n      <th>species</th>\n      <th>films</th>\n      <th>vehicles</th>\n      <th>starships</th>\n    </tr>\n  </thead>\n  <tbody>\n    <tr>\n      <th>18</th>\n      <td>Yoda</td>\n      <td>66.0</td>\n      <td>17.0</td>\n      <td>white</td>\n      <td>green</td>\n      <td>brown</td>\n      <td>896.0</td>\n      <td>male</td>\n      <td>masculine</td>\n      <td>NaN</td>\n      <td>Yoda's species</td>\n      <td>The Empire Strikes Back, Attack of the Clones,...</td>\n      <td>NaN</td>\n      <td>NaN</td>\n    </tr>\n    <tr>\n      <th>21</th>\n      <td>IG-88</td>\n      <td>200.0</td>\n      <td>140.0</td>\n      <td>none</td>\n      <td>metal</td>\n      <td>red</td>\n      <td>15.0</td>\n      <td>none</td>\n      <td>masculine</td>\n      <td>NaN</td>\n      <td>Droid</td>\n      <td>The Empire Strikes Back</td>\n      <td>NaN</td>\n      <td>NaN</td>\n    </tr>\n    <tr>\n      <th>27</th>\n      <td>Arvel Crynyd</td>\n      <td>NaN</td>\n      <td>NaN</td>\n      <td>brown</td>\n      <td>fair</td>\n      <td>brown</td>\n      <td>NaN</td>\n      <td>male</td>\n      <td>masculine</td>\n      <td>NaN</td>\n      <td>Human</td>\n      <td>Return of the Jedi</td>\n      <td>NaN</td>\n      <td>A-wing</td>\n    </tr>\n    <tr>\n      <th>30</th>\n      <td>Qui-Gon Jinn</td>\n      <td>193.0</td>\n      <td>89.0</td>\n      <td>brown</td>\n      <td>fair</td>\n      <td>blue</td>\n      <td>92.0</td>\n      <td>male</td>\n      <td>masculine</td>\n      <td>NaN</td>\n      <td>Human</td>\n      <td>The Phantom Menace</td>\n      <td>Tribubble bongo</td>\n      <td>NaN</td>\n    </tr>\n    <tr>\n      <th>72</th>\n      <td>R4-P17</td>\n      <td>96.0</td>\n      <td>NaN</td>\n      <td>none</td>\n      <td>silver, red</td>\n      <td>red, blue</td>\n      <td>NaN</td>\n      <td>none</td>\n      <td>feminine</td>\n      <td>NaN</td>\n      <td>Droid</td>\n      <td>Attack of the Clones, Revenge of the Sith</td>\n      <td>NaN</td>\n      <td>NaN</td>\n    </tr>\n    <tr>\n      <th>81</th>\n      <td>Finn</td>\n      <td>NaN</td>\n      <td>NaN</td>\n      <td>black</td>\n      <td>dark</td>\n      <td>dark</td>\n      <td>NaN</td>\n      <td>male</td>\n      <td>masculine</td>\n      <td>NaN</td>\n      <td>Human</td>\n      <td>The Force Awakens</td>\n      <td>NaN</td>\n      <td>NaN</td>\n    </tr>\n    <tr>\n      <th>82</th>\n      <td>Rey</td>\n      <td>NaN</td>\n      <td>NaN</td>\n      <td>brown</td>\n      <td>light</td>\n      <td>hazel</td>\n      <td>NaN</td>\n      <td>female</td>\n      <td>feminine</td>\n      <td>NaN</td>\n      <td>Human</td>\n      <td>The Force Awakens</td>\n      <td>NaN</td>\n      <td>NaN</td>\n    </tr>\n    <tr>\n      <th>83</th>\n      <td>Poe Dameron</td>\n      <td>NaN</td>\n      <td>NaN</td>\n      <td>brown</td>\n      <td>light</td>\n      <td>brown</td>\n      <td>NaN</td>\n      <td>male</td>\n      <td>masculine</td>\n      <td>NaN</td>\n      <td>Human</td>\n      <td>The Force Awakens</td>\n      <td>NaN</td>\n      <td>T-70 X-wing fighter</td>\n    </tr>\n    <tr>\n      <th>84</th>\n      <td>BB8</td>\n      <td>NaN</td>\n      <td>NaN</td>\n      <td>none</td>\n      <td>none</td>\n      <td>black</td>\n      <td>NaN</td>\n      <td>none</td>\n      <td>masculine</td>\n      <td>NaN</td>\n      <td>Droid</td>\n      <td>The Force Awakens</td>\n      <td>NaN</td>\n      <td>NaN</td>\n    </tr>\n    <tr>\n      <th>85</th>\n      <td>Captain Phasma</td>\n      <td>NaN</td>\n      <td>NaN</td>\n      <td>unknown</td>\n      <td>unknown</td>\n      <td>unknown</td>\n      <td>NaN</td>\n      <td>NaN</td>\n      <td>NaN</td>\n      <td>NaN</td>\n      <td>NaN</td>\n      <td>The Force Awakens</td>\n      <td>NaN</td>\n      <td>NaN</td>\n    </tr>\n  </tbody>\n</table>\n</div>"
     },
     "execution_count": 106,
     "metadata": {},
     "output_type": "execute_result"
    }
   ],
   "source": [
    "df[df[\"homeworld\"].isnull()] # this will return the rows where the homeworld column is null"
   ],
   "metadata": {
    "collapsed": false,
    "ExecuteTime": {
     "start_time": "2023-08-14T01:09:47.576320Z",
     "end_time": "2023-08-14T01:09:47.739315Z"
    }
   }
  },
  {
   "cell_type": "code",
   "execution_count": 107,
   "outputs": [
    {
     "data": {
      "text/plain": "                name  height   mass     hair_color skin_color  eye_color  \\\n0     Luke Skywalker   172.0   77.0          blond       fair       blue   \n9     Obi-Wan Kenobi   182.0   77.0  auburn, white       fair  blue-gray   \n10  Anakin Skywalker   188.0   84.0          blond       fair       blue   \n12         Chewbacca   228.0  112.0          brown    unknown       blue   \n16    Wedge Antilles   170.0   77.0          brown       fair      hazel   \n41        Darth Maul   175.0   80.0           none        red     yellow   \n\n    birth_year   sex     gender homeworld  species  \\\n0         19.0  male  masculine  Tatooine    Human   \n9         57.0  male  masculine   Stewjon    Human   \n10        41.9  male  masculine  Tatooine    Human   \n12       200.0  male  masculine  Kashyyyk  Wookiee   \n16        21.0  male  masculine  Corellia    Human   \n41        54.0  male  masculine  Dathomir   Zabrak   \n\n                                                films  \\\n0   The Empire Strikes Back, Revenge of the Sith, ...   \n9   The Empire Strikes Back, Attack of the Clones,...   \n10  Attack of the Clones, The Phantom Menace, Reve...   \n12  The Empire Strikes Back, Revenge of the Sith, ...   \n16  The Empire Strikes Back, Return of the Jedi, A...   \n41                                 The Phantom Menace   \n\n                                vehicles  \\\n0     Snowspeeder, Imperial Speeder Bike   \n9                        Tribubble bongo   \n10  Zephyr-G swoop bike, XJ-6 airspeeder   \n12                                 AT-ST   \n16                           Snowspeeder   \n41                          Sith speeder   \n\n                                            starships  \n0                            X-wing, Imperial shuttle  \n9   Jedi starfighter, Trade Federation cruiser, Na...  \n10  Trade Federation cruiser, Jedi Interceptor, Na...  \n12                Millennium Falcon, Imperial shuttle  \n16                                             X-wing  \n41                                           Scimitar  ",
      "text/html": "<div>\n<style scoped>\n    .dataframe tbody tr th:only-of-type {\n        vertical-align: middle;\n    }\n\n    .dataframe tbody tr th {\n        vertical-align: top;\n    }\n\n    .dataframe thead th {\n        text-align: right;\n    }\n</style>\n<table border=\"1\" class=\"dataframe\">\n  <thead>\n    <tr style=\"text-align: right;\">\n      <th></th>\n      <th>name</th>\n      <th>height</th>\n      <th>mass</th>\n      <th>hair_color</th>\n      <th>skin_color</th>\n      <th>eye_color</th>\n      <th>birth_year</th>\n      <th>sex</th>\n      <th>gender</th>\n      <th>homeworld</th>\n      <th>species</th>\n      <th>films</th>\n      <th>vehicles</th>\n      <th>starships</th>\n    </tr>\n  </thead>\n  <tbody>\n    <tr>\n      <th>0</th>\n      <td>Luke Skywalker</td>\n      <td>172.0</td>\n      <td>77.0</td>\n      <td>blond</td>\n      <td>fair</td>\n      <td>blue</td>\n      <td>19.0</td>\n      <td>male</td>\n      <td>masculine</td>\n      <td>Tatooine</td>\n      <td>Human</td>\n      <td>The Empire Strikes Back, Revenge of the Sith, ...</td>\n      <td>Snowspeeder, Imperial Speeder Bike</td>\n      <td>X-wing, Imperial shuttle</td>\n    </tr>\n    <tr>\n      <th>9</th>\n      <td>Obi-Wan Kenobi</td>\n      <td>182.0</td>\n      <td>77.0</td>\n      <td>auburn, white</td>\n      <td>fair</td>\n      <td>blue-gray</td>\n      <td>57.0</td>\n      <td>male</td>\n      <td>masculine</td>\n      <td>Stewjon</td>\n      <td>Human</td>\n      <td>The Empire Strikes Back, Attack of the Clones,...</td>\n      <td>Tribubble bongo</td>\n      <td>Jedi starfighter, Trade Federation cruiser, Na...</td>\n    </tr>\n    <tr>\n      <th>10</th>\n      <td>Anakin Skywalker</td>\n      <td>188.0</td>\n      <td>84.0</td>\n      <td>blond</td>\n      <td>fair</td>\n      <td>blue</td>\n      <td>41.9</td>\n      <td>male</td>\n      <td>masculine</td>\n      <td>Tatooine</td>\n      <td>Human</td>\n      <td>Attack of the Clones, The Phantom Menace, Reve...</td>\n      <td>Zephyr-G swoop bike, XJ-6 airspeeder</td>\n      <td>Trade Federation cruiser, Jedi Interceptor, Na...</td>\n    </tr>\n    <tr>\n      <th>12</th>\n      <td>Chewbacca</td>\n      <td>228.0</td>\n      <td>112.0</td>\n      <td>brown</td>\n      <td>unknown</td>\n      <td>blue</td>\n      <td>200.0</td>\n      <td>male</td>\n      <td>masculine</td>\n      <td>Kashyyyk</td>\n      <td>Wookiee</td>\n      <td>The Empire Strikes Back, Revenge of the Sith, ...</td>\n      <td>AT-ST</td>\n      <td>Millennium Falcon, Imperial shuttle</td>\n    </tr>\n    <tr>\n      <th>16</th>\n      <td>Wedge Antilles</td>\n      <td>170.0</td>\n      <td>77.0</td>\n      <td>brown</td>\n      <td>fair</td>\n      <td>hazel</td>\n      <td>21.0</td>\n      <td>male</td>\n      <td>masculine</td>\n      <td>Corellia</td>\n      <td>Human</td>\n      <td>The Empire Strikes Back, Return of the Jedi, A...</td>\n      <td>Snowspeeder</td>\n      <td>X-wing</td>\n    </tr>\n    <tr>\n      <th>41</th>\n      <td>Darth Maul</td>\n      <td>175.0</td>\n      <td>80.0</td>\n      <td>none</td>\n      <td>red</td>\n      <td>yellow</td>\n      <td>54.0</td>\n      <td>male</td>\n      <td>masculine</td>\n      <td>Dathomir</td>\n      <td>Zabrak</td>\n      <td>The Phantom Menace</td>\n      <td>Sith speeder</td>\n      <td>Scimitar</td>\n    </tr>\n  </tbody>\n</table>\n</div>"
     },
     "execution_count": 107,
     "metadata": {},
     "output_type": "execute_result"
    }
   ],
   "source": [
    "df.dropna() # this will drop all the rows where there is at least one null value"
   ],
   "metadata": {
    "collapsed": false,
    "ExecuteTime": {
     "start_time": "2023-08-14T01:09:47.619319Z",
     "end_time": "2023-08-14T01:09:47.773315Z"
    }
   }
  },
  {
   "cell_type": "code",
   "execution_count": 108,
   "outputs": [
    {
     "data": {
      "text/plain": "              name   skin_color eye_color  \\\n0   Luke Skywalker         fair      blue   \n1            C-3PO         gold    yellow   \n2            R2-D2  white, blue       red   \n3      Darth Vader        white    yellow   \n4      Leia Organa        light     brown   \n..             ...          ...       ...   \n82             Rey        light     hazel   \n83     Poe Dameron        light     brown   \n84             BB8         none     black   \n85  Captain Phasma      unknown   unknown   \n86   Padmé Amidala        light     brown   \n\n                                                films  \n0   The Empire Strikes Back, Revenge of the Sith, ...  \n1   The Empire Strikes Back, Attack of the Clones,...  \n2   The Empire Strikes Back, Attack of the Clones,...  \n3   The Empire Strikes Back, Revenge of the Sith, ...  \n4   The Empire Strikes Back, Revenge of the Sith, ...  \n..                                                ...  \n82                                  The Force Awakens  \n83                                  The Force Awakens  \n84                                  The Force Awakens  \n85                                  The Force Awakens  \n86  Attack of the Clones, The Phantom Menace, Reve...  \n\n[87 rows x 4 columns]",
      "text/html": "<div>\n<style scoped>\n    .dataframe tbody tr th:only-of-type {\n        vertical-align: middle;\n    }\n\n    .dataframe tbody tr th {\n        vertical-align: top;\n    }\n\n    .dataframe thead th {\n        text-align: right;\n    }\n</style>\n<table border=\"1\" class=\"dataframe\">\n  <thead>\n    <tr style=\"text-align: right;\">\n      <th></th>\n      <th>name</th>\n      <th>skin_color</th>\n      <th>eye_color</th>\n      <th>films</th>\n    </tr>\n  </thead>\n  <tbody>\n    <tr>\n      <th>0</th>\n      <td>Luke Skywalker</td>\n      <td>fair</td>\n      <td>blue</td>\n      <td>The Empire Strikes Back, Revenge of the Sith, ...</td>\n    </tr>\n    <tr>\n      <th>1</th>\n      <td>C-3PO</td>\n      <td>gold</td>\n      <td>yellow</td>\n      <td>The Empire Strikes Back, Attack of the Clones,...</td>\n    </tr>\n    <tr>\n      <th>2</th>\n      <td>R2-D2</td>\n      <td>white, blue</td>\n      <td>red</td>\n      <td>The Empire Strikes Back, Attack of the Clones,...</td>\n    </tr>\n    <tr>\n      <th>3</th>\n      <td>Darth Vader</td>\n      <td>white</td>\n      <td>yellow</td>\n      <td>The Empire Strikes Back, Revenge of the Sith, ...</td>\n    </tr>\n    <tr>\n      <th>4</th>\n      <td>Leia Organa</td>\n      <td>light</td>\n      <td>brown</td>\n      <td>The Empire Strikes Back, Revenge of the Sith, ...</td>\n    </tr>\n    <tr>\n      <th>...</th>\n      <td>...</td>\n      <td>...</td>\n      <td>...</td>\n      <td>...</td>\n    </tr>\n    <tr>\n      <th>82</th>\n      <td>Rey</td>\n      <td>light</td>\n      <td>hazel</td>\n      <td>The Force Awakens</td>\n    </tr>\n    <tr>\n      <th>83</th>\n      <td>Poe Dameron</td>\n      <td>light</td>\n      <td>brown</td>\n      <td>The Force Awakens</td>\n    </tr>\n    <tr>\n      <th>84</th>\n      <td>BB8</td>\n      <td>none</td>\n      <td>black</td>\n      <td>The Force Awakens</td>\n    </tr>\n    <tr>\n      <th>85</th>\n      <td>Captain Phasma</td>\n      <td>unknown</td>\n      <td>unknown</td>\n      <td>The Force Awakens</td>\n    </tr>\n    <tr>\n      <th>86</th>\n      <td>Padmé Amidala</td>\n      <td>light</td>\n      <td>brown</td>\n      <td>Attack of the Clones, The Phantom Menace, Reve...</td>\n    </tr>\n  </tbody>\n</table>\n<p>87 rows × 4 columns</p>\n</div>"
     },
     "execution_count": 108,
     "metadata": {},
     "output_type": "execute_result"
    }
   ],
   "source": [
    "df.dropna(axis=1) # this will drop all the columns where there is at least one null value"
   ],
   "metadata": {
    "collapsed": false,
    "ExecuteTime": {
     "start_time": "2023-08-14T01:09:47.638323Z",
     "end_time": "2023-08-14T01:09:47.818642Z"
    }
   }
  },
  {
   "cell_type": "code",
   "execution_count": 109,
   "outputs": [
    {
     "data": {
      "text/plain": "               name  height   mass hair_color    skin_color      eye_color  \\\n0    Luke Skywalker   172.0   77.0      blond          fair           blue   \n1             C-3PO   167.0   75.0        NaN          gold         yellow   \n2             R2-D2    96.0   32.0        NaN   white, blue            red   \n3       Darth Vader   202.0  136.0       none         white         yellow   \n4       Leia Organa   150.0   49.0      brown         light          brown   \n..              ...     ...    ...        ...           ...            ...   \n76         Grievous   216.0  159.0       none  brown, white  green, yellow   \n77          Tarfful   234.0  136.0      brown         brown           blue   \n78  Raymus Antilles   188.0   79.0      brown         light          brown   \n80       Tion Medon   206.0   80.0       none          grey          black   \n86    Padmé Amidala   165.0   45.0      brown         light          brown   \n\n    birth_year     sex     gender homeworld  species  \\\n0         19.0    male  masculine  Tatooine    Human   \n1        112.0    none  masculine  Tatooine    Droid   \n2         33.0    none  masculine     Naboo    Droid   \n3         41.9    male  masculine  Tatooine    Human   \n4         19.0  female   feminine  Alderaan    Human   \n..         ...     ...        ...       ...      ...   \n76         NaN    male  masculine     Kalee  Kaleesh   \n77         NaN    male  masculine  Kashyyyk  Wookiee   \n78         NaN    male  masculine  Alderaan    Human   \n80         NaN    male  masculine    Utapau   Pau'an   \n86        46.0  female   feminine     Naboo    Human   \n\n                                                films  \\\n0   The Empire Strikes Back, Revenge of the Sith, ...   \n1   The Empire Strikes Back, Attack of the Clones,...   \n2   The Empire Strikes Back, Attack of the Clones,...   \n3   The Empire Strikes Back, Revenge of the Sith, ...   \n4   The Empire Strikes Back, Revenge of the Sith, ...   \n..                                                ...   \n76                                Revenge of the Sith   \n77                                Revenge of the Sith   \n78                    Revenge of the Sith, A New Hope   \n80                                Revenge of the Sith   \n86  Attack of the Clones, The Phantom Menace, Reve...   \n\n                              vehicles  \\\n0   Snowspeeder, Imperial Speeder Bike   \n1                                  NaN   \n2                                  NaN   \n3                                  NaN   \n4                Imperial Speeder Bike   \n..                                 ...   \n76         Tsmeu-6 personal wheel bike   \n77                                 NaN   \n78                                 NaN   \n80                                 NaN   \n86                                 NaN   \n\n                                            starships  \n0                            X-wing, Imperial shuttle  \n1                                                 NaN  \n2                                                 NaN  \n3                                     TIE Advanced x1  \n4                                                 NaN  \n..                                                ...  \n76                           Belbullab-22 starfighter  \n77                                                NaN  \n78                                                NaN  \n80                                                NaN  \n86  H-type Nubian yacht, Naboo star skiff, Naboo f...  \n\n[77 rows x 14 columns]",
      "text/html": "<div>\n<style scoped>\n    .dataframe tbody tr th:only-of-type {\n        vertical-align: middle;\n    }\n\n    .dataframe tbody tr th {\n        vertical-align: top;\n    }\n\n    .dataframe thead th {\n        text-align: right;\n    }\n</style>\n<table border=\"1\" class=\"dataframe\">\n  <thead>\n    <tr style=\"text-align: right;\">\n      <th></th>\n      <th>name</th>\n      <th>height</th>\n      <th>mass</th>\n      <th>hair_color</th>\n      <th>skin_color</th>\n      <th>eye_color</th>\n      <th>birth_year</th>\n      <th>sex</th>\n      <th>gender</th>\n      <th>homeworld</th>\n      <th>species</th>\n      <th>films</th>\n      <th>vehicles</th>\n      <th>starships</th>\n    </tr>\n  </thead>\n  <tbody>\n    <tr>\n      <th>0</th>\n      <td>Luke Skywalker</td>\n      <td>172.0</td>\n      <td>77.0</td>\n      <td>blond</td>\n      <td>fair</td>\n      <td>blue</td>\n      <td>19.0</td>\n      <td>male</td>\n      <td>masculine</td>\n      <td>Tatooine</td>\n      <td>Human</td>\n      <td>The Empire Strikes Back, Revenge of the Sith, ...</td>\n      <td>Snowspeeder, Imperial Speeder Bike</td>\n      <td>X-wing, Imperial shuttle</td>\n    </tr>\n    <tr>\n      <th>1</th>\n      <td>C-3PO</td>\n      <td>167.0</td>\n      <td>75.0</td>\n      <td>NaN</td>\n      <td>gold</td>\n      <td>yellow</td>\n      <td>112.0</td>\n      <td>none</td>\n      <td>masculine</td>\n      <td>Tatooine</td>\n      <td>Droid</td>\n      <td>The Empire Strikes Back, Attack of the Clones,...</td>\n      <td>NaN</td>\n      <td>NaN</td>\n    </tr>\n    <tr>\n      <th>2</th>\n      <td>R2-D2</td>\n      <td>96.0</td>\n      <td>32.0</td>\n      <td>NaN</td>\n      <td>white, blue</td>\n      <td>red</td>\n      <td>33.0</td>\n      <td>none</td>\n      <td>masculine</td>\n      <td>Naboo</td>\n      <td>Droid</td>\n      <td>The Empire Strikes Back, Attack of the Clones,...</td>\n      <td>NaN</td>\n      <td>NaN</td>\n    </tr>\n    <tr>\n      <th>3</th>\n      <td>Darth Vader</td>\n      <td>202.0</td>\n      <td>136.0</td>\n      <td>none</td>\n      <td>white</td>\n      <td>yellow</td>\n      <td>41.9</td>\n      <td>male</td>\n      <td>masculine</td>\n      <td>Tatooine</td>\n      <td>Human</td>\n      <td>The Empire Strikes Back, Revenge of the Sith, ...</td>\n      <td>NaN</td>\n      <td>TIE Advanced x1</td>\n    </tr>\n    <tr>\n      <th>4</th>\n      <td>Leia Organa</td>\n      <td>150.0</td>\n      <td>49.0</td>\n      <td>brown</td>\n      <td>light</td>\n      <td>brown</td>\n      <td>19.0</td>\n      <td>female</td>\n      <td>feminine</td>\n      <td>Alderaan</td>\n      <td>Human</td>\n      <td>The Empire Strikes Back, Revenge of the Sith, ...</td>\n      <td>Imperial Speeder Bike</td>\n      <td>NaN</td>\n    </tr>\n    <tr>\n      <th>...</th>\n      <td>...</td>\n      <td>...</td>\n      <td>...</td>\n      <td>...</td>\n      <td>...</td>\n      <td>...</td>\n      <td>...</td>\n      <td>...</td>\n      <td>...</td>\n      <td>...</td>\n      <td>...</td>\n      <td>...</td>\n      <td>...</td>\n      <td>...</td>\n    </tr>\n    <tr>\n      <th>76</th>\n      <td>Grievous</td>\n      <td>216.0</td>\n      <td>159.0</td>\n      <td>none</td>\n      <td>brown, white</td>\n      <td>green, yellow</td>\n      <td>NaN</td>\n      <td>male</td>\n      <td>masculine</td>\n      <td>Kalee</td>\n      <td>Kaleesh</td>\n      <td>Revenge of the Sith</td>\n      <td>Tsmeu-6 personal wheel bike</td>\n      <td>Belbullab-22 starfighter</td>\n    </tr>\n    <tr>\n      <th>77</th>\n      <td>Tarfful</td>\n      <td>234.0</td>\n      <td>136.0</td>\n      <td>brown</td>\n      <td>brown</td>\n      <td>blue</td>\n      <td>NaN</td>\n      <td>male</td>\n      <td>masculine</td>\n      <td>Kashyyyk</td>\n      <td>Wookiee</td>\n      <td>Revenge of the Sith</td>\n      <td>NaN</td>\n      <td>NaN</td>\n    </tr>\n    <tr>\n      <th>78</th>\n      <td>Raymus Antilles</td>\n      <td>188.0</td>\n      <td>79.0</td>\n      <td>brown</td>\n      <td>light</td>\n      <td>brown</td>\n      <td>NaN</td>\n      <td>male</td>\n      <td>masculine</td>\n      <td>Alderaan</td>\n      <td>Human</td>\n      <td>Revenge of the Sith, A New Hope</td>\n      <td>NaN</td>\n      <td>NaN</td>\n    </tr>\n    <tr>\n      <th>80</th>\n      <td>Tion Medon</td>\n      <td>206.0</td>\n      <td>80.0</td>\n      <td>none</td>\n      <td>grey</td>\n      <td>black</td>\n      <td>NaN</td>\n      <td>male</td>\n      <td>masculine</td>\n      <td>Utapau</td>\n      <td>Pau'an</td>\n      <td>Revenge of the Sith</td>\n      <td>NaN</td>\n      <td>NaN</td>\n    </tr>\n    <tr>\n      <th>86</th>\n      <td>Padmé Amidala</td>\n      <td>165.0</td>\n      <td>45.0</td>\n      <td>brown</td>\n      <td>light</td>\n      <td>brown</td>\n      <td>46.0</td>\n      <td>female</td>\n      <td>feminine</td>\n      <td>Naboo</td>\n      <td>Human</td>\n      <td>Attack of the Clones, The Phantom Menace, Reve...</td>\n      <td>NaN</td>\n      <td>H-type Nubian yacht, Naboo star skiff, Naboo f...</td>\n    </tr>\n  </tbody>\n</table>\n<p>77 rows × 14 columns</p>\n</div>"
     },
     "execution_count": 109,
     "metadata": {},
     "output_type": "execute_result"
    }
   ],
   "source": [
    "df.dropna(thresh=10) # this will drop all the rows where there are less than 10 non-null values"
   ],
   "metadata": {
    "collapsed": false,
    "ExecuteTime": {
     "start_time": "2023-08-14T01:09:47.662325Z",
     "end_time": "2023-08-14T01:09:47.907642Z"
    }
   }
  },
  {
   "cell_type": "code",
   "execution_count": 110,
   "outputs": [
    {
     "data": {
      "text/plain": "                  name  height   mass   hair_color skin_color eye_color  \\\n0       Luke Skywalker   172.0   77.0        blond       fair      blue   \n3          Darth Vader   202.0  136.0         none      white    yellow   \n4          Leia Organa   150.0   49.0        brown      light     brown   \n5            Owen Lars   178.0  120.0  brown, grey      light      blue   \n6   Beru Whitesun lars   165.0   75.0        brown      light      blue   \n..                 ...     ...    ...          ...        ...       ...   \n82                 Rey     NaN    NaN        brown      light     hazel   \n83         Poe Dameron     NaN    NaN        brown      light     brown   \n84                 BB8     NaN    NaN         none       none     black   \n85      Captain Phasma     NaN    NaN      unknown    unknown   unknown   \n86       Padmé Amidala   165.0   45.0        brown      light     brown   \n\n    birth_year     sex     gender homeworld species  \\\n0         19.0    male  masculine  Tatooine   Human   \n3         41.9    male  masculine  Tatooine   Human   \n4         19.0  female   feminine  Alderaan   Human   \n5         52.0    male  masculine  Tatooine   Human   \n6         47.0  female   feminine  Tatooine   Human   \n..         ...     ...        ...       ...     ...   \n82         NaN  female   feminine       NaN   Human   \n83         NaN    male  masculine       NaN   Human   \n84         NaN    none  masculine       NaN   Droid   \n85         NaN     NaN        NaN       NaN     NaN   \n86        46.0  female   feminine     Naboo   Human   \n\n                                                films  \\\n0   The Empire Strikes Back, Revenge of the Sith, ...   \n3   The Empire Strikes Back, Revenge of the Sith, ...   \n4   The Empire Strikes Back, Revenge of the Sith, ...   \n5   Attack of the Clones, Revenge of the Sith, A N...   \n6   Attack of the Clones, Revenge of the Sith, A N...   \n..                                                ...   \n82                                  The Force Awakens   \n83                                  The Force Awakens   \n84                                  The Force Awakens   \n85                                  The Force Awakens   \n86  Attack of the Clones, The Phantom Menace, Reve...   \n\n                              vehicles  \\\n0   Snowspeeder, Imperial Speeder Bike   \n3                                  NaN   \n4                Imperial Speeder Bike   \n5                                  NaN   \n6                                  NaN   \n..                                 ...   \n82                                 NaN   \n83                                 NaN   \n84                                 NaN   \n85                                 NaN   \n86                                 NaN   \n\n                                            starships  \n0                            X-wing, Imperial shuttle  \n3                                     TIE Advanced x1  \n4                                                 NaN  \n5                                                 NaN  \n6                                                 NaN  \n..                                                ...  \n82                                                NaN  \n83                                T-70 X-wing fighter  \n84                                                NaN  \n85                                                NaN  \n86  H-type Nubian yacht, Naboo star skiff, Naboo f...  \n\n[82 rows x 14 columns]",
      "text/html": "<div>\n<style scoped>\n    .dataframe tbody tr th:only-of-type {\n        vertical-align: middle;\n    }\n\n    .dataframe tbody tr th {\n        vertical-align: top;\n    }\n\n    .dataframe thead th {\n        text-align: right;\n    }\n</style>\n<table border=\"1\" class=\"dataframe\">\n  <thead>\n    <tr style=\"text-align: right;\">\n      <th></th>\n      <th>name</th>\n      <th>height</th>\n      <th>mass</th>\n      <th>hair_color</th>\n      <th>skin_color</th>\n      <th>eye_color</th>\n      <th>birth_year</th>\n      <th>sex</th>\n      <th>gender</th>\n      <th>homeworld</th>\n      <th>species</th>\n      <th>films</th>\n      <th>vehicles</th>\n      <th>starships</th>\n    </tr>\n  </thead>\n  <tbody>\n    <tr>\n      <th>0</th>\n      <td>Luke Skywalker</td>\n      <td>172.0</td>\n      <td>77.0</td>\n      <td>blond</td>\n      <td>fair</td>\n      <td>blue</td>\n      <td>19.0</td>\n      <td>male</td>\n      <td>masculine</td>\n      <td>Tatooine</td>\n      <td>Human</td>\n      <td>The Empire Strikes Back, Revenge of the Sith, ...</td>\n      <td>Snowspeeder, Imperial Speeder Bike</td>\n      <td>X-wing, Imperial shuttle</td>\n    </tr>\n    <tr>\n      <th>3</th>\n      <td>Darth Vader</td>\n      <td>202.0</td>\n      <td>136.0</td>\n      <td>none</td>\n      <td>white</td>\n      <td>yellow</td>\n      <td>41.9</td>\n      <td>male</td>\n      <td>masculine</td>\n      <td>Tatooine</td>\n      <td>Human</td>\n      <td>The Empire Strikes Back, Revenge of the Sith, ...</td>\n      <td>NaN</td>\n      <td>TIE Advanced x1</td>\n    </tr>\n    <tr>\n      <th>4</th>\n      <td>Leia Organa</td>\n      <td>150.0</td>\n      <td>49.0</td>\n      <td>brown</td>\n      <td>light</td>\n      <td>brown</td>\n      <td>19.0</td>\n      <td>female</td>\n      <td>feminine</td>\n      <td>Alderaan</td>\n      <td>Human</td>\n      <td>The Empire Strikes Back, Revenge of the Sith, ...</td>\n      <td>Imperial Speeder Bike</td>\n      <td>NaN</td>\n    </tr>\n    <tr>\n      <th>5</th>\n      <td>Owen Lars</td>\n      <td>178.0</td>\n      <td>120.0</td>\n      <td>brown, grey</td>\n      <td>light</td>\n      <td>blue</td>\n      <td>52.0</td>\n      <td>male</td>\n      <td>masculine</td>\n      <td>Tatooine</td>\n      <td>Human</td>\n      <td>Attack of the Clones, Revenge of the Sith, A N...</td>\n      <td>NaN</td>\n      <td>NaN</td>\n    </tr>\n    <tr>\n      <th>6</th>\n      <td>Beru Whitesun lars</td>\n      <td>165.0</td>\n      <td>75.0</td>\n      <td>brown</td>\n      <td>light</td>\n      <td>blue</td>\n      <td>47.0</td>\n      <td>female</td>\n      <td>feminine</td>\n      <td>Tatooine</td>\n      <td>Human</td>\n      <td>Attack of the Clones, Revenge of the Sith, A N...</td>\n      <td>NaN</td>\n      <td>NaN</td>\n    </tr>\n    <tr>\n      <th>...</th>\n      <td>...</td>\n      <td>...</td>\n      <td>...</td>\n      <td>...</td>\n      <td>...</td>\n      <td>...</td>\n      <td>...</td>\n      <td>...</td>\n      <td>...</td>\n      <td>...</td>\n      <td>...</td>\n      <td>...</td>\n      <td>...</td>\n      <td>...</td>\n    </tr>\n    <tr>\n      <th>82</th>\n      <td>Rey</td>\n      <td>NaN</td>\n      <td>NaN</td>\n      <td>brown</td>\n      <td>light</td>\n      <td>hazel</td>\n      <td>NaN</td>\n      <td>female</td>\n      <td>feminine</td>\n      <td>NaN</td>\n      <td>Human</td>\n      <td>The Force Awakens</td>\n      <td>NaN</td>\n      <td>NaN</td>\n    </tr>\n    <tr>\n      <th>83</th>\n      <td>Poe Dameron</td>\n      <td>NaN</td>\n      <td>NaN</td>\n      <td>brown</td>\n      <td>light</td>\n      <td>brown</td>\n      <td>NaN</td>\n      <td>male</td>\n      <td>masculine</td>\n      <td>NaN</td>\n      <td>Human</td>\n      <td>The Force Awakens</td>\n      <td>NaN</td>\n      <td>T-70 X-wing fighter</td>\n    </tr>\n    <tr>\n      <th>84</th>\n      <td>BB8</td>\n      <td>NaN</td>\n      <td>NaN</td>\n      <td>none</td>\n      <td>none</td>\n      <td>black</td>\n      <td>NaN</td>\n      <td>none</td>\n      <td>masculine</td>\n      <td>NaN</td>\n      <td>Droid</td>\n      <td>The Force Awakens</td>\n      <td>NaN</td>\n      <td>NaN</td>\n    </tr>\n    <tr>\n      <th>85</th>\n      <td>Captain Phasma</td>\n      <td>NaN</td>\n      <td>NaN</td>\n      <td>unknown</td>\n      <td>unknown</td>\n      <td>unknown</td>\n      <td>NaN</td>\n      <td>NaN</td>\n      <td>NaN</td>\n      <td>NaN</td>\n      <td>NaN</td>\n      <td>The Force Awakens</td>\n      <td>NaN</td>\n      <td>NaN</td>\n    </tr>\n    <tr>\n      <th>86</th>\n      <td>Padmé Amidala</td>\n      <td>165.0</td>\n      <td>45.0</td>\n      <td>brown</td>\n      <td>light</td>\n      <td>brown</td>\n      <td>46.0</td>\n      <td>female</td>\n      <td>feminine</td>\n      <td>Naboo</td>\n      <td>Human</td>\n      <td>Attack of the Clones, The Phantom Menace, Reve...</td>\n      <td>NaN</td>\n      <td>H-type Nubian yacht, Naboo star skiff, Naboo f...</td>\n    </tr>\n  </tbody>\n</table>\n<p>82 rows × 14 columns</p>\n</div>"
     },
     "execution_count": 110,
     "metadata": {},
     "output_type": "execute_result"
    }
   ],
   "source": [
    "df.dropna(subset=[\"hair_color\"]) # this will drop all the rows where the hair_color column is null"
   ],
   "metadata": {
    "collapsed": false,
    "ExecuteTime": {
     "start_time": "2023-08-14T01:09:47.685320Z",
     "end_time": "2023-08-14T01:09:47.908645Z"
    }
   }
  },
  {
   "cell_type": "markdown",
   "source": [
    "Filling in missing data: fillna() method"
   ],
   "metadata": {
    "collapsed": false
   }
  },
  {
   "cell_type": "code",
   "execution_count": 111,
   "outputs": [
    {
     "data": {
      "text/plain": "              name height   mass hair_color   skin_color eye_color birth_year  \\\n0   Luke Skywalker  172.0   77.0      blond         fair      blue       19.0   \n1            C-3PO  167.0   75.0       none         gold    yellow      112.0   \n2            R2-D2   96.0   32.0       none  white, blue       red       33.0   \n3      Darth Vader  202.0  136.0       none        white    yellow       41.9   \n4      Leia Organa  150.0   49.0      brown        light     brown       19.0   \n..             ...    ...    ...        ...          ...       ...        ...   \n82             Rey   none   none      brown        light     hazel       none   \n83     Poe Dameron   none   none      brown        light     brown       none   \n84             BB8   none   none       none         none     black       none   \n85  Captain Phasma   none   none    unknown      unknown   unknown       none   \n86   Padmé Amidala  165.0   45.0      brown        light     brown       46.0   \n\n       sex     gender homeworld species  \\\n0     male  masculine  Tatooine   Human   \n1     none  masculine  Tatooine   Droid   \n2     none  masculine     Naboo   Droid   \n3     male  masculine  Tatooine   Human   \n4   female   feminine  Alderaan   Human   \n..     ...        ...       ...     ...   \n82  female   feminine      none   Human   \n83    male  masculine      none   Human   \n84    none  masculine      none   Droid   \n85    none       none      none    none   \n86  female   feminine     Naboo   Human   \n\n                                                films  \\\n0   The Empire Strikes Back, Revenge of the Sith, ...   \n1   The Empire Strikes Back, Attack of the Clones,...   \n2   The Empire Strikes Back, Attack of the Clones,...   \n3   The Empire Strikes Back, Revenge of the Sith, ...   \n4   The Empire Strikes Back, Revenge of the Sith, ...   \n..                                                ...   \n82                                  The Force Awakens   \n83                                  The Force Awakens   \n84                                  The Force Awakens   \n85                                  The Force Awakens   \n86  Attack of the Clones, The Phantom Menace, Reve...   \n\n                              vehicles  \\\n0   Snowspeeder, Imperial Speeder Bike   \n1                                 none   \n2                                 none   \n3                                 none   \n4                Imperial Speeder Bike   \n..                                 ...   \n82                                none   \n83                                none   \n84                                none   \n85                                none   \n86                                none   \n\n                                            starships  \n0                            X-wing, Imperial shuttle  \n1                                                none  \n2                                                none  \n3                                     TIE Advanced x1  \n4                                                none  \n..                                                ...  \n82                                               none  \n83                                T-70 X-wing fighter  \n84                                               none  \n85                                               none  \n86  H-type Nubian yacht, Naboo star skiff, Naboo f...  \n\n[87 rows x 14 columns]",
      "text/html": "<div>\n<style scoped>\n    .dataframe tbody tr th:only-of-type {\n        vertical-align: middle;\n    }\n\n    .dataframe tbody tr th {\n        vertical-align: top;\n    }\n\n    .dataframe thead th {\n        text-align: right;\n    }\n</style>\n<table border=\"1\" class=\"dataframe\">\n  <thead>\n    <tr style=\"text-align: right;\">\n      <th></th>\n      <th>name</th>\n      <th>height</th>\n      <th>mass</th>\n      <th>hair_color</th>\n      <th>skin_color</th>\n      <th>eye_color</th>\n      <th>birth_year</th>\n      <th>sex</th>\n      <th>gender</th>\n      <th>homeworld</th>\n      <th>species</th>\n      <th>films</th>\n      <th>vehicles</th>\n      <th>starships</th>\n    </tr>\n  </thead>\n  <tbody>\n    <tr>\n      <th>0</th>\n      <td>Luke Skywalker</td>\n      <td>172.0</td>\n      <td>77.0</td>\n      <td>blond</td>\n      <td>fair</td>\n      <td>blue</td>\n      <td>19.0</td>\n      <td>male</td>\n      <td>masculine</td>\n      <td>Tatooine</td>\n      <td>Human</td>\n      <td>The Empire Strikes Back, Revenge of the Sith, ...</td>\n      <td>Snowspeeder, Imperial Speeder Bike</td>\n      <td>X-wing, Imperial shuttle</td>\n    </tr>\n    <tr>\n      <th>1</th>\n      <td>C-3PO</td>\n      <td>167.0</td>\n      <td>75.0</td>\n      <td>none</td>\n      <td>gold</td>\n      <td>yellow</td>\n      <td>112.0</td>\n      <td>none</td>\n      <td>masculine</td>\n      <td>Tatooine</td>\n      <td>Droid</td>\n      <td>The Empire Strikes Back, Attack of the Clones,...</td>\n      <td>none</td>\n      <td>none</td>\n    </tr>\n    <tr>\n      <th>2</th>\n      <td>R2-D2</td>\n      <td>96.0</td>\n      <td>32.0</td>\n      <td>none</td>\n      <td>white, blue</td>\n      <td>red</td>\n      <td>33.0</td>\n      <td>none</td>\n      <td>masculine</td>\n      <td>Naboo</td>\n      <td>Droid</td>\n      <td>The Empire Strikes Back, Attack of the Clones,...</td>\n      <td>none</td>\n      <td>none</td>\n    </tr>\n    <tr>\n      <th>3</th>\n      <td>Darth Vader</td>\n      <td>202.0</td>\n      <td>136.0</td>\n      <td>none</td>\n      <td>white</td>\n      <td>yellow</td>\n      <td>41.9</td>\n      <td>male</td>\n      <td>masculine</td>\n      <td>Tatooine</td>\n      <td>Human</td>\n      <td>The Empire Strikes Back, Revenge of the Sith, ...</td>\n      <td>none</td>\n      <td>TIE Advanced x1</td>\n    </tr>\n    <tr>\n      <th>4</th>\n      <td>Leia Organa</td>\n      <td>150.0</td>\n      <td>49.0</td>\n      <td>brown</td>\n      <td>light</td>\n      <td>brown</td>\n      <td>19.0</td>\n      <td>female</td>\n      <td>feminine</td>\n      <td>Alderaan</td>\n      <td>Human</td>\n      <td>The Empire Strikes Back, Revenge of the Sith, ...</td>\n      <td>Imperial Speeder Bike</td>\n      <td>none</td>\n    </tr>\n    <tr>\n      <th>...</th>\n      <td>...</td>\n      <td>...</td>\n      <td>...</td>\n      <td>...</td>\n      <td>...</td>\n      <td>...</td>\n      <td>...</td>\n      <td>...</td>\n      <td>...</td>\n      <td>...</td>\n      <td>...</td>\n      <td>...</td>\n      <td>...</td>\n      <td>...</td>\n    </tr>\n    <tr>\n      <th>82</th>\n      <td>Rey</td>\n      <td>none</td>\n      <td>none</td>\n      <td>brown</td>\n      <td>light</td>\n      <td>hazel</td>\n      <td>none</td>\n      <td>female</td>\n      <td>feminine</td>\n      <td>none</td>\n      <td>Human</td>\n      <td>The Force Awakens</td>\n      <td>none</td>\n      <td>none</td>\n    </tr>\n    <tr>\n      <th>83</th>\n      <td>Poe Dameron</td>\n      <td>none</td>\n      <td>none</td>\n      <td>brown</td>\n      <td>light</td>\n      <td>brown</td>\n      <td>none</td>\n      <td>male</td>\n      <td>masculine</td>\n      <td>none</td>\n      <td>Human</td>\n      <td>The Force Awakens</td>\n      <td>none</td>\n      <td>T-70 X-wing fighter</td>\n    </tr>\n    <tr>\n      <th>84</th>\n      <td>BB8</td>\n      <td>none</td>\n      <td>none</td>\n      <td>none</td>\n      <td>none</td>\n      <td>black</td>\n      <td>none</td>\n      <td>none</td>\n      <td>masculine</td>\n      <td>none</td>\n      <td>Droid</td>\n      <td>The Force Awakens</td>\n      <td>none</td>\n      <td>none</td>\n    </tr>\n    <tr>\n      <th>85</th>\n      <td>Captain Phasma</td>\n      <td>none</td>\n      <td>none</td>\n      <td>unknown</td>\n      <td>unknown</td>\n      <td>unknown</td>\n      <td>none</td>\n      <td>none</td>\n      <td>none</td>\n      <td>none</td>\n      <td>none</td>\n      <td>The Force Awakens</td>\n      <td>none</td>\n      <td>none</td>\n    </tr>\n    <tr>\n      <th>86</th>\n      <td>Padmé Amidala</td>\n      <td>165.0</td>\n      <td>45.0</td>\n      <td>brown</td>\n      <td>light</td>\n      <td>brown</td>\n      <td>46.0</td>\n      <td>female</td>\n      <td>feminine</td>\n      <td>Naboo</td>\n      <td>Human</td>\n      <td>Attack of the Clones, The Phantom Menace, Reve...</td>\n      <td>none</td>\n      <td>H-type Nubian yacht, Naboo star skiff, Naboo f...</td>\n    </tr>\n  </tbody>\n</table>\n<p>87 rows × 14 columns</p>\n</div>"
     },
     "execution_count": 111,
     "metadata": {},
     "output_type": "execute_result"
    }
   ],
   "source": [
    "df.fillna(\"none\") # this will replace all the null values with none"
   ],
   "metadata": {
    "collapsed": false,
    "ExecuteTime": {
     "start_time": "2023-08-14T01:09:47.728318Z",
     "end_time": "2023-08-14T01:09:47.958642Z"
    }
   }
  },
  {
   "cell_type": "code",
   "execution_count": 112,
   "outputs": [
    {
     "data": {
      "text/plain": "0       blond\n1        none\n2        none\n3        none\n4       brown\n       ...   \n82      brown\n83      brown\n84       none\n85    unknown\n86      brown\nName: hair_color, Length: 87, dtype: object"
     },
     "execution_count": 112,
     "metadata": {},
     "output_type": "execute_result"
    }
   ],
   "source": [
    "df[\"hair_color\"].fillna(\"none\") # this will replace all the null values in the hair_color column with none"
   ],
   "metadata": {
    "collapsed": false,
    "ExecuteTime": {
     "start_time": "2023-08-14T01:09:47.748320Z",
     "end_time": "2023-08-14T01:09:47.975642Z"
    }
   }
  },
  {
   "cell_type": "code",
   "execution_count": 113,
   "outputs": [
    {
     "data": {
      "text/plain": "0      77.000000\n1      75.000000\n2      32.000000\n3     136.000000\n4      49.000000\n         ...    \n82     97.311864\n83     97.311864\n84     97.311864\n85     97.311864\n86     45.000000\nName: mass, Length: 87, dtype: float64"
     },
     "execution_count": 113,
     "metadata": {},
     "output_type": "execute_result"
    }
   ],
   "source": [
    "df[\"mass\"].fillna(df[\"mass\"].mean())  # this will replace all the null values in the mass column with the mean of the mass column"
   ],
   "metadata": {
    "collapsed": false,
    "ExecuteTime": {
     "start_time": "2023-08-14T01:09:47.762319Z",
     "end_time": "2023-08-14T01:09:48.020643Z"
    }
   }
  },
  {
   "cell_type": "code",
   "execution_count": 114,
   "outputs": [
    {
     "data": {
      "text/plain": "0     172.0\n1     167.0\n2      96.0\n3     202.0\n4     150.0\n      ...  \n82    180.0\n83    180.0\n84    180.0\n85    180.0\n86    165.0\nName: height, Length: 87, dtype: float64"
     },
     "execution_count": 114,
     "metadata": {},
     "output_type": "execute_result"
    }
   ],
   "source": [
    "df[\"height\"].fillna(df[\"height\"].median())  # this will replace all the null values in the mass column with the median of the mass column"
   ],
   "metadata": {
    "collapsed": false,
    "ExecuteTime": {
     "start_time": "2023-08-14T01:09:47.777321Z",
     "end_time": "2023-08-14T01:09:48.052641Z"
    }
   }
  },
  {
   "cell_type": "markdown",
   "source": [
    "Interpolation: interpolate() method means to fill in the missing values with the values in between the missing values"
   ],
   "metadata": {
    "collapsed": false
   }
  },
  {
   "cell_type": "code",
   "execution_count": 115,
   "outputs": [
    {
     "data": {
      "text/plain": "    height   mass\n65   183.0   79.0\n66   168.0   55.0\n67   198.0  102.0\n68   229.0   88.0\n69   213.0    NaN\n70   167.0    NaN\n71    79.0   15.0\n72    96.0    NaN\n73   193.0   48.0\n74   191.0    NaN",
      "text/html": "<div>\n<style scoped>\n    .dataframe tbody tr th:only-of-type {\n        vertical-align: middle;\n    }\n\n    .dataframe tbody tr th {\n        vertical-align: top;\n    }\n\n    .dataframe thead th {\n        text-align: right;\n    }\n</style>\n<table border=\"1\" class=\"dataframe\">\n  <thead>\n    <tr style=\"text-align: right;\">\n      <th></th>\n      <th>height</th>\n      <th>mass</th>\n    </tr>\n  </thead>\n  <tbody>\n    <tr>\n      <th>65</th>\n      <td>183.0</td>\n      <td>79.0</td>\n    </tr>\n    <tr>\n      <th>66</th>\n      <td>168.0</td>\n      <td>55.0</td>\n    </tr>\n    <tr>\n      <th>67</th>\n      <td>198.0</td>\n      <td>102.0</td>\n    </tr>\n    <tr>\n      <th>68</th>\n      <td>229.0</td>\n      <td>88.0</td>\n    </tr>\n    <tr>\n      <th>69</th>\n      <td>213.0</td>\n      <td>NaN</td>\n    </tr>\n    <tr>\n      <th>70</th>\n      <td>167.0</td>\n      <td>NaN</td>\n    </tr>\n    <tr>\n      <th>71</th>\n      <td>79.0</td>\n      <td>15.0</td>\n    </tr>\n    <tr>\n      <th>72</th>\n      <td>96.0</td>\n      <td>NaN</td>\n    </tr>\n    <tr>\n      <th>73</th>\n      <td>193.0</td>\n      <td>48.0</td>\n    </tr>\n    <tr>\n      <th>74</th>\n      <td>191.0</td>\n      <td>NaN</td>\n    </tr>\n  </tbody>\n</table>\n</div>"
     },
     "execution_count": 115,
     "metadata": {},
     "output_type": "execute_result"
    }
   ],
   "source": [
    "df_1 = df[['height', 'mass']].iloc[65:75]\n",
    "df_1"
   ],
   "metadata": {
    "collapsed": false,
    "ExecuteTime": {
     "start_time": "2023-08-14T01:09:47.792317Z",
     "end_time": "2023-08-14T01:09:48.052641Z"
    }
   }
  },
  {
   "cell_type": "code",
   "execution_count": 116,
   "outputs": [
    {
     "data": {
      "text/plain": "    height        mass\n65   183.0   79.000000\n66   168.0   55.000000\n67   198.0  102.000000\n68   229.0   88.000000\n69   213.0   63.666667\n70   167.0   39.333333\n71    79.0   15.000000\n72    96.0   31.500000\n73   193.0   48.000000\n74   191.0   48.000000",
      "text/html": "<div>\n<style scoped>\n    .dataframe tbody tr th:only-of-type {\n        vertical-align: middle;\n    }\n\n    .dataframe tbody tr th {\n        vertical-align: top;\n    }\n\n    .dataframe thead th {\n        text-align: right;\n    }\n</style>\n<table border=\"1\" class=\"dataframe\">\n  <thead>\n    <tr style=\"text-align: right;\">\n      <th></th>\n      <th>height</th>\n      <th>mass</th>\n    </tr>\n  </thead>\n  <tbody>\n    <tr>\n      <th>65</th>\n      <td>183.0</td>\n      <td>79.000000</td>\n    </tr>\n    <tr>\n      <th>66</th>\n      <td>168.0</td>\n      <td>55.000000</td>\n    </tr>\n    <tr>\n      <th>67</th>\n      <td>198.0</td>\n      <td>102.000000</td>\n    </tr>\n    <tr>\n      <th>68</th>\n      <td>229.0</td>\n      <td>88.000000</td>\n    </tr>\n    <tr>\n      <th>69</th>\n      <td>213.0</td>\n      <td>63.666667</td>\n    </tr>\n    <tr>\n      <th>70</th>\n      <td>167.0</td>\n      <td>39.333333</td>\n    </tr>\n    <tr>\n      <th>71</th>\n      <td>79.0</td>\n      <td>15.000000</td>\n    </tr>\n    <tr>\n      <th>72</th>\n      <td>96.0</td>\n      <td>31.500000</td>\n    </tr>\n    <tr>\n      <th>73</th>\n      <td>193.0</td>\n      <td>48.000000</td>\n    </tr>\n    <tr>\n      <th>74</th>\n      <td>191.0</td>\n      <td>48.000000</td>\n    </tr>\n  </tbody>\n</table>\n</div>"
     },
     "execution_count": 116,
     "metadata": {},
     "output_type": "execute_result"
    }
   ],
   "source": [
    "df_1.interpolate() # interpolation means to fill in the missing values with the values in between the missing values. In this case, the missing value in the mass column is filled with the value in between the missing values in the mass column. The same goes for the height column."
   ],
   "metadata": {
    "collapsed": false,
    "ExecuteTime": {
     "start_time": "2023-08-14T01:09:47.806317Z",
     "end_time": "2023-08-14T01:09:48.052641Z"
    }
   }
  },
  {
   "cell_type": "code",
   "execution_count": 117,
   "outputs": [
    {
     "data": {
      "text/plain": "    height        mass\n65   183.0   79.000000\n66   168.0   55.000000\n67   198.0  102.000000\n68   229.0   88.000000\n69   213.0   60.619890\n70   167.0   29.228863\n71    79.0   15.000000\n72    96.0   21.221567\n73   193.0   48.000000\n74   191.0   95.298287",
      "text/html": "<div>\n<style scoped>\n    .dataframe tbody tr th:only-of-type {\n        vertical-align: middle;\n    }\n\n    .dataframe tbody tr th {\n        vertical-align: top;\n    }\n\n    .dataframe thead th {\n        text-align: right;\n    }\n</style>\n<table border=\"1\" class=\"dataframe\">\n  <thead>\n    <tr style=\"text-align: right;\">\n      <th></th>\n      <th>height</th>\n      <th>mass</th>\n    </tr>\n  </thead>\n  <tbody>\n    <tr>\n      <th>65</th>\n      <td>183.0</td>\n      <td>79.000000</td>\n    </tr>\n    <tr>\n      <th>66</th>\n      <td>168.0</td>\n      <td>55.000000</td>\n    </tr>\n    <tr>\n      <th>67</th>\n      <td>198.0</td>\n      <td>102.000000</td>\n    </tr>\n    <tr>\n      <th>68</th>\n      <td>229.0</td>\n      <td>88.000000</td>\n    </tr>\n    <tr>\n      <th>69</th>\n      <td>213.0</td>\n      <td>60.619890</td>\n    </tr>\n    <tr>\n      <th>70</th>\n      <td>167.0</td>\n      <td>29.228863</td>\n    </tr>\n    <tr>\n      <th>71</th>\n      <td>79.0</td>\n      <td>15.000000</td>\n    </tr>\n    <tr>\n      <th>72</th>\n      <td>96.0</td>\n      <td>21.221567</td>\n    </tr>\n    <tr>\n      <th>73</th>\n      <td>193.0</td>\n      <td>48.000000</td>\n    </tr>\n    <tr>\n      <th>74</th>\n      <td>191.0</td>\n      <td>95.298287</td>\n    </tr>\n  </tbody>\n</table>\n</div>"
     },
     "execution_count": 117,
     "metadata": {},
     "output_type": "execute_result"
    }
   ],
   "source": [
    "df_1.interpolate(method=\"spline\", order=2)"
   ],
   "metadata": {
    "collapsed": false,
    "ExecuteTime": {
     "start_time": "2023-08-14T01:09:47.822646Z",
     "end_time": "2023-08-14T01:09:48.071644Z"
    }
   }
  },
  {
   "cell_type": "code",
   "execution_count": 118,
   "outputs": [
    {
     "data": {
      "text/plain": "    height        mass\n65   183.0   79.000000\n66   168.0   55.000000\n67   198.0  102.000000\n68   229.0   88.000000\n69   213.0   60.619890\n70   167.0         NaN\n71    79.0   15.000000\n72    96.0   21.221567\n73   193.0   48.000000\n74   191.0   95.298287",
      "text/html": "<div>\n<style scoped>\n    .dataframe tbody tr th:only-of-type {\n        vertical-align: middle;\n    }\n\n    .dataframe tbody tr th {\n        vertical-align: top;\n    }\n\n    .dataframe thead th {\n        text-align: right;\n    }\n</style>\n<table border=\"1\" class=\"dataframe\">\n  <thead>\n    <tr style=\"text-align: right;\">\n      <th></th>\n      <th>height</th>\n      <th>mass</th>\n    </tr>\n  </thead>\n  <tbody>\n    <tr>\n      <th>65</th>\n      <td>183.0</td>\n      <td>79.000000</td>\n    </tr>\n    <tr>\n      <th>66</th>\n      <td>168.0</td>\n      <td>55.000000</td>\n    </tr>\n    <tr>\n      <th>67</th>\n      <td>198.0</td>\n      <td>102.000000</td>\n    </tr>\n    <tr>\n      <th>68</th>\n      <td>229.0</td>\n      <td>88.000000</td>\n    </tr>\n    <tr>\n      <th>69</th>\n      <td>213.0</td>\n      <td>60.619890</td>\n    </tr>\n    <tr>\n      <th>70</th>\n      <td>167.0</td>\n      <td>NaN</td>\n    </tr>\n    <tr>\n      <th>71</th>\n      <td>79.0</td>\n      <td>15.000000</td>\n    </tr>\n    <tr>\n      <th>72</th>\n      <td>96.0</td>\n      <td>21.221567</td>\n    </tr>\n    <tr>\n      <th>73</th>\n      <td>193.0</td>\n      <td>48.000000</td>\n    </tr>\n    <tr>\n      <th>74</th>\n      <td>191.0</td>\n      <td>95.298287</td>\n    </tr>\n  </tbody>\n</table>\n</div>"
     },
     "execution_count": 118,
     "metadata": {},
     "output_type": "execute_result"
    }
   ],
   "source": [
    "df_1.interpolate(method=\"spline\", order=2, limit=1) # limit=1 means that only one missing value will be filled in"
   ],
   "metadata": {
    "collapsed": false,
    "ExecuteTime": {
     "start_time": "2023-08-14T01:09:47.838644Z",
     "end_time": "2023-08-14T01:09:48.090643Z"
    }
   }
  },
  {
   "cell_type": "code",
   "execution_count": 119,
   "outputs": [
    {
     "data": {
      "text/plain": "              name  height        mass hair_color   skin_color eye_color  \\\n0   Luke Skywalker   172.0   77.000000      blond         fair      blue   \n1            C-3PO   167.0   75.000000        NaN         gold    yellow   \n2            R2-D2    96.0   32.000000        NaN  white, blue       red   \n3      Darth Vader   202.0  136.000000       none        white    yellow   \n4      Leia Organa   150.0   49.000000      brown        light     brown   \n..             ...     ...         ...        ...          ...       ...   \n82             Rey     NaN   54.688889      brown        light     hazel   \n83     Poe Dameron     NaN   81.004545      brown        light     brown   \n84             BB8     NaN   69.750000       none         none     black   \n85  Captain Phasma     NaN         NaN    unknown      unknown   unknown   \n86   Padmé Amidala   165.0   45.000000      brown        light     brown   \n\n    birth_year     sex     gender homeworld species  \\\n0         19.0    male  masculine  Tatooine   Human   \n1        112.0    none  masculine  Tatooine   Droid   \n2         33.0    none  masculine     Naboo   Droid   \n3         41.9    male  masculine  Tatooine   Human   \n4         19.0  female   feminine  Alderaan   Human   \n..         ...     ...        ...       ...     ...   \n82         NaN  female   feminine       NaN   Human   \n83         NaN    male  masculine       NaN   Human   \n84         NaN    none  masculine       NaN   Droid   \n85         NaN     NaN        NaN       NaN     NaN   \n86        46.0  female   feminine     Naboo   Human   \n\n                                                films  \\\n0   The Empire Strikes Back, Revenge of the Sith, ...   \n1   The Empire Strikes Back, Attack of the Clones,...   \n2   The Empire Strikes Back, Attack of the Clones,...   \n3   The Empire Strikes Back, Revenge of the Sith, ...   \n4   The Empire Strikes Back, Revenge of the Sith, ...   \n..                                                ...   \n82                                  The Force Awakens   \n83                                  The Force Awakens   \n84                                  The Force Awakens   \n85                                  The Force Awakens   \n86  Attack of the Clones, The Phantom Menace, Reve...   \n\n                              vehicles  \\\n0   Snowspeeder, Imperial Speeder Bike   \n1                                  NaN   \n2                                  NaN   \n3                                  NaN   \n4                Imperial Speeder Bike   \n..                                 ...   \n82                                 NaN   \n83                                 NaN   \n84                                 NaN   \n85                                 NaN   \n86                                 NaN   \n\n                                            starships  \n0                            X-wing, Imperial shuttle  \n1                                                 NaN  \n2                                                 NaN  \n3                                     TIE Advanced x1  \n4                                                 NaN  \n..                                                ...  \n82                                                NaN  \n83                                T-70 X-wing fighter  \n84                                                NaN  \n85                                                NaN  \n86  H-type Nubian yacht, Naboo star skiff, Naboo f...  \n\n[87 rows x 14 columns]",
      "text/html": "<div>\n<style scoped>\n    .dataframe tbody tr th:only-of-type {\n        vertical-align: middle;\n    }\n\n    .dataframe tbody tr th {\n        vertical-align: top;\n    }\n\n    .dataframe thead th {\n        text-align: right;\n    }\n</style>\n<table border=\"1\" class=\"dataframe\">\n  <thead>\n    <tr style=\"text-align: right;\">\n      <th></th>\n      <th>name</th>\n      <th>height</th>\n      <th>mass</th>\n      <th>hair_color</th>\n      <th>skin_color</th>\n      <th>eye_color</th>\n      <th>birth_year</th>\n      <th>sex</th>\n      <th>gender</th>\n      <th>homeworld</th>\n      <th>species</th>\n      <th>films</th>\n      <th>vehicles</th>\n      <th>starships</th>\n    </tr>\n  </thead>\n  <tbody>\n    <tr>\n      <th>0</th>\n      <td>Luke Skywalker</td>\n      <td>172.0</td>\n      <td>77.000000</td>\n      <td>blond</td>\n      <td>fair</td>\n      <td>blue</td>\n      <td>19.0</td>\n      <td>male</td>\n      <td>masculine</td>\n      <td>Tatooine</td>\n      <td>Human</td>\n      <td>The Empire Strikes Back, Revenge of the Sith, ...</td>\n      <td>Snowspeeder, Imperial Speeder Bike</td>\n      <td>X-wing, Imperial shuttle</td>\n    </tr>\n    <tr>\n      <th>1</th>\n      <td>C-3PO</td>\n      <td>167.0</td>\n      <td>75.000000</td>\n      <td>NaN</td>\n      <td>gold</td>\n      <td>yellow</td>\n      <td>112.0</td>\n      <td>none</td>\n      <td>masculine</td>\n      <td>Tatooine</td>\n      <td>Droid</td>\n      <td>The Empire Strikes Back, Attack of the Clones,...</td>\n      <td>NaN</td>\n      <td>NaN</td>\n    </tr>\n    <tr>\n      <th>2</th>\n      <td>R2-D2</td>\n      <td>96.0</td>\n      <td>32.000000</td>\n      <td>NaN</td>\n      <td>white, blue</td>\n      <td>red</td>\n      <td>33.0</td>\n      <td>none</td>\n      <td>masculine</td>\n      <td>Naboo</td>\n      <td>Droid</td>\n      <td>The Empire Strikes Back, Attack of the Clones,...</td>\n      <td>NaN</td>\n      <td>NaN</td>\n    </tr>\n    <tr>\n      <th>3</th>\n      <td>Darth Vader</td>\n      <td>202.0</td>\n      <td>136.000000</td>\n      <td>none</td>\n      <td>white</td>\n      <td>yellow</td>\n      <td>41.9</td>\n      <td>male</td>\n      <td>masculine</td>\n      <td>Tatooine</td>\n      <td>Human</td>\n      <td>The Empire Strikes Back, Revenge of the Sith, ...</td>\n      <td>NaN</td>\n      <td>TIE Advanced x1</td>\n    </tr>\n    <tr>\n      <th>4</th>\n      <td>Leia Organa</td>\n      <td>150.0</td>\n      <td>49.000000</td>\n      <td>brown</td>\n      <td>light</td>\n      <td>brown</td>\n      <td>19.0</td>\n      <td>female</td>\n      <td>feminine</td>\n      <td>Alderaan</td>\n      <td>Human</td>\n      <td>The Empire Strikes Back, Revenge of the Sith, ...</td>\n      <td>Imperial Speeder Bike</td>\n      <td>NaN</td>\n    </tr>\n    <tr>\n      <th>...</th>\n      <td>...</td>\n      <td>...</td>\n      <td>...</td>\n      <td>...</td>\n      <td>...</td>\n      <td>...</td>\n      <td>...</td>\n      <td>...</td>\n      <td>...</td>\n      <td>...</td>\n      <td>...</td>\n      <td>...</td>\n      <td>...</td>\n      <td>...</td>\n    </tr>\n    <tr>\n      <th>82</th>\n      <td>Rey</td>\n      <td>NaN</td>\n      <td>54.688889</td>\n      <td>brown</td>\n      <td>light</td>\n      <td>hazel</td>\n      <td>NaN</td>\n      <td>female</td>\n      <td>feminine</td>\n      <td>NaN</td>\n      <td>Human</td>\n      <td>The Force Awakens</td>\n      <td>NaN</td>\n      <td>NaN</td>\n    </tr>\n    <tr>\n      <th>83</th>\n      <td>Poe Dameron</td>\n      <td>NaN</td>\n      <td>81.004545</td>\n      <td>brown</td>\n      <td>light</td>\n      <td>brown</td>\n      <td>NaN</td>\n      <td>male</td>\n      <td>masculine</td>\n      <td>NaN</td>\n      <td>Human</td>\n      <td>The Force Awakens</td>\n      <td>NaN</td>\n      <td>T-70 X-wing fighter</td>\n    </tr>\n    <tr>\n      <th>84</th>\n      <td>BB8</td>\n      <td>NaN</td>\n      <td>69.750000</td>\n      <td>none</td>\n      <td>none</td>\n      <td>black</td>\n      <td>NaN</td>\n      <td>none</td>\n      <td>masculine</td>\n      <td>NaN</td>\n      <td>Droid</td>\n      <td>The Force Awakens</td>\n      <td>NaN</td>\n      <td>NaN</td>\n    </tr>\n    <tr>\n      <th>85</th>\n      <td>Captain Phasma</td>\n      <td>NaN</td>\n      <td>NaN</td>\n      <td>unknown</td>\n      <td>unknown</td>\n      <td>unknown</td>\n      <td>NaN</td>\n      <td>NaN</td>\n      <td>NaN</td>\n      <td>NaN</td>\n      <td>NaN</td>\n      <td>The Force Awakens</td>\n      <td>NaN</td>\n      <td>NaN</td>\n    </tr>\n    <tr>\n      <th>86</th>\n      <td>Padmé Amidala</td>\n      <td>165.0</td>\n      <td>45.000000</td>\n      <td>brown</td>\n      <td>light</td>\n      <td>brown</td>\n      <td>46.0</td>\n      <td>female</td>\n      <td>feminine</td>\n      <td>Naboo</td>\n      <td>Human</td>\n      <td>Attack of the Clones, The Phantom Menace, Reve...</td>\n      <td>NaN</td>\n      <td>H-type Nubian yacht, Naboo star skiff, Naboo f...</td>\n    </tr>\n  </tbody>\n</table>\n<p>87 rows × 14 columns</p>\n</div>"
     },
     "execution_count": 119,
     "metadata": {},
     "output_type": "execute_result"
    }
   ],
   "source": [
    "df[\"mass\"] = df[\"mass\"].fillna(df.groupby(\"sex\")[\"mass\"].transform(\"mean\")) # After grouping by gender, taking the average of the groups, she filled that group with the average of the mass values of those of that gender.\n",
    "df"
   ],
   "metadata": {
    "collapsed": false,
    "ExecuteTime": {
     "start_time": "2023-08-14T01:09:47.854645Z",
     "end_time": "2023-08-14T01:09:48.091645Z"
    }
   }
  },
  {
   "cell_type": "code",
   "execution_count": 120,
   "outputs": [
    {
     "data": {
      "text/plain": "               name  height     sex species\n78  Raymus Antilles   188.0    male   Human\n79        Sly Moore   178.0     NaN     NaN\n80       Tion Medon   206.0    male  Pau'an\n81             Finn     NaN    male   Human\n82              Rey     NaN  female   Human\n83      Poe Dameron     NaN    male   Human\n84              BB8     NaN    none   Droid\n85   Captain Phasma     NaN     NaN     NaN\n86    Padmé Amidala   165.0  female   Human",
      "text/html": "<div>\n<style scoped>\n    .dataframe tbody tr th:only-of-type {\n        vertical-align: middle;\n    }\n\n    .dataframe tbody tr th {\n        vertical-align: top;\n    }\n\n    .dataframe thead th {\n        text-align: right;\n    }\n</style>\n<table border=\"1\" class=\"dataframe\">\n  <thead>\n    <tr style=\"text-align: right;\">\n      <th></th>\n      <th>name</th>\n      <th>height</th>\n      <th>sex</th>\n      <th>species</th>\n    </tr>\n  </thead>\n  <tbody>\n    <tr>\n      <th>78</th>\n      <td>Raymus Antilles</td>\n      <td>188.0</td>\n      <td>male</td>\n      <td>Human</td>\n    </tr>\n    <tr>\n      <th>79</th>\n      <td>Sly Moore</td>\n      <td>178.0</td>\n      <td>NaN</td>\n      <td>NaN</td>\n    </tr>\n    <tr>\n      <th>80</th>\n      <td>Tion Medon</td>\n      <td>206.0</td>\n      <td>male</td>\n      <td>Pau'an</td>\n    </tr>\n    <tr>\n      <th>81</th>\n      <td>Finn</td>\n      <td>NaN</td>\n      <td>male</td>\n      <td>Human</td>\n    </tr>\n    <tr>\n      <th>82</th>\n      <td>Rey</td>\n      <td>NaN</td>\n      <td>female</td>\n      <td>Human</td>\n    </tr>\n    <tr>\n      <th>83</th>\n      <td>Poe Dameron</td>\n      <td>NaN</td>\n      <td>male</td>\n      <td>Human</td>\n    </tr>\n    <tr>\n      <th>84</th>\n      <td>BB8</td>\n      <td>NaN</td>\n      <td>none</td>\n      <td>Droid</td>\n    </tr>\n    <tr>\n      <th>85</th>\n      <td>Captain Phasma</td>\n      <td>NaN</td>\n      <td>NaN</td>\n      <td>NaN</td>\n    </tr>\n    <tr>\n      <th>86</th>\n      <td>Padmé Amidala</td>\n      <td>165.0</td>\n      <td>female</td>\n      <td>Human</td>\n    </tr>\n  </tbody>\n</table>\n</div>"
     },
     "execution_count": 120,
     "metadata": {},
     "output_type": "execute_result"
    }
   ],
   "source": [
    "df[[\"name\", \"height\", \"sex\", \"species\"]].iloc[78:88]"
   ],
   "metadata": {
    "collapsed": false,
    "ExecuteTime": {
     "start_time": "2023-08-14T01:09:47.889645Z",
     "end_time": "2023-08-14T01:09:48.111643Z"
    }
   }
  },
  {
   "cell_type": "code",
   "execution_count": 121,
   "outputs": [
    {
     "data": {
      "text/plain": "               name      height     sex species\n78  Raymus Antilles  188.000000    male   Human\n79        Sly Moore  178.000000     NaN     NaN\n80       Tion Medon  206.000000    male  Pau'an\n81             Finn  182.347826    male   Human\n82              Rey  160.250000  female   Human\n83      Poe Dameron  182.347826    male   Human\n84              BB8  131.200000    none   Droid\n85   Captain Phasma         NaN     NaN     NaN\n86    Padmé Amidala  165.000000  female   Human",
      "text/html": "<div>\n<style scoped>\n    .dataframe tbody tr th:only-of-type {\n        vertical-align: middle;\n    }\n\n    .dataframe tbody tr th {\n        vertical-align: top;\n    }\n\n    .dataframe thead th {\n        text-align: right;\n    }\n</style>\n<table border=\"1\" class=\"dataframe\">\n  <thead>\n    <tr style=\"text-align: right;\">\n      <th></th>\n      <th>name</th>\n      <th>height</th>\n      <th>sex</th>\n      <th>species</th>\n    </tr>\n  </thead>\n  <tbody>\n    <tr>\n      <th>78</th>\n      <td>Raymus Antilles</td>\n      <td>188.000000</td>\n      <td>male</td>\n      <td>Human</td>\n    </tr>\n    <tr>\n      <th>79</th>\n      <td>Sly Moore</td>\n      <td>178.000000</td>\n      <td>NaN</td>\n      <td>NaN</td>\n    </tr>\n    <tr>\n      <th>80</th>\n      <td>Tion Medon</td>\n      <td>206.000000</td>\n      <td>male</td>\n      <td>Pau'an</td>\n    </tr>\n    <tr>\n      <th>81</th>\n      <td>Finn</td>\n      <td>182.347826</td>\n      <td>male</td>\n      <td>Human</td>\n    </tr>\n    <tr>\n      <th>82</th>\n      <td>Rey</td>\n      <td>160.250000</td>\n      <td>female</td>\n      <td>Human</td>\n    </tr>\n    <tr>\n      <th>83</th>\n      <td>Poe Dameron</td>\n      <td>182.347826</td>\n      <td>male</td>\n      <td>Human</td>\n    </tr>\n    <tr>\n      <th>84</th>\n      <td>BB8</td>\n      <td>131.200000</td>\n      <td>none</td>\n      <td>Droid</td>\n    </tr>\n    <tr>\n      <th>85</th>\n      <td>Captain Phasma</td>\n      <td>NaN</td>\n      <td>NaN</td>\n      <td>NaN</td>\n    </tr>\n    <tr>\n      <th>86</th>\n      <td>Padmé Amidala</td>\n      <td>165.000000</td>\n      <td>female</td>\n      <td>Human</td>\n    </tr>\n  </tbody>\n</table>\n</div>"
     },
     "execution_count": 121,
     "metadata": {},
     "output_type": "execute_result"
    }
   ],
   "source": [
    "df[\"height\"] = df[\"height\"].fillna(df.groupby([\"sex\", \"species\"])[\"height\"].transform(\"mean\"))\n",
    "df[[\"name\", \"height\", \"sex\", \"species\"]].iloc[78:88]  # So we filled one column based on the values ​​in another column"
   ],
   "metadata": {
    "collapsed": false,
    "ExecuteTime": {
     "start_time": "2023-08-14T01:09:47.903644Z",
     "end_time": "2023-08-14T01:09:48.125648Z"
    }
   }
  },
  {
   "cell_type": "code",
   "execution_count": null,
   "outputs": [],
   "source": [],
   "metadata": {
    "collapsed": false
   }
  }
 ],
 "metadata": {
  "kernelspec": {
   "display_name": "Python 3",
   "language": "python",
   "name": "python3"
  },
  "language_info": {
   "codemirror_mode": {
    "name": "ipython",
    "version": 2
   },
   "file_extension": ".py",
   "mimetype": "text/x-python",
   "name": "python",
   "nbconvert_exporter": "python",
   "pygments_lexer": "ipython2",
   "version": "2.7.6"
  }
 },
 "nbformat": 4,
 "nbformat_minor": 0
}
